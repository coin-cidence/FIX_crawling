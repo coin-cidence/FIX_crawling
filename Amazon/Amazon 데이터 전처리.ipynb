{
 "cells": [
  {
   "cell_type": "markdown",
   "id": "6478a115-0f50-4923-bea4-9d442d5016dd",
   "metadata": {},
   "source": [
    "### 필요한 라이브러리들"
   ]
  },
  {
   "cell_type": "code",
   "execution_count": null,
   "id": "68125cc4-c09d-4205-bd43-908f7755e71c",
   "metadata": {},
   "outputs": [],
   "source": [
    "import pandas as pd\n",
    "from collections import Counter\n",
    "import re\n",
    "import nltk\n",
    "from nltk.corpus import stopwords"
   ]
  },
  {
   "cell_type": "code",
   "execution_count": null,
   "id": "6e754cee-7f96-4761-9533-aa8edb2479ea",
   "metadata": {},
   "outputs": [],
   "source": [
    "# NLTK에서 불용어 목록 다운로드\n",
    "nltk.download('stopwords')\n",
    "\n",
    "def get_word_frequencies(texts, stop_words):\n",
    "    words = []\n",
    "    for text in texts:\n",
    "        # 모든 단어를 소문자로 변환하고, 단어만 추출\n",
    "        words.extend(re.findall(r'\\b\\w+\\b', text.lower()))\n",
    "    \n",
    "    # 불용어를 제외한 단어만 남기기\n",
    "    filtered_words = [word for word in words if word not in stop_words]\n",
    "    \n",
    "    # 단어 빈도 계산\n",
    "    word_counts = Counter(filtered_words)\n",
    "    \n",
    "    # 빈도수 순으로 정렬\n",
    "    sorted_word_counts = sorted(word_counts.items(), key=lambda x: x[1], reverse=True)\n",
    "    \n",
    "    return sorted_word_counts\n",
    "\n",
    "# 영어 불용어 목록 가져오기\n",
    "stop_words = set(stopwords.words('english'))"
   ]
  },
  {
   "cell_type": "code",
   "execution_count": null,
   "id": "05fe6cef-ff4e-4fa7-9154-3bcd2c8432ce",
   "metadata": {},
   "outputs": [],
   "source": [
    "word_frequencies = get_word_frequencies(title_list, stop_words)\n",
    "\n",
    "# 결과 출력\n",
    "for word, freq in word_frequencies:\n",
    "    print(f\"{word}: {freq}\")"
   ]
  },
  {
   "cell_type": "markdown",
   "id": "83b53990-1b73-46f5-896a-41b5236b253e",
   "metadata": {},
   "source": [
    "### 워드클라우드 시각화"
   ]
  },
  {
   "cell_type": "code",
   "execution_count": null,
   "id": "b14bfe9c-0c91-483f-be61-6459891b1fdb",
   "metadata": {},
   "outputs": [],
   "source": [
    "# 워드클라우드 import\n",
    "from wordcloud import WordCloud\n",
    "# 데이터를 시각화 해주는 라이브러리\n",
    "import matplotlib.pyplot as plt"
   ]
  },
  {
   "cell_type": "code",
   "execution_count": null,
   "id": "c163aa96-46c0-497a-bee6-3234f1a8d4e5",
   "metadata": {},
   "outputs": [],
   "source": [
    "wordcloud = WordCloud(font_path = 'C:\\Windows\\Fonts\\HMKMRHD.TTF',\n",
    "                      width = 700,\n",
    "                      height = 700,\n",
    "                      background_color = 'white',\n",
    "                      colormap = 'spring',\n",
    "                      random_state = 1).generate(str(word_frequencies))"
   ]
  },
  {
   "cell_type": "code",
   "execution_count": null,
   "id": "d292602c-e061-4779-a75e-2a1e3f5f4151",
   "metadata": {},
   "outputs": [],
   "source": [
    "plt.figure(figsize = (10,10))\n",
    "plt.imshow(wordcloud)\n",
    "plt.axis(\"off\")\n",
    "# plt.title(\"quora - india investments community question\", size = 13)\n",
    "plt.show"
   ]
  }
 ],
 "metadata": {
  "kernelspec": {
   "display_name": "Python 3 (ipykernel)",
   "language": "python",
   "name": "python3"
  },
  "language_info": {
   "codemirror_mode": {
    "name": "ipython",
    "version": 3
   },
   "file_extension": ".py",
   "mimetype": "text/x-python",
   "name": "python",
   "nbconvert_exporter": "python",
   "pygments_lexer": "ipython3",
   "version": "3.11.7"
  }
 },
 "nbformat": 4,
 "nbformat_minor": 5
}
