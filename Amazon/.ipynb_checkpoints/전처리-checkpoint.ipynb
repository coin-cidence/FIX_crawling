{
 "cells": [
  {
   "cell_type": "code",
   "execution_count": 18,
   "metadata": {},
   "outputs": [],
   "source": [
    "import pandas as pd\n",
    "from datetime import datetime\n",
    "import re"
   ]
  },
  {
   "cell_type": "code",
   "execution_count": 52,
   "metadata": {},
   "outputs": [],
   "source": [
    "df = pd.read_csv('Amazon_LG_Washing_Machines_review.csv')\n",
    "# pd.set_option('display.max_colwidth', None)\n",
    "df.drop(columns=['Unnamed: 0'],inplace=True)"
   ]
  },
  {
   "cell_type": "code",
   "execution_count": 53,
   "metadata": {},
   "outputs": [
    {
     "data": {
      "text/html": [
       "<div>\n",
       "<style scoped>\n",
       "    .dataframe tbody tr th:only-of-type {\n",
       "        vertical-align: middle;\n",
       "    }\n",
       "\n",
       "    .dataframe tbody tr th {\n",
       "        vertical-align: top;\n",
       "    }\n",
       "\n",
       "    .dataframe thead th {\n",
       "        text-align: right;\n",
       "    }\n",
       "</style>\n",
       "<table border=\"1\" class=\"dataframe\">\n",
       "  <thead>\n",
       "    <tr style=\"text-align: right;\">\n",
       "      <th></th>\n",
       "      <th>모델명</th>\n",
       "      <th>날짜</th>\n",
       "      <th>별점</th>\n",
       "      <th>제목</th>\n",
       "      <th>본문</th>\n",
       "    </tr>\n",
       "  </thead>\n",
       "  <tbody>\n",
       "    <tr>\n",
       "      <th>0</th>\n",
       "      <td>LG 1.5 Ton 5 Star DUAL Inverter Split AC (Copper, AI Convertible 6-in-1 Cooling, 4 Way Air Swing, HD Filter with Anti-Virus Protection, 2024 Model, TS-Q19YNZE1, White)</td>\n",
       "      <td>Reviewed in India on 11 April 2024</td>\n",
       "      <td>1.0 out of 5 stars</td>\n",
       "      <td>Service center using fake gas &amp; local copper pipe, overcharging, customer care is helpless</td>\n",
       "      <td>Using Fake gas &amp; copper pipe:\\nThe service center (Royal Services Goa) used local copper pipes, several leftover pieces of insulation (instead of one continuous roll), and it seems they filled the AC with fake gas. AC was using full power but not cooling at all, the inside room temperature was higher than outside temperature &amp; they were knowingly reporting wrong gas pressures to LG to cover up. I sent the pictures of the correct gas pressure to LG but the ASM took no action &amp; service center stopped providing service and then closed the complaint. The installation technician also showed me samples of poor-quality copper pipes which he admitted were not from LG but from the local shop.\\n\\nOvercharging &amp; Arm twisting:\\nService center said official company rates are for showing only. If I wanted officially published rates, the installation will not happen. That is exactly what they did. They kept me waiting for 10 days and then closed the complaint with reason \"customer does not want installation\" even though the matter was under escalation to with CEO's e-mail address.\\n\\nExcess charges:\\nExtra Copper Pipe with insulation &amp; vinyl tape: Official Rate 850/meter, Service center wanted: 1130 + gst\\nPower chord: Official Rate 60/meter, Service center wanted 180/meter\\nGas refilling charge on brand new installation: Official rate: Free, its included, Service center wanted: 1500 + GST\\n\\nEven after the matter was raised with the Area Service Manager (ASM), the ASM instead of upholding official rates said its not profitable for the service center &amp; wanted me to directly negotiate unofficial rates with the service center.\\n\\nAC not installed in 10 days:\\nSince I insisted on official installation prices, the service center stopped responding to calls or messages. The matter was escalated to the ASM but nothing changed.\\n\\nUseless customer care:\\nThe matter was escalated using the write to CEO link. This turned to be a total waste of time as you only get directed to customer care and get generic responses. They forwarded my complaint to the persons against whom the complaint was made. No one from LG customer care even called to find out whats going on &amp; the harassment only increased. Amazon also escalated the issue at their end but the installation was not done in 10 days. Finally, I gave up and returned the AC.\\n\\nThis review is from someone who used to be a loyal LG customer. But now LG is not what it used to be.</td>\n",
       "    </tr>\n",
       "  </tbody>\n",
       "</table>\n",
       "</div>"
      ],
      "text/plain": [
       "                                                                                                                                                                       모델명  \\\n",
       "0  LG 1.5 Ton 5 Star DUAL Inverter Split AC (Copper, AI Convertible 6-in-1 Cooling, 4 Way Air Swing, HD Filter with Anti-Virus Protection, 2024 Model, TS-Q19YNZE1, White)   \n",
       "\n",
       "                                   날짜                  별점  \\\n",
       "0  Reviewed in India on 11 April 2024  1.0 out of 5 stars   \n",
       "\n",
       "                                                                                           제목  \\\n",
       "0  Service center using fake gas & local copper pipe, overcharging, customer care is helpless   \n",
       "\n",
       "                                                                                                                                                                                                                                                                                                                                                                                                                                                                                                                                                                                                                                                                                                                                                                                                                                                                                                                                                                                                                                                                                                                                                                                                                                                                                                                                                                                                                                                                                                                                                                                                                                                                                                                                                                                                                                                                                                                                                                                                                                                                                                                                                                                                                                                                                                                                                                                                                                                                                                                                             본문  \n",
       "0  Using Fake gas & copper pipe:\\nThe service center (Royal Services Goa) used local copper pipes, several leftover pieces of insulation (instead of one continuous roll), and it seems they filled the AC with fake gas. AC was using full power but not cooling at all, the inside room temperature was higher than outside temperature & they were knowingly reporting wrong gas pressures to LG to cover up. I sent the pictures of the correct gas pressure to LG but the ASM took no action & service center stopped providing service and then closed the complaint. The installation technician also showed me samples of poor-quality copper pipes which he admitted were not from LG but from the local shop.\\n\\nOvercharging & Arm twisting:\\nService center said official company rates are for showing only. If I wanted officially published rates, the installation will not happen. That is exactly what they did. They kept me waiting for 10 days and then closed the complaint with reason \"customer does not want installation\" even though the matter was under escalation to with CEO's e-mail address.\\n\\nExcess charges:\\nExtra Copper Pipe with insulation & vinyl tape: Official Rate 850/meter, Service center wanted: 1130 + gst\\nPower chord: Official Rate 60/meter, Service center wanted 180/meter\\nGas refilling charge on brand new installation: Official rate: Free, its included, Service center wanted: 1500 + GST\\n\\nEven after the matter was raised with the Area Service Manager (ASM), the ASM instead of upholding official rates said its not profitable for the service center & wanted me to directly negotiate unofficial rates with the service center.\\n\\nAC not installed in 10 days:\\nSince I insisted on official installation prices, the service center stopped responding to calls or messages. The matter was escalated to the ASM but nothing changed.\\n\\nUseless customer care:\\nThe matter was escalated using the write to CEO link. This turned to be a total waste of time as you only get directed to customer care and get generic responses. They forwarded my complaint to the persons against whom the complaint was made. No one from LG customer care even called to find out whats going on & the harassment only increased. Amazon also escalated the issue at their end but the installation was not done in 10 days. Finally, I gave up and returned the AC.\\n\\nThis review is from someone who used to be a loyal LG customer. But now LG is not what it used to be.  "
      ]
     },
     "execution_count": 53,
     "metadata": {},
     "output_type": "execute_result"
    }
   ],
   "source": [
    "amz_air.head(1)"
   ]
  },
  {
   "cell_type": "code",
   "execution_count": 54,
   "metadata": {},
   "outputs": [],
   "source": [
    "# 날짜 변환 함수 정의\n",
    "def transform_date(date_str):\n",
    "    try:\n",
    "        # 'Reviewed in India on' 제거하고 날짜 부분만 추출\n",
    "        date_part = date_str.replace('Reviewed in India on ', '')\n",
    "        # 날짜를 datetime 객체로 변환\n",
    "        date_obj = datetime.strptime(date_part, '%d %B %Y')\n",
    "        # 'Apr, 2024' 형식으로 변환\n",
    "        return date_obj.strftime('%b, %Y')\n",
    "    except Exception as e:\n",
    "        print(f\"Error processing date '{date_str}': {e}\")\n",
    "        return None\n",
    "\n",
    "# '날짜' 컬럼 변환\n",
    "df['transformed_date'] = df['날짜'].apply(transform_date)\n",
    "df.drop(columns=['날짜'], inplace=True)"
   ]
  },
  {
   "cell_type": "code",
   "execution_count": 55,
   "metadata": {},
   "outputs": [],
   "source": [
    "# 별점 변환 함수 정의\n",
    "def convert_rating(rating_str):\n",
    "    try:\n",
    "        # 별점에서 첫 번째 숫자만 추출\n",
    "        rating = re.search(r'\\d+', rating_str).group()\n",
    "        # 정수로 변환\n",
    "        return int(rating)\n",
    "    except Exception as e:\n",
    "        print(f\"Error processing rating '{rating_str}': {e}\")\n",
    "        return None\n",
    "\n",
    "# '별점' 컬럼 변환\n",
    "df['star'] = df['별점'].apply(convert_rating)\n",
    "df.drop(columns=['별점'],inplace=True)"
   ]
  },
  {
   "cell_type": "code",
   "execution_count": 56,
   "metadata": {},
   "outputs": [],
   "source": [
    "df['product_num'] = df['모델명'].apply(lambda x: re.findall(r'\\((.*?)\\)', x)[-1] if re.findall(r'\\((.*?)\\)', x) else None)\n",
    "df['hp_data'] = df['모델명'].apply(lambda x: re.sub(r'\\s*\\([^)]*\\)', '', x))"
   ]
  },
  {
   "cell_type": "code",
   "execution_count": 57,
   "metadata": {},
   "outputs": [],
   "source": [
    "df.drop(columns=['모델명'], inplace=True)"
   ]
  },
  {
   "cell_type": "code",
   "execution_count": 58,
   "metadata": {},
   "outputs": [],
   "source": [
    "df = df.rename(columns={'제목':'title', '본문':'text'})"
   ]
  },
  {
   "cell_type": "code",
   "execution_count": 59,
   "metadata": {},
   "outputs": [
    {
     "data": {
      "text/html": [
       "<div>\n",
       "<style scoped>\n",
       "    .dataframe tbody tr th:only-of-type {\n",
       "        vertical-align: middle;\n",
       "    }\n",
       "\n",
       "    .dataframe tbody tr th {\n",
       "        vertical-align: top;\n",
       "    }\n",
       "\n",
       "    .dataframe thead th {\n",
       "        text-align: right;\n",
       "    }\n",
       "</style>\n",
       "<table border=\"1\" class=\"dataframe\">\n",
       "  <thead>\n",
       "    <tr style=\"text-align: right;\">\n",
       "      <th></th>\n",
       "      <th>title</th>\n",
       "      <th>text</th>\n",
       "      <th>transformed_date</th>\n",
       "      <th>star</th>\n",
       "      <th>product_num</th>\n",
       "      <th>hp_data</th>\n",
       "    </tr>\n",
       "  </thead>\n",
       "  <tbody>\n",
       "    <tr>\n",
       "      <th>0</th>\n",
       "      <td>Size is small ! 6-7 clothes mein hee it gets filled !!</td>\n",
       "      <td>Small size hai ..not too useful for family for 4</td>\n",
       "      <td>Aug, 2024</td>\n",
       "      <td>3</td>\n",
       "      <td>FHP1208Z3M, Intelligent &amp; Convenient Fabric Care, Allergy Care, Middle Black</td>\n",
       "      <td>LG 8 Kg, 5 Star, AI Direct Drive Technology, Steam &amp; 6 Motion DD Fully-Automatic Front Load Washing Machine</td>\n",
       "    </tr>\n",
       "    <tr>\n",
       "      <th>1</th>\n",
       "      <td>Instalation issue</td>\n",
       "      <td>Product is good but instalation person asked to pay 1135 rupees for liquid detergent, tank cleaning powder and water pipe filter, which he said is compulsory so we paid at that moment .</td>\n",
       "      <td>Jul, 2024</td>\n",
       "      <td>3</td>\n",
       "      <td>FHP1208Z3M, Intelligent &amp; Convenient Fabric Care, Allergy Care, Middle Black</td>\n",
       "      <td>LG 8 Kg, 5 Star, AI Direct Drive Technology, Steam &amp; 6 Motion DD Fully-Automatic Front Load Washing Machine</td>\n",
       "    </tr>\n",
       "    <tr>\n",
       "      <th>2</th>\n",
       "      <td>Poor service of LG</td>\n",
       "      <td>Hassel free delivery. Product is also good but very bad service from LG.The customer care didn't have answers. The man who came to install was in a hurry and rude. He did not balance the machine .When we called the head of LG he did not resolve the issue of rude behavior of his staff. Moreover such was the audacity of the mechanic he called back and used offensive language regarding bad feedback. U should address this issue Amazon with lG people.</td>\n",
       "      <td>Jun, 2024</td>\n",
       "      <td>3</td>\n",
       "      <td>FHP1208Z3M, Intelligent &amp; Convenient Fabric Care, Allergy Care, Middle Black</td>\n",
       "      <td>LG 8 Kg, 5 Star, AI Direct Drive Technology, Steam &amp; 6 Motion DD Fully-Automatic Front Load Washing Machine</td>\n",
       "    </tr>\n",
       "    <tr>\n",
       "      <th>3</th>\n",
       "      <td>Installation is very big problem</td>\n",
       "      <td>Product is great no doubt, but installation is very very very hectic. I suggest you go buy from local shops itself. You can catch hold the person. These people provide service only to cities.</td>\n",
       "      <td>Jul, 2024</td>\n",
       "      <td>3</td>\n",
       "      <td>FHP1208Z3M, Intelligent &amp; Convenient Fabric Care, Allergy Care, Middle Black</td>\n",
       "      <td>LG 8 Kg, 5 Star, AI Direct Drive Technology, Steam &amp; 6 Motion DD Fully-Automatic Front Load Washing Machine</td>\n",
       "    </tr>\n",
       "    <tr>\n",
       "      <th>4</th>\n",
       "      <td>WEIRD NOISE coming out during spinning cycle</td>\n",
       "      <td>Play Video\\nPurchased this with lots of hopes that LG will be better than other competitors. The machine appears to be good but a weird noise coming out during spinning cycle and one can easily notice the suspect noise at the end of the spinning cycle, see the attached video clip.\\n\\n1. No branding and indication (or stickers) about DIRECT DRIVE on the machine.\\n\\n2. No branding and indication about 6 MOTIONS SENSE wash on the machine. Only GOD knows which program works with 6 motions sense. I guess only 1 or 2 motion senses works for per cycle.\\n\\n3. No indication about AI on the machine.\\n\\n4. No proper indication about 2 Years Warranty + 10 Years Warranty (Motor) on the machine.\\n\\n5. If it is installed properly on the floor vibration can be reduced.\\n\\n6. Anti rat is made with cotton box paper. (Should have given a plastic or fiber).\\n\\n7. Water inlet pipe is very short. Should have given at least 2 meter.\\n\\n8. LG ThinQ app does it job fairly.\\n\\nBut I’m facing a major issue of weird NOISE coming out from machine during spinning cycle which I never heard from other washing machines. Not sure if this noise is due to defective DRAIN PUMP or Motor itself.\\n\\nTrying hard for replacement but Amazon CC telling that they will raise request to LG brand for inspection then decides after their inspection report to Amazon. I don’t know how long takes for the whole process. Meanwhile my RETURN POLICY WILL BE EXPIRED SOON.</td>\n",
       "      <td>Jul, 2024</td>\n",
       "      <td>2</td>\n",
       "      <td>FHP1208Z3M, Intelligent &amp; Convenient Fabric Care, Allergy Care, Middle Black</td>\n",
       "      <td>LG 8 Kg, 5 Star, AI Direct Drive Technology, Steam &amp; 6 Motion DD Fully-Automatic Front Load Washing Machine</td>\n",
       "    </tr>\n",
       "  </tbody>\n",
       "</table>\n",
       "</div>"
      ],
      "text/plain": [
       "                                                    title  \\\n",
       "0  Size is small ! 6-7 clothes mein hee it gets filled !!   \n",
       "1                                       Instalation issue   \n",
       "2                                      Poor service of LG   \n",
       "3                        Installation is very big problem   \n",
       "4            WEIRD NOISE coming out during spinning cycle   \n",
       "\n",
       "                                                                                                                                                                                                                                                                                                                                                                                                                                                                                                                                                                                                                                                                                                                                                                                                                                                                                                                                                                                                                                                                                                                                                                                                                                                                                                                                                                                                                                                                                             text  \\\n",
       "0                                                                                                                                                                                                                                                                                                                                                                                                                                                                                                                                                                                                                                                                                                                                                                                                                                                                                                                                                                                                                                                                                                                                                                                                                                                                                                                                                                                                                                                Small size hai ..not too useful for family for 4   \n",
       "1                                                                                                                                                                                                                                                                                                                                                                                                                                                                                                                                                                                                                                                                                                                                                                                                                                                                                                                                                                                                                                                                                                                                                                                                                                                                                                       Product is good but instalation person asked to pay 1135 rupees for liquid detergent, tank cleaning powder and water pipe filter, which he said is compulsory so we paid at that moment .   \n",
       "2                                                                                                                                                                                                                                                                                                                                                                                                                                                                                                                                                                                                                                                                                                                                                                                                                                                                                                                                                                                                                              Hassel free delivery. Product is also good but very bad service from LG.The customer care didn't have answers. The man who came to install was in a hurry and rude. He did not balance the machine .When we called the head of LG he did not resolve the issue of rude behavior of his staff. Moreover such was the audacity of the mechanic he called back and used offensive language regarding bad feedback. U should address this issue Amazon with lG people.   \n",
       "3                                                                                                                                                                                                                                                                                                                                                                                                                                                                                                                                                                                                                                                                                                                                                                                                                                                                                                                                                                                                                                                                                                                                                                                                                                                                                                 Product is great no doubt, but installation is very very very hectic. I suggest you go buy from local shops itself. You can catch hold the person. These people provide service only to cities.   \n",
       "4  Play Video\\nPurchased this with lots of hopes that LG will be better than other competitors. The machine appears to be good but a weird noise coming out during spinning cycle and one can easily notice the suspect noise at the end of the spinning cycle, see the attached video clip.\\n\\n1. No branding and indication (or stickers) about DIRECT DRIVE on the machine.\\n\\n2. No branding and indication about 6 MOTIONS SENSE wash on the machine. Only GOD knows which program works with 6 motions sense. I guess only 1 or 2 motion senses works for per cycle.\\n\\n3. No indication about AI on the machine.\\n\\n4. No proper indication about 2 Years Warranty + 10 Years Warranty (Motor) on the machine.\\n\\n5. If it is installed properly on the floor vibration can be reduced.\\n\\n6. Anti rat is made with cotton box paper. (Should have given a plastic or fiber).\\n\\n7. Water inlet pipe is very short. Should have given at least 2 meter.\\n\\n8. LG ThinQ app does it job fairly.\\n\\nBut I’m facing a major issue of weird NOISE coming out from machine during spinning cycle which I never heard from other washing machines. Not sure if this noise is due to defective DRAIN PUMP or Motor itself.\\n\\nTrying hard for replacement but Amazon CC telling that they will raise request to LG brand for inspection then decides after their inspection report to Amazon. I don’t know how long takes for the whole process. Meanwhile my RETURN POLICY WILL BE EXPIRED SOON.   \n",
       "\n",
       "  transformed_date  star  \\\n",
       "0        Aug, 2024     3   \n",
       "1        Jul, 2024     3   \n",
       "2        Jun, 2024     3   \n",
       "3        Jul, 2024     3   \n",
       "4        Jul, 2024     2   \n",
       "\n",
       "                                                                    product_num  \\\n",
       "0  FHP1208Z3M, Intelligent & Convenient Fabric Care, Allergy Care, Middle Black   \n",
       "1  FHP1208Z3M, Intelligent & Convenient Fabric Care, Allergy Care, Middle Black   \n",
       "2  FHP1208Z3M, Intelligent & Convenient Fabric Care, Allergy Care, Middle Black   \n",
       "3  FHP1208Z3M, Intelligent & Convenient Fabric Care, Allergy Care, Middle Black   \n",
       "4  FHP1208Z3M, Intelligent & Convenient Fabric Care, Allergy Care, Middle Black   \n",
       "\n",
       "                                                                                                       hp_data  \n",
       "0  LG 8 Kg, 5 Star, AI Direct Drive Technology, Steam & 6 Motion DD Fully-Automatic Front Load Washing Machine  \n",
       "1  LG 8 Kg, 5 Star, AI Direct Drive Technology, Steam & 6 Motion DD Fully-Automatic Front Load Washing Machine  \n",
       "2  LG 8 Kg, 5 Star, AI Direct Drive Technology, Steam & 6 Motion DD Fully-Automatic Front Load Washing Machine  \n",
       "3  LG 8 Kg, 5 Star, AI Direct Drive Technology, Steam & 6 Motion DD Fully-Automatic Front Load Washing Machine  \n",
       "4  LG 8 Kg, 5 Star, AI Direct Drive Technology, Steam & 6 Motion DD Fully-Automatic Front Load Washing Machine  "
      ]
     },
     "execution_count": 59,
     "metadata": {},
     "output_type": "execute_result"
    }
   ],
   "source": [
    "df.head()"
   ]
  },
  {
   "cell_type": "code",
   "execution_count": 60,
   "metadata": {},
   "outputs": [],
   "source": [
    "df.to_csv(\"전처리/amz_wash_전처리.csv\")"
   ]
  }
 ],
 "metadata": {
  "kernelspec": {
   "display_name": "base",
   "language": "python",
   "name": "python3"
  },
  "language_info": {
   "codemirror_mode": {
    "name": "ipython",
    "version": 3
   },
   "file_extension": ".py",
   "mimetype": "text/x-python",
   "name": "python",
   "nbconvert_exporter": "python",
   "pygments_lexer": "ipython3",
   "version": "3.10.9"
  }
 },
 "nbformat": 4,
 "nbformat_minor": 2
}
