{
 "cells": [
  {
   "cell_type": "code",
   "execution_count": 3,
   "id": "2a897826-20ab-4e64-bb18-2eacc0ce2f8c",
   "metadata": {},
   "outputs": [],
   "source": [
    "import pandas as pd\n",
    "import os"
   ]
  },
  {
   "cell_type": "code",
   "execution_count": 4,
   "id": "003929bd-9fac-4a9e-9983-a3e6e8a6a8db",
   "metadata": {},
   "outputs": [
    {
     "data": {
      "text/plain": [
       "'C:\\\\Users\\\\trainee215\\\\Desktop\\\\CX Project\\\\Reddit'"
      ]
     },
     "execution_count": 4,
     "metadata": {},
     "output_type": "execute_result"
    }
   ],
   "source": [
    "# 현재 작업 중인 디렉토리를 확인\n",
    "os.getcwd()"
   ]
  },
  {
   "cell_type": "code",
   "execution_count": null,
   "id": "135b7819-1b12-40f7-8d94-a47de61d720c",
   "metadata": {},
   "outputs": [],
   "source": [
    "# 통합할 CSV 파일들이 있는 디렉토리 경로\n",
    "directory_path = \"C:\\\\Users\\\\trainee215\\\\Desktop\\\\CX Project\\\\Reddit\""
   ]
  },
  {
   "cell_type": "code",
   "execution_count": null,
   "id": "1bd05744-f34f-4afd-ad18-6312ff07f7f8",
   "metadata": {},
   "outputs": [],
   "source": []
  },
  {
   "cell_type": "code",
   "execution_count": null,
   "id": "f1ab2f4e-0df2-44dc-82b5-52b5ab912d5b",
   "metadata": {},
   "outputs": [],
   "source": []
  },
  {
   "cell_type": "code",
   "execution_count": null,
   "id": "64122095-657e-4d52-8645-7ac62141d5be",
   "metadata": {},
   "outputs": [],
   "source": []
  },
  {
   "cell_type": "code",
   "execution_count": null,
   "id": "690f8d51-b239-4bae-ab84-f308c64317d2",
   "metadata": {},
   "outputs": [],
   "source": []
  },
  {
   "cell_type": "code",
   "execution_count": null,
   "id": "e5cf1fae-de12-48b6-a2c7-01fade421a96",
   "metadata": {},
   "outputs": [],
   "source": []
  },
  {
   "cell_type": "code",
   "execution_count": null,
   "id": "d8ee8477-2cd4-49e2-9a82-c0c96d252ed9",
   "metadata": {},
   "outputs": [],
   "source": []
  }
 ],
 "metadata": {
  "kernelspec": {
   "display_name": "Python 3 (ipykernel)",
   "language": "python",
   "name": "python3"
  },
  "language_info": {
   "codemirror_mode": {
    "name": "ipython",
    "version": 3
   },
   "file_extension": ".py",
   "mimetype": "text/x-python",
   "name": "python",
   "nbconvert_exporter": "python",
   "pygments_lexer": "ipython3",
   "version": "3.11.7"
  },
  "widgets": {
   "application/vnd.jupyter.widget-state+json": {
    "state": {},
    "version_major": 2,
    "version_minor": 0
   }
  }
 },
 "nbformat": 4,
 "nbformat_minor": 5
}
