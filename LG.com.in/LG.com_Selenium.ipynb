{
 "cells": [
  {
   "cell_type": "code",
   "execution_count": 7,
   "id": "44ee427a-e5a3-4d5e-8b28-e8d4749bdfe9",
   "metadata": {},
   "outputs": [],
   "source": [
    "from selenium import webdriver\n",
    "from selenium.webdriver.common.by import By\n",
    "from selenium.webdriver.chrome.service import Service\n",
    "from selenium.webdriver.chrome.options import Options\n",
    "from selenium.webdriver.support.ui import WebDriverWait\n",
    "from selenium.webdriver.support import expected_conditions as EC\n",
    "from tqdm import tqdm"
   ]
  },
  {
   "cell_type": "code",
   "execution_count": 8,
   "id": "1e05239a-255f-4581-be5f-38e68b67c044",
   "metadata": {},
   "outputs": [],
   "source": [
    "# 브라우저 옵션 설정 (headless 모드로 실행)\n",
    "# options = Options()\n",
    "# options.headless = True\n",
    "\n",
    "# 이 모드를 사용하면 실제 브라우저 창이 뜨지 않아 시스템 리소스가 절약되고, 스크립트 실행이 더 빠르게 진행됨"
   ]
  },
  {
   "cell_type": "code",
   "execution_count": 9,
   "id": "c88c1583-1992-45ab-a1ba-5e7960095cdf",
   "metadata": {},
   "outputs": [],
   "source": [
    "# 크롬 드라이버 경로 설정\n",
    "# service = Service('/path/to/chromedriver')  # 크롬 드라이버 경로를 설정하세요."
   ]
  },
  {
   "cell_type": "code",
   "execution_count": 12,
   "id": "33083403-f813-4765-a3df-97092dade32c",
   "metadata": {},
   "outputs": [],
   "source": [
    "# 각 제품군에 대한 URL 정의\n",
    "urls = {\n",
    "    \"TV\": \"https://www.lg.com/in/tv-soundbars/all-tv-soundbars/?ec_model_status_code=ACTIVE\",\n",
    "    \"세탁기\": \"https://www.lg.com/in/laundry/all-washing-machines/?ec_model_status_code=ACTIVE\",\n",
    "    \"에어컨\": \"https://www.lg.com/in/air-conditioners/all-air-conditioners/?ec_model_status_code=ACTIVE\",\n",
    "    \"냉장고\": \"https://www.lg.com/in/refrigerators/all-refrigerators/?ec_model_status_code=ACTIVE\"\n",
    "}"
   ]
  },
  {
   "cell_type": "code",
   "execution_count": 13,
   "id": "0f98a289-f257-4f74-82d1-8fa205a644ac",
   "metadata": {},
   "outputs": [],
   "source": [
    "# 리뷰 데이터를 저장할 딕셔너리\n",
    "reviews = {}\n",
    "\n",
    "# 브라우저 시작\n",
    "driver = webdriver.Chrome() #options=options\n",
    "wait = WebDriverWait(driver, 5)"
   ]
  },
  {
   "cell_type": "code",
   "execution_count": null,
   "id": "fcd8d962-0b01-4384-b6ee-2577876eddd7",
   "metadata": {},
   "outputs": [],
   "source": [
    "# 각 제품군에서 데이터를 스크래핑하는 함수\n",
    "def scrape_reviews(url, category):\n",
    "    driver.get(url)\n",
    "\n",
    "    # 'Most Popular'로 정렬\n",
    "    sort_by_dropdown = wait.until(EC.element_to_be_clickable((By.CSS_SELECTOR, 'select[name=\"sort\"]')))\n",
    "    sort_by_dropdown.click()\n",
    "    most_popular_option = driver.find_element(By.XPATH, '//option[@value=\"MOST_POPULAR\"]')\n",
    "    most_popular_option.click()\n",
    "\n",
    "    while True:\n",
    "        product_links = driver.find_elements(By.CSS_SELECTOR, 'div.model-list > div.model-item > a')\n",
    "\n",
    "        for link in tqdm(product_links, desc=f\"Processing {category} products\"):\n",
    "            product_url = link.get_attribute('href')\n",
    "            driver.get(product_url)\n",
    "            \n",
    "            # 리뷰 탭 클릭\n",
    "            reviews_tab = wait.until(EC.element_to_be_clickable((By.XPATH, '//a[contains(text(), \"Reviews\")]')))\n",
    "            reviews_tab.click()\n",
    "\n",
    "            # 'Locale'을 'English (India)'로 설정\n",
    "            locale_dropdown = wait.until(EC.element_to_be_clickable((By.CSS_SELECTOR, 'select#reviewFilterLocale')))\n",
    "            locale_dropdown.click()\n",
    "            english_india_option = driver.find_element(By.XPATH, '//option[contains(text(), \"English (India)\")]')\n",
    "            english_india_option.click()\n",
    "\n",
    "            # 'Sort by'를 'Lowest to Highest Rating'으로 설정\n",
    "            sort_dropdown = wait.until(EC.element_to_be_clickable((By.CSS_SELECTOR, 'select#reviewSortOrder')))\n",
    "            sort_dropdown.click()\n",
    "            lowest_to_highest_option = driver.find_element(By.XPATH, '//option[@value=\"rating-asc\"]')\n",
    "            lowest_to_highest_option.click()\n",
    "\n",
    "            # 리뷰 요소 찾기\n",
    "            review_elements = wait.until(EC.presence_of_all_elements_located((By.CSS_SELECTOR, '.cmmnt-contents')))\n",
    "            if category not in reviews:\n",
    "                reviews[category] = []\n",
    "            reviews[category].extend([review.text for review in review_elements])\n",
    "\n",
    "            driver.back()  # 이전 페이지로 돌아가기\n",
    "\n",
    "        # 다음 페이지가 있는지 확인하고 이동\n",
    "        try:\n",
    "            next_button = driver.find_element(By.CSS_SELECTOR, 'a.next')\n",
    "            next_button.click()\n",
    "        except:\n",
    "            break  # 다음 페이지가 없으면 종료"
   ]
  },
  {
   "cell_type": "code",
   "execution_count": null,
   "id": "59052f3b-b2d2-4afe-97d9-3f4f91fd92f2",
   "metadata": {},
   "outputs": [],
   "source": [
    "# 모든 제품군에 대해 리뷰 데이터를 수집\n",
    "for category, url in urls.items():\n",
    "    scrape_reviews(url, category)"
   ]
  },
  {
   "cell_type": "code",
   "execution_count": null,
   "id": "42836ca5-db6c-4f75-87b1-8e768b9baa33",
   "metadata": {},
   "outputs": [],
   "source": [
    "# 브라우저 종료\n",
    "driver.quit()"
   ]
  },
  {
   "cell_type": "code",
   "execution_count": null,
   "id": "5d3c5743-a485-40fc-828c-11e2f0ca124c",
   "metadata": {},
   "outputs": [],
   "source": [
    "# 수집된 리뷰 데이터를 출력\n",
    "for category, review_list in reviews.items():\n",
    "    print(f\"{category} 리뷰:\")\n",
    "    for review in review_list:\n",
    "        print(f\"- {review}\")"
   ]
  },
  {
   "cell_type": "code",
   "execution_count": null,
   "id": "e66078e7-acaf-445b-a5f7-2c35c15f7338",
   "metadata": {},
   "outputs": [],
   "source": []
  },
  {
   "cell_type": "code",
   "execution_count": null,
   "id": "dae11831-f338-4aac-957e-30e61c614d93",
   "metadata": {},
   "outputs": [],
   "source": []
  },
  {
   "cell_type": "code",
   "execution_count": null,
   "id": "f6054fc2-ad3a-4b02-a99f-32ec27d30105",
   "metadata": {},
   "outputs": [],
   "source": []
  },
  {
   "cell_type": "code",
   "execution_count": null,
   "id": "f103fd06-d3dd-4bd6-a8fc-24a17e4194da",
   "metadata": {},
   "outputs": [],
   "source": []
  },
  {
   "cell_type": "code",
   "execution_count": null,
   "id": "d9d671ae-6145-47cc-9617-52ce28b998ba",
   "metadata": {},
   "outputs": [],
   "source": []
  },
  {
   "cell_type": "code",
   "execution_count": null,
   "id": "69774f1d-0f28-4da2-bc75-b9689f987c50",
   "metadata": {},
   "outputs": [],
   "source": []
  },
  {
   "cell_type": "code",
   "execution_count": null,
   "id": "3bb50cd0-01c5-4226-be4e-abea90526619",
   "metadata": {},
   "outputs": [],
   "source": []
  }
 ],
 "metadata": {
  "kernelspec": {
   "display_name": "Python 3 (ipykernel)",
   "language": "python",
   "name": "python3"
  },
  "language_info": {
   "codemirror_mode": {
    "name": "ipython",
    "version": 3
   },
   "file_extension": ".py",
   "mimetype": "text/x-python",
   "name": "python",
   "nbconvert_exporter": "python",
   "pygments_lexer": "ipython3",
   "version": "3.11.7"
  },
  "widgets": {
   "application/vnd.jupyter.widget-state+json": {
    "state": {},
    "version_major": 2,
    "version_minor": 0
   }
  }
 },
 "nbformat": 4,
 "nbformat_minor": 5
}
