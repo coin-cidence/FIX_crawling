{
 "cells": [
  {
   "cell_type": "markdown",
   "id": "be7d8661-86af-4775-bbd5-414e3ff29d1d",
   "metadata": {},
   "source": [
    "# import"
   ]
  },
  {
   "cell_type": "code",
   "execution_count": 74,
   "id": "44ee427a-e5a3-4d5e-8b28-e8d4749bdfe9",
   "metadata": {},
   "outputs": [],
   "source": [
    "from selenium import webdriver\n",
    "from selenium.webdriver.common.by import By\n",
    "from selenium.webdriver.common.keys import Keys\n",
    "from selenium.webdriver.chrome.service import Service\n",
    "from selenium.webdriver.chrome.options import Options\n",
    "from selenium.webdriver.support.ui import WebDriverWait\n",
    "from selenium.webdriver.support import expected_conditions as ECz\n",
    "from tqdm import tqdm\n",
    "import time\n",
    "import pandas as pd\n",
    "\n",
    "from bs4 import BeautifulSoup as bs"
   ]
  },
  {
   "cell_type": "markdown",
   "id": "7359ab7f-3dab-4590-8c21-91c7891cf5b3",
   "metadata": {},
   "source": [
    "# URL 가져와"
   ]
  },
  {
   "cell_type": "code",
   "execution_count": 84,
   "id": "a5fd7fdd-ba27-4029-b6f0-0d4461cd753e",
   "metadata": {},
   "outputs": [
    {
     "data": {
      "text/plain": [
       "['https://www.lg.com//in/air-conditioners/split-air-conditioners/ts-q19jnye/',\n",
       " 'https://www.lg.com//in/air-conditioners/split-air-conditioners/ts-q19mwze/',\n",
       " 'https://www.lg.com//in/air-conditioners/split-air-conditioners/ts-q14ynze/',\n",
       " 'https://www.lg.com//in/air-conditioners/split-air-conditioners/ts-q19jwze/',\n",
       " 'https://www.lg.com//in/air-conditioners/split-air-conditioners/ts-q14jwze-split-ac/',\n",
       " 'https://www.lg.com//in/air-conditioners/split-air-conditioners/ts-q18lnxe2/',\n",
       " 'https://www.lg.com//in/air-conditioners/window-air-conditioners/tw-q18wuxa/',\n",
       " 'https://www.lg.com//in/air-conditioners/split-air-conditioners/ts-q12cnxe/',\n",
       " 'https://www.lg.com//in/air-conditioners/window-air-conditioners/tw-q18wuza/',\n",
       " 'https://www.lg.com//in/air-conditioners/split-air-conditioners/ts-q19ynze1/',\n",
       " 'https://www.lg.com//in/air-conditioners/split-air-conditioners/rs-q19enze/',\n",
       " 'https://www.lg.com//in/air-conditioners/split-air-conditioners/ts-h19vnxe/']"
      ]
     },
     "execution_count": 84,
     "metadata": {},
     "output_type": "execute_result"
    }
   ],
   "source": [
    "# 웹드라이버 실행\n",
    "driver = webdriver.Chrome()\n",
    "# 창을 최대로 키우기\n",
    "driver.maximize_window()\n",
    "\n",
    "# 제품 목록 페이지 로드\n",
    "url = 'https://www.lg.com/in/air-conditioners/all-air-conditioners/?ec_model_status_code=ACTIVE&firstResult=12&sortCriteria=%40ec_spotlights_order_no+descending%2C%40ec_salable_status+descending%2C%40ec_pdp_view_count+descending'\n",
    "driver.get(url)\n",
    "\n",
    "# 페이지 로딩 대기\n",
    "time.sleep(3)\n",
    "\n",
    "# 정적 스크랩핑으로 raw 웹 데이터 저장\n",
    "soup = bs(driver.page_source, 'lxml')\n",
    "links = soup.select('ul div.c-product-item__ufn a')\n",
    "\n",
    "# 모든 제품 페이지에서 제품 링크 수집\n",
    "product_links = []\n",
    "\n",
    "for link in links:\n",
    "    product_links.append('https://www.lg.com/'+link['href'])\n",
    "product_links"
   ]
  },
  {
   "cell_type": "code",
   "execution_count": 85,
   "id": "09ee6637-24fd-46ae-bbb4-3e447976fea1",
   "metadata": {},
   "outputs": [
    {
     "data": {
      "text/plain": [
       "12"
      ]
     },
     "execution_count": 85,
     "metadata": {},
     "output_type": "execute_result"
    }
   ],
   "source": [
    "len(product_links)"
   ]
  },
  {
   "cell_type": "markdown",
   "id": "d3451208-91f6-49f8-a847-4bca4a23b081",
   "metadata": {},
   "source": [
    "# 방법2: 다가져와서 전처리 해"
   ]
  },
  {
   "cell_type": "code",
   "execution_count": 89,
   "id": "f2c152c1-e71b-4d05-8055-5726c0847844",
   "metadata": {},
   "outputs": [
    {
     "ename": "IndexError",
     "evalue": "list index out of range",
     "output_type": "error",
     "traceback": [
      "\u001b[1;31m---------------------------------------------------------------------------\u001b[0m",
      "\u001b[1;31mIndexError\u001b[0m                                Traceback (most recent call last)",
      "Cell \u001b[1;32mIn[89], line 45\u001b[0m\n\u001b[0;32m     43\u001b[0m locale_filter\u001b[38;5;241m.\u001b[39mclick()\n\u001b[0;32m     44\u001b[0m english_india \u001b[38;5;241m=\u001b[39m shadow_data_open\u001b[38;5;241m.\u001b[39mfind_elements(By\u001b[38;5;241m.\u001b[39mCLASS_NAME, \u001b[38;5;124m'\u001b[39m\u001b[38;5;124mbv-rnr__sc-1tvt4yi-5.kveQCZ\u001b[39m\u001b[38;5;124m'\u001b[39m)\n\u001b[1;32m---> 45\u001b[0m english_india[\u001b[38;5;241m1\u001b[39m]\u001b[38;5;241m.\u001b[39mclick()\n\u001b[0;32m     46\u001b[0m time\u001b[38;5;241m.\u001b[39msleep(\u001b[38;5;241m2\u001b[39m)\n\u001b[0;32m     48\u001b[0m \u001b[38;5;66;03m# Lowest to Highest Rating\u001b[39;00m\n",
      "\u001b[1;31mIndexError\u001b[0m: list index out of range"
     ]
    }
   ],
   "source": [
    "# 웹드라이버 실행\n",
    "driver = webdriver.Chrome()\n",
    "# 창을 최대로 키우기\n",
    "driver.maximize_window()\n",
    "\n",
    "# for i in tqdm(range(len(product_links))):\n",
    "for i in product_links[0:1]:\n",
    "    \n",
    "    driver.get(i)\n",
    "    # driver.get('https://www.lg.com/in/tv-soundbars/oled-evo/oled55g3psa/?sortCriteria=%40ec_pdp_view_count+descending')\n",
    "    \n",
    "    # 리뷰 탭 클릭\n",
    "    review_tab = driver.find_elements(By.CLASS_NAME, 'c-tabs__item-text')\n",
    "    review_tab[3].click()\n",
    "    time.sleep(3)  # 리뷰 탭 로딩 대기\n",
    "\n",
    "    # Shadow DOM의 root 접근 함수 선언\n",
    "    def shadow_root(element):\n",
    "        shadow_root = driver.execute_script('return arguments[0].shadowRoot',element)\n",
    "        return shadow_root\n",
    "\n",
    "    # 리뷰 데이터가 있는 섹션 찾기\n",
    "    shadow_data = driver.find_element(By.CSS_SELECTOR, '[data-bv-show=\"reviews\"]')\n",
    "    shadow_data_open = shadow_root(shadow_data)\n",
    "\n",
    "    # 스크롤 내려서 Locale 필터 설정\n",
    "    # element = shadow_data_open.find_element(By.CSS_SELECTOR, '#bv_review_maincontainer > div.bv -rnr__sc-16dr7i1-0.bv-rnr__sc-16dr7i1-22.hiYLYm.gapRtl')\n",
    "    # element = shadow_data_open.find_element(By.CLASS_NAME, 'bv-rnr__sdlnh3-0.iFkpgv')\n",
    "    element = shadow_data_open.find_element(By.CLASS_NAME, 'bv-rnr__sc-1wzl89g-0.gpRfFu')\n",
    "    # element = shadow_data_open.find_element(By.CLASS_NAME, 'bv-rnr__sc-13ijx62-3.fVALEs')\n",
    "    \n",
    "    driver.execute_script(\"arguments[0].scrollIntoView({block: 'center'});\", element)\n",
    "    time.sleep(2)  # 스크롤 완료 대기\n",
    "    driver.execute_script(\"arguments[0].scrollIntoView({block: 'center'});\", element)\n",
    "    time.sleep(2)  # 스크롤 완료 대기\n",
    "\n",
    "    # Locale filter\n",
    "    locale_filter = shadow_data_open.find_element(By.CSS_SELECTOR, '[aria-controls=\"bv-reviews-filter-Locale\"]')\n",
    "    # locale_filter = shadow_data_open.find_element(By.CSS_SELECTOR, '#bv_review_maincontainer > div.bv-rnr__sc-16dr7i1-0.bv-rnr__sc-16dr7i1-22.hiYLYm.gapRtl > div > div:nth-child(4) > div')\n",
    "    time.sleep(3)\n",
    "    locale_filter.click()\n",
    "    time.sleep(2)\n",
    "    locale_filter.click()\n",
    "    english_india = shadow_data_open.find_elements(By.CLASS_NAME, 'bv-rnr__sc-1tvt4yi-5.kveQCZ')\n",
    "    english_india[1].click()\n",
    "    time.sleep(2)\n",
    "    \n",
    "    # Lowest to Highest Rating\n",
    "    low_to_high = shadow_data_open.find_element(By.CSS_SELECTOR, '#bv_review_maincontainer > div.bv-rnr__sc-11r39gb-1.ewPPY > div > div.bv-rnr__wnep33-0.cIbVOf > div > div.bv-rnr__sc-13ijx62-0.bmAjQc > div > div')\n",
    "    time.sleep(2)\n",
    "    low_to_high.click()\n",
    "    time.sleep(1)\n",
    "    low_to_high.click()\n",
    "    low_to_high_select = shadow_data_open.find_element(By.ID, 'bv-reviews-filters-negative-3')\n",
    "    low_to_high_select.click()\n",
    "    time.sleep(1)\n",
    "\n",
    "    # 리뷰 컨테이너 1\n",
    "    users = shadow_data_open.find_elements(By.CLASS_NAME, 'bv-rnr__emkap-0.eyhvsJ')\n",
    "    user_list = []\n",
    "    for user in users:\n",
    "        user_list.append(user.text)\n",
    "\n",
    "    # 리뷰 컨테이너 2-1\n",
    "    review_a_list = []\n",
    "    try:\n",
    "        reviews_a = shadow_data_open.find_elements(By.CLASS_NAME, 'bv-rnr__sc-16dr7i1-10.eIsLQk')\n",
    "        for review_a in reviews_a:\n",
    "            review_a_list.append(review_a.text)\n",
    "    except:\n",
    "        pass\n",
    "    \n",
    "    # 리뷰 컨테이너 2-2\n",
    "    review_b_list = []\n",
    "    try:\n",
    "        reviews_b = shadow_data_open.find_elements(By.CLASS_NAME, 'bv-rnr__sc-16dr7i1-10.hDttlK')\n",
    "        for review_b in reviews_b:\n",
    "            review_b_list.append(review_b.text)\n",
    "    except:\n",
    "        pass\n",
    "    review_a_b_list = review_a_list + review_b_list"
   ]
  },
  {
   "cell_type": "code",
   "execution_count": 76,
   "id": "c5f541ac-50a7-4d96-90d1-3a833b5f2bdb",
   "metadata": {},
   "outputs": [],
   "source": [
    "    # 리뷰 컨테이너 1\n",
    "    users = shadow_data_open.find_elements(By.CLASS_NAME, 'bv-rnr__emkap-0.eyhvsJ')\n",
    "    for user in users:\n",
    "        user_list.append(user.text)\n",
    "\n",
    "    # 리뷰 컨테이너 2-1\n",
    "    try:\n",
    "        reviews_a = shadow_data_open.find_elements(By.CLASS_NAME, 'bv-rnr__sc-16dr7i1-10.eIsLQk')\n",
    "        for review_a in reviews_a:\n",
    "            review_a_list.append(review_a.text)\n",
    "    except:\n",
    "        pass\n",
    "    \n",
    "    # 리뷰 컨테이너 2-2\n",
    "    try:\n",
    "        reviews_b = shadow_data_open.find_elements(By.CLASS_NAME, 'bv-rnr__sc-16dr7i1-10.hDttlK')\n",
    "        for review_b in reviews_b:\n",
    "            review_b_list.append(review_b.text)\n",
    "    except:\n",
    "        pass\n",
    "    review_a_b_list = review_a_list + review_b_list"
   ]
  },
  {
   "cell_type": "code",
   "execution_count": 78,
   "id": "60d2e37f-fb81-4030-bc35-213eb2ba3392",
   "metadata": {},
   "outputs": [],
   "source": [
    "    # 리뷰 컨테이너 1\n",
    "    users = shadow_data_open.find_elements(By.CLASS_NAME, 'bv-rnr__emkap-0.eyhvsJ')\n",
    "    user_list = []\n",
    "    for user in users:\n",
    "        user_list.append(user.text)\n",
    "\n",
    "    # 리뷰 컨테이너 2-1\n",
    "    review_a_list = []\n",
    "    try:\n",
    "        reviews_a = shadow_data_open.find_elements(By.CLASS_NAME, 'bv-rnr__sc-16dr7i1-10.eIsLQk')\n",
    "        for review_a in reviews_a:\n",
    "            review_a_list.append(review_a.text)\n",
    "    except:\n",
    "        pass\n",
    "    \n",
    "    # 리뷰 컨테이너 2-2\n",
    "    review_b_list = []\n",
    "    try:\n",
    "        reviews_b = shadow_data_open.find_elements(By.CLASS_NAME, 'bv-rnr__sc-16dr7i1-10.hDttlK')\n",
    "        for review_b in reviews_b:\n",
    "            review_b_list.append(review_b.text)\n",
    "    except:\n",
    "        pass\n",
    "    review_a_b_list = review_a_list + review_b_list"
   ]
  },
  {
   "cell_type": "code",
   "execution_count": 87,
   "id": "5984044d-8dfd-42fd-8460-98ad793ef6b9",
   "metadata": {},
   "outputs": [
    {
     "data": {
      "text/plain": [
       "3"
      ]
     },
     "execution_count": 87,
     "metadata": {},
     "output_type": "execute_result"
    }
   ],
   "source": [
    "len(user_list)"
   ]
  },
  {
   "cell_type": "code",
   "execution_count": 88,
   "id": "4a1e4b6d-f5b3-453c-aa15-601e66b006b0",
   "metadata": {
    "scrolled": true
   },
   "outputs": [
    {
     "data": {
      "text/plain": [
       "5"
      ]
     },
     "execution_count": 88,
     "metadata": {},
     "output_type": "execute_result"
    }
   ],
   "source": [
    "len(review_a_b_list)"
   ]
  },
  {
   "cell_type": "code",
   "execution_count": 131,
   "id": "1f4a66e0-ed99-4044-b50e-4e08d6dcce30",
   "metadata": {
    "scrolled": true
   },
   "outputs": [
    {
     "data": {
      "text/plain": [
       "[\"1 out of 5 stars.\\nHARDWARE CHEAP, PRICE ARE HIGH\\n10 MONTHS AGO\\n43 inch smart LED available at approx Rs 30,000, but if same led's screen gets damage ,that will be available at Rs 22000, Screen damage just with remote hit !\\nHow long have you owned this product?A few years\\nWhat is your primary reason for choosing LG?Online Research\\nWas this an in-store or online purchase?Online\\nSelect the user type that you most relate toTech Lover\\nHelpful?\\n1 Helpful(1)\\n0 Not helpful(0)\\nReport\",\n",
       " '1 out of 5 stars.\\nMULTIPLE ISSUE TV TURNS OF SUDDENLY\\nA YEAR AGO\\nTv turns of suddenly, wifi is not working properly. within 6months more than 5than tech has visited for issues occurring on TV. Major board on TV is replaced but issue is not resolved am and team is denying replacement and bad support from support line.I am disappointed by the product. I would never recommend and purchase any products from LG.waste of money\\nHow long have you owned this product?Several months\\nWhat is your primary reason for choosing LG?Product Quality\\nWas this an in-store or online purchase?In-store\\nSelect the user type that you most relate toTech Lover\\nNo, I do not recommend this product.\\nHelpful?\\n3 Helpful(3)\\n1 Not helpful(1)\\nReport',\n",
       " \"3 out of 5 stars.\\nNO MAGIC REMOTE\\n2 YEARS AGO\\nI brought lg 5600 but not happy n suggest for all my frds don't buy\\nHow long have you owned this product?A few months\\nWhat is your primary reason for choosing LG?Recommendation\\nWas this an in-store or online purchase?In-store\\nSelect the user type that you most relate toTech Lover\\nNo, I do not recommend this product.\\nHelpful?\\n12 Helpful(12)\\n4 Not helpful(4)\\nReport\",\n",
       " '3 out of 5 stars.\\nAPPSTORE AND SCREEN MIRRORING\\n2 YEARS AGO\\nThere is no Google play store app. Also screen casting is not their\\nBest FeaturesQuality, Style/Design, Performance, Features/Settings\\nHow long have you owned this product?A few months\\nWhat is your primary reason for choosing LG?Product Quality\\nWas this an in-store or online purchase?In-store\\nSelect the user type that you most relate toTech Lover\\nNo, I do not recommend this product.\\nHelpful?\\n5 Helpful(5)\\n3 Not helpful(3)\\nReport',\n",
       " \"4 out of 5 stars.\\nVERY NICE TV BUT DON'T ABLE TO DOWNLOAD APP\\n3 YEARS AGO\\nVery good but I am not able to download play store or jio TV app plz add these app in your next update\\nBest FeaturesPerformance\\nHow long have you owned this product?About a year\\nWhat is your primary reason for choosing LG?Recommendation\\nWas this an in-store or online purchase?In-store\\nSelect the user type that you most relate toApps & Games User\\nYes, I recommend this product.\\nHelpful?\\n7 Helpful(7)\\n9 Not helpful(9)\\nReport\",\n",
       " '5 out of 5 stars.\\nMOST WONDERFUL FULL HD TV BY LG\\n2 YEARS AGO\\nI bought a brand new LG tv which is 43 inches and full HD 2021 model. I am so amazed to see its quality that I am gonna refer the same one for my frnds in future. Thank you LG\\nBest FeaturesEasy To Use, Quality, Style/Design, Performance, Features/Settings\\nHow long have you owned this product?A few weeks\\nWhat is your primary reason for choosing LG?Customer Service\\nWas this an in-store or online purchase?Online\\nSelect the user type that you most relate toTech Lover\\nYes, I recommend this product.\\nHelpful?\\n4 Helpful(4)\\n2 Not helpful(2)\\nReport',\n",
       " \"4 out of 5 stars.\\nVERY NICE TV BUT DON'T ABLE TO DOWNLOAD APP\\nJ jj\\n3 YEARS AGO\\nVery good but I am not able to download play store or jio TV app plz add these app in your next update\",\n",
       " \"3 out of 5 stars.\\nNO MAGIC REMOTE\\nAvi\\n2 YEARS AGO\\nI brought lg 5600 but not happy n suggest for all my frds don't buy\",\n",
       " '5 out of 5 stars.\\nGOOD\\n5 MONTHS AGO\\nMake if possibility of emi and ensure, and get back to me\\nHelpful?\\n0 Helpful(0)\\n0 Not helpful(0)\\nReport']"
      ]
     },
     "execution_count": 131,
     "metadata": {},
     "output_type": "execute_result"
    }
   ],
   "source": [
    "review_a_b_list"
   ]
  },
  {
   "cell_type": "code",
   "execution_count": 81,
   "id": "c31ce2bd-245b-430d-a913-17b7468cd314",
   "metadata": {},
   "outputs": [],
   "source": [
    "import pandas as pd\n",
    "\n",
    "# 리스트를 데이터프레임으로 변환\n",
    "df = pd.DataFrame({\n",
    "    'User': user_list,\n",
    "    'Review': review_a_b_list\n",
    "})\n",
    "\n",
    "# 데이터프레임을 CSV 파일로 저장\n",
    "df.to_csv('reviews_ac8.csv', index=False, encoding='utf-8-sig')"
   ]
  },
  {
   "cell_type": "code",
   "execution_count": 58,
   "id": "60517db2-725b-48a4-9283-e87bee88b308",
   "metadata": {},
   "outputs": [],
   "source": [
    "# 유저 리스트를 데이터프레임으로 변환 후 CSV 파일로 저장\n",
    "user_df = pd.DataFrame({\n",
    "    'User': user_list\n",
    "})\n",
    "user_df.to_csv('user_list_ref5.csv', index=False, encoding='utf-8-sig')\n",
    "\n",
    "# 리뷰 리스트를 데이터프레임으로 변환 후 CSV 파일로 저장\n",
    "review_df = pd.DataFrame({\n",
    "    'Review': review_a_b_list\n",
    "})\n",
    "review_df.to_csv('review_list_ref5.csv', index=False, encoding='utf-8-sig')"
   ]
  },
  {
   "cell_type": "code",
   "execution_count": null,
   "id": "3bb50cd0-01c5-4226-be4e-abea90526619",
   "metadata": {},
   "outputs": [],
   "source": []
  }
 ],
 "metadata": {
  "kernelspec": {
   "display_name": "Python 3 (ipykernel)",
   "language": "python",
   "name": "python3"
  },
  "language_info": {
   "codemirror_mode": {
    "name": "ipython",
    "version": 3
   },
   "file_extension": ".py",
   "mimetype": "text/x-python",
   "name": "python",
   "nbconvert_exporter": "python",
   "pygments_lexer": "ipython3",
   "version": "3.11.7"
  },
  "widgets": {
   "application/vnd.jupyter.widget-state+json": {
    "state": {},
    "version_major": 2,
    "version_minor": 0
   }
  }
 },
 "nbformat": 4,
 "nbformat_minor": 5
}
