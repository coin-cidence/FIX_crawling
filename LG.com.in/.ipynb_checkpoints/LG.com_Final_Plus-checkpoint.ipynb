{
 "cells": [
  {
   "cell_type": "code",
   "execution_count": 2,
   "id": "44ee427a-e5a3-4d5e-8b28-e8d4749bdfe9",
   "metadata": {},
   "outputs": [],
   "source": [
    "from selenium import webdriver\n",
    "from selenium.webdriver.common.by import By\n",
    "from selenium.webdriver.common.keys import Keys\n",
    "from selenium.webdriver.chrome.service import Service\n",
    "from selenium.webdriver.chrome.options import Options\n",
    "from selenium.webdriver.support.ui import WebDriverWait\n",
    "from selenium.webdriver.support import expected_conditions as ECz\n",
    "from tqdm import tqdm\n",
    "import time\n",
    "import pandas as pd\n",
    "\n",
    "from bs4 import BeautifulSoup as bs"
   ]
  },
  {
   "cell_type": "code",
   "execution_count": 4,
   "id": "1e05239a-255f-4581-be5f-38e68b67c044",
   "metadata": {},
   "outputs": [
    {
     "name": "stderr",
     "output_type": "stream",
     "text": [
      "0it [00:00, ?it/s]\n"
     ]
    }
   ],
   "source": [
    "# 웹드라이버 실행\n",
    "driver = webdriver.Chrome()\n",
    "# 창을 최대로 키우기\n",
    "driver.maximize_window()\n",
    "\n",
    "# 제품 목록 페이지 로드\n",
    "url = 'https://www.lg.com/in/tv-soundbars/all-tv-soundbars/?ec_model_status_code=ACTIVE&firstResult=12&sortCriteria=%40ec_spotlights_order_no+descending%2C%40ec_salable_status+descending%2C%40ec_pdp_view_count+descending'\n",
    "\n",
    "# 페이지 로딩 대기\n",
    "time.sleep(3)\n",
    "\n",
    "# 정적 스크랩핑으로 raw 웹 데이터 저장\n",
    "soup = bs(driver.page_source, 'lxml')\n",
    "links = soup.select('ul div.c-product-item__ufn a')\n",
    "\n",
    "# 모든 제품 페이지에서 제품 링크 수집\n",
    "product_links = []\n",
    "\n",
    "for link in links:\n",
    "    product_links.append('https://www.lg.com/'+link['href'])\n",
    "\n",
    "# 웹드라이버 실행\n",
    "driver = webdriver.Chrome()\n",
    "# 창을 최대로 키우기\n",
    "driver.maximize_window()\n",
    "\n",
    "for i in tqdm(range(len(product_links))):\n",
    "    \n",
    "    driver.get(product_links[i])\n",
    "    \n",
    "    # 리뷰 탭 클릭\n",
    "    review_tab = driver.find_elements(By.CLASS_NAME, 'c-tabs__item-text')\n",
    "    review_tab[3].click()\n",
    "    time.sleep(3)  # 리뷰 탭 로딩 대기\n",
    "\n",
    "    # Shadow DOM의 root 접근 함수 선언\n",
    "    def shadow_root(element):\n",
    "        shadow_root = driver.execute_script('return arguments[0].shadowRoot',element)\n",
    "        return shadow_root\n",
    "\n",
    "    # 리뷰 데이터가 있는 섹션 찾기\n",
    "    shadow_data = driver.find_element(By.CSS_SELECTOR, '[data-bv-show=\"reviews\"]')\n",
    "    shadow_data_open = shadow_root(shadow_data)\n",
    "\n",
    "    # 스크롤 내려서 Locale 필터 설정\n",
    "    # element = shadow_data_open.find_element(By.CSS_SELECTOR, '#bv_review_maincontainer > div.bv -rnr__sc-16dr7i1-0.bv-rnr__sc-16dr7i1-22.hiYLYm.gapRtl')\n",
    "    # element = shadow_data_open.find_element(By.CLASS_NAME, 'bv-rnr__sdlnh3-0.iFkpgv')\n",
    "    element = shadow_data_open.find_element(By.CLASS_NAME, 'bv-rnr__sc-1wzl89g-0.gpRfFu')\n",
    "    # element = shadow_data_open.find_element(By.CLASS_NAME, 'bv-rnr__sc-13ijx62-3.fVALEs')\n",
    "    \n",
    "    driver.execute_script(\"arguments[0].scrollIntoView({block: 'center'});\", element)\n",
    "    time.sleep(2)  # 스크롤 완료 대기\n",
    "    driver.execute_script(\"arguments[0].scrollIntoView({block: 'center'});\", element)\n",
    "    time.sleep(2)  # 스크롤 완료 대기\n",
    "\n",
    "    # Locale filter\n",
    "    locale_filter = shadow_data_open.find_element(By.CSS_SELECTOR, '[aria-controls=\"bv-reviews-filter-Locale\"]')\n",
    "    # locale_filter = shadow_data_open.find_element(By.CSS_SELECTOR, '#bv_review_maincontainer > div.bv-rnr__sc-16dr7i1-0.bv-rnr__sc-16dr7i1-22.hiYLYm.gapRtl > div > div:nth-child(4) > div')\n",
    "    time.sleep(3)\n",
    "    locale_filter.click()\n",
    "    time.sleep(2)\n",
    "    locale_filter.click()\n",
    "    english_india = shadow_data_open.find_elements(By.CLASS_NAME, 'bv-rnr__sc-1tvt4yi-5.kveQCZ')\n",
    "    english_india[1].click()\n",
    "    time.sleep(2)\n",
    "    \n",
    "    # Lowest to Highest Rating\n",
    "    low_to_high = shadow_data_open.find_element(By.CSS_SELECTOR, '#bv_review_maincontainer > div.bv-rnr__sc-11r39gb-1.ewPPY > div > div.bv-rnr__wnep33-0.cIbVOf > div > div.bv-rnr__sc-13ijx62-0.bmAjQc > div > div')\n",
    "    time.sleep(2)\n",
    "    low_to_high.click()\n",
    "    time.sleep(1)\n",
    "    low_to_high.click()\n",
    "    low_to_high_select = shadow_data_open.find_element(By.ID, 'bv-reviews-filters-negative-3')\n",
    "    low_to_high_select.click()\n",
    "    time.sleep(1)\n",
    "\n",
    "    # 리뷰 컨테이너 1\n",
    "    users = shadow_data_open.find_elements(By.CLASS_NAME, 'bv-rnr__emkap-0.eyhvsJ')\n",
    "    user_list = []\n",
    "    for user in users:\n",
    "        user_list.append(user.text)\n",
    "\n",
    "    # 리뷰 컨테이너 2-1\n",
    "    review_a_list = []\n",
    "    try:\n",
    "        reviews_a = shadow_data_open.find_elements(By.CLASS_NAME, 'bv-rnr__sc-16dr7i1-10.eIsLQk')\n",
    "        for review_a in reviews_a:\n",
    "            review_a_list.append(review_a.text)\n",
    "    except:\n",
    "        pass\n",
    "    \n",
    "    # 리뷰 컨테이너 2-2\n",
    "    review_b_list = []\n",
    "    try:\n",
    "        reviews_b = shadow_data_open.find_elements(By.CLASS_NAME, 'bv-rnr__sc-16dr7i1-10.hDttlK')\n",
    "        for review_b in reviews_b:\n",
    "            review_b_list.append(review_b.text)\n",
    "    except:\n",
    "        pass\n",
    "    review_a_b_list = review_a_list + review_b_list"
   ]
  },
  {
   "cell_type": "code",
   "execution_count": 9,
   "id": "c88c1583-1992-45ab-a1ba-5e7960095cdf",
   "metadata": {},
   "outputs": [],
   "source": [
    "# 크롬 드라이버 경로 설정\n",
    "# service = Service('/path/to/chromedriver')  # 크롬 드라이버 경로를 설정하세요."
   ]
  },
  {
   "cell_type": "code",
   "execution_count": 12,
   "id": "33083403-f813-4765-a3df-97092dade32c",
   "metadata": {},
   "outputs": [],
   "source": [
    "# 각 제품군에 대한 URL 정의\n",
    "urls = {\n",
    "    \"TV\": \"https://www.lg.com/in/tv-soundbars/all-tv-soundbars/?ec_model_status_code=ACTIVE\",\n",
    "    \"세탁기\": \"https://www.lg.com/in/laundry/all-washing-machines/?ec_model_status_code=ACTIVE\",\n",
    "    \"에어컨\": \"https://www.lg.com/in/air-conditioners/all-air-conditioners/?ec_model_status_code=ACTIVE\",\n",
    "    \"냉장고\": \"https://www.lg.com/in/refrigerators/all-refrigerators/?ec_model_status_code=ACTIVE\"\n",
    "}"
   ]
  },
  {
   "cell_type": "code",
   "execution_count": 13,
   "id": "0f98a289-f257-4f74-82d1-8fa205a644ac",
   "metadata": {},
   "outputs": [],
   "source": [
    "# 리뷰 데이터를 저장할 딕셔너리\n",
    "reviews = {}\n",
    "\n",
    "# 브라우저 시작\n",
    "driver = webdriver.Chrome() #options=options\n",
    "wait = WebDriverWait(driver, 5)"
   ]
  },
  {
   "cell_type": "code",
   "execution_count": null,
   "id": "fcd8d962-0b01-4384-b6ee-2577876eddd7",
   "metadata": {},
   "outputs": [],
   "source": [
    "# 각 제품군에서 데이터를 스크래핑하는 함수\n",
    "def scrape_reviews(url, category):\n",
    "    driver.get(url)\n",
    "\n",
    "    # 'Most Popular'로 정렬\n",
    "    sort_by_dropdown = wait.until(EC.element_to_be_clickable((By.CSS_SELECTOR, 'select[name=\"sort\"]')))\n",
    "    sort_by_dropdown.click()\n",
    "    most_popular_option = driver.find_element(By.XPATH, '//option[@value=\"MOST_POPULAR\"]')\n",
    "    most_popular_option.click()\n",
    "\n",
    "    while True:\n",
    "        product_links = driver.find_elements(By.CSS_SELECTOR, 'div.model-list > div.model-item > a')\n",
    "\n",
    "        for link in tqdm(product_links, desc=f\"Processing {category} products\"):\n",
    "            product_url = link.get_attribute('href')\n",
    "            driver.get(product_url)\n",
    "            \n",
    "            # 리뷰 탭 클릭\n",
    "            reviews_tab = wait.until(EC.element_to_be_clickable((By.XPATH, '//a[contains(text(), \"Reviews\")]')))\n",
    "            reviews_tab.click()\n",
    "\n",
    "            # 'Locale'을 'English (India)'로 설정\n",
    "            locale_dropdown = wait.until(EC.element_to_be_clickable((By.CSS_SELECTOR, 'select#reviewFilterLocale')))\n",
    "            locale_dropdown.click()\n",
    "            english_india_option = driver.find_element(By.XPATH, '//option[contains(text(), \"English (India)\")]')\n",
    "            english_india_option.click()\n",
    "\n",
    "            # 'Sort by'를 'Lowest to Highest Rating'으로 설정\n",
    "            sort_dropdown = wait.until(EC.element_to_be_clickable((By.CSS_SELECTOR, 'select#reviewSortOrder')))\n",
    "            sort_dropdown.click()\n",
    "            lowest_to_highest_option = driver.find_element(By.XPATH, '//option[@value=\"rating-asc\"]')\n",
    "            lowest_to_highest_option.click()\n",
    "\n",
    "            # 리뷰 요소 찾기\n",
    "            review_elements = wait.until(EC.presence_of_all_elements_located((By.CSS_SELECTOR, '.cmmnt-contents')))\n",
    "            if category not in reviews:\n",
    "                reviews[category] = []\n",
    "            reviews[category].extend([review.text for review in review_elements])\n",
    "\n",
    "            driver.back()  # 이전 페이지로 돌아가기\n",
    "\n",
    "        # 다음 페이지가 있는지 확인하고 이동\n",
    "        try:\n",
    "            next_button = driver.find_element(By.CSS_SELECTOR, 'a.next')\n",
    "            next_button.click()\n",
    "        except:\n",
    "            break  # 다음 페이지가 없으면 종료"
   ]
  },
  {
   "cell_type": "code",
   "execution_count": null,
   "id": "59052f3b-b2d2-4afe-97d9-3f4f91fd92f2",
   "metadata": {},
   "outputs": [],
   "source": [
    "# 모든 제품군에 대해 리뷰 데이터를 수집\n",
    "for category, url in urls.items():\n",
    "    scrape_reviews(url, category)"
   ]
  },
  {
   "cell_type": "code",
   "execution_count": null,
   "id": "42836ca5-db6c-4f75-87b1-8e768b9baa33",
   "metadata": {},
   "outputs": [],
   "source": [
    "# 브라우저 종료\n",
    "driver.quit()"
   ]
  },
  {
   "cell_type": "code",
   "execution_count": null,
   "id": "5d3c5743-a485-40fc-828c-11e2f0ca124c",
   "metadata": {},
   "outputs": [],
   "source": [
    "# 수집된 리뷰 데이터를 출력\n",
    "for category, review_list in reviews.items():\n",
    "    print(f\"{category} 리뷰:\")\n",
    "    for review in review_list:\n",
    "        print(f\"- {review}\")"
   ]
  },
  {
   "cell_type": "code",
   "execution_count": null,
   "id": "e66078e7-acaf-445b-a5f7-2c35c15f7338",
   "metadata": {},
   "outputs": [],
   "source": []
  },
  {
   "cell_type": "code",
   "execution_count": null,
   "id": "dae11831-f338-4aac-957e-30e61c614d93",
   "metadata": {},
   "outputs": [],
   "source": []
  },
  {
   "cell_type": "code",
   "execution_count": null,
   "id": "f6054fc2-ad3a-4b02-a99f-32ec27d30105",
   "metadata": {},
   "outputs": [],
   "source": []
  },
  {
   "cell_type": "code",
   "execution_count": null,
   "id": "f103fd06-d3dd-4bd6-a8fc-24a17e4194da",
   "metadata": {},
   "outputs": [],
   "source": []
  },
  {
   "cell_type": "code",
   "execution_count": null,
   "id": "d9d671ae-6145-47cc-9617-52ce28b998ba",
   "metadata": {},
   "outputs": [],
   "source": []
  },
  {
   "cell_type": "code",
   "execution_count": null,
   "id": "69774f1d-0f28-4da2-bc75-b9689f987c50",
   "metadata": {},
   "outputs": [],
   "source": []
  },
  {
   "cell_type": "code",
   "execution_count": null,
   "id": "3bb50cd0-01c5-4226-be4e-abea90526619",
   "metadata": {},
   "outputs": [],
   "source": []
  }
 ],
 "metadata": {
  "kernelspec": {
   "display_name": "Python 3 (ipykernel)",
   "language": "python",
   "name": "python3"
  },
  "language_info": {
   "codemirror_mode": {
    "name": "ipython",
    "version": 3
   },
   "file_extension": ".py",
   "mimetype": "text/x-python",
   "name": "python",
   "nbconvert_exporter": "python",
   "pygments_lexer": "ipython3",
   "version": "3.11.7"
  },
  "widgets": {
   "application/vnd.jupyter.widget-state+json": {
    "state": {},
    "version_major": 2,
    "version_minor": 0
   }
  }
 },
 "nbformat": 4,
 "nbformat_minor": 5
}
