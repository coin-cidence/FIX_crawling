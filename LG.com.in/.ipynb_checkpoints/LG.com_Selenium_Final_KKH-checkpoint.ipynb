{
 "cells": [
  {
   "cell_type": "markdown",
   "id": "be7d8661-86af-4775-bbd5-414e3ff29d1d",
   "metadata": {},
   "source": [
    "# import"
   ]
  },
  {
   "cell_type": "code",
   "execution_count": 1,
   "id": "44ee427a-e5a3-4d5e-8b28-e8d4749bdfe9",
   "metadata": {},
   "outputs": [],
   "source": [
    "from selenium import webdriver\n",
    "from selenium.webdriver.common.by import By\n",
    "from selenium.webdriver.common.keys import Keys\n",
    "from selenium.webdriver.chrome.service import Service\n",
    "from selenium.webdriver.chrome.options import Options\n",
    "from selenium.webdriver.support.ui import WebDriverWait\n",
    "from selenium.webdriver.support import expected_conditions as ECz\n",
    "from tqdm import tqdm\n",
    "import time\n",
    "\n",
    "from bs4 import BeautifulSoup as bs"
   ]
  },
  {
   "cell_type": "markdown",
   "id": "7359ab7f-3dab-4590-8c21-91c7891cf5b3",
   "metadata": {},
   "source": [
    "# URL 가져와"
   ]
  },
  {
   "cell_type": "code",
   "execution_count": 3,
   "id": "a5fd7fdd-ba27-4029-b6f0-0d4461cd753e",
   "metadata": {},
   "outputs": [
    {
     "data": {
      "text/plain": [
       "['https://www.lg.com/in/tv-soundbars/qned/65qned90t6a/',\n",
       " 'https://www.lg.com/in/tv-soundbars/4k-uhd-tvs/55ur7500psc/',\n",
       " 'https://www.lg.com/in/tv-soundbars/oled/oled55g46la/',\n",
       " 'https://www.lg.com/in/tv-soundbars/oled/oled48c46la/',\n",
       " 'https://www.lg.com/in/tv-soundbars/qned/75qned82t6a/',\n",
       " 'https://www.lg.com/in/tv-soundbars/qned/75qned88t6a/',\n",
       " 'https://www.lg.com/in/tv-soundbars/smart-tvs/32lq643bpta/',\n",
       " 'https://www.lg.com/in/tv-soundbars/smart-tvs/32lm563bptc/',\n",
       " 'https://www.lg.com/in/tv-soundbars/oled-evo/oled55c3psa/',\n",
       " 'https://www.lg.com/in/tv-soundbars-1/4k-uhd-tvs/55uq7550psf/',\n",
       " 'https://www.lg.com/in/tv-soundbars/smart-tvs/43lm5600ptc/',\n",
       " 'https://www.lg.com/in/tv-soundbars/tv-accessories/akb76043109/']"
      ]
     },
     "execution_count": 3,
     "metadata": {},
     "output_type": "execute_result"
    }
   ],
   "source": [
    "# 웹드라이버 실행\n",
    "driver = webdriver.Chrome()\n",
    "# 창을 최대로 키우기\n",
    "driver.maximize_window()\n",
    "\n",
    "# 제품 목록 페이지 로드\n",
    "url = 'https://www.lg.com/in/tv-soundbars/all-tv-soundbars/?ec_model_status_code=ACTIVE&sortCriteria=%40ec_spotlights_order_no+descending%2C%40ec_salable_status+descending%2C%40ec_pdp_view_count+descending'\n",
    "driver.get(url)\n",
    "\n",
    "# 페이지 로딩 대기\n",
    "time.sleep(3)\n",
    "\n",
    "# 정적 스크랩핑으로 raw 웹 데이터 저장\n",
    "soup = bs(driver.page_source, 'lxml')\n",
    "links = soup.select('ul div.c-product-item__ufn a')\n",
    "\n",
    "# 모든 제품 페이지에서 제품 링크 수집\n",
    "product_links = []\n",
    "\n",
    "for link in links:\n",
    "    # product_links.append('https://www.lg.com/'+link['href'])\n",
    "    product_links.append('https://www.lg.com'+link['href'])\n",
    "product_links"
   ]
  },
  {
   "cell_type": "markdown",
   "id": "074b6ec9-5f98-4a1e-91f5-f1764a240dbe",
   "metadata": {},
   "source": [
    "# 방법1: 요소 하나하나 가져오기"
   ]
  },
  {
   "cell_type": "code",
   "execution_count": 38,
   "id": "2873d2b7-56e7-4e8c-83e1-2921f67d6cd4",
   "metadata": {},
   "outputs": [],
   "source": [
    "# 웹드라이버 실행\n",
    "driver = webdriver.Chrome()\n",
    "# 창을 최대로 키우기\n",
    "driver.maximize_window()\n",
    "\n",
    "# for i in tqdm(range(len(product_links))):\n",
    "for i in product_links[1:2]:\n",
    "    \n",
    "    # driver.get(product_links[i])\n",
    "    driver.get(i)\n",
    "    \n",
    "    # 리뷰 탭 클릭\n",
    "    review_tab = driver.find_elements(By.CLASS_NAME, 'c-tabs__item-text')\n",
    "    review_tab[3].click()\n",
    "    time.sleep(5)  # 리뷰 탭 로딩 대기\n",
    "\n",
    "    # Shadow DOM의 root 접근 함수 선언\n",
    "    def shadow_root(element):\n",
    "        shadow_root = driver.execute_script('return arguments[0].shadowRoot',element)\n",
    "        return shadow_root\n",
    "\n",
    "    # 리뷰 데이터가 있는 섹션 찾기\n",
    "    shadow_data = driver.find_element(By.CSS_SELECTOR, '[data-bv-show=\"reviews\"]')\n",
    "    shadow_data_open = shadow_root(shadow_data)\n",
    "\n",
    "    \n",
    "    # 스크롤 내려서 Locale 필터 설정\n",
    "    element = shadow_data_open.find_element(By.CSS_SELECTOR, '#bv_review_maincontainer > div.bv-rnr__sc-16dr7i1-0.bv-rnr__sc-16dr7i1-22.hiYLYm.gapRtl')\n",
    "    driver.execute_script(\"arguments[0].scrollIntoView({block: 'center'});\", element)\n",
    "    time.sleep(2)  # 스크롤 완료 대기\n",
    "    driver.execute_script(\"arguments[0].scrollIntoView({block: 'center'});\", element)\n",
    "    time.sleep(2)  # 스크롤 완료 대기\n",
    "\n",
    "    # Local filter\n",
    "    locale_filter = shadow_data_open.find_element(By.CSS_SELECTOR, '#bv_review_maincontainer > div.bv-rnr__sc-16dr7i1-0.bv-rnr__sc-16dr7i1-22.hiYLYm.gapRtl > div > div:nth-child(4) > div')\n",
    "    time.sleep(2)\n",
    "    locale_filter.click()\n",
    "    time.sleep(1)\n",
    "    locale_filter.click()\n",
    "    english_india = shadow_data_open.find_elements(By.CLASS_NAME, 'bv-rnr__sc-1tvt4yi-5.kveQCZ')\n",
    "    english_india[1].click()\n",
    "    time.sleep(1)\n",
    "\n",
    "    # Lowest to Highest Rating\n",
    "    low_to_high = shadow_data_open.find_element(By.CSS_SELECTOR, '#bv_review_maincontainer > div.bv-rnr__sc-11r39gb-1.ewPPY > div > div.bv-rnr__wnep33-0.cIbVOf > div > div.bv-rnr__sc-13ijx62-0.bmAjQc > div > div')\n",
    "    time.sleep(2)\n",
    "    low_to_high.click()\n",
    "    time.sleep(1)\n",
    "    low_to_high.click()\n",
    "    low_to_high_select = shadow_data_open.find_element(By.ID, 'bv-reviews-filters-negative-3')\n",
    "    low_to_high_select.click()\n",
    "    time.sleep(1)\n",
    "    \n",
    "    # 리뷰 점수 가져오기\n",
    "    scores = shadow_data_open.find_element(By.ID, 'reviews_container')\n",
    "    scores = scores.find_elements(By.CSS_SELECTOR, '[itemprop=\"reviewRating\"]')\n",
    "    score_list = []\n",
    "    for score in scores:\n",
    "        score_list.append(score.text)\n",
    "\n",
    "    # 리뷰 본문 가져오기\n",
    "    scores = shadow_data_open.find_element(By.ID, 'reviews_container')\n",
    "    scores = scores.find_elements(By.CSS_SELECTOR, '[itemprop=\"reviewBody\"]')\n",
    "    score_list = []\n",
    "    for score in scores:\n",
    "        score_list.append(score.text)\n",
    "\n",
    "    # 리뷰 점수 가져오기\n",
    "    scores = shadow_data_open.find_element(By.ID, 'reviews_container')\n",
    "    scores = scores.find_elements(By.CSS_SELECTOR, '[itemprop=\"reviewRating\"]')\n",
    "    score_list = []\n",
    "    for score in scores:\n",
    "        score_list.append(score.text)\n",
    "\n",
    "    # 리뷰 점수 가져오기\n",
    "    scores = shadow_data_open.find_element(By.ID, 'reviews_container')\n",
    "    scores = scores.find_elements(By.CSS_SELECTOR, '[itemprop=\"reviewRating\"]')\n",
    "    score_list = []\n",
    "    for score in scores:\n",
    "        score_list.append(score.text)\n",
    "\n",
    "    # 리뷰 점수 가져오기\n",
    "    scores = shadow_data_open.find_element(By.ID, 'reviews_container')\n",
    "    scores = scores.find_elements(By.CSS_SELECTOR, '[itemprop=\"reviewRating\"]')\n",
    "    score_list = []\n",
    "    for score in scores:\n",
    "        score_list.append(score.text)\n",
    "\n",
    "    # 리뷰 점수 가져오기\n",
    "    scores = shadow_data_open.find_element(By.ID, 'reviews_container')\n",
    "    scores = scores.find_elements(By.CSS_SELECTOR, '[itemprop=\"reviewRating\"]')\n",
    "    score_list = []\n",
    "    for score in scores:\n",
    "        score_list.append(score.text)"
   ]
  },
  {
   "cell_type": "markdown",
   "id": "d3451208-91f6-49f8-a847-4bca4a23b081",
   "metadata": {},
   "source": [
    "# 방법2: 다가져와서 전처리 해"
   ]
  },
  {
   "cell_type": "code",
   "execution_count": 9,
   "id": "f2c152c1-e71b-4d05-8055-5726c0847844",
   "metadata": {},
   "outputs": [
    {
     "ename": "ElementClickInterceptedException",
     "evalue": "Message: element click intercepted: Element is not clickable at point (548, -183)\n  (Session info: chrome=128.0.6613.86)\nStacktrace:\n\tGetHandleVerifier [0x00007FF639DCB632+29090]\n\t(No symbol) [0x00007FF639D3E6E9]\n\t(No symbol) [0x00007FF639BFB1CA]\n\t(No symbol) [0x00007FF639C56C0E]\n\t(No symbol) [0x00007FF639C54682]\n\t(No symbol) [0x00007FF639C51B9B]\n\t(No symbol) [0x00007FF639C50DB5]\n\t(No symbol) [0x00007FF639C42D61]\n\t(No symbol) [0x00007FF639C766EA]\n\t(No symbol) [0x00007FF639C426A6]\n\t(No symbol) [0x00007FF639C76900]\n\t(No symbol) [0x00007FF639C965D9]\n\t(No symbol) [0x00007FF639C76493]\n\t(No symbol) [0x00007FF639C409B1]\n\t(No symbol) [0x00007FF639C41B11]\n\tGetHandleVerifier [0x00007FF63A0E883D+3294125]\n\tGetHandleVerifier [0x00007FF63A134423+3604371]\n\tGetHandleVerifier [0x00007FF63A12A2E7+3563095]\n\tGetHandleVerifier [0x00007FF639E86F16+797318]\n\t(No symbol) [0x00007FF639D4986F]\n\t(No symbol) [0x00007FF639D45454]\n\t(No symbol) [0x00007FF639D455E0]\n\t(No symbol) [0x00007FF639D34A7F]\n\tBaseThreadInitThunk [0x00007FFECE63257D+29]\n\tRtlUserThreadStart [0x00007FFECF10AF28+40]\n",
     "output_type": "error",
     "traceback": [
      "\u001b[1;31m---------------------------------------------------------------------------\u001b[0m",
      "\u001b[1;31mElementClickInterceptedException\u001b[0m          Traceback (most recent call last)",
      "Cell \u001b[1;32mIn[9], line 35\u001b[0m\n\u001b[0;32m     33\u001b[0m locale_filter \u001b[38;5;241m=\u001b[39m shadow_data_open\u001b[38;5;241m.\u001b[39mfind_element(By\u001b[38;5;241m.\u001b[39mCSS_SELECTOR, \u001b[38;5;124m'\u001b[39m\u001b[38;5;124m#bv_review_maincontainer > div.bv-rnr__sc-16dr7i1-0.bv-rnr__sc-16dr7i1-22.hiYLYm.gapRtl > div > div:nth-child(4) > div\u001b[39m\u001b[38;5;124m'\u001b[39m)\n\u001b[0;32m     34\u001b[0m time\u001b[38;5;241m.\u001b[39msleep(\u001b[38;5;241m2\u001b[39m)\n\u001b[1;32m---> 35\u001b[0m locale_filter\u001b[38;5;241m.\u001b[39mclick()\n\u001b[0;32m     36\u001b[0m time\u001b[38;5;241m.\u001b[39msleep(\u001b[38;5;241m1\u001b[39m)\n\u001b[0;32m     37\u001b[0m locale_filter\u001b[38;5;241m.\u001b[39mclick()\n",
      "File \u001b[1;32m~\\anaconda3\\Lib\\site-packages\\selenium\\webdriver\\remote\\webelement.py:94\u001b[0m, in \u001b[0;36mWebElement.click\u001b[1;34m(self)\u001b[0m\n\u001b[0;32m     92\u001b[0m \u001b[38;5;28;01mdef\u001b[39;00m \u001b[38;5;21mclick\u001b[39m(\u001b[38;5;28mself\u001b[39m) \u001b[38;5;241m-\u001b[39m\u001b[38;5;241m>\u001b[39m \u001b[38;5;28;01mNone\u001b[39;00m:\n\u001b[0;32m     93\u001b[0m \u001b[38;5;250m    \u001b[39m\u001b[38;5;124;03m\"\"\"Clicks the element.\"\"\"\u001b[39;00m\n\u001b[1;32m---> 94\u001b[0m     \u001b[38;5;28mself\u001b[39m\u001b[38;5;241m.\u001b[39m_execute(Command\u001b[38;5;241m.\u001b[39mCLICK_ELEMENT)\n",
      "File \u001b[1;32m~\\anaconda3\\Lib\\site-packages\\selenium\\webdriver\\remote\\webelement.py:395\u001b[0m, in \u001b[0;36mWebElement._execute\u001b[1;34m(self, command, params)\u001b[0m\n\u001b[0;32m    393\u001b[0m     params \u001b[38;5;241m=\u001b[39m {}\n\u001b[0;32m    394\u001b[0m params[\u001b[38;5;124m\"\u001b[39m\u001b[38;5;124mid\u001b[39m\u001b[38;5;124m\"\u001b[39m] \u001b[38;5;241m=\u001b[39m \u001b[38;5;28mself\u001b[39m\u001b[38;5;241m.\u001b[39m_id\n\u001b[1;32m--> 395\u001b[0m \u001b[38;5;28;01mreturn\u001b[39;00m \u001b[38;5;28mself\u001b[39m\u001b[38;5;241m.\u001b[39m_parent\u001b[38;5;241m.\u001b[39mexecute(command, params)\n",
      "File \u001b[1;32m~\\anaconda3\\Lib\\site-packages\\selenium\\webdriver\\remote\\webdriver.py:354\u001b[0m, in \u001b[0;36mWebDriver.execute\u001b[1;34m(self, driver_command, params)\u001b[0m\n\u001b[0;32m    352\u001b[0m response \u001b[38;5;241m=\u001b[39m \u001b[38;5;28mself\u001b[39m\u001b[38;5;241m.\u001b[39mcommand_executor\u001b[38;5;241m.\u001b[39mexecute(driver_command, params)\n\u001b[0;32m    353\u001b[0m \u001b[38;5;28;01mif\u001b[39;00m response:\n\u001b[1;32m--> 354\u001b[0m     \u001b[38;5;28mself\u001b[39m\u001b[38;5;241m.\u001b[39merror_handler\u001b[38;5;241m.\u001b[39mcheck_response(response)\n\u001b[0;32m    355\u001b[0m     response[\u001b[38;5;124m\"\u001b[39m\u001b[38;5;124mvalue\u001b[39m\u001b[38;5;124m\"\u001b[39m] \u001b[38;5;241m=\u001b[39m \u001b[38;5;28mself\u001b[39m\u001b[38;5;241m.\u001b[39m_unwrap_value(response\u001b[38;5;241m.\u001b[39mget(\u001b[38;5;124m\"\u001b[39m\u001b[38;5;124mvalue\u001b[39m\u001b[38;5;124m\"\u001b[39m, \u001b[38;5;28;01mNone\u001b[39;00m))\n\u001b[0;32m    356\u001b[0m     \u001b[38;5;28;01mreturn\u001b[39;00m response\n",
      "File \u001b[1;32m~\\anaconda3\\Lib\\site-packages\\selenium\\webdriver\\remote\\errorhandler.py:229\u001b[0m, in \u001b[0;36mErrorHandler.check_response\u001b[1;34m(self, response)\u001b[0m\n\u001b[0;32m    227\u001b[0m         alert_text \u001b[38;5;241m=\u001b[39m value[\u001b[38;5;124m\"\u001b[39m\u001b[38;5;124malert\u001b[39m\u001b[38;5;124m\"\u001b[39m]\u001b[38;5;241m.\u001b[39mget(\u001b[38;5;124m\"\u001b[39m\u001b[38;5;124mtext\u001b[39m\u001b[38;5;124m\"\u001b[39m)\n\u001b[0;32m    228\u001b[0m     \u001b[38;5;28;01mraise\u001b[39;00m exception_class(message, screen, stacktrace, alert_text)  \u001b[38;5;66;03m# type: ignore[call-arg]  # mypy is not smart enough here\u001b[39;00m\n\u001b[1;32m--> 229\u001b[0m \u001b[38;5;28;01mraise\u001b[39;00m exception_class(message, screen, stacktrace)\n",
      "\u001b[1;31mElementClickInterceptedException\u001b[0m: Message: element click intercepted: Element is not clickable at point (548, -183)\n  (Session info: chrome=128.0.6613.86)\nStacktrace:\n\tGetHandleVerifier [0x00007FF639DCB632+29090]\n\t(No symbol) [0x00007FF639D3E6E9]\n\t(No symbol) [0x00007FF639BFB1CA]\n\t(No symbol) [0x00007FF639C56C0E]\n\t(No symbol) [0x00007FF639C54682]\n\t(No symbol) [0x00007FF639C51B9B]\n\t(No symbol) [0x00007FF639C50DB5]\n\t(No symbol) [0x00007FF639C42D61]\n\t(No symbol) [0x00007FF639C766EA]\n\t(No symbol) [0x00007FF639C426A6]\n\t(No symbol) [0x00007FF639C76900]\n\t(No symbol) [0x00007FF639C965D9]\n\t(No symbol) [0x00007FF639C76493]\n\t(No symbol) [0x00007FF639C409B1]\n\t(No symbol) [0x00007FF639C41B11]\n\tGetHandleVerifier [0x00007FF63A0E883D+3294125]\n\tGetHandleVerifier [0x00007FF63A134423+3604371]\n\tGetHandleVerifier [0x00007FF63A12A2E7+3563095]\n\tGetHandleVerifier [0x00007FF639E86F16+797318]\n\t(No symbol) [0x00007FF639D4986F]\n\t(No symbol) [0x00007FF639D45454]\n\t(No symbol) [0x00007FF639D455E0]\n\t(No symbol) [0x00007FF639D34A7F]\n\tBaseThreadInitThunk [0x00007FFECE63257D+29]\n\tRtlUserThreadStart [0x00007FFECF10AF28+40]\n"
     ]
    }
   ],
   "source": [
    "# 웹드라이버 실행\n",
    "driver = webdriver.Chrome()\n",
    "# 창을 최대로 키우기\n",
    "driver.maximize_window()\n",
    "\n",
    "# for i in tqdm(range(len(product_links))):\n",
    "for i in product_links[2:3]:\n",
    "    \n",
    "    driver.get(i)\n",
    "    \n",
    "    # 리뷰 탭 클릭\n",
    "    review_tab = driver.find_elements(By.CLASS_NAME, 'c-tabs__item-text')\n",
    "    review_tab[3].click()\n",
    "    time.sleep(3)  # 리뷰 탭 로딩 대기\n",
    "\n",
    "    # Shadow DOM의 root 접근 함수 선언\n",
    "    def shadow_root(element):\n",
    "        shadow_root = driver.execute_script('return arguments[0].shadowRoot',element)\n",
    "        return shadow_root\n",
    "    \n",
    "    # 리뷰 데이터가 있는 섹션 찾기\n",
    "    shadow_data = driver.find_element(By.CSS_SELECTOR, '[data-bv-show=\"reviews\"]')\n",
    "    shadow_data_open = shadow_root(shadow_data)\n",
    "\n",
    "    # 스크롤 내려서 Locale 필터 설정\n",
    "    #bv_review_maincontainer > div.bv-rnr__sc-16dr7i1-0.bv-rnr__sc-16dr7i1-22.hiYLYm.gapRtl > div\n",
    "    #bv_review_maincontainer > div.bv-rnr__sc-16dr7i1-0.bv-rnr__sc-16dr7i1-22.hiYLYm.gapRtl\n",
    "    element = shadow_data_open.find_element(By.CSS_SELECTOR, '#bv_review_maincontainer > div.bv-rnr__sc-16dr7i1-0.bv-rnr__sc-16dr7i1-22.hiYLYm.gapRtl')\n",
    "    driver.execute_script(\"arguments[0].scrollIntoView({block: 'center'});\", element)\n",
    "    time.sleep(2)  # 스크롤 완료 대기\n",
    "    driver.execute_script(\"arguments[0].scrollIntoView({block: 'center'});\", element)\n",
    "    time.sleep(2)  # 스크롤 완료 대기\n",
    "\n",
    "    # Local filter\n",
    "    locale_filter = shadow_data_open.find_element(By.CSS_SELECTOR, '#bv_review_maincontainer > div.bv-rnr__sc-16dr7i1-0.bv-rnr__sc-16dr7i1-22.hiYLYm.gapRtl > div > div:nth-child(4) > div')\n",
    "    time.sleep(2)\n",
    "    locale_filter.click()\n",
    "    time.sleep(1)\n",
    "    locale_filter.click()\n",
    "    english_india = shadow_data_open.find_elements(By.CLASS_NAME, 'bv-rnr__sc-1tvt4yi-5.kveQCZ')\n",
    "    english_india[1].click()\n",
    "    time.sleep(1)\n",
    "\n",
    "    # Lowest to Highest Rating\n",
    "    low_to_high = shadow_data_open.find_element(By.CSS_SELECTOR, '#bv_review_maincontainer > div.bv-rnr__sc-11r39gb-1.ewPPY > div > div.bv-rnr__wnep33-0.cIbVOf > div > div.bv-rnr__sc-13ijx62-0.bmAjQc > div > div')\n",
    "    time.sleep(2)\n",
    "    low_to_high.click()\n",
    "    time.sleep(1)\n",
    "    low_to_high.click()\n",
    "    low_to_high_select = shadow_data_open.find_element(By.ID, 'bv-reviews-filters-negative-3')\n",
    "    low_to_high_select.click()\n",
    "    time.sleep(1)\n",
    "\n",
    "    # 리뷰 컨테이너 1\n",
    "    users = shadow_data_open.find_elements(By.CLASS_NAME, 'bv-rnr__emkap-0.eyhvsJ')\n",
    "    user_list = []\n",
    "    for user in users:\n",
    "        user_list.append(user.text)\n",
    "\n",
    "    # 리뷰 컨테이너 2\n",
    "    review_a_list = []\n",
    "    try:\n",
    "        reviews_a = shadow_data_open.find_elements(By.CLASS_NAME, 'bv-rnr__sc-16dr7i1-10.eIsLQk')\n",
    "        for review_a in reviews_a:\n",
    "            review_a_list.append(review_a.text)\n",
    "    except:\n",
    "        pass\n",
    "    \n",
    "    # 리뷰 컨테이너 2\n",
    "    review_b_list = []\n",
    "    try:\n",
    "        reviews_b = shadow_data_open.find_elements(By.CLASS_NAME, 'bv-rnr__sc-16dr7i1-10.hDttlK')\n",
    "        for review_b in reviews_b:\n",
    "            review_b_list.append(review_b.text)\n",
    "    except:\n",
    "        pass\n",
    "    review_a_b_list = review_a_list + review_b_list"
   ]
  },
  {
   "cell_type": "code",
   "execution_count": 58,
   "id": "4a1e4b6d-f5b3-453c-aa15-601e66b006b0",
   "metadata": {},
   "outputs": [
    {
     "data": {
      "text/plain": [
       "[\"1 out of 5 stars.\\nSTAY AWAY FROM THESE TVS\\nA DAY AGO\\nNever buy LG LED tv. They use cheap parts which will have issues within some months. I had purchased 2 times and both times tv didn't last more than 2 years. Just now I have 43' LED tv from LG which has panel issue but LG is not able to resolve the issue. Stay away from LG tvs.\\nHow long have you owned this product?Over a year\\nWhat is your primary reason for choosing LG?Online Research\\nWas this an in-store or online purchase?In-store\\nSelect the user type that you most relate toTech Lover\\nNo, I do not recommend this product.\\nOriginally posted on 43UR7500PSC\\nHelpful?\\n0 Helpful(0)\\n0 Not helpful(0)\\nReport\",\n",
       " '1 out of 5 stars.\\nPROBLEM IN PANEL WITHIN A WEEK OF PURCHASE\\n10 MONTHS AGO\\nI have purchased TV on 07/10/2023 and it shows problem in panel with in a week. I would not recommend product for others\\nHow long have you owned this product?A few days\\nWhat is your primary reason for choosing LG?Product Quality\\nWas this an in-store or online purchase?In-store\\nSelect the user type that you most relate toText & Calls User\\nNo, I do not recommend this product.\\nOriginally posted on 50UR7550PSC\\nHelpful?\\n32 Helpful(32)\\n12 Not helpful(12)\\nReport',\n",
       " \"3 out of 5 stars.\\nGOOD PICTURE QUALITY\\n10 MONTHS AGO\\nI bought this on Amazon festive season and it's performing well\\nBest FeaturesQuality, Style/Design, Performance, Features/Settings\\nHow long have you owned this product?A few weeks\\nWhat is your primary reason for choosing LG?Customer Service\\nWas this an in-store or online purchase?Online\\nSelect the user type that you most relate toTech Lover\\nYes, I recommend this product.\\nOriginally posted on 43UR7500PSC\\nHelpful?\\n7 Helpful(7)\\n7 Not helpful(7)\\nReport\",\n",
       " '4 out of 5 stars.\\nILKE THIS LG TV\\n8 DAYS AGO\\npicture quality good , sound quality good we attached soundbar with optical cable. fast response apps, eazyto oprate\\nBest FeaturesEasy To Use, Quality, Performance, Features/Settings\\nHow long have you owned this product?A few weeks\\nWhat is your primary reason for choosing LG?Product Quality\\nWas this an in-store or online purchase?Online\\nSelect the user type that you most relate toText & Calls User\\nYes, I recommend this product.\\nOriginally posted on 43UR7500PSC\\nHelpful?\\n0 Helpful(0)\\n0 Not helpful(0)\\nReport',\n",
       " '4 out of 5 stars.\\n17 DAYS AGO\\nProduct good but invoice copy not received. I checked in the website also but no option to download the invoice\\nHow long have you owned this product?A few months\\nWhat is your primary reason for choosing LG?Product Quality\\nWas this an in-store or online purchase?Online\\nYes, I recommend this product.\\nOriginally posted on 43UR7550PSC\\nHelpful?\\n0 Helpful(0)\\n0 Not helpful(0)\\nReport',\n",
       " '4 out of 5 stars.\\n3 MONTHS AGO\\nThe LED TV is good but I was committed web cam along with TV which is not received by me till now kindly send asap\\nBest FeaturesPerformance\\nHow long have you owned this product?A few days\\nWhat is your primary reason for choosing LG?Customer Service\\nWas this an in-store or online purchase?Online\\nSelect the user type that you most relate toApps & Games User\\nHelpful?\\n0 Helpful(0)\\n0 Not helpful(0)\\nReport']"
      ]
     },
     "execution_count": 58,
     "metadata": {},
     "output_type": "execute_result"
    }
   ],
   "source": [
    "review_a_list"
   ]
  },
  {
   "cell_type": "markdown",
   "id": "5a2b0f16-eb30-4894-935c-4767f43f8b1c",
   "metadata": {},
   "source": [
    "-----------------"
   ]
  },
  {
   "cell_type": "code",
   "execution_count": 13,
   "id": "088063fa-d38c-4740-8594-b3226c997f9f",
   "metadata": {},
   "outputs": [],
   "source": [
    "# 웹드라이버 실행\n",
    "driver = webdriver.Chrome()\n",
    "# 창을 최대로 키우기\n",
    "driver.maximize_window()\n",
    "\n",
    "driver.get(product_links[2])\n",
    "\n",
    "# 리뷰 탭 클릭\n",
    "review_tab = driver.find_elements(By.CLASS_NAME, 'c-tabs__item-text')\n",
    "review_tab[3].click()\n",
    "time.sleep(3)  # 리뷰 탭 로딩 대기\n",
    "\n",
    "# Shadow DOM의 root 접근 함수 선언\n",
    "def shadow_root(element):\n",
    "    shadow_root = driver.execute_script('return arguments[0].shadowRoot',element)\n",
    "    return shadow_root\n",
    "\n",
    "# 리뷰 데이터가 있는 섹션 찾기\n",
    "shadow_data = driver.find_element(By.CSS_SELECTOR, '[data-bv-show=\"reviews\"]')\n",
    "shadow_data_open = shadow_root(shadow_data)\n",
    "\n",
    "# 스크롤 내려서 Locale 필터 설정\n",
    "element = shadow_data_open.find_element(By.CSS_SELECTOR, '#bv_review_maincontainer > div.bv-rnr__sc-16dr7i1-0.bv-rnr__sc-16dr7i1-22.hiYLYm.gapRtl > div > div:nth-child(4) > div')\n",
    "driver.execute_script(\"arguments[0].scrollIntoView({block: 'center'});\", element)\n",
    "time.sleep(2)  # 스크롤 완료 대기"
   ]
  },
  {
   "cell_type": "markdown",
   "id": "c0566b97-8a91-4a3b-b0e9-22e0ebcd0b6e",
   "metadata": {},
   "source": [
    "제목 따로해! / 지역/성별/아이디 따로해!"
   ]
  },
  {
   "cell_type": "code",
   "execution_count": null,
   "id": "a0f0cec0-e1fd-41cb-a73d-41edee5e768e",
   "metadata": {},
   "outputs": [],
   "source": []
  },
  {
   "cell_type": "code",
   "execution_count": null,
   "id": "6b8a4df1-970d-42f9-8c01-233afd698d50",
   "metadata": {},
   "outputs": [],
   "source": []
  },
  {
   "cell_type": "code",
   "execution_count": null,
   "id": "409b5888-c280-4f5e-8732-98155e2240ca",
   "metadata": {},
   "outputs": [],
   "source": []
  },
  {
   "cell_type": "code",
   "execution_count": null,
   "id": "611194fe-09e7-41f5-8d0f-d94c8286f5cf",
   "metadata": {},
   "outputs": [],
   "source": []
  },
  {
   "cell_type": "code",
   "execution_count": 40,
   "id": "b706ce04-f381-4192-b808-d2bcc7f1ebc3",
   "metadata": {},
   "outputs": [
    {
     "data": {
      "text/plain": [
       "['gags', 'Sushil', 'DSC', 'Abhimanyu', 'Satish', 'Gee', 'Madhu0117']"
      ]
     },
     "execution_count": 40,
     "metadata": {},
     "output_type": "execute_result"
    }
   ],
   "source": [
    "# name 가져오기\n",
    "names = shadow_data_open.find_element(By.ID, 'reviews_container')\n",
    "names = names.find_elements(By.CSS_SELECTOR, '[class=\"bv-rnr__sc-1r4hv38-0 dQRRFq\"]')\n",
    "name_list = []\n",
    "for name in names:\n",
    "    name_list.append(name.text)\n",
    "name_list"
   ]
  },
  {
   "cell_type": "code",
   "execution_count": 36,
   "id": "2d353913-e583-446a-9fca-3378bc943741",
   "metadata": {},
   "outputs": [
    {
     "data": {
      "text/plain": [
       "['1 out of 5 stars.',\n",
       " '1 out of 5 stars.',\n",
       " '1 out of 5 stars.',\n",
       " '3 out of 5 stars.',\n",
       " '4 out of 5 stars.',\n",
       " '4 out of 5 stars.',\n",
       " '4 out of 5 stars.',\n",
       " '4 out of 5 stars.']"
      ]
     },
     "execution_count": 36,
     "metadata": {},
     "output_type": "execute_result"
    }
   ],
   "source": [
    "# 리뷰 점수 가져오기\n",
    "scores = shadow_data_open.find_element(By.ID, 'reviews_container')\n",
    "scores = scores.find_elements(By.CSS_SELECTOR, '[itemprop=\"reviewRating\"]')\n",
    "score_list = []\n",
    "for score in scores:\n",
    "    score_list.append(score.text)\n",
    "score_list"
   ]
  },
  {
   "cell_type": "code",
   "execution_count": 15,
   "id": "97ef3677-d75e-45b0-8e3d-73c68b899687",
   "metadata": {},
   "outputs": [
    {
     "data": {
      "text/plain": [
       "['Manish',\n",
       " 'G max\\nMangalore\\nGenderMale\\nAge35 to 44',\n",
       " 'Jay\\nPandharapur MH\\nGenderMale\\nAge35 to 44',\n",
       " 'EmeraldWall\\nHaldwani\\nGenderMale\\nAge25 to 34',\n",
       " 'Surag\\nTrivandrum\\nGenderMale\\nAge45 to 54',\n",
       " 'Mitesh\\nSurat\\nGenderMale\\nAge18 to 24',\n",
       " 'Saurabh\\nJaipur\\nGenderMale\\nAge25 to 34',\n",
       " 'Sravan\\nGenderMale\\nAge25 to 34',\n",
       " 'Tomm Dinakara',\n",
       " 'janu',\n",
       " 'Ramesh T\\nGenderMale\\nAge35 to 44',\n",
       " 'Thiru123\\nIndia hyderabad\\nGenderMale\\nAge25 to 34',\n",
       " 'Japras\\nJakarta\\nGenderMale\\nAge25 to 34',\n",
       " 'Anonymous\\nHapur, U.P. India 245101\\nGenderMale\\nAge45 to 54',\n",
       " 'Mohan\\nVellore\\nGenderMale\\nAge25 to 34',\n",
       " 'Manish\\nGodda, jharkhand\\nGenderMale\\nAge25 to 34',\n",
       " 'Balaji\\nChennai\\nGenderMale\\nAge25 to 34',\n",
       " 'Roshan\\nTamil Nadu\\nGenderMale\\nAge25 to 34',\n",
       " 'Swapnil lingayat\\nRatnagiri\\nGenderMale',\n",
       " 'Buddy\\nFaridabad\\nGenderMale\\nAge45 to 54',\n",
       " 'ctn\\nbangalore\\nGenderMale\\nAge35 to 44']"
      ]
     },
     "execution_count": 15,
     "metadata": {},
     "output_type": "execute_result"
    }
   ],
   "source": [
    "# 리뷰 컨테이너1 가져오기\n",
    "a = shadow_data_open.find_elements(By.CLASS_NAME, 'bv-rnr__emkap-0.eyhvsJ')\n",
    "# a = scores.find_elements(By.CSS_SELECTOR, '[itemprop=\"reviewRating\"]')\n",
    "a_list = []\n",
    "for b in a:\n",
    "    a_list.append(b.text)\n",
    "a_list"
   ]
  },
  {
   "cell_type": "code",
   "execution_count": 14,
   "id": "dcbf0472-8835-46ba-9ea0-a403e7d31e51",
   "metadata": {},
   "outputs": [
    {
     "data": {
      "text/plain": [
       "['5 out of 5 stars.\\nBEST TV ALL WORLD\\n7 DAYS AGO\\nThis is best tv I have experience in the television\\nHow long have you owned this product?A few months\\nWhat is your primary reason for choosing LG?Product Quality\\nWas this an in-store or online purchase?In-store\\nOriginally posted on OLED65G46LA\\nHelpful?\\n0 Helpful(0)\\n0 Not helpful(0)\\nReport',\n",
       " '5 out of 5 stars.\\n20 DAYS AGO\\nOne of best in oled With Dolby Atmos sound Dolby Vision\\nBest FeaturesEasy To Use, Quality, Style/Design, Performance, Features/Settings\\nHow long have you owned this product?A few days\\nWhat is your primary reason for choosing LG?Product Quality\\nWas this an in-store or online purchase?In-store\\nSelect the user type that you most relate toTech Lover\\nOriginally posted on OLED65G46LA\\nHelpful?\\n0 Helpful(0)\\n0 Not helpful(0)\\nReport',\n",
       " \"5 out of 5 stars.\\nGREAT REFRESH RATE AND PICTURE\\nA MONTH AGO\\nI bought this tv 65g4 just because of 144hz refresh rate... because my OLED samsung 65s95d refresh rate was not up to the mark in gaming that why I cancelled the bill of 65s95d and book 65g4...but but but not just this tv is better than in gaming refresh rate also in picture which is comes with Dolby vision, sound, mmrc remote, gallary design personalized picture wizard every thing is better...I feel proud of my selection. Please if you are reading my comment don't confuse or hesitate about this product. Just go and buy... just buy\\nBest FeaturesEasy To Use, Quality, Style/Design, Performance, Features/Settings\\nHow long have you owned this product?A few weeks\\nWhat is your primary reason for choosing LG?Product Quality\\nWas this an in-store or online purchase?In-store\\nSelect the user type that you most relate toTech Lover\\nOriginally posted on OLED65G46LA\\nHelpful?\\n1 Helpful(1)\\n0 Not helpful(0)\\nReport\"]"
      ]
     },
     "execution_count": 14,
     "metadata": {},
     "output_type": "execute_result"
    }
   ],
   "source": [
    "# 리뷰 컨테이너2 가져오기\n",
    "a = shadow_data_open.find_elements(By.CLASS_NAME, 'bv-rnr__sc-16dr7i1-10.eIsLQk')\n",
    "# a = scores.find_elements(By.CSS_SELECTOR, '[itemprop=\"reviewRating\"]')\n",
    "a_list = []\n",
    "for b in a:\n",
    "    a_list.append(b.text)\n",
    "a_list"
   ]
  },
  {
   "cell_type": "code",
   "execution_count": null,
   "id": "2fa30f87-22aa-490d-82c9-9b887abd92d3",
   "metadata": {},
   "outputs": [],
   "source": [
    "# 리뷰 제목 가져오기\n",
    "titles = shadow_data_open.find_elements(By.CSS_SELECTOR, '.bv-content-title')\n",
    "for title in titles:\n",
    "    print(f\"Title: {title.text}\")\n",
    "\n",
    "# 리뷰 본문 가져오기\n",
    "bodies = shadow_data_open.find_elements(By.CSS_SELECTOR, '.bv-content-summary-body-text')\n",
    "for body in bodies:\n",
    "    print(f\"Body: {body.text}\")\n",
    "\n",
    "# 리뷰 작성자 성별 가져오기\n",
    "genders = shadow_data_open.find_elements(By.CSS_SELECTOR, '.bv-author-profile-gender')\n",
    "for gender in genders:\n",
    "    print(f\"Gender: {gender.text}\")\n",
    "\n",
    "# 리뷰 작성자 위치 가져오기\n",
    "locations = shadow_data_open.find_elements(By.CSS_SELECTOR, '.bv-author-profile-location')\n",
    "for location in locations:\n",
    "    print(f\"Location: {location.text}\")"
   ]
  },
  {
   "cell_type": "code",
   "execution_count": null,
   "id": "63161ff1-5ced-4747-8451-0303cfd15bb8",
   "metadata": {},
   "outputs": [],
   "source": [
    "# 브라우저 종료\n",
    "driver.quit()"
   ]
  },
  {
   "cell_type": "code",
   "execution_count": null,
   "id": "f765b88c-a060-43ed-832f-3ac8c9b08ca8",
   "metadata": {},
   "outputs": [],
   "source": [
    "# 리뷰 데이터 수집\n",
    "reviews = shadow_data_open.find_element(By.ID, 'reviews_container')\n",
    "reviews = reviews.find_elements(By.CSS_SELECTOR, '[itemprop=\"reviewBody\"]')\n",
    "review_list = []\n",
    "for review in reviews:\n",
    "    review_list.append(review.text)\n",
    "review_list"
   ]
  },
  {
   "cell_type": "code",
   "execution_count": null,
   "id": "1e6e77db-200c-4235-9ae9-897f2dc7f656",
   "metadata": {},
   "outputs": [],
   "source": [
    "# Locale 필터 열기\n",
    "\n",
    "locale_filter = shadow_data_open.find_element(By.CSS_SELECTOR, '#bv_review_maincontainer > div.bv-rnr__sc-16dr7i1-0.bv-rnr__sc-16dr7i1-22.hiYLYm.gapRtl > div > div:nth-child(4) > div')\n",
    "time.sleep(2)\n",
    "locale_filter.click()\n",
    "time.sleep(1)\n",
    "locale_filter.click()\n",
    "\n",
    "english_india = shadow_data_open.find_elements(By.CLASS_NAME, 'bv-rnr__sc-1tvt4yi-5.kveQCZ')\n",
    "english_india[1].click()\n",
    "time.sleep(1)"
   ]
  },
  {
   "cell_type": "code",
   "execution_count": null,
   "id": "f6054fc2-ad3a-4b02-a99f-32ec27d30105",
   "metadata": {},
   "outputs": [],
   "source": [
    "# Lowest to Highest Rating\n",
    " \n",
    "low_to_high = shadow_data_open.find_element(By.CSS_SELECTOR, '#bv_review_maincontainer > div.bv-rnr__sc-11r39gb-1.ewPPY > div > div.bv-rnr__wnep33-0.cIbVOf > div > div.bv-rnr__sc-13ijx62-0.bmAjQc > div > div')\n",
    "time.sleep(2)\n",
    "low_to_high.click()\n",
    "time.sleep(1)\n",
    "low_to_high.click()\n",
    " \n",
    "low_to_high_select = shadow_data_open.find_element(By.ID, 'bv-reviews-filters-negative-3')\n",
    "low_to_high_select.click()\n",
    "time.sleep(1)"
   ]
  },
  {
   "cell_type": "code",
   "execution_count": null,
   "id": "f103fd06-d3dd-4bd6-a8fc-24a17e4194da",
   "metadata": {},
   "outputs": [],
   "source": []
  },
  {
   "cell_type": "code",
   "execution_count": null,
   "id": "d9d671ae-6145-47cc-9617-52ce28b998ba",
   "metadata": {},
   "outputs": [],
   "source": []
  },
  {
   "cell_type": "code",
   "execution_count": null,
   "id": "69774f1d-0f28-4da2-bc75-b9689f987c50",
   "metadata": {},
   "outputs": [],
   "source": []
  },
  {
   "cell_type": "code",
   "execution_count": null,
   "id": "3bb50cd0-01c5-4226-be4e-abea90526619",
   "metadata": {},
   "outputs": [],
   "source": []
  }
 ],
 "metadata": {
  "kernelspec": {
   "display_name": "Python 3 (ipykernel)",
   "language": "python",
   "name": "python3"
  },
  "language_info": {
   "codemirror_mode": {
    "name": "ipython",
    "version": 3
   },
   "file_extension": ".py",
   "mimetype": "text/x-python",
   "name": "python",
   "nbconvert_exporter": "python",
   "pygments_lexer": "ipython3",
   "version": "3.11.7"
  },
  "widgets": {
   "application/vnd.jupyter.widget-state+json": {
    "state": {},
    "version_major": 2,
    "version_minor": 0
   }
  }
 },
 "nbformat": 4,
 "nbformat_minor": 5
}
