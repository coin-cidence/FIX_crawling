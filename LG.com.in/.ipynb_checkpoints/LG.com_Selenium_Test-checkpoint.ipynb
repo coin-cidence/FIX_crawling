{
 "cells": [
  {
   "cell_type": "code",
   "execution_count": 1,
   "id": "44ee427a-e5a3-4d5e-8b28-e8d4749bdfe9",
   "metadata": {},
   "outputs": [],
   "source": [
    "from selenium import webdriver\n",
    "from selenium.webdriver.common.by import By\n",
    "from selenium.webdriver.common.keys import Keys\n",
    "from selenium.webdriver.chrome.service import Service\n",
    "from selenium.webdriver.chrome.options import Options\n",
    "from selenium.webdriver.support.ui import WebDriverWait\n",
    "from selenium.webdriver.support import expected_conditions as ECz\n",
    "from tqdm import tqdm\n",
    "import time\n",
    "\n",
    "from bs4 import BeautifulSoup as bs"
   ]
  },
  {
   "cell_type": "code",
   "execution_count": 2,
   "id": "a5fd7fdd-ba27-4029-b6f0-0d4461cd753e",
   "metadata": {},
   "outputs": [
    {
     "data": {
      "text/plain": [
       "['https://www.lg.com//in/tv-soundbars/qned/65qned90t6a/',\n",
       " 'https://www.lg.com//in/tv-soundbars/4k-uhd-tvs/55ur7500psc/',\n",
       " 'https://www.lg.com//in/tv-soundbars/oled/oled55g46la/',\n",
       " 'https://www.lg.com//in/tv-soundbars/oled/oled48c46la/',\n",
       " 'https://www.lg.com//in/tv-soundbars/qned/75qned82t6a/',\n",
       " 'https://www.lg.com//in/tv-soundbars/qned/75qned88t6a/',\n",
       " 'https://www.lg.com//in/tv-soundbars/smart-tvs/32lq643bpta/',\n",
       " 'https://www.lg.com//in/tv-soundbars/smart-tvs/32lm563bptc/',\n",
       " 'https://www.lg.com//in/tv-soundbars/oled-evo/oled55c3psa/',\n",
       " 'https://www.lg.com//in/tv-soundbars-1/4k-uhd-tvs/55uq7550psf/',\n",
       " 'https://www.lg.com//in/tv-soundbars/tv-accessories/akb76043109/',\n",
       " 'https://www.lg.com//in/tv-soundbars/oled-evo/oled65g3psa/']"
      ]
     },
     "execution_count": 2,
     "metadata": {},
     "output_type": "execute_result"
    }
   ],
   "source": [
    "# 웹드라이버 실행\n",
    "driver = webdriver.Chrome()\n",
    "# 창을 최대로 키우기\n",
    "driver.maximize_window()\n",
    "\n",
    "# 제품 목록 페이지 로드\n",
    "url = 'https://www.lg.com/in/tv-soundbars/all-tv-soundbars/?ec_model_status_code=ACTIVE&sortCriteria=%40ec_spotlights_order_no+descending%2C%40ec_salable_status+descending%2C%40ec_pdp_view_count+descending'\n",
    "driver.get(url)\n",
    "\n",
    "# 페이지 로딩 대기\n",
    "time.sleep(3)\n",
    "\n",
    "# 정적 스크랩핑으로 raw 웹 데이터 저장\n",
    "soup = bs(driver.page_source, 'lxml')\n",
    "links = soup.select('ul div.c-product-item__ufn a')\n",
    "\n",
    "# 모든 제품 페이지에서 제품 링크 수집\n",
    "product_links = []\n",
    "\n",
    "for link in links:\n",
    "    product_links.append('https://www.lg.com/'+link['href'])\n",
    "product_links"
   ]
  },
  {
   "cell_type": "code",
   "execution_count": 4,
   "id": "2873d2b7-56e7-4e8c-83e1-2921f67d6cd4",
   "metadata": {},
   "outputs": [],
   "source": [
    "driver.get(product_links[1])\n",
    "\n",
    "# 리뷰 탭 클릭\n",
    "review_tab = driver.find_elements(By.CLASS_NAME, 'c-tabs__item-text')\n",
    "review_tab[3].click()\n",
    "time.sleep(3)  # 리뷰 탭 로딩 대기"
   ]
  },
  {
   "cell_type": "markdown",
   "id": "7b07dc13-a370-4582-9197-9e89bc5b7353",
   "metadata": {},
   "source": [
    "### Shadow DOM\n",
    "https://blog.hashscraper.com/hidden-web-elements-shadow-dom-crawling/"
   ]
  },
  {
   "cell_type": "code",
   "execution_count": 27,
   "id": "9244dce8-8c0c-449e-800e-ea7d37891c52",
   "metadata": {},
   "outputs": [],
   "source": [
    "# 스크롤 내려서 Locale 필터 설정\n",
    " \n",
    "element = shadow_data_open.find_element(By.CSS_SELECTOR, '#bv_review_maincontainer > div.bv-rnr__sc-16dr7i1-0.bv-rnr__sc-16dr7i1-22.hiYLYm.gapRtl > div > div:nth-child(4) > div')\n",
    "driver.execute_script(\"arguments[0].scrollIntoView({block: 'center'});\", element)\n",
    "time.sleep(2)  # 스크롤 완료 대기"
   ]
  },
  {
   "cell_type": "code",
   "execution_count": 5,
   "id": "3b961bfb-59ef-486b-b6a5-f74dc2945408",
   "metadata": {},
   "outputs": [],
   "source": [
    "# Shadow DOM의 root 접근 함수 선언\n",
    "def shadow_root(element):\n",
    "    shadow_root = driver.execute_script('return arguments[0].shadowRoot',element)\n",
    "    return shadow_root\n",
    "\n",
    "shadow_data = driver.find_element(By.CSS_SELECTOR, '[data-bv-show=\"reviews\"]')\n",
    "shadow_data_open = shadow_root(shadow_data)"
   ]
  },
  {
   "cell_type": "code",
   "execution_count": 6,
   "id": "6ac221bb-3aa3-457a-a052-21994158ffac",
   "metadata": {},
   "outputs": [],
   "source": [
    "# # Locale 필터 열기\n",
    "\n",
    "# locale_filter = shadow_data_open.find_element(By.CSS_SELECTOR, '#bv_review_maincontainer > div.bv-rnr__sc-16dr7i1-0.bv-rnr__sc-16dr7i1-22.hiYLYm.gapRtl > div > div:nth-child(4) > div')\n",
    "# time.sleep(2)\n",
    "# locale_filter.click()\n",
    "# time.sleep(1)\n",
    "# locale_filter.click()\n",
    "\n",
    "# english_india = shadow_data_open.find_elements(By.CLASS_NAME, 'bv-rnr__sc-1tvt4yi-5.kveQCZ')\n",
    "# english_india[1].click()\n",
    "# time.sleep(1)"
   ]
  },
  {
   "cell_type": "code",
   "execution_count": 12,
   "id": "dae11831-f338-4aac-957e-30e61c614d93",
   "metadata": {},
   "outputs": [],
   "source": [
    "score = shadow_data_open.find_elements(By.CSS_SELECTOR, '#bv-review-1161834953 > div > div > div.bv-rnr__sc-16dr7i1-25.cBQrfr > div.bv-rnr__sc-16dr7i1-26 > div.bv-rnr__sc-16dr7i1-10.eIsLQk > div.bv-rnr__sc-16dr7i1-21.iqFhYQ > div.bv-rnr__sc-16dr7i1-18.isujDp > span')"
   ]
  },
  {
   "cell_type": "code",
   "execution_count": 13,
   "id": "f2b19b33-8136-4c77-9cd3-8401fa8836d2",
   "metadata": {},
   "outputs": [
    {
     "name": "stdout",
     "output_type": "stream",
     "text": [
      "4 out of 5 stars.\n"
     ]
    }
   ],
   "source": [
    "for i in score:\n",
    "    print(i.text)"
   ]
  },
  {
   "cell_type": "code",
   "execution_count": 14,
   "id": "a51f739a-a343-427b-bda9-ef6673395d2f",
   "metadata": {},
   "outputs": [],
   "source": [
    "loc = shadow_data_open.find_elements(By.CSS_SELECTOR, '#bv-review-1148030916 > div > div > div.bv-rnr__sc-16dr7i1-2.eHZJcI > div > div.bv-rnr__emkap-5.fQGbeU > div.bv-rnr__emkap-1.dXwBxU > span')"
   ]
  },
  {
   "cell_type": "code",
   "execution_count": 15,
   "id": "8c132d71-a734-4f9c-b9bc-29424ff4132a",
   "metadata": {},
   "outputs": [
    {
     "name": "stdout",
     "output_type": "stream",
     "text": [
      "Delhi\n"
     ]
    }
   ],
   "source": [
    "for i in loc:\n",
    "    print(i.text)"
   ]
  },
  {
   "cell_type": "code",
   "execution_count": 16,
   "id": "9c40eb0a-a7a7-4bed-8487-02a113e34620",
   "metadata": {},
   "outputs": [],
   "source": [
    "gender = shadow_data_open.find_elements(By.CSS_SELECTOR, '#bv-review-1148030916 > div > div > div.bv-rnr__sc-16dr7i1-2.eHZJcI > div > div.bv-rnr__emkap-5.fQGbeU > div.bv-rnr__emkap-3.EvwAG > div > div:nth-child(1) > div')"
   ]
  },
  {
   "cell_type": "code",
   "execution_count": 17,
   "id": "e61e49ea-94e4-4ac6-9afe-0d456eab5fa7",
   "metadata": {},
   "outputs": [
    {
     "name": "stdout",
     "output_type": "stream",
     "text": [
      "GenderMale\n"
     ]
    }
   ],
   "source": [
    "for i in gender:\n",
    "    print(i.text)"
   ]
  },
  {
   "cell_type": "markdown",
   "id": "bac6d641-151f-49e7-8364-8c28a8aa6d93",
   "metadata": {},
   "source": [
    "---------"
   ]
  },
  {
   "cell_type": "code",
   "execution_count": 20,
   "id": "0e64f82f-c1d0-4d10-b4dc-913261646507",
   "metadata": {},
   "outputs": [],
   "source": [
    "from selenium import webdriver\n",
    "from selenium.webdriver.common.by import By\n",
    "from selenium.webdriver.chrome.service import Service\n",
    "from selenium.webdriver.chrome.options import Options\n",
    "\n",
    "# 웹드라이버 실행\n",
    "driver = webdriver.Chrome()\n",
    "# 창을 최대로 키우기\n",
    "driver.maximize_window()\n",
    "\n",
    "# 웹페이지 열기\n",
    "url = \"https://www.lg.com//in/tv-soundbars/4k-uhd-tvs/55ur7500psc/\"\n",
    "driver.get(url)"
   ]
  },
  {
   "cell_type": "code",
   "execution_count": 21,
   "id": "f0da22b3-6d09-4dd9-94b6-c2752e51cac4",
   "metadata": {},
   "outputs": [],
   "source": [
    "# Shadow DOM에 접근하는 함수\n",
    "def shadow_root(element):\n",
    "    shadow_root = driver.execute_script('return arguments[0].shadowRoot', element)\n",
    "    return shadow_root"
   ]
  },
  {
   "cell_type": "code",
   "execution_count": 32,
   "id": "5e17c030-87b6-44f6-a8a3-952ba8047662",
   "metadata": {},
   "outputs": [],
   "source": [
    "# 리뷰 데이터가 있는 섹션 찾기\n",
    "shadow_data = driver.find_element(By.CSS_SELECTOR, '[data-bv-show=\"reviews\"]')\n",
    "shadow_data_open = shadow_root(shadow_data)"
   ]
  },
  {
   "cell_type": "code",
   "execution_count": 40,
   "id": "b706ce04-f381-4192-b808-d2bcc7f1ebc3",
   "metadata": {},
   "outputs": [
    {
     "data": {
      "text/plain": [
       "['gags', 'Sushil', 'DSC', 'Abhimanyu', 'Satish', 'Gee', 'Madhu0117']"
      ]
     },
     "execution_count": 40,
     "metadata": {},
     "output_type": "execute_result"
    }
   ],
   "source": [
    "# name 가져오기\n",
    "names = shadow_data_open.find_element(By.ID, 'reviews_container')\n",
    "names = names.find_elements(By.CSS_SELECTOR, '[class=\"bv-rnr__sc-1r4hv38-0 dQRRFq\"]')\n",
    "name_list = []\n",
    "for name in names:\n",
    "    name_list.append(name.text)\n",
    "name_list"
   ]
  },
  {
   "cell_type": "code",
   "execution_count": 36,
   "id": "2d353913-e583-446a-9fca-3378bc943741",
   "metadata": {},
   "outputs": [
    {
     "data": {
      "text/plain": [
       "['1 out of 5 stars.',\n",
       " '1 out of 5 stars.',\n",
       " '1 out of 5 stars.',\n",
       " '3 out of 5 stars.',\n",
       " '4 out of 5 stars.',\n",
       " '4 out of 5 stars.',\n",
       " '4 out of 5 stars.',\n",
       " '4 out of 5 stars.']"
      ]
     },
     "execution_count": 36,
     "metadata": {},
     "output_type": "execute_result"
    }
   ],
   "source": [
    "# 리뷰 점수 가져오기\n",
    "scores = shadow_data_open.find_element(By.ID, 'reviews_container')\n",
    "scores = scores.find_elements(By.CSS_SELECTOR, '[itemprop=\"reviewRating\"]')\n",
    "score_list = []\n",
    "for score in scores:\n",
    "    score_list.append(score.text)\n",
    "score_list"
   ]
  },
  {
   "cell_type": "code",
   "execution_count": 15,
   "id": "97ef3677-d75e-45b0-8e3d-73c68b899687",
   "metadata": {},
   "outputs": [
    {
     "data": {
      "text/plain": [
       "['Manish',\n",
       " 'G max\\nMangalore\\nGenderMale\\nAge35 to 44',\n",
       " 'Jay\\nPandharapur MH\\nGenderMale\\nAge35 to 44',\n",
       " 'EmeraldWall\\nHaldwani\\nGenderMale\\nAge25 to 34',\n",
       " 'Surag\\nTrivandrum\\nGenderMale\\nAge45 to 54',\n",
       " 'Mitesh\\nSurat\\nGenderMale\\nAge18 to 24',\n",
       " 'Saurabh\\nJaipur\\nGenderMale\\nAge25 to 34',\n",
       " 'Sravan\\nGenderMale\\nAge25 to 34',\n",
       " 'Tomm Dinakara',\n",
       " 'janu',\n",
       " 'Ramesh T\\nGenderMale\\nAge35 to 44',\n",
       " 'Thiru123\\nIndia hyderabad\\nGenderMale\\nAge25 to 34',\n",
       " 'Japras\\nJakarta\\nGenderMale\\nAge25 to 34',\n",
       " 'Anonymous\\nHapur, U.P. India 245101\\nGenderMale\\nAge45 to 54',\n",
       " 'Mohan\\nVellore\\nGenderMale\\nAge25 to 34',\n",
       " 'Manish\\nGodda, jharkhand\\nGenderMale\\nAge25 to 34',\n",
       " 'Balaji\\nChennai\\nGenderMale\\nAge25 to 34',\n",
       " 'Roshan\\nTamil Nadu\\nGenderMale\\nAge25 to 34',\n",
       " 'Swapnil lingayat\\nRatnagiri\\nGenderMale',\n",
       " 'Buddy\\nFaridabad\\nGenderMale\\nAge45 to 54',\n",
       " 'ctn\\nbangalore\\nGenderMale\\nAge35 to 44']"
      ]
     },
     "execution_count": 15,
     "metadata": {},
     "output_type": "execute_result"
    }
   ],
   "source": [
    "# 리뷰 점수 가져오기\n",
    "a = shadow_data_open.find_elements(By.CLASS_NAME, 'bv-rnr__emkap-0.eyhvsJ')\n",
    "# a = scores.find_elements(By.CSS_SELECTOR, '[itemprop=\"reviewRating\"]')\n",
    "a_list = []\n",
    "for b in a:\n",
    "    a_list.append(b.text)\n",
    "a_list"
   ]
  },
  {
   "cell_type": "code",
   "execution_count": null,
   "id": "dcbf0472-8835-46ba-9ea0-a403e7d31e51",
   "metadata": {},
   "outputs": [],
   "source": []
  },
  {
   "cell_type": "code",
   "execution_count": null,
   "id": "47e94486-fc1e-4d41-a6d5-301a303702dd",
   "metadata": {},
   "outputs": [],
   "source": [
    "bv-rnr__emkap-0 eyhvsJ"
   ]
  },
  {
   "cell_type": "code",
   "execution_count": null,
   "id": "2fa30f87-22aa-490d-82c9-9b887abd92d3",
   "metadata": {},
   "outputs": [],
   "source": [
    "# 리뷰 제목 가져오기\n",
    "titles = shadow_data_open.find_elements(By.CSS_SELECTOR, '.bv-content-title')\n",
    "for title in titles:\n",
    "    print(f\"Title: {title.text}\")\n",
    "\n",
    "# 리뷰 본문 가져오기\n",
    "bodies = shadow_data_open.find_elements(By.CSS_SELECTOR, '.bv-content-summary-body-text')\n",
    "for body in bodies:\n",
    "    print(f\"Body: {body.text}\")\n",
    "\n",
    "# 리뷰 작성자 성별 가져오기\n",
    "genders = shadow_data_open.find_elements(By.CSS_SELECTOR, '.bv-author-profile-gender')\n",
    "for gender in genders:\n",
    "    print(f\"Gender: {gender.text}\")\n",
    "\n",
    "# 리뷰 작성자 위치 가져오기\n",
    "locations = shadow_data_open.find_elements(By.CSS_SELECTOR, '.bv-author-profile-location')\n",
    "for location in locations:\n",
    "    print(f\"Location: {location.text}\")"
   ]
  },
  {
   "cell_type": "code",
   "execution_count": null,
   "id": "63161ff1-5ced-4747-8451-0303cfd15bb8",
   "metadata": {},
   "outputs": [],
   "source": [
    "# 브라우저 종료\n",
    "driver.quit()"
   ]
  },
  {
   "cell_type": "code",
   "execution_count": null,
   "id": "f765b88c-a060-43ed-832f-3ac8c9b08ca8",
   "metadata": {},
   "outputs": [],
   "source": [
    "# 리뷰 데이터 수집\n",
    "reviews = shadow_data_open.find_element(By.ID, 'reviews_container')\n",
    "reviews = reviews.find_elements(By.CSS_SELECTOR, '[itemprop=\"reviewBody\"]')\n",
    "review_list = []\n",
    "for review in reviews:\n",
    "    review_list.append(review.text)\n",
    "review_list"
   ]
  },
  {
   "cell_type": "code",
   "execution_count": null,
   "id": "1e6e77db-200c-4235-9ae9-897f2dc7f656",
   "metadata": {},
   "outputs": [],
   "source": []
  },
  {
   "cell_type": "code",
   "execution_count": null,
   "id": "f6054fc2-ad3a-4b02-a99f-32ec27d30105",
   "metadata": {},
   "outputs": [],
   "source": []
  },
  {
   "cell_type": "code",
   "execution_count": null,
   "id": "f103fd06-d3dd-4bd6-a8fc-24a17e4194da",
   "metadata": {},
   "outputs": [],
   "source": []
  },
  {
   "cell_type": "code",
   "execution_count": null,
   "id": "d9d671ae-6145-47cc-9617-52ce28b998ba",
   "metadata": {},
   "outputs": [],
   "source": []
  },
  {
   "cell_type": "code",
   "execution_count": null,
   "id": "69774f1d-0f28-4da2-bc75-b9689f987c50",
   "metadata": {},
   "outputs": [],
   "source": []
  },
  {
   "cell_type": "code",
   "execution_count": null,
   "id": "3bb50cd0-01c5-4226-be4e-abea90526619",
   "metadata": {},
   "outputs": [],
   "source": []
  }
 ],
 "metadata": {
  "kernelspec": {
   "display_name": "Python 3 (ipykernel)",
   "language": "python",
   "name": "python3"
  },
  "language_info": {
   "codemirror_mode": {
    "name": "ipython",
    "version": 3
   },
   "file_extension": ".py",
   "mimetype": "text/x-python",
   "name": "python",
   "nbconvert_exporter": "python",
   "pygments_lexer": "ipython3",
   "version": "3.11.7"
  },
  "widgets": {
   "application/vnd.jupyter.widget-state+json": {
    "state": {},
    "version_major": 2,
    "version_minor": 0
   }
  }
 },
 "nbformat": 4,
 "nbformat_minor": 5
}
