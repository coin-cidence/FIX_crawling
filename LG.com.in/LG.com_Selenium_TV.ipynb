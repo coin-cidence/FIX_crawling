{
 "cells": [
  {
   "cell_type": "code",
   "execution_count": 544,
   "id": "44ee427a-e5a3-4d5e-8b28-e8d4749bdfe9",
   "metadata": {},
   "outputs": [],
   "source": [
    "from selenium import webdriver\n",
    "from selenium.webdriver.common.by import By\n",
    "from selenium.webdriver.common.keys import Keys\n",
    "from selenium.webdriver.chrome.service import Service\n",
    "from selenium.webdriver.chrome.options import Options\n",
    "from selenium.webdriver.support.ui import WebDriverWait\n",
    "from selenium.webdriver.support import expected_conditions as ECz\n",
    "from tqdm import tqdm\n",
    "import time\n",
    "\n",
    "from bs4 import BeautifulSoup as bs"
   ]
  },
  {
   "cell_type": "code",
   "execution_count": 546,
   "id": "a5fd7fdd-ba27-4029-b6f0-0d4461cd753e",
   "metadata": {},
   "outputs": [
    {
     "data": {
      "text/plain": [
       "['https://www.lg.com//in/tv-soundbars/qned/65qned90t6a/',\n",
       " 'https://www.lg.com//in/tv-soundbars/4k-uhd-tvs/55ur7500psc/',\n",
       " 'https://www.lg.com//in/tv-soundbars/oled/oled55g46la/',\n",
       " 'https://www.lg.com//in/tv-soundbars/oled/oled48c46la/',\n",
       " 'https://www.lg.com//in/tv-soundbars/qned/75qned82t6a/',\n",
       " 'https://www.lg.com//in/tv-soundbars/qned/75qned88t6a/',\n",
       " 'https://www.lg.com//in/tv-soundbars/smart-tvs/32lq643bpta/',\n",
       " 'https://www.lg.com//in/tv-soundbars/smart-tvs/32lm563bptc/',\n",
       " 'https://www.lg.com//in/tv-soundbars/oled-evo/oled55c3psa/',\n",
       " 'https://www.lg.com//in/tv-soundbars/oled-evo/oled65g3psa/',\n",
       " 'https://www.lg.com//in/tv-soundbars-1/4k-uhd-tvs/55uq7550psf/',\n",
       " 'https://www.lg.com//in/tv-soundbars/tv-accessories/akb76043109/']"
      ]
     },
     "execution_count": 546,
     "metadata": {},
     "output_type": "execute_result"
    }
   ],
   "source": [
    "# 웹드라이버 실행\n",
    "driver = webdriver.Chrome()\n",
    "# 창을 최대로 키우기\n",
    "driver.maximize_window()\n",
    "\n",
    "# 제품 목록 페이지 로드\n",
    "url = 'https://www.lg.com/in/tv-soundbars/all-tv-soundbars/?ec_model_status_code=ACTIVE&sortCriteria=%40ec_spotlights_order_no+descending%2C%40ec_salable_status+descending%2C%40ec_pdp_view_count+descending'\n",
    "driver.get(url)\n",
    "\n",
    "# 페이지 로딩 대기\n",
    "time.sleep(3)\n",
    "\n",
    "# 정적 스크랩핑으로 raw 웹 데이터 저장\n",
    "soup = bs(driver.page_source, 'lxml')\n",
    "links = soup.select('ul div.c-product-item__ufn a')\n",
    "\n",
    "# 모든 제품 페이지에서 제품 링크 수집\n",
    "product_links = []\n",
    "\n",
    "for link in links:\n",
    "    product_links.append('https://www.lg.com/'+link['href'])\n",
    "product_links"
   ]
  },
  {
   "cell_type": "code",
   "execution_count": null,
   "id": "e10b37f8-1b93-47e1-b31e-acb70fb12a77",
   "metadata": {},
   "outputs": [],
   "source": [
    "# while True:\n",
    "#     # 제품 링크 요소들을 찾음\n",
    "#     products = wait.until(EC.presence_of_all_elements_located((By.CSS_SELECTOR, 'div.product-grid-item a')))\n",
    "    \n",
    "#     for product in products:\n",
    "#         link = product.get_attribute('href')\n",
    "#         if link and link not in product_links:  # 링크가 존재하고 중복되지 않으면 추가\n",
    "#             product_links.append(link)\n",
    "    \n",
    "#     # 다음 페이지 버튼 찾기\n",
    "#     try:\n",
    "#         next_button = driver.find_element(By.CSS_SELECTOR, 'a.pagination-next')  # 다음 페이지 버튼에 대한 CSS 선택자\n",
    "#         if not next_button.is_enabled() or \"disabled\" in next_button.get_attribute(\"class\"):\n",
    "#             break  # 더이상 다음 페이지가 없으면 루프 종료\n",
    "#         next_button.click()\n",
    "#         time.sleep(5)  # 페이지 로딩 대기\n",
    "#     except Exception as e:\n",
    "#         print(\"다음 페이지로 이동 중 문제가 발생했습니다:\", e)\n",
    "#         break  # 예외 발생 시 루프 종료\n",
    "        \n",
    "# print(f'총 {len(product_links)}개의 제품 링크를 수집했습니다.')\n",
    "\n",
    "# 수집된 제품 링크 확인 (선택사항)\n",
    "# for link in product_links:\n",
    "#     print(link)"
   ]
  },
  {
   "cell_type": "code",
   "execution_count": 548,
   "id": "2873d2b7-56e7-4e8c-83e1-2921f67d6cd4",
   "metadata": {},
   "outputs": [],
   "source": [
    "driver.get(product_links[2])\n",
    "\n",
    "# # 리뷰 탭 클릭\n",
    "# review_tab = driver.find_elements(By.CLASS_NAME, 'c-tabs__item-text')\n",
    "# review_tab[3].click()\n",
    "# time.sleep(3)  # 리뷰 탭 로딩 대기"
   ]
  },
  {
   "cell_type": "markdown",
   "id": "7b07dc13-a370-4582-9197-9e89bc5b7353",
   "metadata": {},
   "source": [
    "### Shadow DOM\n",
    "https://blog.hashscraper.com/hidden-web-elements-shadow-dom-crawling/"
   ]
  },
  {
   "cell_type": "code",
   "execution_count": 550,
   "id": "3b961bfb-59ef-486b-b6a5-f74dc2945408",
   "metadata": {},
   "outputs": [],
   "source": [
    "# Shadow DOM의 root 접근 함수 선언\n",
    "def shadow_root(element):\n",
    "    shadow_root = driver.execute_script('return arguments[0].shadowRoot',element)\n",
    "    return shadow_root\n",
    "\n",
    "shadow_data = driver.find_element(By.CSS_SELECTOR, '[data-bv-show=\"reviews\"]')\n",
    "shadow_data_open = shadow_root(shadow_data)"
   ]
  },
  {
   "cell_type": "code",
   "execution_count": 534,
   "id": "9244dce8-8c0c-449e-800e-ea7d37891c52",
   "metadata": {},
   "outputs": [],
   "source": [
    "# 스크롤 내려서 Locale 필터 설정\n",
    "\n",
    "# height = shadow_data_open.find_element(By.CLASS_NAME,'bv-rnr__sdlnh3-0.iFkpgv')\n",
    "# driver.execute_script(\"arguments[0].scrollIntoView();\", height)\n",
    "# time.sleep(2)  # 스크롤 완료 대기"
   ]
  },
  {
   "cell_type": "code",
   "execution_count": null,
   "id": "c9a52133-5b5c-4444-827e-1c720413b2ca",
   "metadata": {},
   "outputs": [],
   "source": []
  },
  {
   "cell_type": "code",
   "execution_count": 554,
   "id": "6ac221bb-3aa3-457a-a052-21994158ffac",
   "metadata": {},
   "outputs": [
    {
     "ename": "ElementClickInterceptedException",
     "evalue": "Message: element click intercepted: Element is not clickable at point (742, 24689)\n  (Session info: chrome=128.0.6613.84)\nStacktrace:\n\tGetHandleVerifier [0x00007FF76B37B632+29090]\n\t(No symbol) [0x00007FF76B2EE6E9]\n\t(No symbol) [0x00007FF76B1AB1CA]\n\t(No symbol) [0x00007FF76B206C0E]\n\t(No symbol) [0x00007FF76B204682]\n\t(No symbol) [0x00007FF76B201B9B]\n\t(No symbol) [0x00007FF76B200DB5]\n\t(No symbol) [0x00007FF76B1F2D61]\n\t(No symbol) [0x00007FF76B2266EA]\n\t(No symbol) [0x00007FF76B1F26A6]\n\t(No symbol) [0x00007FF76B226900]\n\t(No symbol) [0x00007FF76B2465D9]\n\t(No symbol) [0x00007FF76B226493]\n\t(No symbol) [0x00007FF76B1F09B1]\n\t(No symbol) [0x00007FF76B1F1B11]\n\tGetHandleVerifier [0x00007FF76B69881D+3294093]\n\tGetHandleVerifier [0x00007FF76B6E4403+3604339]\n\tGetHandleVerifier [0x00007FF76B6DA2C7+3563063]\n\tGetHandleVerifier [0x00007FF76B436F16+797318]\n\t(No symbol) [0x00007FF76B2F986F]\n\t(No symbol) [0x00007FF76B2F5454]\n\t(No symbol) [0x00007FF76B2F55E0]\n\t(No symbol) [0x00007FF76B2E4A7F]\n\tBaseThreadInitThunk [0x00007FFEDD3E257D+29]\n\tRtlUserThreadStart [0x00007FFEDD86AF28+40]\n",
     "output_type": "error",
     "traceback": [
      "\u001b[1;31m---------------------------------------------------------------------------\u001b[0m",
      "\u001b[1;31mElementClickInterceptedException\u001b[0m          Traceback (most recent call last)",
      "Cell \u001b[1;32mIn[554], line 5\u001b[0m\n\u001b[0;32m      3\u001b[0m locale_filter \u001b[38;5;241m=\u001b[39m shadow_data_open\u001b[38;5;241m.\u001b[39mfind_element(By\u001b[38;5;241m.\u001b[39mCSS_SELECTOR, \u001b[38;5;124m'\u001b[39m\u001b[38;5;124m#bv_review_maincontainer > div.bv-rnr__sc-16dr7i1-0.bv-rnr__sc-16dr7i1-22.hiYLYm.gapRtl > div > div:nth-child(4) > div\u001b[39m\u001b[38;5;124m'\u001b[39m)\n\u001b[0;32m      4\u001b[0m time\u001b[38;5;241m.\u001b[39msleep(\u001b[38;5;241m2\u001b[39m)\n\u001b[1;32m----> 5\u001b[0m locale_filter\u001b[38;5;241m.\u001b[39mclick()\n\u001b[0;32m      6\u001b[0m time\u001b[38;5;241m.\u001b[39msleep(\u001b[38;5;241m1\u001b[39m)\n\u001b[0;32m      7\u001b[0m locale_filter\u001b[38;5;241m.\u001b[39mclick()\n",
      "File \u001b[1;32m~\\anaconda3\\Lib\\site-packages\\selenium\\webdriver\\remote\\webelement.py:94\u001b[0m, in \u001b[0;36mWebElement.click\u001b[1;34m(self)\u001b[0m\n\u001b[0;32m     92\u001b[0m \u001b[38;5;28;01mdef\u001b[39;00m \u001b[38;5;21mclick\u001b[39m(\u001b[38;5;28mself\u001b[39m) \u001b[38;5;241m-\u001b[39m\u001b[38;5;241m>\u001b[39m \u001b[38;5;28;01mNone\u001b[39;00m:\n\u001b[0;32m     93\u001b[0m \u001b[38;5;250m    \u001b[39m\u001b[38;5;124;03m\"\"\"Clicks the element.\"\"\"\u001b[39;00m\n\u001b[1;32m---> 94\u001b[0m     \u001b[38;5;28mself\u001b[39m\u001b[38;5;241m.\u001b[39m_execute(Command\u001b[38;5;241m.\u001b[39mCLICK_ELEMENT)\n",
      "File \u001b[1;32m~\\anaconda3\\Lib\\site-packages\\selenium\\webdriver\\remote\\webelement.py:395\u001b[0m, in \u001b[0;36mWebElement._execute\u001b[1;34m(self, command, params)\u001b[0m\n\u001b[0;32m    393\u001b[0m     params \u001b[38;5;241m=\u001b[39m {}\n\u001b[0;32m    394\u001b[0m params[\u001b[38;5;124m\"\u001b[39m\u001b[38;5;124mid\u001b[39m\u001b[38;5;124m\"\u001b[39m] \u001b[38;5;241m=\u001b[39m \u001b[38;5;28mself\u001b[39m\u001b[38;5;241m.\u001b[39m_id\n\u001b[1;32m--> 395\u001b[0m \u001b[38;5;28;01mreturn\u001b[39;00m \u001b[38;5;28mself\u001b[39m\u001b[38;5;241m.\u001b[39m_parent\u001b[38;5;241m.\u001b[39mexecute(command, params)\n",
      "File \u001b[1;32m~\\anaconda3\\Lib\\site-packages\\selenium\\webdriver\\remote\\webdriver.py:354\u001b[0m, in \u001b[0;36mWebDriver.execute\u001b[1;34m(self, driver_command, params)\u001b[0m\n\u001b[0;32m    352\u001b[0m response \u001b[38;5;241m=\u001b[39m \u001b[38;5;28mself\u001b[39m\u001b[38;5;241m.\u001b[39mcommand_executor\u001b[38;5;241m.\u001b[39mexecute(driver_command, params)\n\u001b[0;32m    353\u001b[0m \u001b[38;5;28;01mif\u001b[39;00m response:\n\u001b[1;32m--> 354\u001b[0m     \u001b[38;5;28mself\u001b[39m\u001b[38;5;241m.\u001b[39merror_handler\u001b[38;5;241m.\u001b[39mcheck_response(response)\n\u001b[0;32m    355\u001b[0m     response[\u001b[38;5;124m\"\u001b[39m\u001b[38;5;124mvalue\u001b[39m\u001b[38;5;124m\"\u001b[39m] \u001b[38;5;241m=\u001b[39m \u001b[38;5;28mself\u001b[39m\u001b[38;5;241m.\u001b[39m_unwrap_value(response\u001b[38;5;241m.\u001b[39mget(\u001b[38;5;124m\"\u001b[39m\u001b[38;5;124mvalue\u001b[39m\u001b[38;5;124m\"\u001b[39m, \u001b[38;5;28;01mNone\u001b[39;00m))\n\u001b[0;32m    356\u001b[0m     \u001b[38;5;28;01mreturn\u001b[39;00m response\n",
      "File \u001b[1;32m~\\anaconda3\\Lib\\site-packages\\selenium\\webdriver\\remote\\errorhandler.py:229\u001b[0m, in \u001b[0;36mErrorHandler.check_response\u001b[1;34m(self, response)\u001b[0m\n\u001b[0;32m    227\u001b[0m         alert_text \u001b[38;5;241m=\u001b[39m value[\u001b[38;5;124m\"\u001b[39m\u001b[38;5;124malert\u001b[39m\u001b[38;5;124m\"\u001b[39m]\u001b[38;5;241m.\u001b[39mget(\u001b[38;5;124m\"\u001b[39m\u001b[38;5;124mtext\u001b[39m\u001b[38;5;124m\"\u001b[39m)\n\u001b[0;32m    228\u001b[0m     \u001b[38;5;28;01mraise\u001b[39;00m exception_class(message, screen, stacktrace, alert_text)  \u001b[38;5;66;03m# type: ignore[call-arg]  # mypy is not smart enough here\u001b[39;00m\n\u001b[1;32m--> 229\u001b[0m \u001b[38;5;28;01mraise\u001b[39;00m exception_class(message, screen, stacktrace)\n",
      "\u001b[1;31mElementClickInterceptedException\u001b[0m: Message: element click intercepted: Element is not clickable at point (742, 24689)\n  (Session info: chrome=128.0.6613.84)\nStacktrace:\n\tGetHandleVerifier [0x00007FF76B37B632+29090]\n\t(No symbol) [0x00007FF76B2EE6E9]\n\t(No symbol) [0x00007FF76B1AB1CA]\n\t(No symbol) [0x00007FF76B206C0E]\n\t(No symbol) [0x00007FF76B204682]\n\t(No symbol) [0x00007FF76B201B9B]\n\t(No symbol) [0x00007FF76B200DB5]\n\t(No symbol) [0x00007FF76B1F2D61]\n\t(No symbol) [0x00007FF76B2266EA]\n\t(No symbol) [0x00007FF76B1F26A6]\n\t(No symbol) [0x00007FF76B226900]\n\t(No symbol) [0x00007FF76B2465D9]\n\t(No symbol) [0x00007FF76B226493]\n\t(No symbol) [0x00007FF76B1F09B1]\n\t(No symbol) [0x00007FF76B1F1B11]\n\tGetHandleVerifier [0x00007FF76B69881D+3294093]\n\tGetHandleVerifier [0x00007FF76B6E4403+3604339]\n\tGetHandleVerifier [0x00007FF76B6DA2C7+3563063]\n\tGetHandleVerifier [0x00007FF76B436F16+797318]\n\t(No symbol) [0x00007FF76B2F986F]\n\t(No symbol) [0x00007FF76B2F5454]\n\t(No symbol) [0x00007FF76B2F55E0]\n\t(No symbol) [0x00007FF76B2E4A7F]\n\tBaseThreadInitThunk [0x00007FFEDD3E257D+29]\n\tRtlUserThreadStart [0x00007FFEDD86AF28+40]\n"
     ]
    }
   ],
   "source": [
    "# Locale 필터 열기\n",
    "\n",
    "locale_filter = shadow_data_open.find_element(By.CSS_SELECTOR, '#bv_review_maincontainer > div.bv-rnr__sc-16dr7i1-0.bv-rnr__sc-16dr7i1-22.hiYLYm.gapRtl > div > div:nth-child(4) > div')\n",
    "time.sleep(2)\n",
    "locale_filter.click()\n",
    "time.sleep(1)\n",
    "locale_filter.click()\n",
    "\n",
    "english_india = shadow_data_open.find_elements(By.CLASS_NAME, 'bv-rnr__sc-1tvt4yi-5.kveQCZ')\n",
    "english_india[1].click()\n",
    "time.sleep(1)"
   ]
  },
  {
   "cell_type": "code",
   "execution_count": 421,
   "id": "58608b02-37a3-4778-ac9d-3d61658c78fc",
   "metadata": {},
   "outputs": [
    {
     "ename": "NoSuchElementException",
     "evalue": "Message: no such element: Unable to locate element: {\"method\":\"xpath\",\"selector\":\"//option[contains(text(), \"English (India)\")]\"}\n  (Session info: chrome=128.0.6613.84); For documentation on this error, please visit: https://www.selenium.dev/documentation/webdriver/troubleshooting/errors#no-such-element-exception\nStacktrace:\n\tGetHandleVerifier [0x00007FF76B37B632+29090]\n\t(No symbol) [0x00007FF76B2EE6E9]\n\t(No symbol) [0x00007FF76B1AB1CA]\n\t(No symbol) [0x00007FF76B1FEFD7]\n\t(No symbol) [0x00007FF76B1FF22C]\n\t(No symbol) [0x00007FF76B2497F7]\n\t(No symbol) [0x00007FF76B22672F]\n\t(No symbol) [0x00007FF76B2465D9]\n\t(No symbol) [0x00007FF76B226493]\n\t(No symbol) [0x00007FF76B1F09B1]\n\t(No symbol) [0x00007FF76B1F1B11]\n\tGetHandleVerifier [0x00007FF76B69881D+3294093]\n\tGetHandleVerifier [0x00007FF76B6E4403+3604339]\n\tGetHandleVerifier [0x00007FF76B6DA2C7+3563063]\n\tGetHandleVerifier [0x00007FF76B436F16+797318]\n\t(No symbol) [0x00007FF76B2F986F]\n\t(No symbol) [0x00007FF76B2F5454]\n\t(No symbol) [0x00007FF76B2F55E0]\n\t(No symbol) [0x00007FF76B2E4A7F]\n\tBaseThreadInitThunk [0x00007FFEDD3E257D+29]\n\tRtlUserThreadStart [0x00007FFEDD86AF28+40]\n",
     "output_type": "error",
     "traceback": [
      "\u001b[1;31m---------------------------------------------------------------------------\u001b[0m",
      "\u001b[1;31mNoSuchElementException\u001b[0m                    Traceback (most recent call last)",
      "Cell \u001b[1;32mIn[421], line 2\u001b[0m\n\u001b[0;32m      1\u001b[0m \u001b[38;5;66;03m# Locale을 English (India)로 설정\u001b[39;00m\n\u001b[1;32m----> 2\u001b[0m english_option \u001b[38;5;241m=\u001b[39m driver\u001b[38;5;241m.\u001b[39mfind_element(By\u001b[38;5;241m.\u001b[39mXPATH, \u001b[38;5;124m'\u001b[39m\u001b[38;5;124m//option[contains(text(), \u001b[39m\u001b[38;5;124m\"\u001b[39m\u001b[38;5;124mEnglish (India)\u001b[39m\u001b[38;5;124m\"\u001b[39m\u001b[38;5;124m)]\u001b[39m\u001b[38;5;124m'\u001b[39m)\n\u001b[0;32m      3\u001b[0m english_option\u001b[38;5;241m.\u001b[39mclick()\n\u001b[0;32m      4\u001b[0m time\u001b[38;5;241m.\u001b[39msleep(\u001b[38;5;241m3\u001b[39m)  \u001b[38;5;66;03m# 필터 적용 대기\u001b[39;00m\n",
      "File \u001b[1;32m~\\anaconda3\\Lib\\site-packages\\selenium\\webdriver\\remote\\webdriver.py:748\u001b[0m, in \u001b[0;36mWebDriver.find_element\u001b[1;34m(self, by, value)\u001b[0m\n\u001b[0;32m    745\u001b[0m     by \u001b[38;5;241m=\u001b[39m By\u001b[38;5;241m.\u001b[39mCSS_SELECTOR\n\u001b[0;32m    746\u001b[0m     value \u001b[38;5;241m=\u001b[39m \u001b[38;5;124mf\u001b[39m\u001b[38;5;124m'\u001b[39m\u001b[38;5;124m[name=\u001b[39m\u001b[38;5;124m\"\u001b[39m\u001b[38;5;132;01m{\u001b[39;00mvalue\u001b[38;5;132;01m}\u001b[39;00m\u001b[38;5;124m\"\u001b[39m\u001b[38;5;124m]\u001b[39m\u001b[38;5;124m'\u001b[39m\n\u001b[1;32m--> 748\u001b[0m \u001b[38;5;28;01mreturn\u001b[39;00m \u001b[38;5;28mself\u001b[39m\u001b[38;5;241m.\u001b[39mexecute(Command\u001b[38;5;241m.\u001b[39mFIND_ELEMENT, {\u001b[38;5;124m\"\u001b[39m\u001b[38;5;124musing\u001b[39m\u001b[38;5;124m\"\u001b[39m: by, \u001b[38;5;124m\"\u001b[39m\u001b[38;5;124mvalue\u001b[39m\u001b[38;5;124m\"\u001b[39m: value})[\u001b[38;5;124m\"\u001b[39m\u001b[38;5;124mvalue\u001b[39m\u001b[38;5;124m\"\u001b[39m]\n",
      "File \u001b[1;32m~\\anaconda3\\Lib\\site-packages\\selenium\\webdriver\\remote\\webdriver.py:354\u001b[0m, in \u001b[0;36mWebDriver.execute\u001b[1;34m(self, driver_command, params)\u001b[0m\n\u001b[0;32m    352\u001b[0m response \u001b[38;5;241m=\u001b[39m \u001b[38;5;28mself\u001b[39m\u001b[38;5;241m.\u001b[39mcommand_executor\u001b[38;5;241m.\u001b[39mexecute(driver_command, params)\n\u001b[0;32m    353\u001b[0m \u001b[38;5;28;01mif\u001b[39;00m response:\n\u001b[1;32m--> 354\u001b[0m     \u001b[38;5;28mself\u001b[39m\u001b[38;5;241m.\u001b[39merror_handler\u001b[38;5;241m.\u001b[39mcheck_response(response)\n\u001b[0;32m    355\u001b[0m     response[\u001b[38;5;124m\"\u001b[39m\u001b[38;5;124mvalue\u001b[39m\u001b[38;5;124m\"\u001b[39m] \u001b[38;5;241m=\u001b[39m \u001b[38;5;28mself\u001b[39m\u001b[38;5;241m.\u001b[39m_unwrap_value(response\u001b[38;5;241m.\u001b[39mget(\u001b[38;5;124m\"\u001b[39m\u001b[38;5;124mvalue\u001b[39m\u001b[38;5;124m\"\u001b[39m, \u001b[38;5;28;01mNone\u001b[39;00m))\n\u001b[0;32m    356\u001b[0m     \u001b[38;5;28;01mreturn\u001b[39;00m response\n",
      "File \u001b[1;32m~\\anaconda3\\Lib\\site-packages\\selenium\\webdriver\\remote\\errorhandler.py:229\u001b[0m, in \u001b[0;36mErrorHandler.check_response\u001b[1;34m(self, response)\u001b[0m\n\u001b[0;32m    227\u001b[0m         alert_text \u001b[38;5;241m=\u001b[39m value[\u001b[38;5;124m\"\u001b[39m\u001b[38;5;124malert\u001b[39m\u001b[38;5;124m\"\u001b[39m]\u001b[38;5;241m.\u001b[39mget(\u001b[38;5;124m\"\u001b[39m\u001b[38;5;124mtext\u001b[39m\u001b[38;5;124m\"\u001b[39m)\n\u001b[0;32m    228\u001b[0m     \u001b[38;5;28;01mraise\u001b[39;00m exception_class(message, screen, stacktrace, alert_text)  \u001b[38;5;66;03m# type: ignore[call-arg]  # mypy is not smart enough here\u001b[39;00m\n\u001b[1;32m--> 229\u001b[0m \u001b[38;5;28;01mraise\u001b[39;00m exception_class(message, screen, stacktrace)\n",
      "\u001b[1;31mNoSuchElementException\u001b[0m: Message: no such element: Unable to locate element: {\"method\":\"xpath\",\"selector\":\"//option[contains(text(), \"English (India)\")]\"}\n  (Session info: chrome=128.0.6613.84); For documentation on this error, please visit: https://www.selenium.dev/documentation/webdriver/troubleshooting/errors#no-such-element-exception\nStacktrace:\n\tGetHandleVerifier [0x00007FF76B37B632+29090]\n\t(No symbol) [0x00007FF76B2EE6E9]\n\t(No symbol) [0x00007FF76B1AB1CA]\n\t(No symbol) [0x00007FF76B1FEFD7]\n\t(No symbol) [0x00007FF76B1FF22C]\n\t(No symbol) [0x00007FF76B2497F7]\n\t(No symbol) [0x00007FF76B22672F]\n\t(No symbol) [0x00007FF76B2465D9]\n\t(No symbol) [0x00007FF76B226493]\n\t(No symbol) [0x00007FF76B1F09B1]\n\t(No symbol) [0x00007FF76B1F1B11]\n\tGetHandleVerifier [0x00007FF76B69881D+3294093]\n\tGetHandleVerifier [0x00007FF76B6E4403+3604339]\n\tGetHandleVerifier [0x00007FF76B6DA2C7+3563063]\n\tGetHandleVerifier [0x00007FF76B436F16+797318]\n\t(No symbol) [0x00007FF76B2F986F]\n\t(No symbol) [0x00007FF76B2F5454]\n\t(No symbol) [0x00007FF76B2F55E0]\n\t(No symbol) [0x00007FF76B2E4A7F]\n\tBaseThreadInitThunk [0x00007FFEDD3E257D+29]\n\tRtlUserThreadStart [0x00007FFEDD86AF28+40]\n"
     ]
    }
   ],
   "source": [
    "# Locale을 English (India)로 설정\n",
    "english_option = driver.find_element(By.XPATH, '//option[contains(text(), \"English (India)\")]')\n",
    "english_option.click()\n",
    "time.sleep(3)  # 필터 적용 대기\n",
    "\n",
    "# Sort by 필터 설정\n",
    "sort_filter = driver.find_element(By.CSS_SELECTOR, 'select.sort-filter')  # 적절한 CSS 선택자 사용\n",
    "sort_filter.click()\n",
    "time.sleep(1)\n",
    "\n",
    "# Sort by Lowest to Highest Ratings 설정\n",
    "lowest_to_highest = driver.find_element(By.XPATH, '//option[contains(text(), \"Lowest to Highest Ratings\")]')\n",
    "lowest_to_highest.click()\n",
    "time.sleep(3)  # 정렬 적용 대기\n",
    "\n",
    "# 리뷰 데이터 수집\n",
    "reviews = driver.find_elements(By.CSS_SELECTOR, 'div.review')  # 적절한 CSS 선택자 사용\n",
    "for review in reviews:\n",
    "    review_text = review.text\n",
    "    print(review_text)  # 리뷰 텍스트 출력 혹은 저장"
   ]
  },
  {
   "cell_type": "code",
   "execution_count": 24,
   "id": "fcd8d962-0b01-4384-b6ee-2577876eddd7",
   "metadata": {},
   "outputs": [],
   "source": [
    "# 수집한 모든 제품 링크 순회 (tqdm 추가)\n",
    "for link in tqdm(product_links, desc=\"Processing Products\"):\n",
    "    driver.get(link)\n",
    "    time.sleep(3)  # 페이지 로딩 대기\n",
    "    \n",
    "    try:\n",
    "        # 리뷰 탭 클릭\n",
    "        review_tab = driver.find_element(By.XPATH, '//a[contains(text(), \"Reviews\")]')\n",
    "        review_tab.click()\n",
    "        time.sleep(3)  # 리뷰 탭 로딩 대기\n",
    "        \n",
    "        # 스크롤 내려서 Locale 필터 설정\n",
    "        driver.execute_script(\"window.scrollTo(0, 600);\")\n",
    "        time.sleep(2)  # 스크롤 완료 대기\n",
    "        \n",
    "        # Locale 필터 열기\n",
    "        locale_filter = driver.find_element(By.CSS_SELECTOR, 'select.locale-filter')  # 적절한 CSS 선택자 사용\n",
    "        locale_filter.click()\n",
    "        time.sleep(1)\n",
    "        \n",
    "        # Locale을 English (India)로 설정\n",
    "        english_option = driver.find_element(By.XPATH, '//option[contains(text(), \"English (India)\")]')\n",
    "        english_option.click()\n",
    "        time.sleep(3)  # 필터 적용 대기\n",
    "        \n",
    "        # Sort by 필터 설정\n",
    "        sort_filter = driver.find_element(By.CSS_SELECTOR, 'select.sort-filter')  # 적절한 CSS 선택자 사용\n",
    "        sort_filter.click()\n",
    "        time.sleep(1)\n",
    "        \n",
    "        # Sort by Lowest to Highest Ratings 설정\n",
    "        lowest_to_highest = driver.find_element(By.XPATH, '//option[contains(text(), \"Lowest to Highest Ratings\")]')\n",
    "        lowest_to_highest.click()\n",
    "        time.sleep(3)  # 정렬 적용 대기\n",
    "\n",
    "        # 리뷰 데이터 수집\n",
    "        reviews = driver.find_elements(By.CSS_SELECTOR, 'div.review')  # 적절한 CSS 선택자 사용\n",
    "        for review in reviews:\n",
    "            review_text = review.text\n",
    "            print(review_text)  # 리뷰 텍스트 출력 혹은 저장\n",
    "\n",
    "    except Exception as e:\n",
    "        print(f\"Error processing {link}: {e}\")\n",
    "        continue"
   ]
  },
  {
   "cell_type": "code",
   "execution_count": 25,
   "id": "82a5cc1d-81a9-4fc8-be1b-f43e9c2843c1",
   "metadata": {},
   "outputs": [
    {
     "name": "stderr",
     "output_type": "stream",
     "text": [
      "Processing TV products: 0it [00:00, ?it/s]\n"
     ]
    }
   ],
   "source": [
    "driver.quit()"
   ]
  },
  {
   "cell_type": "code",
   "execution_count": 26,
   "id": "e1b81252-9d8b-453d-ae2b-08dd71f43cae",
   "metadata": {},
   "outputs": [],
   "source": []
  },
  {
   "cell_type": "code",
   "execution_count": 46,
   "id": "e66078e7-acaf-445b-a5f7-2c35c15f7338",
   "metadata": {},
   "outputs": [
    {
     "name": "stdout",
     "output_type": "stream",
     "text": [
      "페이지 제목:  All TVs&Soundbars : Find the Products You Need | LG IN\n",
      "TimeoutException이 발생했습니다. 제품 링크를 찾지 못했습니다.\n",
      "총 0개의 제품 링크를 수집했습니다.\n"
     ]
    }
   ],
   "source": [
    "from selenium import webdriver\n",
    "from selenium.webdriver.common.by import By\n",
    "from selenium.webdriver.support.ui import WebDriverWait\n",
    "from selenium.webdriver.support import expected_conditions as EC\n",
    "from selenium.common.exceptions import TimeoutException\n",
    "import time\n",
    "\n",
    "# 웹드라이버 실행\n",
    "driver = webdriver.Chrome()\n",
    "\n",
    "# 창을 최대로 키우기\n",
    "driver.maximize_window()\n",
    "\n",
    "# 제품 목록 페이지 로드\n",
    "url = 'https://www.lg.com/in/tv-soundbars/all-tv-soundbars'\n",
    "driver.get(url)\n",
    "\n",
    "# 페이지 로딩 대기\n",
    "wait = WebDriverWait(driver, 30)\n",
    "\n",
    "# 페이지가 제대로 열렸는지 확인\n",
    "print(\"페이지 제목: \", driver.title)\n",
    "\n",
    "# 페이지를 아래로 스크롤하여 모든 요소가 로드되도록 유도\n",
    "driver.execute_script(\"window.scrollTo(0, document.body.scrollHeight);\")\n",
    "time.sleep(5)  # 스크롤 후 대기\n",
    "\n",
    "# 모든 제품 페이지에서 제품 링크 수집\n",
    "product_links = []\n",
    "base_url = 'https://www.lg.com'  # 상대 경로를 절대 경로로 변환하기 위한 기본 URL\n",
    "\n",
    "try:\n",
    "    # 제품 링크 요소들을 기다리며 찾음\n",
    "    products = wait.until(EC.presence_of_all_elements_located((By.CSS_SELECTOR, 'div.model-name a')))\n",
    "    \n",
    "    if not products:\n",
    "        print(\"제품을 찾지 못했습니다.\")\n",
    "    \n",
    "    for product in products:\n",
    "        relative_link = product.get_attribute('href')\n",
    "        if relative_link:\n",
    "            full_link = base_url + relative_link\n",
    "            if full_link not in product_links:  # 링크가 중복되지 않으면 추가\n",
    "                product_links.append(full_link)\n",
    "    \n",
    "except TimeoutException:\n",
    "    print(\"TimeoutException이 발생했습니다. 제품 링크를 찾지 못했습니다.\")\n",
    "\n",
    "print(f'총 {len(product_links)}개의 제품 링크를 수집했습니다.')\n",
    "\n",
    "# 수집된 제품 링크 확인\n",
    "for link in product_links:\n",
    "    print(link)\n",
    "\n",
    "# 웹드라이버 종료\n",
    "driver.quit()\n"
   ]
  },
  {
   "cell_type": "code",
   "execution_count": null,
   "id": "dae11831-f338-4aac-957e-30e61c614d93",
   "metadata": {},
   "outputs": [],
   "source": []
  },
  {
   "cell_type": "code",
   "execution_count": null,
   "id": "f2b19b33-8136-4c77-9cd3-8401fa8836d2",
   "metadata": {},
   "outputs": [],
   "source": []
  },
  {
   "cell_type": "code",
   "execution_count": 3,
   "id": "6a3c9324-ce31-443f-af29-131093df33e9",
   "metadata": {},
   "outputs": [
    {
     "name": "stdout",
     "output_type": "stream",
     "text": [
      "An error occurred: Message: \n",
      "Stacktrace:\n",
      "\tGetHandleVerifier [0x00007FF673DE9642+30946]\n",
      "\t(No symbol) [0x00007FF673D9E3D9]\n",
      "\t(No symbol) [0x00007FF673C96FDA]\n",
      "\t(No symbol) [0x00007FF673CE822C]\n",
      "\t(No symbol) [0x00007FF673CE850C]\n",
      "\t(No symbol) [0x00007FF673D2DCB7]\n",
      "\t(No symbol) [0x00007FF673D0CAAF]\n",
      "\t(No symbol) [0x00007FF673D2B041]\n",
      "\t(No symbol) [0x00007FF673D0C813]\n",
      "\t(No symbol) [0x00007FF673CDA6E5]\n",
      "\t(No symbol) [0x00007FF673CDB021]\n",
      "\tGetHandleVerifier [0x00007FF673F1F84D+1301229]\n",
      "\tGetHandleVerifier [0x00007FF673F2BDC7+1351783]\n",
      "\tGetHandleVerifier [0x00007FF673F22A13+1313971]\n",
      "\tGetHandleVerifier [0x00007FF673E1DD16+245686]\n",
      "\t(No symbol) [0x00007FF673DA759F]\n",
      "\t(No symbol) [0x00007FF673DA3814]\n",
      "\t(No symbol) [0x00007FF673DA39A2]\n",
      "\t(No symbol) [0x00007FF673D9A3FF]\n",
      "\tBaseThreadInitThunk [0x00007FFA985B257D+29]\n",
      "\tRtlUserThreadStart [0x00007FFA99D0AF28+40]\n",
      "\n",
      "Review collection complete. Data saved to lg_soundbar_reviews.csv\n"
     ]
    }
   ],
   "source": [
    "from selenium import webdriver\n",
    "from selenium.webdriver.common.by import By\n",
    "from selenium.webdriver.support.ui import WebDriverWait\n",
    "from selenium.webdriver.support import expected_conditions as EC\n",
    "import time\n",
    "from tqdm import tqdm\n",
    "import pandas as pd\n",
    "\n",
    "# 웹드라이버 설정\n",
    "driver = webdriver.Chrome()\n",
    "driver.maximize_window()\n",
    "\n",
    "# LG 사운드바 페이지로 이동\n",
    "url = \"https://www.lg.com/in/tv-soundbars/all-tv-soundbars/?ec_model_status_code=ACTIVE&sortCriteria=%40ec_spotlights_order_no+descending%2C%40ec_salable_status+descending%2C%40ec_pdp_view_count+descending\"\n",
    "driver.get(url)\n",
    "\n",
    "# 페이지에서 수집한 리뷰 데이터를 저장할 리스트 초기화\n",
    "all_reviews = []\n",
    "\n",
    "# 다음 페이지가 없을 때까지 모든 제품의 리뷰 수집\n",
    "while True:\n",
    "    try:\n",
    "        # 제품 목록 로드 대기\n",
    "        product_container = WebDriverWait(driver, 10).until(\n",
    "            EC.presence_of_element_located((By.CSS_SELECTOR, \"div.content-container\"))\n",
    "        )\n",
    "\n",
    "        # 모든 제품 요소 수집\n",
    "        products = product_container.find_elements(By.CSS_SELECTOR, \"div.model-cell\")\n",
    "        \n",
    "        if not products:\n",
    "            print(\"No products found on this page.\")\n",
    "            break\n",
    "        \n",
    "        for product in tqdm(products, desc=\"Processing products\"):\n",
    "            try:\n",
    "                # 제품 클릭하여 상세 페이지로 이동\n",
    "                product.click()\n",
    "                \n",
    "                # Review 탭이 로드될 때까지 대기\n",
    "                WebDriverWait(driver, 10).until(\n",
    "                    EC.element_to_be_clickable((By.LINK_TEXT, \"Reviews\"))\n",
    "                ).click()\n",
    "                \n",
    "                # 스크롤을 내려서 Filter Reviews 표시\n",
    "                driver.execute_script(\"window.scrollTo(0, document.body.scrollHeight/3);\")\n",
    "\n",
    "                # Locale을 English(india)로 설정\n",
    "                locale_dropdown = WebDriverWait(driver, 10).until(\n",
    "                    EC.element_to_be_clickable((By.CSS_SELECTOR, \"div#locale-select select\"))\n",
    "                )\n",
    "                locale_dropdown.click()\n",
    "                locale_option = driver.find_element(By.XPATH, \"//option[@value='en_IN']\")\n",
    "                locale_option.click()\n",
    "\n",
    "                # Sort by Lowest to Highest Ratings로 설정\n",
    "                sort_dropdown = WebDriverWait(driver, 10).until(\n",
    "                    EC.element_to_be_clickable((By.CSS_SELECTOR, \"select#sort-options\"))\n",
    "                )\n",
    "                sort_dropdown.click()\n",
    "                lowest_ratings_option = driver.find_element(By.XPATH, \"//option[@value='LOW_TO_HIGH']\")\n",
    "                lowest_ratings_option.click()\n",
    "\n",
    "                # 모든 리뷰 수집\n",
    "                reviews = driver.find_elements(By.CSS_SELECTOR, \"div.review\")\n",
    "                for review in reviews:\n",
    "                    rating = review.find_element(By.CSS_SELECTOR, \"span.rating\").text\n",
    "                    review_text = review.find_element(By.CSS_SELECTOR, \"p.description\").text\n",
    "                    all_reviews.append({\n",
    "                        \"product_name\": driver.find_element(By.CSS_SELECTOR, \"h1\").text,\n",
    "                        \"rating\": rating,\n",
    "                        \"review_text\": review_text\n",
    "                    })\n",
    "\n",
    "            except Exception as e:\n",
    "                print(f\"Error processing product: {e}\")\n",
    "            \n",
    "            finally:\n",
    "                # 상세 페이지에서 제품 목록 페이지로 돌아가기\n",
    "                driver.back()\n",
    "                time.sleep(2)\n",
    "\n",
    "    except Exception as e:\n",
    "        print(f\"An error occurred: {e}\")\n",
    "        break\n",
    "\n",
    "    # 다음 페이지로 이동 시도\n",
    "    try:\n",
    "        next_button = driver.find_element(By.CSS_SELECTOR, \"a.next.page\")\n",
    "        next_button.click()\n",
    "        time.sleep(3)\n",
    "    except:\n",
    "        print(\"No more pages.\")\n",
    "        break\n",
    "\n",
    "# 수집된 리뷰 데이터를 Pandas DataFrame으로 변환\n",
    "df = pd.DataFrame(all_reviews)\n",
    "\n",
    "# 수집한 데이터를 저장\n",
    "df.to_csv(\"lg_soundbar_reviews.csv\", index=False)\n",
    "\n",
    "print(\"Review collection complete. Data saved to lg_soundbar_reviews.csv\")"
   ]
  },
  {
   "cell_type": "code",
   "execution_count": null,
   "id": "96c70239-ca88-409a-8b50-32df91cf8b73",
   "metadata": {},
   "outputs": [],
   "source": [
    "# 웹드라이버 종료\n",
    "driver.quit()"
   ]
  },
  {
   "cell_type": "code",
   "execution_count": null,
   "id": "a51f739a-a343-427b-bda9-ef6673395d2f",
   "metadata": {},
   "outputs": [],
   "source": []
  },
  {
   "cell_type": "code",
   "execution_count": null,
   "id": "8c132d71-a734-4f9c-b9bc-29424ff4132a",
   "metadata": {},
   "outputs": [],
   "source": []
  },
  {
   "cell_type": "code",
   "execution_count": null,
   "id": "9c40eb0a-a7a7-4bed-8487-02a113e34620",
   "metadata": {},
   "outputs": [],
   "source": []
  },
  {
   "cell_type": "code",
   "execution_count": null,
   "id": "e61e49ea-94e4-4ac6-9afe-0d456eab5fa7",
   "metadata": {},
   "outputs": [],
   "source": []
  },
  {
   "cell_type": "code",
   "execution_count": null,
   "id": "237b410e-5aba-4802-88d4-9f5fc4052f56",
   "metadata": {},
   "outputs": [],
   "source": []
  },
  {
   "cell_type": "code",
   "execution_count": null,
   "id": "eb71b486-27cc-43eb-97ab-08bc09d9846d",
   "metadata": {},
   "outputs": [],
   "source": []
  },
  {
   "cell_type": "code",
   "execution_count": null,
   "id": "f6054fc2-ad3a-4b02-a99f-32ec27d30105",
   "metadata": {},
   "outputs": [],
   "source": []
  },
  {
   "cell_type": "code",
   "execution_count": null,
   "id": "f103fd06-d3dd-4bd6-a8fc-24a17e4194da",
   "metadata": {},
   "outputs": [],
   "source": []
  },
  {
   "cell_type": "code",
   "execution_count": null,
   "id": "d9d671ae-6145-47cc-9617-52ce28b998ba",
   "metadata": {},
   "outputs": [],
   "source": []
  },
  {
   "cell_type": "code",
   "execution_count": null,
   "id": "69774f1d-0f28-4da2-bc75-b9689f987c50",
   "metadata": {},
   "outputs": [],
   "source": []
  },
  {
   "cell_type": "code",
   "execution_count": null,
   "id": "3bb50cd0-01c5-4226-be4e-abea90526619",
   "metadata": {},
   "outputs": [],
   "source": []
  }
 ],
 "metadata": {
  "kernelspec": {
   "display_name": "Python 3 (ipykernel)",
   "language": "python",
   "name": "python3"
  },
  "language_info": {
   "codemirror_mode": {
    "name": "ipython",
    "version": 3
   },
   "file_extension": ".py",
   "mimetype": "text/x-python",
   "name": "python",
   "nbconvert_exporter": "python",
   "pygments_lexer": "ipython3",
   "version": "3.11.7"
  },
  "widgets": {
   "application/vnd.jupyter.widget-state+json": {
    "state": {},
    "version_major": 2,
    "version_minor": 0
   }
  }
 },
 "nbformat": 4,
 "nbformat_minor": 5
}
