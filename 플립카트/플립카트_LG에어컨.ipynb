{
 "cells": [
  {
   "cell_type": "code",
   "execution_count": 2,
   "id": "2e16d88e-1f46-4129-8332-1c6b55cb0a46",
   "metadata": {},
   "outputs": [],
   "source": [
    "import time\n",
    "import pandas as pd\n",
    "from selenium import webdriver\n",
    "from selenium.webdriver.common.by import By\n",
    "from selenium.webdriver.common.keys import Keys\n",
    "from tqdm import tqdm\n",
    "import pyperclip\n",
    "from bs4 import BeautifulSoup as bs\n",
    "from tqdm import tqdm\n",
    "import requests as req\n",
    "from selenium.webdriver.support.ui import WebDriverWait\n",
    "from selenium.webdriver.support import expected_conditions as EC"
   ]
  },
  {
   "cell_type": "code",
   "execution_count": 3,
   "id": "e7de6b57-a0d6-405b-9276-f22887fccf21",
   "metadata": {},
   "outputs": [
    {
     "name": "stderr",
     "output_type": "stream",
     "text": [
      "  8%|██████▍                                                                            | 1/13 [00:29<05:50, 29.18s/it]"
     ]
    },
    {
     "name": "stdout",
     "output_type": "stream",
     "text": [
      "Error processing URL https://www.flipkart.com/lg-ai-convertible-6-in-1-cooling-2024-model-1-5-ton-3-star-split-dual-inverter-hd-filter-anti-virus-protection-viraat-mode-diet-mode-adc-sensor-ac-white/p/itm1aaacb6452e5a?pid=ACNGX677RWXAXJRX&lid=LSTACNGX677RWXAXJRXINO67L&marketplace=FLIPKART&store=j9e%2Fabm%2Fc54&spotlightTagId=FkPickId_j9e%2Fabm%2Fc54&srno=b_1_4&otracker=browse&iid=10ac34b5-4af4-4100-a1aa-d13ee6c44a86.ACNGX677RWXAXJRX.SEARCH&ssid=yd80e3fvb40000001724715609163: name 'NoSuchElementException' is not defined\n"
     ]
    },
    {
     "name": "stderr",
     "output_type": "stream",
     "text": [
      " 15%|████████████▊                                                                      | 2/13 [00:57<05:16, 28.80s/it]"
     ]
    },
    {
     "name": "stdout",
     "output_type": "stream",
     "text": [
      "Error processing URL https://www.flipkart.com/lg-ai-convertible-6-in-1-cooling-2024-model-1-5-ton-5-star-split-inverter-4-way-swing-hd-filter-anti-virus-protection-ac-viraat-mode-adc-sensor-white/p/itm0e19df12f607b?pid=ACNGWCNRAQTHEV5Z&lid=LSTACNGWCNRAQTHEV5ZSU353L&marketplace=FLIPKART&store=j9e%2Fabm%2Fc54&srno=b_1_5&otracker=browse&iid=10ac34b5-4af4-4100-a1aa-d13ee6c44a86.ACNGWCNRAQTHEV5Z.SEARCH&ssid=yd80e3fvb40000001724715609163: name 'NoSuchElementException' is not defined\n"
     ]
    },
    {
     "name": "stderr",
     "output_type": "stream",
     "text": [
      " 23%|███████████████████▏                                                               | 3/13 [01:25<04:42, 28.29s/it]"
     ]
    },
    {
     "name": "stdout",
     "output_type": "stream",
     "text": [
      "Error processing URL https://www.flipkart.com/lg-ai-convertible-6-in-1-cooling-2024-model-1-ton-3-star-split-inverter-2-way-swing-hd-filter-anti-virus-protection-viraat-mode-adc-sensor-ac-white/p/itmea8078ab9ff7b?pid=ACNGWCNRGDGJNAGB&lid=LSTACNGWCNRGDGJNAGBW9GDFK&marketplace=FLIPKART&store=j9e%2Fabm%2Fc54&srno=b_1_6&otracker=browse&iid=10ac34b5-4af4-4100-a1aa-d13ee6c44a86.ACNGWCNRGDGJNAGB.SEARCH&ssid=yd80e3fvb40000001724715609163: name 'NoSuchElementException' is not defined\n"
     ]
    },
    {
     "name": "stderr",
     "output_type": "stream",
     "text": [
      " 31%|█████████████████████████▌                                                         | 4/13 [01:56<04:23, 29.33s/it]"
     ]
    },
    {
     "name": "stdout",
     "output_type": "stream",
     "text": [
      "Error processing URL https://www.flipkart.com/lg-ai-convertible-6-in-1-cooling-2024-model-1-2-ton-3-star-split-dual-inverter-2-way-swing-hd-filter-anti-virus-protection-viraat-mode-diet-mode-adc-sensor-ac-white/p/itm9ecd4ffc19cce?pid=ACNGX676K3ZJGBC7&lid=LSTACNGX676K3ZJGBC7XIUAYU&marketplace=FLIPKART&store=j9e%2Fabm%2Fc54&srno=b_1_7&otracker=browse&iid=10ac34b5-4af4-4100-a1aa-d13ee6c44a86.ACNGX676K3ZJGBC7.SEARCH&ssid=yd80e3fvb40000001724715609163: name 'NoSuchElementException' is not defined\n"
     ]
    },
    {
     "name": "stderr",
     "output_type": "stream",
     "text": [
      " 38%|███████████████████████████████▉                                                   | 5/13 [02:26<03:56, 29.50s/it]"
     ]
    },
    {
     "name": "stdout",
     "output_type": "stream",
     "text": [
      "Error processing URL https://www.flipkart.com/lg-1-5-ton-3-star-window-dual-inverter-ac-white/p/itmc47c08416cb96?pid=ACNGRNH5Q4SJHEPH&lid=LSTACNGRNH5Q4SJHEPHFC8VVI&marketplace=FLIPKART&store=j9e%2Fabm%2Fc54&srno=b_1_9&otracker=browse&iid=10ac34b5-4af4-4100-a1aa-d13ee6c44a86.ACNGRNH5Q4SJHEPH.SEARCH&ssid=yd80e3fvb40000001724715609163: name 'NoSuchElementException' is not defined\n"
     ]
    },
    {
     "name": "stderr",
     "output_type": "stream",
     "text": [
      " 46%|██████████████████████████████████████▎                                            | 6/13 [02:56<03:29, 29.88s/it]"
     ]
    },
    {
     "name": "stdout",
     "output_type": "stream",
     "text": [
      "Error processing URL https://www.flipkart.com/lg-ai-convertible-6-in-1-cooling-2024-model-2-ton-3-star-split-dual-inverter-4-way-swing-hd-filter-anti-virus-protection-viraat-mode-adc-sensor-ac-white/p/itm5e95ad3ec44f5?pid=ACNGWEQUFPQ3PHZJ&lid=LSTACNGWEQUFPQ3PHZJEOJLM2&marketplace=FLIPKART&store=j9e%2Fabm%2Fc54&srno=b_1_10&otracker=browse&iid=10ac34b5-4af4-4100-a1aa-d13ee6c44a86.ACNGWEQUFPQ3PHZJ.SEARCH&ssid=yd80e3fvb40000001724715609163: name 'NoSuchElementException' is not defined\n"
     ]
    },
    {
     "name": "stderr",
     "output_type": "stream",
     "text": [
      " 54%|████████████████████████████████████████████▋                                      | 7/13 [03:27<03:01, 30.20s/it]"
     ]
    },
    {
     "name": "stdout",
     "output_type": "stream",
     "text": [
      "Error processing URL https://www.flipkart.com/lg-ai-convertible-6-in-1-cooling-2024-model-1-5-ton-4-star-split-dual-inverter-viraat-mode-super-silent-hd-filter-anti-virus-protection-ac-way-swing-monsoon-comfort-adc-sensor-white/p/itm5f7d5e21314c4?pid=ACNGY2GUPHHZ7MY7&lid=LSTACNGY2GUPHHZ7MY7ATRLNT&marketplace=FLIPKART&store=j9e%2Fabm%2Fc54&srno=b_1_13&otracker=browse&iid=10ac34b5-4af4-4100-a1aa-d13ee6c44a86.ACNGY2GUPHHZ7MY7.SEARCH&ssid=yd80e3fvb40000001724715609163: name 'NoSuchElementException' is not defined\n"
     ]
    },
    {
     "name": "stderr",
     "output_type": "stream",
     "text": [
      " 62%|███████████████████████████████████████████████████                                | 8/13 [03:49<02:18, 27.63s/it]"
     ]
    },
    {
     "name": "stdout",
     "output_type": "stream",
     "text": [
      "Error processing URL https://www.flipkart.com/lg-ai-convertible-6-in-1-cooling-2024-model-1-ton-5-star-split-inverter-4-way-air-swing-hd-filter-anti-virus-protection-ac-viraat-mode-adc-sensor-white/p/itm148196675167d?pid=ACNGWCNRUUGXRQFA&lid=LSTACNGWCNRUUGXRQFADXGRNF&marketplace=FLIPKART&store=j9e%2Fabm%2Fc54&srno=b_1_15&otracker=browse&iid=10ac34b5-4af4-4100-a1aa-d13ee6c44a86.ACNGWCNRUUGXRQFA.SEARCH&ssid=yd80e3fvb40000001724715609163: name 'NoSuchElementException' is not defined\n"
     ]
    },
    {
     "name": "stderr",
     "output_type": "stream",
     "text": [
      " 69%|█████████████████████████████████████████████████████████▍                         | 9/13 [04:25<02:00, 30.02s/it]"
     ]
    },
    {
     "name": "stdout",
     "output_type": "stream",
     "text": [
      "Error processing URL https://www.flipkart.com/lg-ai-convertible-6-in-1-cooling-2024-model-1-5-ton-5-star-split-dual-inverter-4-way-swing-hd-filter-anti-virus-protection-energy-manager-himclean-ac-wi-fi-connect-white/p/itm3975fd4e6b557?pid=ACNGWCNREFBF4HFF&lid=LSTACNGWCNREFBF4HFFJ8O2GZ&marketplace=FLIPKART&store=j9e%2Fabm%2Fc54&srno=b_1_16&otracker=browse&iid=10ac34b5-4af4-4100-a1aa-d13ee6c44a86.ACNGWCNREFBF4HFF.SEARCH&ssid=yd80e3fvb40000001724715609163: name 'NoSuchElementException' is not defined\n"
     ]
    },
    {
     "name": "stderr",
     "output_type": "stream",
     "text": [
      " 77%|███████████████████████████████████████████████████████████████                   | 10/13 [04:56<01:31, 30.61s/it]"
     ]
    },
    {
     "name": "stdout",
     "output_type": "stream",
     "text": [
      "Error processing URL https://www.flipkart.com/lg-ai-convertible-6-in-1-cooling-2023-model-1-5-ton-5-star-split-inverter-4-way-swing-hd-filter-anti-virus-protection-ac-silver-deco/p/itm920f1f5337180?pid=ACNGHBX4GHTPKYYG&lid=LSTACNGHBX4GHTPKYYGY8WHCO&marketplace=FLIPKART&store=j9e%2Fabm%2Fc54&srno=b_1_19&otracker=browse&iid=10ac34b5-4af4-4100-a1aa-d13ee6c44a86.ACNGHBX4GHTPKYYG.SEARCH&ssid=yd80e3fvb40000001724715609163: name 'NoSuchElementException' is not defined\n"
     ]
    },
    {
     "name": "stderr",
     "output_type": "stream",
     "text": [
      " 85%|█████████████████████████████████████████████████████████████████████▍            | 11/13 [05:32<01:04, 32.01s/it]"
     ]
    },
    {
     "name": "stdout",
     "output_type": "stream",
     "text": [
      "Error processing URL https://www.flipkart.com/lg-ai-convertible-6-in-1-cooling-2024-model-1-5-ton-5-star-split-dual-inverter-4-way-swing-hd-filter-anti-virus-protection-viraat-mode-adc-sensor-ac-white/p/itm335feed041afb?pid=ACNGX8JPHYYXJGSX&lid=LSTACNGX8JPHYYXJGSXDUZR6X&marketplace=FLIPKART&store=j9e%2Fabm%2Fc54&srno=b_1_20&otracker=browse&iid=10ac34b5-4af4-4100-a1aa-d13ee6c44a86.ACNGX8JPHYYXJGSX.SEARCH&ssid=yd80e3fvb40000001724715609163: name 'NoSuchElementException' is not defined\n"
     ]
    },
    {
     "name": "stderr",
     "output_type": "stream",
     "text": [
      " 92%|███████████████████████████████████████████████████████████████████████████▋      | 12/13 [06:02<00:31, 31.50s/it]"
     ]
    },
    {
     "name": "stdout",
     "output_type": "stream",
     "text": [
      "Error processing URL https://www.flipkart.com/lg-1-5-ton-5-star-split-inverter-ac-white/p/itm35753fe17cb49?pid=ACNGAYH9DGNFMYTX&lid=LSTACNGAYH9DGNFMYTXTP7I0R&marketplace=FLIPKART&store=j9e%2Fabm%2Fc54&srno=b_1_23&otracker=browse&iid=10ac34b5-4af4-4100-a1aa-d13ee6c44a86.ACNGAYH9DGNFMYTX.SEARCH&ssid=yd80e3fvb40000001724715609163: name 'NoSuchElementException' is not defined\n"
     ]
    },
    {
     "name": "stderr",
     "output_type": "stream",
     "text": [
      "100%|██████████████████████████████████████████████████████████████████████████████████| 13/13 [06:34<00:00, 30.31s/it]"
     ]
    },
    {
     "name": "stdout",
     "output_type": "stream",
     "text": [
      "Error processing URL https://www.flipkart.com/lg-1-5-ton-5-star-split-inverter-ac-white/p/itm1bd6c9db80037?pid=ACNGMVFTT9GYV3G6&lid=LSTACNGMVFTT9GYV3G6KIRULE&marketplace=FLIPKART&store=j9e%2Fabm%2Fc54&srno=b_1_24&otracker=browse&iid=10ac34b5-4af4-4100-a1aa-d13ee6c44a86.ACNGMVFTT9GYV3G6.SEARCH&ssid=yd80e3fvb40000001724715609163: name 'NoSuchElementException' is not defined\n"
     ]
    },
    {
     "name": "stderr",
     "output_type": "stream",
     "text": [
      "\n"
     ]
    }
   ],
   "source": [
    "  # 웹드라이버 실행\n",
    "driver = webdriver.Chrome()\n",
    "\n",
    "# 제품 목록 페이지 로드\n",
    "driver.get(\"https://www.flipkart.com/air-conditioners/pr?sid=j9e,abm,c54&p[]=facets.fulfilled_by%255B%255D%3DFlipkart%2BAssured&p[]=facets.brand%255B%255D%3DLG&p[]=facets.serviceability%5B%5D%3Dtrue&otracker=categorytree&otracker=nmenu_sub_TVs%20%26%20Appliances_0_LG\")\n",
    "\n",
    "# 페이지 로딩 대기\n",
    "WebDriverWait(driver, 10).until(EC.presence_of_element_located((By.CLASS_NAME, 'CGtC98')))\n",
    "\n",
    "# URL을 저장할 리스트 초기화\n",
    "url_list = []\n",
    "\n",
    "# 요소 찾기\n",
    "elements = driver.find_elements(By.CLASS_NAME, 'CGtC98')\n",
    "\n",
    "# 각 요소에서 'href' 속성을 가져와 리스트에 추가 (sponsored 요소는 제외)\n",
    "for element in elements:\n",
    "    try:\n",
    "        # 'f8qK5m' 클래스를 가진 자식 요소가 있는지 확인\n",
    "        if element.find_elements(By.CLASS_NAME, 'f8qK5m'):\n",
    "            # 'f8qK5m' 클래스를 가진 자식 요소가 있다면 skip\n",
    "            continue\n",
    "        # 자식 요소가 'f8qK5m' 클래스를 가지고 있지 않다면 href 추출\n",
    "        url_value = element.get_attribute('href')\n",
    "        if url_value:  # href 속성이 있는 경우만 추가\n",
    "            url_list.append(url_value)\n",
    "    except NoSuchElementException:\n",
    "        # 자식 요소가 없으면 그냥 넘어가기\n",
    "        continue \n",
    "        \n",
    "# 리뷰 데이터를 저장할 리스트 초기화\n",
    "all_reviews = []\n",
    "\n",
    "for url in tqdm(url_list):\n",
    "    try:\n",
    "        driver.get(url)\n",
    "        \n",
    "        # XPath를 사용하여 제목 찾기. 제품 코드 별 XPATH 달라서 접근 불가... 제목에서 코드 추출하세용...\n",
    "        try:\n",
    "            # XPath를 사용하여 제목 찾기. 제품 코드 별 XPATH 달라서 접근 불가... 제목에서 코드 추출하세용... \n",
    "            list_items = driver.find_elements(By.XPATH, '//*[@id=\"container\"]/div/div[3]/div[1]/div[2]/div[2]/div/div[1]/h1/span')\n",
    "            \n",
    "            # 텍스트 추출\n",
    "            hp_data = [item.text for item in list_items]\n",
    "            if not hp_data:\n",
    "                hp_data = [\"No data\"]  # 데이터가 없을 경우 기본값\n",
    "        except (NoSuchElementException, TimeoutException) as e:\n",
    "            hp_data = [\"Error fetching data\"]  # 오류 발생 시 기본값\n",
    "        \n",
    "        # 리뷰 버튼 클릭 대기\n",
    "        try:\n",
    "            review_button = WebDriverWait(driver, 5).until(EC.presence_of_element_located((By.CLASS_NAME, \"_23J90q.RcXBOT\")))\n",
    "            if review_button.is_displayed():\n",
    "                review_button.click()\n",
    "        except (NoSuchElementException, TimeoutException):\n",
    "            pass\n",
    "        \n",
    "        # 낮은 별점 접근\n",
    "        try:\n",
    "            low_rating_option = WebDriverWait(driver, 10).until(EC.presence_of_element_located((By.CSS_SELECTOR, \"#container > div > div.VLIitu > div > div > div.DOjaWF.gdgoEp.col-9-12 > div.DOjaWF.gdgoEp.col-12-12 > div > div:nth-child(2) > div > div > div > div > select > option:nth-child(4)\")))\n",
    "            low_rating_option.click()\n",
    "        except (NoSuchElementException, TimeoutException) as e:\n",
    "            print(f\"Error selecting sort option for URL {url}: {e}\")\n",
    "        \n",
    "        # 데이터 확보\n",
    "        page_number = 1\n",
    "        \n",
    "        while True:\n",
    "            try:\n",
    "                # 페이지 URL 업데이트\n",
    "                current_url = driver.current_url\n",
    "                full_url = f'{current_url}&page={page_number}'\n",
    "                driver.get(full_url)\n",
    "                \n",
    "                # ZmyHeo 클래스의 존재 여부를 확인\n",
    "                WebDriverWait(driver, 10).until(EC.presence_of_element_located((By.CLASS_NAME, 'ZmyHeo')))\n",
    "                \n",
    "                # 데이터 추출\n",
    "                text_elements = driver.find_elements(By.CLASS_NAME, 'ZmyHeo')\n",
    "                state_elements = driver.find_elements(By.CLASS_NAME, 'MztJPv')\n",
    "                date_elements = driver.find_elements(By.CLASS_NAME, '_2NsDsF')\n",
    "                star_elements = driver.find_elements(By.XPATH, \"//*[contains(@class, 'XQDdHH') and (contains(@class, 'Js30Fc') or contains(@class, 'Czs3gR') or contains(@class, 'Ga3i8K'))]\")\n",
    "                \n",
    "                text_list = [elem.text for elem in text_elements]\n",
    "                state_list = [elem.text for elem in state_elements]\n",
    "                date_list = [elem.text for elem in date_elements]\n",
    "                dates = date_list[1::2]\n",
    "                star_list = [elem.text for elem in star_elements]\n",
    "                \n",
    "                # 리뷰 데이터를 모든 리뷰 리스트에 추가\n",
    "                for t, s, d, r in zip(text_list, state_list, dates, star_list):\n",
    "                    for data in hp_data:\n",
    "                        all_reviews.append({\n",
    "                            'text': t,\n",
    "                            'state': s,\n",
    "                            'date': d,\n",
    "                            'star': r,\n",
    "                            'hp_data': data  # 각각의 hp_data 항목을 추가\n",
    "                        })\n",
    "\n",
    "                # 페이지 번호 증가\n",
    "                page_number += 1\n",
    "                \n",
    "            except (NoSuchElementException, TimeoutException) as e:\n",
    "                print(f\"Error on page {page_number} for URL {full_url}: {e}\")\n",
    "                break\n",
    "    \n",
    "    except Exception as e:\n",
    "        print(f\"Error processing URL {url}: {e}\")\n",
    "\n",
    "# 현재 창 닫기\n",
    "driver.quit()"
   ]
  },
  {
   "cell_type": "code",
   "execution_count": 6,
   "id": "1c9378bb-ac46-47c0-b289-96ad44380f5f",
   "metadata": {
    "scrolled": true
   },
   "outputs": [
    {
     "data": {
      "text/html": [
       "<div>\n",
       "<style scoped>\n",
       "    .dataframe tbody tr th:only-of-type {\n",
       "        vertical-align: middle;\n",
       "    }\n",
       "\n",
       "    .dataframe tbody tr th {\n",
       "        vertical-align: top;\n",
       "    }\n",
       "\n",
       "    .dataframe thead th {\n",
       "        text-align: right;\n",
       "    }\n",
       "</style>\n",
       "<table border=\"1\" class=\"dataframe\">\n",
       "  <thead>\n",
       "    <tr style=\"text-align: right;\">\n",
       "      <th></th>\n",
       "      <th>text</th>\n",
       "      <th>state</th>\n",
       "      <th>date</th>\n",
       "      <th>star</th>\n",
       "      <th>hp_data</th>\n",
       "    </tr>\n",
       "  </thead>\n",
       "  <tbody>\n",
       "    <tr>\n",
       "      <th>0</th>\n",
       "      <td>Waste of money . AC not working till one month...</td>\n",
       "      <td>Certified Buyer, Alwar</td>\n",
       "      <td>May, 2023</td>\n",
       "      <td>1</td>\n",
       "      <td>LG AI Convertible 6-in-1 Cooling 2024 Model 1....</td>\n",
       "    </tr>\n",
       "    <tr>\n",
       "      <th>1</th>\n",
       "      <td>I purchased this LG A. C. on 17 April 23..The ...</td>\n",
       "      <td>Certified Buyer, Kalyan</td>\n",
       "      <td>Apr, 2023</td>\n",
       "      <td>1</td>\n",
       "      <td>LG AI Convertible 6-in-1 Cooling 2024 Model 1....</td>\n",
       "    </tr>\n",
       "    <tr>\n",
       "      <th>2</th>\n",
       "      <td>If you want to buy a white showpiece for your ...</td>\n",
       "      <td>Certified Buyer, Madhyamgram</td>\n",
       "      <td>Apr, 2023</td>\n",
       "      <td>1</td>\n",
       "      <td>LG AI Convertible 6-in-1 Cooling 2024 Model 1....</td>\n",
       "    </tr>\n",
       "    <tr>\n",
       "      <th>3</th>\n",
       "      <td>Totally waste of money. company is not refund ...</td>\n",
       "      <td>Certified Buyer, Charkhi Dadri</td>\n",
       "      <td>May, 2022</td>\n",
       "      <td>1</td>\n",
       "      <td>LG AI Convertible 6-in-1 Cooling 2024 Model 1....</td>\n",
       "    </tr>\n",
       "    <tr>\n",
       "      <th>4</th>\n",
       "      <td>This model don't have 4 way swing, it's actual...</td>\n",
       "      <td>Certified Buyer, Erode</td>\n",
       "      <td>6 months ago</td>\n",
       "      <td>1</td>\n",
       "      <td>LG AI Convertible 6-in-1 Cooling 2024 Model 1....</td>\n",
       "    </tr>\n",
       "    <tr>\n",
       "      <th>...</th>\n",
       "      <td>...</td>\n",
       "      <td>...</td>\n",
       "      <td>...</td>\n",
       "      <td>...</td>\n",
       "      <td>...</td>\n",
       "    </tr>\n",
       "    <tr>\n",
       "      <th>1239</th>\n",
       "      <td>This is not performing as per requirement and ...</td>\n",
       "      <td>Certified Buyer, Jajapur</td>\n",
       "      <td>4 months ago</td>\n",
       "      <td>1</td>\n",
       "      <td>LG 1.5 Ton 5 Star Split Inverter AC - White  (...</td>\n",
       "    </tr>\n",
       "    <tr>\n",
       "      <th>1240</th>\n",
       "      <td>Low cooling capacity and noise is very high, I...</td>\n",
       "      <td>Certified Buyer, Srikakulam District</td>\n",
       "      <td>4 months ago</td>\n",
       "      <td>1</td>\n",
       "      <td>LG 1.5 Ton 5 Star Split Inverter AC - White  (...</td>\n",
       "    </tr>\n",
       "    <tr>\n",
       "      <th>1241</th>\n",
       "      <td>Too much cost</td>\n",
       "      <td>Certified Buyer, Yerraguntla</td>\n",
       "      <td>4 months ago</td>\n",
       "      <td>1</td>\n",
       "      <td>LG 1.5 Ton 5 Star Split Inverter AC - White  (...</td>\n",
       "    </tr>\n",
       "    <tr>\n",
       "      <th>1242</th>\n",
       "      <td>Not getting cooling, Blue star is best.</td>\n",
       "      <td>Certified Buyer, Proddatur</td>\n",
       "      <td>4 months ago</td>\n",
       "      <td>1</td>\n",
       "      <td>LG 1.5 Ton 5 Star Split Inverter AC - White  (...</td>\n",
       "    </tr>\n",
       "    <tr>\n",
       "      <th>1243</th>\n",
       "      <td>Cooling problem and outdoor problem</td>\n",
       "      <td>Certified Buyer, Chennai</td>\n",
       "      <td>4 months ago</td>\n",
       "      <td>1</td>\n",
       "      <td>LG 1.5 Ton 5 Star Split Inverter AC - White  (...</td>\n",
       "    </tr>\n",
       "  </tbody>\n",
       "</table>\n",
       "<p>1244 rows × 5 columns</p>\n",
       "</div>"
      ],
      "text/plain": [
       "                                                   text  \\\n",
       "0     Waste of money . AC not working till one month...   \n",
       "1     I purchased this LG A. C. on 17 April 23..The ...   \n",
       "2     If you want to buy a white showpiece for your ...   \n",
       "3     Totally waste of money. company is not refund ...   \n",
       "4     This model don't have 4 way swing, it's actual...   \n",
       "...                                                 ...   \n",
       "1239  This is not performing as per requirement and ...   \n",
       "1240  Low cooling capacity and noise is very high, I...   \n",
       "1241                                      Too much cost   \n",
       "1242            Not getting cooling, Blue star is best.   \n",
       "1243                Cooling problem and outdoor problem   \n",
       "\n",
       "                                     state          date star  \\\n",
       "0                   Certified Buyer, Alwar     May, 2023    1   \n",
       "1                  Certified Buyer, Kalyan     Apr, 2023    1   \n",
       "2             Certified Buyer, Madhyamgram     Apr, 2023    1   \n",
       "3           Certified Buyer, Charkhi Dadri     May, 2022    1   \n",
       "4                   Certified Buyer, Erode  6 months ago    1   \n",
       "...                                    ...           ...  ...   \n",
       "1239              Certified Buyer, Jajapur  4 months ago    1   \n",
       "1240  Certified Buyer, Srikakulam District  4 months ago    1   \n",
       "1241          Certified Buyer, Yerraguntla  4 months ago    1   \n",
       "1242            Certified Buyer, Proddatur  4 months ago    1   \n",
       "1243              Certified Buyer, Chennai  4 months ago    1   \n",
       "\n",
       "                                                hp_data  \n",
       "0     LG AI Convertible 6-in-1 Cooling 2024 Model 1....  \n",
       "1     LG AI Convertible 6-in-1 Cooling 2024 Model 1....  \n",
       "2     LG AI Convertible 6-in-1 Cooling 2024 Model 1....  \n",
       "3     LG AI Convertible 6-in-1 Cooling 2024 Model 1....  \n",
       "4     LG AI Convertible 6-in-1 Cooling 2024 Model 1....  \n",
       "...                                                 ...  \n",
       "1239  LG 1.5 Ton 5 Star Split Inverter AC - White  (...  \n",
       "1240  LG 1.5 Ton 5 Star Split Inverter AC - White  (...  \n",
       "1241  LG 1.5 Ton 5 Star Split Inverter AC - White  (...  \n",
       "1242  LG 1.5 Ton 5 Star Split Inverter AC - White  (...  \n",
       "1243  LG 1.5 Ton 5 Star Split Inverter AC - White  (...  \n",
       "\n",
       "[1244 rows x 5 columns]"
      ]
     },
     "execution_count": 6,
     "metadata": {},
     "output_type": "execute_result"
    }
   ],
   "source": [
    "df_LG_airconditioner = pd.DataFrame(all_reviews)\n",
    "df_LG_airconditioner"
   ]
  },
  {
   "cell_type": "code",
   "execution_count": 7,
   "id": "434f3796-2ccf-4abd-88ec-cd6b7f950594",
   "metadata": {},
   "outputs": [],
   "source": [
    "df_LG_airconditioner.to_csv(\"df_LG_airconditioner.csv\")"
   ]
  },
  {
   "cell_type": "code",
   "execution_count": null,
   "id": "381bc940-4c53-4898-9b18-3b460de5d7a2",
   "metadata": {},
   "outputs": [],
   "source": []
  }
 ],
 "metadata": {
  "kernelspec": {
   "display_name": "Python 3 (ipykernel)",
   "language": "python",
   "name": "python3"
  },
  "language_info": {
   "codemirror_mode": {
    "name": "ipython",
    "version": 3
   },
   "file_extension": ".py",
   "mimetype": "text/x-python",
   "name": "python",
   "nbconvert_exporter": "python",
   "pygments_lexer": "ipython3",
   "version": "3.11.7"
  }
 },
 "nbformat": 4,
 "nbformat_minor": 5
}
