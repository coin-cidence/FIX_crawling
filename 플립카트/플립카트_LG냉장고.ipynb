{
 "cells": [
  {
   "cell_type": "code",
   "execution_count": 2,
   "id": "2e16d88e-1f46-4129-8332-1c6b55cb0a46",
   "metadata": {},
   "outputs": [],
   "source": [
    "import time\n",
    "import pandas as pd\n",
    "from selenium import webdriver\n",
    "from selenium.webdriver.common.by import By\n",
    "from selenium.webdriver.common.keys import Keys\n",
    "from tqdm import tqdm\n",
    "import pyperclip\n",
    "from bs4 import BeautifulSoup as bs\n",
    "from tqdm import tqdm\n",
    "import requests as req\n",
    "from selenium.webdriver.support.ui import WebDriverWait\n",
    "from selenium.webdriver.support import expected_conditions as EC"
   ]
  },
  {
   "cell_type": "code",
   "execution_count": 3,
   "id": "04a92ceb-3ce5-4fd9-9c72-6a9e17a04f2f",
   "metadata": {},
   "outputs": [
    {
     "name": "stderr",
     "output_type": "stream",
     "text": [
      "  8%|██████▍                                                                            | 1/13 [00:29<05:59, 29.95s/it]"
     ]
    },
    {
     "name": "stdout",
     "output_type": "stream",
     "text": [
      "Error processing URL https://www.flipkart.com/lg-185-l-direct-cool-single-door-5-star-refrigerator-base-drawer-smart-inverter-compressor-fast-ice-making/p/itmb63c41ba73d29?pid=RFRGHMVYEGSA9XTT&lid=LSTRFRGHMVYEGSA9XTTHMQO8T&marketplace=FLIPKART&store=j9e%2Fabm%2Fhzg&srno=b_1_4&otracker=CLP_Filters&iid=73fd4a34-c233-4ec0-a09a-57a293e55de0.RFRGHMVYEGSA9XTT.SEARCH&ssid=vvf2dx0s000000001724715606449: name 'NoSuchElementException' is not defined\n"
     ]
    },
    {
     "name": "stderr",
     "output_type": "stream",
     "text": [
      " 15%|████████████▊                                                                      | 2/13 [01:00<05:36, 30.57s/it]"
     ]
    },
    {
     "name": "stdout",
     "output_type": "stream",
     "text": [
      "Error processing URL https://www.flipkart.com/lg-185-l-direct-cool-single-door-4-star-refrigerator-base-drawer-smart-inverter-compressor/p/itm298afe5163996?pid=RFRGQTNNXNRTNJHV&lid=LSTRFRGQTNNXNRTNJHVKCZMYE&marketplace=FLIPKART&store=j9e%2Fabm%2Fhzg&srno=b_1_5&otracker=CLP_Filters&iid=73fd4a34-c233-4ec0-a09a-57a293e55de0.RFRGQTNNXNRTNJHV.SEARCH&ssid=vvf2dx0s000000001724715606449: name 'NoSuchElementException' is not defined\n"
     ]
    },
    {
     "name": "stderr",
     "output_type": "stream",
     "text": [
      " 23%|███████████████████▏                                                               | 3/13 [01:21<04:18, 25.81s/it]"
     ]
    },
    {
     "name": "stdout",
     "output_type": "stream",
     "text": [
      "Error processing URL https://www.flipkart.com/lg-242-l-frost-free-double-door-2-star-refrigerator/p/itm310d92dc12f7f?pid=RFRGRGXHZGNWHNWQ&lid=LSTRFRGRGXHZGNWHNWQFRVYXG&marketplace=FLIPKART&store=j9e%2Fabm%2Fhzg&srno=b_1_6&otracker=CLP_Filters&iid=73fd4a34-c233-4ec0-a09a-57a293e55de0.RFRGRGXHZGNWHNWQ.SEARCH&ssid=vvf2dx0s000000001724715606449: name 'NoSuchElementException' is not defined\n"
     ]
    },
    {
     "name": "stderr",
     "output_type": "stream",
     "text": [
      " 31%|█████████████████████████▌                                                         | 4/13 [01:52<04:13, 28.12s/it]"
     ]
    },
    {
     "name": "stdout",
     "output_type": "stream",
     "text": [
      "Error processing URL https://www.flipkart.com/lg-240-l-frost-free-double-door-3-star-convertible-refrigerator-smart-inverter/p/itme8e4741228ce3?pid=RFRGYRZDHMFBJCGZ&lid=LSTRFRGYRZDHMFBJCGZHY0UXX&marketplace=FLIPKART&store=j9e%2Fabm%2Fhzg&srno=b_1_7&otracker=CLP_Filters&iid=73fd4a34-c233-4ec0-a09a-57a293e55de0.RFRGYRZDHMFBJCGZ.SEARCH&ssid=vvf2dx0s000000001724715606449: name 'NoSuchElementException' is not defined\n"
     ]
    },
    {
     "name": "stderr",
     "output_type": "stream",
     "text": [
      " 38%|███████████████████████████████▉                                                   | 5/13 [02:25<03:59, 29.93s/it]"
     ]
    },
    {
     "name": "stdout",
     "output_type": "stream",
     "text": [
      "Error processing URL https://www.flipkart.com/lg-242-l-frost-free-double-door-3-star-refrigerator-smart-inverter/p/itme01a20547384b?pid=RFRGYRZDBHUEFEFW&lid=LSTRFRGYRZDBHUEFEFWXEFAHP&marketplace=FLIPKART&store=j9e%2Fabm%2Fhzg&srno=b_1_9&otracker=CLP_Filters&iid=73fd4a34-c233-4ec0-a09a-57a293e55de0.RFRGYRZDBHUEFEFW.SEARCH&ssid=vvf2dx0s000000001724715606449: name 'NoSuchElementException' is not defined\n"
     ]
    },
    {
     "name": "stderr",
     "output_type": "stream",
     "text": [
      " 46%|██████████████████████████████████████▎                                            | 6/13 [02:56<03:30, 30.05s/it]"
     ]
    },
    {
     "name": "stdout",
     "output_type": "stream",
     "text": [
      "Error processing URL https://www.flipkart.com/lg-185-l-direct-cool-single-door-5-star-refrigerator-base-drawer-smart-inverter-compressor-connect-fast-ice-making/p/itme13dc1b731480?pid=RFRGHMVYM5976CHB&lid=LSTRFRGHMVYM5976CHBTYSI6X&marketplace=FLIPKART&store=j9e%2Fabm%2Fhzg&srno=b_1_10&otracker=CLP_Filters&iid=73fd4a34-c233-4ec0-a09a-57a293e55de0.RFRGHMVYM5976CHB.SEARCH&ssid=vvf2dx0s000000001724715606449: name 'NoSuchElementException' is not defined\n"
     ]
    },
    {
     "name": "stderr",
     "output_type": "stream",
     "text": [
      " 54%|████████████████████████████████████████████▋                                      | 7/13 [03:45<03:37, 36.24s/it]"
     ]
    },
    {
     "name": "stdout",
     "output_type": "stream",
     "text": [
      "Error processing URL https://www.flipkart.com/lg-185-l-direct-cool-single-door-5-star-refrigerator-base-drawer-smart-inverter-compressor-connect-fast-ice-making/p/itm78a311e422562?pid=RFRGHMVYGPGABJMF&lid=LSTRFRGHMVYGPGABJMF4TTJNJ&marketplace=FLIPKART&store=j9e%2Fabm%2Fhzg&srno=b_1_13&otracker=CLP_Filters&iid=73fd4a34-c233-4ec0-a09a-57a293e55de0.RFRGHMVYGPGABJMF.SEARCH&ssid=vvf2dx0s000000001724715606449: name 'NoSuchElementException' is not defined\n"
     ]
    },
    {
     "name": "stderr",
     "output_type": "stream",
     "text": [
      " 62%|███████████████████████████████████████████████████                                | 8/13 [04:19<02:57, 35.58s/it]"
     ]
    },
    {
     "name": "stdout",
     "output_type": "stream",
     "text": [
      "Error processing URL https://www.flipkart.com/lg-264-l-frost-free-double-door-2-star-convertible-refrigerator/p/itme4c10ece26595?pid=RFRGT6ZF7QEV4CJG&lid=LSTRFRGT6ZF7QEV4CJGW8QDQZ&marketplace=FLIPKART&store=j9e%2Fabm%2Fhzg&srno=b_1_15&otracker=CLP_Filters&iid=73fd4a34-c233-4ec0-a09a-57a293e55de0.RFRGT6ZF7QEV4CJG.SEARCH&ssid=vvf2dx0s000000001724715606449: name 'NoSuchElementException' is not defined\n"
     ]
    },
    {
     "name": "stderr",
     "output_type": "stream",
     "text": [
      " 69%|█████████████████████████████████████████████████████████▍                         | 9/13 [04:51<02:18, 34.57s/it]"
     ]
    },
    {
     "name": "stdout",
     "output_type": "stream",
     "text": [
      "Error processing URL https://www.flipkart.com/lg-185-l-direct-cool-single-door-4-star-refrigerator-base-drawer-smart-inverter-compressor-connect/p/itme111bace73d90?pid=RFRGMFGQDSZT8QJN&lid=LSTRFRGMFGQDSZT8QJNBLCQWO&marketplace=FLIPKART&store=j9e%2Fabm%2Fhzg&srno=b_1_16&otracker=CLP_Filters&iid=73fd4a34-c233-4ec0-a09a-57a293e55de0.RFRGMFGQDSZT8QJN.SEARCH&ssid=vvf2dx0s000000001724715606449: name 'NoSuchElementException' is not defined\n"
     ]
    },
    {
     "name": "stderr",
     "output_type": "stream",
     "text": [
      " 77%|███████████████████████████████████████████████████████████████                   | 10/13 [05:22<01:40, 33.43s/it]"
     ]
    },
    {
     "name": "stdout",
     "output_type": "stream",
     "text": [
      "Error processing URL https://www.flipkart.com/lg-224-l-direct-cool-single-door-5-star-refrigerator-base-drawer-smart-inverter-compressor-moist-n-fresh-humidity-controller/p/itmbb45ac88db6c2?pid=RFRGHTKC3PAV84E6&lid=LSTRFRGHTKC3PAV84E6BISEWE&marketplace=FLIPKART&store=j9e%2Fabm%2Fhzg&srno=b_1_19&otracker=CLP_Filters&iid=73fd4a34-c233-4ec0-a09a-57a293e55de0.RFRGHTKC3PAV84E6.SEARCH&ssid=vvf2dx0s000000001724715606449: name 'NoSuchElementException' is not defined\n"
     ]
    },
    {
     "name": "stderr",
     "output_type": "stream",
     "text": [
      " 85%|█████████████████████████████████████████████████████████████████████▍            | 11/13 [05:30<00:50, 25.49s/it]"
     ]
    },
    {
     "name": "stdout",
     "output_type": "stream",
     "text": [
      "Error processing URL https://www.flipkart.com/lg-398-l-frost-free-double-door-3-star-refrigerator/p/itm28069d1b23b41?pid=RFRH27M9E8SEEDXF&lid=LSTRFRH27M9E8SEEDXFHAQMRT&marketplace=FLIPKART&store=j9e%2Fabm%2Fhzg&srno=b_1_20&otracker=CLP_Filters&iid=73fd4a34-c233-4ec0-a09a-57a293e55de0.RFRH27M9E8SEEDXF.SEARCH&ssid=vvf2dx0s000000001724715606449: name 'NoSuchElementException' is not defined\n"
     ]
    },
    {
     "name": "stderr",
     "output_type": "stream",
     "text": [
      " 92%|███████████████████████████████████████████████████████████████████████████▋      | 12/13 [06:00<00:27, 27.15s/it]"
     ]
    },
    {
     "name": "stdout",
     "output_type": "stream",
     "text": [
      "Error processing URL https://www.flipkart.com/lg-185-l-direct-cool-single-door-2-star-refrigerator/p/itm48e75c89d4b57?pid=RFRGSBRVQEED8AUP&lid=LSTRFRGSBRVQEED8AUPJCXX0I&marketplace=FLIPKART&store=j9e%2Fabm%2Fhzg&srno=b_1_23&otracker=CLP_Filters&iid=73fd4a34-c233-4ec0-a09a-57a293e55de0.RFRGSBRVQEED8AUP.SEARCH&ssid=vvf2dx0s000000001724715606449: name 'NoSuchElementException' is not defined\n"
     ]
    },
    {
     "name": "stderr",
     "output_type": "stream",
     "text": [
      "100%|██████████████████████████████████████████████████████████████████████████████████| 13/13 [06:32<00:00, 30.17s/it]"
     ]
    },
    {
     "name": "stdout",
     "output_type": "stream",
     "text": [
      "Error processing URL https://www.flipkart.com/lg-185-l-direct-cool-single-door-5-star-refrigerator-base-drawer-smart-inverter-compressor-connect-fast-ice-making/p/itm90b58e19bfe9f?pid=RFRGHMVY7PF7PWCM&lid=LSTRFRGHMVY7PF7PWCMXCJIUY&marketplace=FLIPKART&store=j9e%2Fabm%2Fhzg&srno=b_1_24&otracker=CLP_Filters&iid=73fd4a34-c233-4ec0-a09a-57a293e55de0.RFRGHMVY7PF7PWCM.SEARCH&ssid=vvf2dx0s000000001724715606449: name 'NoSuchElementException' is not defined\n"
     ]
    },
    {
     "name": "stderr",
     "output_type": "stream",
     "text": [
      "\n"
     ]
    }
   ],
   "source": [
    "  # 웹드라이버 실행\n",
    "driver = webdriver.Chrome()\n",
    "\n",
    "# 제품 목록 페이지 로드\n",
    "driver.get(\"https://www.flipkart.com/search?sid=j9e%2Fabm%2Fhzg&otracker=CLP_Filters&p%5B%5D=facets.brand%255B%255D%3DLG\")\n",
    "\n",
    "# 페이지 로딩 대기\n",
    "WebDriverWait(driver, 10).until(EC.presence_of_element_located((By.CLASS_NAME, 'CGtC98')))\n",
    "\n",
    "# URL을 저장할 리스트 초기화\n",
    "url_list = []\n",
    "\n",
    "# 요소 찾기\n",
    "elements = driver.find_elements(By.CLASS_NAME, 'CGtC98')\n",
    "\n",
    "# 각 요소에서 'href' 속성을 가져와 리스트에 추가 (sponsored 요소는 제외)\n",
    "for element in elements:\n",
    "    try:\n",
    "        # 'f8qK5m' 클래스를 가진 자식 요소가 있는지 확인\n",
    "        if element.find_elements(By.CLASS_NAME, 'f8qK5m'):\n",
    "            # 'f8qK5m' 클래스를 가진 자식 요소가 있다면 skip\n",
    "            continue\n",
    "        # 자식 요소가 'f8qK5m' 클래스를 가지고 있지 않다면 href 추출\n",
    "        url_value = element.get_attribute('href')\n",
    "        if url_value:  # href 속성이 있는 경우만 추가\n",
    "            url_list.append(url_value)\n",
    "    except NoSuchElementException:\n",
    "        # 자식 요소가 없으면 그냥 넘어가기\n",
    "        continue \n",
    "        \n",
    "# 리뷰 데이터를 저장할 리스트 초기화\n",
    "all_reviews = []\n",
    "\n",
    "for url in tqdm(url_list):\n",
    "    try:\n",
    "        driver.get(url)\n",
    "        \n",
    "        # XPath를 사용하여 제목 찾기. 제품 코드 별 XPATH 달라서 접근 불가... 제목에서 코드 추출하세용...\n",
    "        try:\n",
    "            # XPath를 사용하여 제목 찾기. 제품 코드 별 XPATH 달라서 접근 불가... 제목에서 코드 추출하세용... \n",
    "            list_items = driver.find_elements(By.XPATH, '//*[@id=\"container\"]/div/div[3]/div[1]/div[2]/div[2]/div/div[1]/h1/span')\n",
    "            \n",
    "            # 텍스트 추출\n",
    "            hp_data = [item.text for item in list_items]\n",
    "            if not hp_data:\n",
    "                hp_data = [\"No data\"]  # 데이터가 없을 경우 기본값\n",
    "        except (NoSuchElementException, TimeoutException) as e:\n",
    "            hp_data = [\"Error fetching data\"]  # 오류 발생 시 기본값\n",
    "            \n",
    "        # 리뷰 버튼 클릭 대기\n",
    "        try:\n",
    "            review_button = WebDriverWait(driver, 5).until(EC.presence_of_element_located((By.CLASS_NAME, \"_23J90q.RcXBOT\")))\n",
    "            if review_button.is_displayed():\n",
    "                review_button.click()\n",
    "        except (NoSuchElementException, TimeoutException):\n",
    "            pass\n",
    "        \n",
    "        # 낮은 별점 접근\n",
    "        try:\n",
    "            low_rating_option = WebDriverWait(driver, 10).until(EC.presence_of_element_located((By.CSS_SELECTOR, \"#container > div > div.VLIitu > div > div > div.DOjaWF.gdgoEp.col-9-12 > div.DOjaWF.gdgoEp.col-12-12 > div > div:nth-child(2) > div > div > div > div > select > option:nth-child(4)\")))\n",
    "            low_rating_option.click()\n",
    "        except (NoSuchElementException, TimeoutException) as e:\n",
    "            print(f\"Error selecting sort option for URL {url}: {e}\")\n",
    "        \n",
    "        # 데이터 확보\n",
    "        page_number = 1\n",
    "        \n",
    "        while True:\n",
    "            try:\n",
    "                # 페이지 URL 업데이트\n",
    "                current_url = driver.current_url\n",
    "                full_url = f'{current_url}&page={page_number}'\n",
    "                driver.get(full_url)\n",
    "                \n",
    "                # ZmyHeo 클래스의 존재 여부를 확인\n",
    "                WebDriverWait(driver, 10).until(EC.presence_of_element_located((By.CLASS_NAME, 'ZmyHeo')))\n",
    "                \n",
    "                # 데이터 추출\n",
    "                text_elements = driver.find_elements(By.CLASS_NAME, 'ZmyHeo')\n",
    "                state_elements = driver.find_elements(By.CLASS_NAME, 'MztJPv')\n",
    "                date_elements = driver.find_elements(By.CLASS_NAME, '_2NsDsF')\n",
    "                star_elements = driver.find_elements(By.XPATH, \"//*[contains(@class, 'XQDdHH') and (contains(@class, 'Js30Fc') or contains(@class, 'Czs3gR') or contains(@class, 'Ga3i8K'))]\")\n",
    "                \n",
    "                text_list = [elem.text for elem in text_elements]\n",
    "                state_list = [elem.text for elem in state_elements]\n",
    "                date_list = [elem.text for elem in date_elements]\n",
    "                dates = date_list[1::2]\n",
    "                star_list = [elem.text for elem in star_elements]\n",
    "                \n",
    "                # 리뷰 데이터를 모든 리뷰 리스트에 추가\n",
    "                for t, s, d, r in zip(text_list, state_list, dates, star_list):\n",
    "                    for data in hp_data:\n",
    "                        all_reviews.append({\n",
    "                            'text': t,\n",
    "                            'state': s,\n",
    "                            'date': d,\n",
    "                            'star': r,\n",
    "                            'hp_data': data  # 각각의 hp_data 항목을 추가\n",
    "                        })\n",
    "\n",
    "                # 페이지 번호 증가\n",
    "                page_number += 1\n",
    "                \n",
    "            except (NoSuchElementException, TimeoutException) as e:\n",
    "                print(f\"Error on page {page_number} for URL {full_url}: {e}\")\n",
    "                break\n",
    "    \n",
    "    except Exception as e:\n",
    "        print(f\"Error processing URL {url}: {e}\")\n",
    "\n",
    "# 현재 창 닫기\n",
    "driver.quit()"
   ]
  },
  {
   "cell_type": "code",
   "execution_count": 6,
   "id": "1c9378bb-ac46-47c0-b289-96ad44380f5f",
   "metadata": {},
   "outputs": [
    {
     "data": {
      "text/html": [
       "<div>\n",
       "<style scoped>\n",
       "    .dataframe tbody tr th:only-of-type {\n",
       "        vertical-align: middle;\n",
       "    }\n",
       "\n",
       "    .dataframe tbody tr th {\n",
       "        vertical-align: top;\n",
       "    }\n",
       "\n",
       "    .dataframe thead th {\n",
       "        text-align: right;\n",
       "    }\n",
       "</style>\n",
       "<table border=\"1\" class=\"dataframe\">\n",
       "  <thead>\n",
       "    <tr style=\"text-align: right;\">\n",
       "      <th></th>\n",
       "      <th>text</th>\n",
       "      <th>state</th>\n",
       "      <th>date</th>\n",
       "      <th>star</th>\n",
       "      <th>hp_data</th>\n",
       "    </tr>\n",
       "  </thead>\n",
       "  <tbody>\n",
       "    <tr>\n",
       "      <th>0</th>\n",
       "      <td>Very poor cooling</td>\n",
       "      <td>Certified Buyer, Darbhanga</td>\n",
       "      <td>1 month ago</td>\n",
       "      <td>1</td>\n",
       "      <td>LG 185 L Direct Cool Single Door 5 Star Refrig...</td>\n",
       "    </tr>\n",
       "    <tr>\n",
       "      <th>1</th>\n",
       "      <td>Not good product</td>\n",
       "      <td>Certified Buyer, Bangarapet</td>\n",
       "      <td>2 months ago</td>\n",
       "      <td>1</td>\n",
       "      <td>LG 185 L Direct Cool Single Door 5 Star Refrig...</td>\n",
       "    </tr>\n",
       "    <tr>\n",
       "      <th>2</th>\n",
       "      <td>Worst experience to buy filp kart... over heat...</td>\n",
       "      <td>Certified Buyer, Coimbatore</td>\n",
       "      <td>5 months ago</td>\n",
       "      <td>1</td>\n",
       "      <td>LG 185 L Direct Cool Single Door 5 Star Refrig...</td>\n",
       "    </tr>\n",
       "    <tr>\n",
       "      <th>3</th>\n",
       "      <td>Worst quality wast of money, no return option</td>\n",
       "      <td>Certified Buyer, Tirupati</td>\n",
       "      <td>6 months ago</td>\n",
       "      <td>1</td>\n",
       "      <td>LG 185 L Direct Cool Single Door 5 Star Refrig...</td>\n",
       "    </tr>\n",
       "    <tr>\n",
       "      <th>4</th>\n",
       "      <td>Refrigerator base not fitting properly</td>\n",
       "      <td>Certified Buyer, Noida</td>\n",
       "      <td>6 months ago</td>\n",
       "      <td>1</td>\n",
       "      <td>LG 185 L Direct Cool Single Door 5 Star Refrig...</td>\n",
       "    </tr>\n",
       "    <tr>\n",
       "      <th>...</th>\n",
       "      <td>...</td>\n",
       "      <td>...</td>\n",
       "      <td>...</td>\n",
       "      <td>...</td>\n",
       "      <td>...</td>\n",
       "    </tr>\n",
       "    <tr>\n",
       "      <th>1142</th>\n",
       "      <td>Good product</td>\n",
       "      <td>Certified Buyer, Ghaziabad</td>\n",
       "      <td>May, 2022</td>\n",
       "      <td>3</td>\n",
       "      <td>LG 185 L Direct Cool Single Door 5 Star Refrig...</td>\n",
       "    </tr>\n",
       "    <tr>\n",
       "      <th>1143</th>\n",
       "      <td>Ok</td>\n",
       "      <td>Certified Buyer, Ariyalur District</td>\n",
       "      <td>Apr, 2022</td>\n",
       "      <td>3</td>\n",
       "      <td>LG 185 L Direct Cool Single Door 5 Star Refrig...</td>\n",
       "    </tr>\n",
       "    <tr>\n",
       "      <th>1144</th>\n",
       "      <td>Ok good</td>\n",
       "      <td>Certified Buyer, Nagaon</td>\n",
       "      <td>Apr, 2022</td>\n",
       "      <td>3</td>\n",
       "      <td>LG 185 L Direct Cool Single Door 5 Star Refrig...</td>\n",
       "    </tr>\n",
       "    <tr>\n",
       "      <th>1145</th>\n",
       "      <td>Colour very bed</td>\n",
       "      <td>Certified Buyer, Gurugram</td>\n",
       "      <td>Apr, 2022</td>\n",
       "      <td>3</td>\n",
       "      <td>LG 185 L Direct Cool Single Door 5 Star Refrig...</td>\n",
       "    </tr>\n",
       "    <tr>\n",
       "      <th>1146</th>\n",
       "      <td>Nice product 👌</td>\n",
       "      <td>Certified Buyer, Hyderabad</td>\n",
       "      <td>Apr, 2022</td>\n",
       "      <td>3</td>\n",
       "      <td>LG 185 L Direct Cool Single Door 5 Star Refrig...</td>\n",
       "    </tr>\n",
       "  </tbody>\n",
       "</table>\n",
       "<p>1147 rows × 5 columns</p>\n",
       "</div>"
      ],
      "text/plain": [
       "                                                   text  \\\n",
       "0                                     Very poor cooling   \n",
       "1                                      Not good product   \n",
       "2     Worst experience to buy filp kart... over heat...   \n",
       "3         Worst quality wast of money, no return option   \n",
       "4                Refrigerator base not fitting properly   \n",
       "...                                                 ...   \n",
       "1142                                       Good product   \n",
       "1143                                                 Ok   \n",
       "1144                                            Ok good   \n",
       "1145                                    Colour very bed   \n",
       "1146                                     Nice product 👌   \n",
       "\n",
       "                                   state          date star  \\\n",
       "0             Certified Buyer, Darbhanga   1 month ago    1   \n",
       "1            Certified Buyer, Bangarapet  2 months ago    1   \n",
       "2            Certified Buyer, Coimbatore  5 months ago    1   \n",
       "3              Certified Buyer, Tirupati  6 months ago    1   \n",
       "4                 Certified Buyer, Noida  6 months ago    1   \n",
       "...                                  ...           ...  ...   \n",
       "1142          Certified Buyer, Ghaziabad     May, 2022    3   \n",
       "1143  Certified Buyer, Ariyalur District     Apr, 2022    3   \n",
       "1144             Certified Buyer, Nagaon     Apr, 2022    3   \n",
       "1145           Certified Buyer, Gurugram     Apr, 2022    3   \n",
       "1146          Certified Buyer, Hyderabad     Apr, 2022    3   \n",
       "\n",
       "                                                hp_data  \n",
       "0     LG 185 L Direct Cool Single Door 5 Star Refrig...  \n",
       "1     LG 185 L Direct Cool Single Door 5 Star Refrig...  \n",
       "2     LG 185 L Direct Cool Single Door 5 Star Refrig...  \n",
       "3     LG 185 L Direct Cool Single Door 5 Star Refrig...  \n",
       "4     LG 185 L Direct Cool Single Door 5 Star Refrig...  \n",
       "...                                                 ...  \n",
       "1142  LG 185 L Direct Cool Single Door 5 Star Refrig...  \n",
       "1143  LG 185 L Direct Cool Single Door 5 Star Refrig...  \n",
       "1144  LG 185 L Direct Cool Single Door 5 Star Refrig...  \n",
       "1145  LG 185 L Direct Cool Single Door 5 Star Refrig...  \n",
       "1146  LG 185 L Direct Cool Single Door 5 Star Refrig...  \n",
       "\n",
       "[1147 rows x 5 columns]"
      ]
     },
     "execution_count": 6,
     "metadata": {},
     "output_type": "execute_result"
    }
   ],
   "source": [
    "df_LG_refri = pd.DataFrame(all_reviews)\n",
    "df_LG_refri"
   ]
  },
  {
   "cell_type": "code",
   "execution_count": 7,
   "id": "808141fd-4514-4738-8013-b0361a9bd0a6",
   "metadata": {},
   "outputs": [],
   "source": [
    "df_LG_refri.to_csv(\"df_LG_refri.csv\")"
   ]
  },
  {
   "cell_type": "code",
   "execution_count": null,
   "id": "f9805cad-d12b-4e22-8479-6e6df6eb6555",
   "metadata": {},
   "outputs": [],
   "source": []
  }
 ],
 "metadata": {
  "kernelspec": {
   "display_name": "Python 3 (ipykernel)",
   "language": "python",
   "name": "python3"
  },
  "language_info": {
   "codemirror_mode": {
    "name": "ipython",
    "version": 3
   },
   "file_extension": ".py",
   "mimetype": "text/x-python",
   "name": "python",
   "nbconvert_exporter": "python",
   "pygments_lexer": "ipython3",
   "version": "3.11.7"
  }
 },
 "nbformat": 4,
 "nbformat_minor": 5
}
