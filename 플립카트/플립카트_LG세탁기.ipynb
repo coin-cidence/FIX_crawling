{
 "cells": [
  {
   "cell_type": "code",
   "execution_count": 2,
   "id": "2e16d88e-1f46-4129-8332-1c6b55cb0a46",
   "metadata": {},
   "outputs": [],
   "source": [
    "import time\n",
    "import pandas as pd\n",
    "from selenium import webdriver\n",
    "from selenium.webdriver.common.by import By\n",
    "from selenium.webdriver.common.keys import Keys\n",
    "from tqdm import tqdm\n",
    "import pyperclip\n",
    "from bs4 import BeautifulSoup as bs\n",
    "from tqdm import tqdm\n",
    "import requests as req\n",
    "from selenium.webdriver.support.ui import WebDriverWait\n",
    "from selenium.webdriver.support import expected_conditions as EC"
   ]
  },
  {
   "cell_type": "code",
   "execution_count": 3,
   "id": "d3038021-a88d-4c0b-b35d-23691683d351",
   "metadata": {},
   "outputs": [
    {
     "name": "stderr",
     "output_type": "stream",
     "text": [
      "  8%|██████▍                                                                            | 1/13 [00:33<06:42, 33.57s/it]"
     ]
    },
    {
     "name": "stdout",
     "output_type": "stream",
     "text": [
      "Error processing URL https://www.flipkart.com/lg-7-kg-5-star-smart-inverter-technology-turbodrum-diagnosis-fully-automatic-top-load-washing-machine-silver/p/itm4b6f044047234?pid=WMNFUBJFUZHQGFPZ&lid=LSTWMNFUBJFUZHQGFPZX0OQTY&marketplace=FLIPKART&store=j9e%2Fabm%2F8qx&srno=b_1_4&otracker=CLP_Filters&iid=15b59362-3ed8-454d-9779-bc5142c80b67.WMNFUBJFUZHQGFPZ.SEARCH&ssid=n8zvxm4p400000001724715603033: name 'NoSuchElementException' is not defined\n"
     ]
    },
    {
     "name": "stderr",
     "output_type": "stream",
     "text": [
      " 15%|████████████▊                                                                      | 2/13 [01:07<06:09, 33.57s/it]"
     ]
    },
    {
     "name": "stdout",
     "output_type": "stream",
     "text": [
      "Error processing URL https://www.flipkart.com/lg-6-5-kg-5-star-smart-inverter-technology-turbodrum-diagnosis-fully-automatic-top-load-washing-machine-silver/p/itme4cacbedc1c8f?pid=WMNFZX5BMUYJMPRB&lid=LSTWMNFZX5BMUYJMPRBQPQHWF&marketplace=FLIPKART&store=j9e%2Fabm%2F8qx&srno=b_1_5&otracker=CLP_Filters&iid=15b59362-3ed8-454d-9779-bc5142c80b67.WMNFZX5BMUYJMPRB.SEARCH&ssid=n8zvxm4p400000001724715603033: name 'NoSuchElementException' is not defined\n"
     ]
    },
    {
     "name": "stderr",
     "output_type": "stream",
     "text": [
      " 23%|███████████████████▏                                                               | 3/13 [01:36<05:15, 31.58s/it]"
     ]
    },
    {
     "name": "stdout",
     "output_type": "stream",
     "text": [
      "Error processing URL https://www.flipkart.com/lg-7-kg-5-star-wind-jet-dry-collar-scrubber-rust-free-plastic-base-semi-automatic-top-load-washing-machine-grey-white/p/itmc9d497e9b58bb?pid=WMNG4VNTJAUVBCKN&lid=LSTWMNG4VNTJAUVBCKNBMH2FY&marketplace=FLIPKART&store=j9e%2Fabm%2F8qx&spotlightTagId=BestsellerId_j9e%2Fabm%2F8qx&srno=b_1_6&otracker=CLP_Filters&iid=15b59362-3ed8-454d-9779-bc5142c80b67.WMNG4VNTJAUVBCKN.SEARCH&ssid=n8zvxm4p400000001724715603033: name 'NoSuchElementException' is not defined\n"
     ]
    },
    {
     "name": "stderr",
     "output_type": "stream",
     "text": [
      " 31%|█████████████████████████▌                                                         | 4/13 [02:12<05:01, 33.46s/it]"
     ]
    },
    {
     "name": "stdout",
     "output_type": "stream",
     "text": [
      "Error processing URL https://www.flipkart.com/lg-8-kg-5-star-smart-inverter-technology-turbodrum-diagnosis-fully-automatic-top-load-washing-machine-silver/p/itmfbd15192a962d?pid=WMNGG5G73HH8MEWY&lid=LSTWMNGG5G73HH8MEWYNWA3PO&marketplace=FLIPKART&store=j9e%2Fabm%2F8qx&srno=b_1_7&otracker=CLP_Filters&iid=15b59362-3ed8-454d-9779-bc5142c80b67.WMNGG5G73HH8MEWY.SEARCH&ssid=n8zvxm4p400000001724715603033: name 'NoSuchElementException' is not defined\n"
     ]
    },
    {
     "name": "stderr",
     "output_type": "stream",
     "text": [
      " 38%|███████████████████████████████▉                                                   | 5/13 [02:49<04:36, 34.57s/it]"
     ]
    },
    {
     "name": "stdout",
     "output_type": "stream",
     "text": [
      "Error processing URL https://www.flipkart.com/lg-7-kg-5-star-steam-inverter-direct-drive-technology-6-motion-drive-touch-panel-1200-rpm-fully-automatic-front-load-washing-machine-in-built-heater-white/p/itmcf9f9a1b447c1?pid=WMNGEMHRZTHYJUVZ&lid=LSTWMNGEMHRZTHYJUVZ1I5CZW&marketplace=FLIPKART&store=j9e%2Fabm%2F8qx&srno=b_1_9&otracker=CLP_Filters&iid=15b59362-3ed8-454d-9779-bc5142c80b67.WMNGEMHRZTHYJUVZ.SEARCH&ssid=n8zvxm4p400000001724715603033: name 'NoSuchElementException' is not defined\n"
     ]
    },
    {
     "name": "stderr",
     "output_type": "stream",
     "text": [
      " 46%|██████████████████████████████████████▎                                            | 6/13 [03:23<04:01, 34.48s/it]"
     ]
    },
    {
     "name": "stdout",
     "output_type": "stream",
     "text": [
      "Error processing URL https://www.flipkart.com/lg-7-kg-5-star-steam-inverter-direct-drive-technology-6-motion-dd-touch-panel-1200-rpm-fully-automatic-front-load-washing-machine-in-built-heater-black-grey/p/itma76be56c71ca4?pid=WMNGKNNNFG7ZAZHS&lid=LSTWMNGKNNNFG7ZAZHS4B5ILT&marketplace=FLIPKART&store=j9e%2Fabm%2F8qx&srno=b_1_10&otracker=CLP_Filters&iid=15b59362-3ed8-454d-9779-bc5142c80b67.WMNGKNNNFG7ZAZHS.SEARCH&ssid=n8zvxm4p400000001724715603033: name 'NoSuchElementException' is not defined\n"
     ]
    },
    {
     "name": "stderr",
     "output_type": "stream",
     "text": [
      " 54%|████████████████████████████████████████████▋                                      | 7/13 [03:54<03:20, 33.40s/it]"
     ]
    },
    {
     "name": "stdout",
     "output_type": "stream",
     "text": [
      "Error processing URL https://www.flipkart.com/lg-8-5-kg-5-star-roller-jet-pulsator-soak-wind-dry-collar-scrubber-semi-automatic-top-load-washing-machine-maroon-white/p/itmb46d8b1694357?pid=WMNGMA88AJE8S3JF&lid=LSTWMNGMA88AJE8S3JFSMAIMT&marketplace=FLIPKART&store=j9e%2Fabm%2F8qx&srno=b_1_13&otracker=CLP_Filters&iid=15b59362-3ed8-454d-9779-bc5142c80b67.WMNGMA88AJE8S3JF.SEARCH&ssid=n8zvxm4p400000001724715603033: name 'NoSuchElementException' is not defined\n"
     ]
    },
    {
     "name": "stderr",
     "output_type": "stream",
     "text": [
      " 62%|███████████████████████████████████████████████████                                | 8/13 [04:31<02:52, 34.50s/it]"
     ]
    },
    {
     "name": "stdout",
     "output_type": "stream",
     "text": [
      "Error processing URL https://www.flipkart.com/lg-6-5-kg-5-star-steam-inverter-direct-drive-6-motion-touch-panel-1000-rpm-fully-automatic-front-load-washing-machine-in-built-heater-white/p/itmafe4e5c13abbb?pid=WMNG9UANWZE3YNDA&lid=LSTWMNG9UANWZE3YNDAWL1PQS&marketplace=FLIPKART&store=j9e%2Fabm%2F8qx&srno=b_1_15&otracker=CLP_Filters&iid=15b59362-3ed8-454d-9779-bc5142c80b67.WMNG9UANWZE3YNDA.SEARCH&ssid=n8zvxm4p400000001724715603033: name 'NoSuchElementException' is not defined\n"
     ]
    },
    {
     "name": "stderr",
     "output_type": "stream",
     "text": [
      " 69%|█████████████████████████████████████████████████████████▍                         | 9/13 [05:01<02:12, 33.18s/it]"
     ]
    },
    {
     "name": "stdout",
     "output_type": "stream",
     "text": [
      "Error processing URL https://www.flipkart.com/lg-8-kg-5-star-roller-jet-pulsator-soak-wind-dry-rat-away-6-spin-tub-capacity-semi-automatic-top-load-washing-machine-multicolor/p/itme46032c6324b4?pid=WMNGGYQTWHG5VVYZ&lid=LSTWMNGGYQTWHG5VVYZKSZC2W&marketplace=FLIPKART&store=j9e%2Fabm%2F8qx&srno=b_1_16&otracker=CLP_Filters&iid=15b59362-3ed8-454d-9779-bc5142c80b67.WMNGGYQTWHG5VVYZ.SEARCH&ssid=n8zvxm4p400000001724715603033: name 'NoSuchElementException' is not defined\n"
     ]
    },
    {
     "name": "stderr",
     "output_type": "stream",
     "text": [
      " 77%|███████████████████████████████████████████████████████████████                   | 10/13 [05:35<01:40, 33.38s/it]"
     ]
    },
    {
     "name": "stdout",
     "output_type": "stream",
     "text": [
      "Error processing URL https://www.flipkart.com/lg-8-kg-5-star-steam-inverter-direct-drive-6-motion-touch-panel-1400-rpm-fully-automatic-front-load-washing-machine-in-built-heater-black-grey/p/itmcb3fb59a8f048?pid=WMNGKNNNHBTADJBF&lid=LSTWMNGKNNNHBTADJBFG10XFK&marketplace=FLIPKART&store=j9e%2Fabm%2F8qx&spotlightTagId=FkPickId_j9e%2Fabm%2F8qx&srno=b_1_19&otracker=CLP_Filters&iid=15b59362-3ed8-454d-9779-bc5142c80b67.WMNGKNNNHBTADJBF.SEARCH&ssid=n8zvxm4p400000001724715603033: name 'NoSuchElementException' is not defined\n"
     ]
    },
    {
     "name": "stderr",
     "output_type": "stream",
     "text": [
      " 85%|█████████████████████████████████████████████████████████████████████▍            | 11/13 [06:07<01:05, 32.83s/it]"
     ]
    },
    {
     "name": "stdout",
     "output_type": "stream",
     "text": [
      "Error processing URL https://www.flipkart.com/lg-11-kg-5-star-roller-jet-pulsator-soak-wind-dry-rat-away-8-spin-tub-capacity-semi-automatic-top-load-washing-machine-black/p/itm7108e1f496159?pid=WMNG6HDGYVSWC67E&lid=LSTWMNG6HDGYVSWC67E3OJBDY&marketplace=FLIPKART&store=j9e%2Fabm%2F8qx&srno=b_1_20&otracker=CLP_Filters&iid=15b59362-3ed8-454d-9779-bc5142c80b67.WMNG6HDGYVSWC67E.SEARCH&ssid=n8zvxm4p400000001724715603033: name 'NoSuchElementException' is not defined\n"
     ]
    },
    {
     "name": "stderr",
     "output_type": "stream",
     "text": [
      " 92%|███████████████████████████████████████████████████████████████████████████▋      | 12/13 [06:44<00:34, 34.20s/it]"
     ]
    },
    {
     "name": "stdout",
     "output_type": "stream",
     "text": [
      "Error processing URL https://www.flipkart.com/lg-7-5-kg-5-star-smart-inverter-technology-turbodrum-fully-automatic-top-load-washing-machine-grey/p/itm1f77c1619b7cb?pid=WMNGPFYKPRAVJXXZ&lid=LSTWMNGPFYKPRAVJXXZA1PNRH&marketplace=FLIPKART&store=j9e%2Fabm%2F8qx&srno=b_1_23&otracker=CLP_Filters&iid=15b59362-3ed8-454d-9779-bc5142c80b67.WMNGPFYKPRAVJXXZ.SEARCH&ssid=n8zvxm4p400000001724715603033: name 'NoSuchElementException' is not defined\n"
     ]
    },
    {
     "name": "stderr",
     "output_type": "stream",
     "text": [
      "100%|██████████████████████████████████████████████████████████████████████████████████| 13/13 [07:20<00:00, 33.89s/it]"
     ]
    },
    {
     "name": "stdout",
     "output_type": "stream",
     "text": [
      "Error processing URL https://www.flipkart.com/lg-9-kg-5-star-ai-direct-drive-6-motion-inverter-steam-wi-fi-enabled-fully-automatic-front-load-washing-machine-in-built-heater-black/p/itmca7b136b2e120?pid=WMNGPYWTEFA3VFHF&lid=LSTWMNGPYWTEFA3VFHF1JMNEJ&marketplace=FLIPKART&store=j9e%2Fabm%2F8qx&srno=b_1_24&otracker=CLP_Filters&iid=15b59362-3ed8-454d-9779-bc5142c80b67.WMNGPYWTEFA3VFHF.SEARCH&ssid=n8zvxm4p400000001724715603033: name 'NoSuchElementException' is not defined\n"
     ]
    },
    {
     "name": "stderr",
     "output_type": "stream",
     "text": [
      "\n"
     ]
    }
   ],
   "source": [
    "  # 웹드라이버 실행\n",
    "driver = webdriver.Chrome()\n",
    "\n",
    "# 제품 목록 페이지 로드\n",
    "driver.get(\"https://www.flipkart.com/search?sid=j9e%2Fabm%2F8qx&otracker=CLP_Filters&p%5B%5D=facets.brand%255B%255D%3DLG\")\n",
    "\n",
    "# 페이지 로딩 대기\n",
    "WebDriverWait(driver, 10).until(EC.presence_of_element_located((By.CLASS_NAME, 'CGtC98')))\n",
    "\n",
    "# URL을 저장할 리스트 초기화\n",
    "url_list = []\n",
    "\n",
    "# 요소 찾기\n",
    "elements = driver.find_elements(By.CLASS_NAME, 'CGtC98')\n",
    "\n",
    "# 각 요소에서 'href' 속성을 가져와 리스트에 추가 (sponsored 요소는 제외)\n",
    "for element in elements:\n",
    "    try:\n",
    "        # 'f8qK5m' 클래스를 가진 자식 요소가 있는지 확인\n",
    "        if element.find_elements(By.CLASS_NAME, 'f8qK5m'):\n",
    "            # 'f8qK5m' 클래스를 가진 자식 요소가 있다면 skip\n",
    "            continue\n",
    "        # 자식 요소가 'f8qK5m' 클래스를 가지고 있지 않다면 href 추출\n",
    "        url_value = element.get_attribute('href')\n",
    "        if url_value:  # href 속성이 있는 경우만 추가\n",
    "            url_list.append(url_value)\n",
    "    except NoSuchElementException:\n",
    "        # 자식 요소가 없으면 그냥 넘어가기\n",
    "        continue \n",
    "        \n",
    "# 리뷰 데이터를 저장할 리스트 초기화\n",
    "all_reviews = []\n",
    "\n",
    "for url in tqdm(url_list):\n",
    "    try:\n",
    "        driver.get(url)\n",
    "        \n",
    "        # XPath를 사용하여 제목 찾기. 제품 코드 별 XPATH 달라서 접근 불가... 제목에서 코드 추출하세용...\n",
    "        try:\n",
    "            # XPath를 사용하여 제목 찾기. 제품 코드 별 XPATH 달라서 접근 불가... 제목에서 코드 추출하세용... \n",
    "            list_items = driver.find_elements(By.XPATH, '//*[@id=\"container\"]/div/div[3]/div[1]/div[2]/div[2]/div/div[1]/h1/span')\n",
    "            \n",
    "            # 텍스트 추출\n",
    "            hp_data = [item.text for item in list_items]\n",
    "            if not hp_data:\n",
    "                hp_data = [\"No data\"]  # 데이터가 없을 경우 기본값\n",
    "        except (NoSuchElementException, TimeoutException) as e:\n",
    "            hp_data = [\"Error fetching data\"]  # 오류 발생 시 기본값\n",
    "        \n",
    "        # 리뷰 버튼 클릭 대기\n",
    "        try:\n",
    "            review_button = WebDriverWait(driver, 5).until(EC.presence_of_element_located((By.CLASS_NAME, \"_23J90q.RcXBOT\")))\n",
    "            if review_button.is_displayed():\n",
    "                review_button.click()\n",
    "        except (NoSuchElementException, TimeoutException):\n",
    "            pass\n",
    "        \n",
    "        # 낮은 별점 접근\n",
    "        try:\n",
    "            low_rating_option = WebDriverWait(driver, 10).until(EC.presence_of_element_located((By.CSS_SELECTOR, \"#container > div > div.VLIitu > div > div > div.DOjaWF.gdgoEp.col-9-12 > div.DOjaWF.gdgoEp.col-12-12 > div > div:nth-child(2) > div > div > div > div > select > option:nth-child(4)\")))\n",
    "            low_rating_option.click()\n",
    "        except (NoSuchElementException, TimeoutException) as e:\n",
    "            print(f\"Error selecting sort option for URL {url}: {e}\")\n",
    "        \n",
    "        # 데이터 확보\n",
    "        page_number = 1\n",
    "        \n",
    "        while True:\n",
    "            try:\n",
    "                # 페이지 URL 업데이트\n",
    "                current_url = driver.current_url\n",
    "                full_url = f'{current_url}&page={page_number}'\n",
    "                driver.get(full_url)\n",
    "                \n",
    "                # ZmyHeo 클래스의 존재 여부를 확인\n",
    "                WebDriverWait(driver, 10).until(EC.presence_of_element_located((By.CLASS_NAME, 'ZmyHeo')))\n",
    "                \n",
    "                # 데이터 추출\n",
    "                text_elements = driver.find_elements(By.CLASS_NAME, 'ZmyHeo')\n",
    "                state_elements = driver.find_elements(By.CLASS_NAME, 'MztJPv')\n",
    "                date_elements = driver.find_elements(By.CLASS_NAME, '_2NsDsF')\n",
    "                star_elements = driver.find_elements(By.XPATH, \"//*[contains(@class, 'XQDdHH') and (contains(@class, 'Js30Fc') or contains(@class, 'Czs3gR') or contains(@class, 'Ga3i8K'))]\")\n",
    "                \n",
    "                text_list = [elem.text for elem in text_elements]\n",
    "                state_list = [elem.text for elem in state_elements]\n",
    "                date_list = [elem.text for elem in date_elements]\n",
    "                dates = date_list[1::2]\n",
    "                star_list = [elem.text for elem in star_elements]\n",
    "                \n",
    "                # 리뷰 데이터를 모든 리뷰 리스트에 추가\n",
    "                for t, s, d, r in zip(text_list, state_list, dates, star_list):\n",
    "                    for data in hp_data:\n",
    "                        all_reviews.append({\n",
    "                            'text': t,\n",
    "                            'state': s,\n",
    "                            'date': d,\n",
    "                            'star': r,\n",
    "                            'hp_data': data  # 각각의 hp_data 항목을 추가\n",
    "                        })\n",
    "\n",
    "                # 페이지 번호 증가\n",
    "                page_number += 1\n",
    "                \n",
    "            except (NoSuchElementException, TimeoutException) as e:\n",
    "                print(f\"Error on page {page_number} for URL {full_url}: {e}\")\n",
    "                break\n",
    "    \n",
    "    except Exception as e:\n",
    "        print(f\"Error processing URL {url}: {e}\")\n",
    "\n",
    "# 현재 창 닫기\n",
    "driver.quit()"
   ]
  },
  {
   "cell_type": "code",
   "execution_count": 6,
   "id": "1c9378bb-ac46-47c0-b289-96ad44380f5f",
   "metadata": {},
   "outputs": [
    {
     "data": {
      "text/html": [
       "<div>\n",
       "<style scoped>\n",
       "    .dataframe tbody tr th:only-of-type {\n",
       "        vertical-align: middle;\n",
       "    }\n",
       "\n",
       "    .dataframe tbody tr th {\n",
       "        vertical-align: top;\n",
       "    }\n",
       "\n",
       "    .dataframe thead th {\n",
       "        text-align: right;\n",
       "    }\n",
       "</style>\n",
       "<table border=\"1\" class=\"dataframe\">\n",
       "  <thead>\n",
       "    <tr style=\"text-align: right;\">\n",
       "      <th></th>\n",
       "      <th>text</th>\n",
       "      <th>state</th>\n",
       "      <th>date</th>\n",
       "      <th>star</th>\n",
       "      <th>hp_data</th>\n",
       "    </tr>\n",
       "  </thead>\n",
       "  <tbody>\n",
       "    <tr>\n",
       "      <th>0</th>\n",
       "      <td>I am writing this review after using almost th...</td>\n",
       "      <td>Certified Buyer, New Delhi</td>\n",
       "      <td>Feb, 2022</td>\n",
       "      <td>1</td>\n",
       "      <td>LG 7 kg 5 Star with Smart Inverter Technology,...</td>\n",
       "    </tr>\n",
       "    <tr>\n",
       "      <th>1</th>\n",
       "      <td>Received a scratch product</td>\n",
       "      <td>Certified Buyer, Bhadrak</td>\n",
       "      <td>Oct, 2020</td>\n",
       "      <td>1</td>\n",
       "      <td>LG 7 kg 5 Star with Smart Inverter Technology,...</td>\n",
       "    </tr>\n",
       "    <tr>\n",
       "      <th>2</th>\n",
       "      <td>Very worst product Flipkart cheating customer ...</td>\n",
       "      <td>Certified Buyer, Alanganallur</td>\n",
       "      <td>Jun, 2023</td>\n",
       "      <td>1</td>\n",
       "      <td>LG 7 kg 5 Star with Smart Inverter Technology,...</td>\n",
       "    </tr>\n",
       "    <tr>\n",
       "      <th>3</th>\n",
       "      <td>Bad performance 😕🤮</td>\n",
       "      <td>Certified Buyer, Channapatna</td>\n",
       "      <td>Today</td>\n",
       "      <td>1</td>\n",
       "      <td>LG 7 kg 5 Star with Smart Inverter Technology,...</td>\n",
       "    </tr>\n",
       "    <tr>\n",
       "      <th>4</th>\n",
       "      <td>Very bad performance, need to select options m...</td>\n",
       "      <td>Certified Buyer, Hyderabad</td>\n",
       "      <td>4 days ago</td>\n",
       "      <td>1</td>\n",
       "      <td>LG 7 kg 5 Star with Smart Inverter Technology,...</td>\n",
       "    </tr>\n",
       "    <tr>\n",
       "      <th>...</th>\n",
       "      <td>...</td>\n",
       "      <td>...</td>\n",
       "      <td>...</td>\n",
       "      <td>...</td>\n",
       "      <td>...</td>\n",
       "    </tr>\n",
       "    <tr>\n",
       "      <th>1343</th>\n",
       "      <td>Touch screen very sensitive.\\n\\nNot taking fab...</td>\n",
       "      <td>Certified Buyer, Kayalpattinam</td>\n",
       "      <td>4 days ago</td>\n",
       "      <td>3</td>\n",
       "      <td>LG 9 kg 5 Star with AI Direct Drive, 6 Motion,...</td>\n",
       "    </tr>\n",
       "    <tr>\n",
       "      <th>1344</th>\n",
       "      <td>Not better performance</td>\n",
       "      <td>Certified Buyer, Jaipur</td>\n",
       "      <td>11 days ago</td>\n",
       "      <td>3</td>\n",
       "      <td>LG 9 kg 5 Star with AI Direct Drive, 6 Motion,...</td>\n",
       "    </tr>\n",
       "    <tr>\n",
       "      <th>1345</th>\n",
       "      <td>Product is good\\nBut installation by company t...</td>\n",
       "      <td>Certified Buyer, Vasai Virar</td>\n",
       "      <td>24 days ago</td>\n",
       "      <td>3</td>\n",
       "      <td>LG 9 kg 5 Star with AI Direct Drive, 6 Motion,...</td>\n",
       "    </tr>\n",
       "    <tr>\n",
       "      <th>1346</th>\n",
       "      <td>Good</td>\n",
       "      <td>Certified Buyer, Tirupathi District</td>\n",
       "      <td>1 month ago</td>\n",
       "      <td>3</td>\n",
       "      <td>LG 9 kg 5 Star with AI Direct Drive, 6 Motion,...</td>\n",
       "    </tr>\n",
       "    <tr>\n",
       "      <th>1347</th>\n",
       "      <td>Super performance</td>\n",
       "      <td>Certified Buyer, West Godavari District</td>\n",
       "      <td>Jul, 2023</td>\n",
       "      <td>5</td>\n",
       "      <td>LG 9 kg 5 Star with AI Direct Drive, 6 Motion,...</td>\n",
       "    </tr>\n",
       "  </tbody>\n",
       "</table>\n",
       "<p>1348 rows × 5 columns</p>\n",
       "</div>"
      ],
      "text/plain": [
       "                                                   text  \\\n",
       "0     I am writing this review after using almost th...   \n",
       "1                            Received a scratch product   \n",
       "2     Very worst product Flipkart cheating customer ...   \n",
       "3                                    Bad performance 😕🤮   \n",
       "4     Very bad performance, need to select options m...   \n",
       "...                                                 ...   \n",
       "1343  Touch screen very sensitive.\\n\\nNot taking fab...   \n",
       "1344                             Not better performance   \n",
       "1345  Product is good\\nBut installation by company t...   \n",
       "1346                                               Good   \n",
       "1347                                  Super performance   \n",
       "\n",
       "                                        state         date star  \\\n",
       "0                  Certified Buyer, New Delhi    Feb, 2022    1   \n",
       "1                    Certified Buyer, Bhadrak    Oct, 2020    1   \n",
       "2               Certified Buyer, Alanganallur    Jun, 2023    1   \n",
       "3                Certified Buyer, Channapatna        Today    1   \n",
       "4                  Certified Buyer, Hyderabad   4 days ago    1   \n",
       "...                                       ...          ...  ...   \n",
       "1343           Certified Buyer, Kayalpattinam   4 days ago    3   \n",
       "1344                  Certified Buyer, Jaipur  11 days ago    3   \n",
       "1345             Certified Buyer, Vasai Virar  24 days ago    3   \n",
       "1346      Certified Buyer, Tirupathi District  1 month ago    3   \n",
       "1347  Certified Buyer, West Godavari District    Jul, 2023    5   \n",
       "\n",
       "                                                hp_data  \n",
       "0     LG 7 kg 5 Star with Smart Inverter Technology,...  \n",
       "1     LG 7 kg 5 Star with Smart Inverter Technology,...  \n",
       "2     LG 7 kg 5 Star with Smart Inverter Technology,...  \n",
       "3     LG 7 kg 5 Star with Smart Inverter Technology,...  \n",
       "4     LG 7 kg 5 Star with Smart Inverter Technology,...  \n",
       "...                                                 ...  \n",
       "1343  LG 9 kg 5 Star with AI Direct Drive, 6 Motion,...  \n",
       "1344  LG 9 kg 5 Star with AI Direct Drive, 6 Motion,...  \n",
       "1345  LG 9 kg 5 Star with AI Direct Drive, 6 Motion,...  \n",
       "1346  LG 9 kg 5 Star with AI Direct Drive, 6 Motion,...  \n",
       "1347  LG 9 kg 5 Star with AI Direct Drive, 6 Motion,...  \n",
       "\n",
       "[1348 rows x 5 columns]"
      ]
     },
     "execution_count": 6,
     "metadata": {},
     "output_type": "execute_result"
    }
   ],
   "source": [
    "df_LG_wash = pd.DataFrame(all_reviews)\n",
    "df_LG_wash"
   ]
  },
  {
   "cell_type": "code",
   "execution_count": 7,
   "id": "1936ba83-857b-48e1-a979-04f3d2c056a7",
   "metadata": {},
   "outputs": [],
   "source": [
    "df_LG_wash.to_csv(\"df_LG_wash.csv\")"
   ]
  },
  {
   "cell_type": "code",
   "execution_count": null,
   "id": "ea1438ed-e068-446c-aefc-56b6d297224e",
   "metadata": {},
   "outputs": [],
   "source": []
  }
 ],
 "metadata": {
  "kernelspec": {
   "display_name": "Python 3 (ipykernel)",
   "language": "python",
   "name": "python3"
  },
  "language_info": {
   "codemirror_mode": {
    "name": "ipython",
    "version": 3
   },
   "file_extension": ".py",
   "mimetype": "text/x-python",
   "name": "python",
   "nbconvert_exporter": "python",
   "pygments_lexer": "ipython3",
   "version": "3.11.7"
  }
 },
 "nbformat": 4,
 "nbformat_minor": 5
}
