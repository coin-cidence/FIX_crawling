{
 "cells": [
  {
   "cell_type": "code",
   "execution_count": 1,
   "id": "2e16d88e-1f46-4129-8332-1c6b55cb0a46",
   "metadata": {},
   "outputs": [],
   "source": [
    "import time\n",
    "import pandas as pd\n",
    "from selenium import webdriver\n",
    "from selenium.webdriver.common.by import By\n",
    "from selenium.webdriver.common.keys import Keys\n",
    "from tqdm import tqdm\n",
    "import pyperclip\n",
    "from bs4 import BeautifulSoup as bs\n",
    "from tqdm import tqdm\n",
    "import requests as req\n",
    "from selenium.webdriver.support.ui import WebDriverWait\n",
    "from selenium.webdriver.support import expected_conditions as EC"
   ]
  },
  {
   "cell_type": "code",
   "execution_count": 2,
   "id": "169279d9-7ffa-4e23-b0cc-48648f5ccae8",
   "metadata": {},
   "outputs": [
    {
     "name": "stderr",
     "output_type": "stream",
     "text": [
      "  8%|██████▍                                                                            | 1/13 [00:30<06:06, 30.58s/it]"
     ]
    },
    {
     "name": "stdout",
     "output_type": "stream",
     "text": [
      "Error processing URL https://www.flipkart.com/samsung-8-kg-fully-automatic-front-load-washing-machine-in-built-heater-black-grey/p/itm172f0f21c5c72?pid=WMNGWY2GVJKTGFMA&lid=LSTWMNGWY2GVJKTGFMAHYBDRP&marketplace=FLIPKART&store=j9e%2Fabm%2F8qx&srno=b_1_4&otracker=CLP_Filters&iid=cbeaec52-38a5-4e46-aa66-eb90302e95a6.WMNGWY2GVJKTGFMA.SEARCH&ssid=0orj4zosao0000001724716339325: name 'NoSuchElementException' is not defined\n"
     ]
    },
    {
     "name": "stderr",
     "output_type": "stream",
     "text": [
      " 15%|████████████▊                                                                      | 2/13 [01:01<05:41, 31.04s/it]"
     ]
    },
    {
     "name": "stdout",
     "output_type": "stream",
     "text": [
      "Error processing URL https://www.flipkart.com/samsung-7-kg-5-star-ai-wi-fi-digital-inverter-fully-automatic-front-load-washing-machine-in-built-heater-silver/p/itmb2a2336207b22?pid=WMNG87FQVRVSZ5DF&lid=LSTWMNG87FQVRVSZ5DFEQEBP1&marketplace=FLIPKART&store=j9e%2Fabm%2F8qx&srno=b_1_5&otracker=CLP_Filters&iid=cbeaec52-38a5-4e46-aa66-eb90302e95a6.WMNG87FQVRVSZ5DF.SEARCH&ssid=0orj4zosao0000001724716339325: name 'NoSuchElementException' is not defined\n"
     ]
    },
    {
     "name": "stderr",
     "output_type": "stream",
     "text": [
      " 23%|███████████████████▏                                                               | 3/13 [01:30<05:00, 30.02s/it]"
     ]
    },
    {
     "name": "stdout",
     "output_type": "stream",
     "text": [
      "Error processing URL https://www.flipkart.com/samsung-7-kg-diamond-drum-fully-automatic-top-load-washing-machine-silver/p/itm45d6cd26e5975?pid=WMNFV6ZYYAEZX6HM&lid=LSTWMNFV6ZYYAEZX6HMNJZL4B&marketplace=FLIPKART&store=j9e%2Fabm%2F8qx&srno=b_1_6&otracker=CLP_Filters&iid=cbeaec52-38a5-4e46-aa66-eb90302e95a6.WMNFV6ZYYAEZX6HM.SEARCH&ssid=0orj4zosao0000001724716339325: name 'NoSuchElementException' is not defined\n"
     ]
    },
    {
     "name": "stderr",
     "output_type": "stream",
     "text": [
      " 31%|█████████████████████████▌                                                         | 4/13 [02:11<05:09, 34.38s/it]"
     ]
    },
    {
     "name": "stdout",
     "output_type": "stream",
     "text": [
      "Error processing URL https://www.flipkart.com/samsung-9-kg-5-star-ecobubble-wi-fi-digital-inverter-fully-automatic-top-load-washing-machine-grey/p/itm33fa5f2e01d9a?pid=WMNGGUWZNN6FRA5Z&lid=LSTWMNGGUWZNN6FRA5Z9MDQRS&marketplace=FLIPKART&store=j9e%2Fabm%2F8qx&srno=b_1_7&otracker=CLP_Filters&iid=cbeaec52-38a5-4e46-aa66-eb90302e95a6.WMNGGUWZNN6FRA5Z.SEARCH&ssid=0orj4zosao0000001724716339325: name 'NoSuchElementException' is not defined\n"
     ]
    },
    {
     "name": "stderr",
     "output_type": "stream",
     "text": [
      " 38%|███████████████████████████████▉                                                   | 5/13 [02:47<04:37, 34.67s/it]"
     ]
    },
    {
     "name": "stdout",
     "output_type": "stream",
     "text": [
      "Error processing URL https://www.flipkart.com/samsung-9-kg-fully-automatic-front-load-washing-machine-black/p/itmc83f45d37a375?pid=WMNGSZBQYMXB5CD3&lid=LSTWMNGSZBQYMXB5CD3YF89BE&marketplace=FLIPKART&store=j9e%2Fabm%2F8qx&srno=b_1_9&otracker=CLP_Filters&iid=cbeaec52-38a5-4e46-aa66-eb90302e95a6.WMNGSZBQYMXB5CD3.SEARCH&ssid=0orj4zosao0000001724716339325: name 'NoSuchElementException' is not defined\n"
     ]
    },
    {
     "name": "stderr",
     "output_type": "stream",
     "text": [
      " 46%|██████████████████████████████████████▎                                            | 6/13 [03:17<03:52, 33.27s/it]"
     ]
    },
    {
     "name": "stdout",
     "output_type": "stream",
     "text": [
      "Error processing URL https://www.flipkart.com/samsung-8-kg-5-star-inverter-hygiene-steam-digital-inverter-fully-automatic-front-load-washing-machine-in-built-heater-white/p/itmc178c749b4a47?pid=WMNG87FQHDDFGQYX&lid=LSTWMNG87FQHDDFGQYXBXX53D&marketplace=FLIPKART&store=j9e%2Fabm%2F8qx&srno=b_1_10&otracker=CLP_Filters&iid=cbeaec52-38a5-4e46-aa66-eb90302e95a6.WMNG87FQHDDFGQYX.SEARCH&ssid=0orj4zosao0000001724716339325: name 'NoSuchElementException' is not defined\n"
     ]
    },
    {
     "name": "stderr",
     "output_type": "stream",
     "text": [
      " 54%|████████████████████████████████████████████▋                                      | 7/13 [03:46<03:10, 31.69s/it]"
     ]
    },
    {
     "name": "stdout",
     "output_type": "stream",
     "text": [
      "Error processing URL https://www.flipkart.com/samsung-8-kg-soft-closing-door-5-star-ecobubble-super-speed-digital-inverter-fully-automatic-top-load-washing-machine-grey/p/itm14ce39a09e873?pid=WMNGGSK8H8YUPAYX&lid=LSTWMNGGSK8H8YUPAYXIBJBIT&marketplace=FLIPKART&store=j9e%2Fabm%2F8qx&srno=b_1_13&otracker=CLP_Filters&iid=cbeaec52-38a5-4e46-aa66-eb90302e95a6.WMNGGSK8H8YUPAYX.SEARCH&ssid=0orj4zosao0000001724716339325: name 'NoSuchElementException' is not defined\n"
     ]
    },
    {
     "name": "stderr",
     "output_type": "stream",
     "text": [
      " 62%|███████████████████████████████████████████████████                                | 8/13 [04:18<02:39, 31.87s/it]"
     ]
    },
    {
     "name": "stdout",
     "output_type": "stream",
     "text": [
      "Error processing URL https://www.flipkart.com/samsung-6-5-kg-5-star-air-turbo-drying-semi-automatic-top-load-washing-machine-blue-grey/p/itm0a721af2722c5?pid=WMNGCYG95M7JR7HH&lid=LSTWMNGCYG95M7JR7HHP7FO0M&marketplace=FLIPKART&store=j9e%2Fabm%2F8qx&spotlightTagId=FkPickId_j9e%2Fabm%2F8qx&srno=b_1_15&otracker=CLP_Filters&iid=cbeaec52-38a5-4e46-aa66-eb90302e95a6.WMNGCYG95M7JR7HH.SEARCH&ssid=0orj4zosao0000001724716339325: name 'NoSuchElementException' is not defined\n"
     ]
    },
    {
     "name": "stderr",
     "output_type": "stream",
     "text": [
      " 69%|█████████████████████████████████████████████████████████▍                         | 9/13 [04:58<02:18, 34.56s/it]"
     ]
    },
    {
     "name": "stdout",
     "output_type": "stream",
     "text": [
      "Error processing URL https://www.flipkart.com/samsung-9-kg-wi-fi-enabled-fully-automatic-top-load-washing-machine-in-built-heater-grey/p/itm0b03c03eba16d?pid=WMNGHZ24YQN6PNXT&lid=LSTWMNGHZ24YQN6PNXTTVSVS2&marketplace=FLIPKART&store=j9e%2Fabm%2F8qx&srno=b_1_16&otracker=CLP_Filters&iid=cbeaec52-38a5-4e46-aa66-eb90302e95a6.WMNGHZ24YQN6PNXT.SEARCH&ssid=0orj4zosao0000001724716339325: name 'NoSuchElementException' is not defined\n"
     ]
    },
    {
     "name": "stderr",
     "output_type": "stream",
     "text": [
      " 77%|███████████████████████████████████████████████████████████████                   | 10/13 [05:38<01:48, 36.26s/it]"
     ]
    },
    {
     "name": "stdout",
     "output_type": "stream",
     "text": [
      "Error processing URL https://www.flipkart.com/samsung-8-kg-5-star-ecobubble-super-speed-wi-fi-digital-inverter-fully-automatic-top-load-washing-machine-grey/p/itm60b743e9fff26?pid=WMNGZVGS8HFY3Q5X&lid=LSTWMNGZVGS8HFY3Q5X3S6CSA&marketplace=FLIPKART&store=j9e%2Fabm%2F8qx&srno=b_1_19&otracker=CLP_Filters&iid=cbeaec52-38a5-4e46-aa66-eb90302e95a6.WMNGZVGS8HFY3Q5X.SEARCH&ssid=0orj4zosao0000001724716339325: name 'NoSuchElementException' is not defined\n"
     ]
    },
    {
     "name": "stderr",
     "output_type": "stream",
     "text": [
      " 85%|█████████████████████████████████████████████████████████████████████▍            | 11/13 [06:10<01:09, 34.80s/it]"
     ]
    },
    {
     "name": "stdout",
     "output_type": "stream",
     "text": [
      "Error processing URL https://www.flipkart.com/samsung-7-5-kg-5-star-air-turbo-drying-semi-automatic-top-load-washing-machine-blue-grey/p/itmecde21cc327fa?pid=WMNGGSK86PGTMGHX&lid=LSTWMNGGSK86PGTMGHXHX6UQB&marketplace=FLIPKART&store=j9e%2Fabm%2F8qx&srno=b_1_20&otracker=CLP_Filters&iid=cbeaec52-38a5-4e46-aa66-eb90302e95a6.WMNGGSK86PGTMGHX.SEARCH&ssid=0orj4zosao0000001724716339325: name 'NoSuchElementException' is not defined\n"
     ]
    },
    {
     "name": "stderr",
     "output_type": "stream",
     "text": [
      " 92%|███████████████████████████████████████████████████████████████████████████▋      | 12/13 [06:40<00:33, 33.54s/it]"
     ]
    },
    {
     "name": "stdout",
     "output_type": "stream",
     "text": [
      "Error processing URL https://www.flipkart.com/samsung-7-kg-5-star-ecobubble-wi-fi-digital-inverter-hygiene-steam-fully-automatic-top-load-washing-machine-in-built-heater-grey/p/itm0484e1b609cf4?pid=WMNGGUWZU2HZGVQX&lid=LSTWMNGGUWZU2HZGVQXKINO8Z&marketplace=FLIPKART&store=j9e%2Fabm%2F8qx&srno=b_1_23&otracker=CLP_Filters&iid=cbeaec52-38a5-4e46-aa66-eb90302e95a6.WMNGGUWZU2HZGVQX.SEARCH&ssid=0orj4zosao0000001724716339325: name 'NoSuchElementException' is not defined\n"
     ]
    },
    {
     "name": "stderr",
     "output_type": "stream",
     "text": [
      "100%|██████████████████████████████████████████████████████████████████████████████████| 13/13 [07:17<00:00, 33.67s/it]"
     ]
    },
    {
     "name": "stdout",
     "output_type": "stream",
     "text": [
      "Error processing URL https://www.flipkart.com/samsung-7-kg-5-star-hygiene-steam-inbuilt-heater-led-display-diamond-drum-digital-inverter-fully-automatic-front-load-washing-machine-silver/p/itm4452b8a8e27e9?pid=WMNGVGCN4EQPKUPE&lid=LSTWMNGVGCN4EQPKUPEEK3YEW&marketplace=FLIPKART&store=j9e%2Fabm%2F8qx&srno=b_1_24&otracker=CLP_Filters&iid=cbeaec52-38a5-4e46-aa66-eb90302e95a6.WMNGVGCN4EQPKUPE.SEARCH&ssid=0orj4zosao0000001724716339325: name 'NoSuchElementException' is not defined\n"
     ]
    },
    {
     "name": "stderr",
     "output_type": "stream",
     "text": [
      "\n"
     ]
    }
   ],
   "source": [
    "  # 웹드라이버 실행\n",
    "driver = webdriver.Chrome()\n",
    "\n",
    "# 제품 목록 페이지 로드\n",
    "driver.get(\"https://www.flipkart.com/search?sid=j9e%2Fabm%2F8qx&otracker=CLP_Filters&p%5B%5D=facets.brand%255B%255D%3DSAMSUNG\")\n",
    "\n",
    "# 페이지 로딩 대기\n",
    "WebDriverWait(driver, 10).until(EC.presence_of_element_located((By.CLASS_NAME, 'CGtC98')))\n",
    "\n",
    "# URL을 저장할 리스트 초기화\n",
    "url_list = []\n",
    "\n",
    "# 요소 찾기\n",
    "elements = driver.find_elements(By.CLASS_NAME, 'CGtC98')\n",
    "\n",
    "# 각 요소에서 'href' 속성을 가져와 리스트에 추가 (sponsored 요소는 제외)\n",
    "for element in elements:\n",
    "    try:\n",
    "        # 'f8qK5m' 클래스를 가진 자식 요소가 있는지 확인\n",
    "        if element.find_elements(By.CLASS_NAME, 'f8qK5m'):\n",
    "            # 'f8qK5m' 클래스를 가진 자식 요소가 있다면 skip\n",
    "            continue\n",
    "        # 자식 요소가 'f8qK5m' 클래스를 가지고 있지 않다면 href 추출\n",
    "        url_value = element.get_attribute('href')\n",
    "        if url_value:  # href 속성이 있는 경우만 추가\n",
    "            url_list.append(url_value)\n",
    "    except NoSuchElementException:\n",
    "        # 자식 요소가 없으면 그냥 넘어가기\n",
    "        continue \n",
    "        \n",
    "# 리뷰 데이터를 저장할 리스트 초기화\n",
    "all_reviews = []\n",
    "\n",
    "for url in tqdm(url_list):\n",
    "    try:\n",
    "        driver.get(url)\n",
    "        \n",
    "        # XPath를 사용하여 제목 찾기. 제품 코드 별 XPATH 달라서 접근 불가... 제목에서 코드 추출하세용...\n",
    "        try:\n",
    "            # XPath를 사용하여 제목 찾기. 제품 코드 별 XPATH 달라서 접근 불가... 제목에서 코드 추출하세용... \n",
    "            list_items = driver.find_elements(By.XPATH, '//*[@id=\"container\"]/div/div[3]/div[1]/div[2]/div[2]/div/div[1]/h1/span')\n",
    "            \n",
    "            # 텍스트 추출\n",
    "            hp_data = [item.text for item in list_items]\n",
    "            if not hp_data:\n",
    "                hp_data = [\"No data\"]  # 데이터가 없을 경우 기본값\n",
    "        except (NoSuchElementException, TimeoutException) as e:\n",
    "            hp_data = [\"Error fetching data\"]  # 오류 발생 시 기본값\n",
    "        \n",
    "        # 리뷰 버튼 클릭 대기\n",
    "        try:\n",
    "            review_button = WebDriverWait(driver, 5).until(EC.presence_of_element_located((By.CLASS_NAME, \"_23J90q.RcXBOT\")))\n",
    "            if review_button.is_displayed():\n",
    "                review_button.click()\n",
    "        except (NoSuchElementException, TimeoutException):\n",
    "            pass\n",
    "        \n",
    "        # 낮은 별점 접근\n",
    "        try:\n",
    "            low_rating_option = WebDriverWait(driver, 10).until(EC.presence_of_element_located((By.CSS_SELECTOR, \"#container > div > div.VLIitu > div > div > div.DOjaWF.gdgoEp.col-9-12 > div.DOjaWF.gdgoEp.col-12-12 > div > div:nth-child(2) > div > div > div > div > select > option:nth-child(4)\")))\n",
    "            low_rating_option.click()\n",
    "        except (NoSuchElementException, TimeoutException) as e:\n",
    "            print(f\"Error selecting sort option for URL {url}: {e}\")\n",
    "        \n",
    "        # 데이터 확보\n",
    "        page_number = 1\n",
    "        \n",
    "        while True:\n",
    "            try:\n",
    "                # 페이지 URL 업데이트\n",
    "                current_url = driver.current_url\n",
    "                full_url = f'{current_url}&page={page_number}'\n",
    "                driver.get(full_url)\n",
    "                \n",
    "                # ZmyHeo 클래스의 존재 여부를 확인\n",
    "                WebDriverWait(driver, 10).until(EC.presence_of_element_located((By.CLASS_NAME, 'ZmyHeo')))\n",
    "                \n",
    "                # 데이터 추출\n",
    "                text_elements = driver.find_elements(By.CLASS_NAME, 'ZmyHeo')\n",
    "                state_elements = driver.find_elements(By.CLASS_NAME, 'MztJPv')\n",
    "                date_elements = driver.find_elements(By.CLASS_NAME, '_2NsDsF')\n",
    "                star_elements = driver.find_elements(By.XPATH, \"//*[contains(@class, 'XQDdHH') and (contains(@class, 'Js30Fc') or contains(@class, 'Czs3gR') or contains(@class, 'Ga3i8K'))]\")\n",
    "                \n",
    "                text_list = [elem.text for elem in text_elements]\n",
    "                state_list = [elem.text for elem in state_elements]\n",
    "                date_list = [elem.text for elem in date_elements]\n",
    "                dates = date_list[1::2]\n",
    "                star_list = [elem.text for elem in star_elements]\n",
    "                \n",
    "                # 리뷰 데이터를 모든 리뷰 리스트에 추가\n",
    "                for t, s, d, r in zip(text_list, state_list, dates, star_list):\n",
    "                    for data in hp_data:\n",
    "                        all_reviews.append({\n",
    "                            'text': t,\n",
    "                            'state': s,\n",
    "                            'date': d,\n",
    "                            'star': r,\n",
    "                            'hp_data': data  # 각각의 hp_data 항목을 추가\n",
    "                        })\n",
    "\n",
    "                # 페이지 번호 증가\n",
    "                page_number += 1\n",
    "                \n",
    "            except (NoSuchElementException, TimeoutException) as e:\n",
    "                print(f\"Error on page {page_number} for URL {full_url}: {e}\")\n",
    "                break\n",
    "    \n",
    "    except Exception as e:\n",
    "        print(f\"Error processing URL {url}: {e}\")\n",
    "\n",
    "# 현재 창 닫기\n",
    "driver.quit()"
   ]
  },
  {
   "cell_type": "code",
   "execution_count": 3,
   "id": "1c9378bb-ac46-47c0-b289-96ad44380f5f",
   "metadata": {},
   "outputs": [
    {
     "data": {
      "text/html": [
       "<div>\n",
       "<style scoped>\n",
       "    .dataframe tbody tr th:only-of-type {\n",
       "        vertical-align: middle;\n",
       "    }\n",
       "\n",
       "    .dataframe tbody tr th {\n",
       "        vertical-align: top;\n",
       "    }\n",
       "\n",
       "    .dataframe thead th {\n",
       "        text-align: right;\n",
       "    }\n",
       "</style>\n",
       "<table border=\"1\" class=\"dataframe\">\n",
       "  <thead>\n",
       "    <tr style=\"text-align: right;\">\n",
       "      <th></th>\n",
       "      <th>text</th>\n",
       "      <th>state</th>\n",
       "      <th>date</th>\n",
       "      <th>star</th>\n",
       "      <th>hp_data</th>\n",
       "    </tr>\n",
       "  </thead>\n",
       "  <tbody>\n",
       "    <tr>\n",
       "      <th>0</th>\n",
       "      <td>Product is making loud rattling noise</td>\n",
       "      <td>Certified Buyer, Pune</td>\n",
       "      <td>9 months ago</td>\n",
       "      <td>1</td>\n",
       "      <td>SAMSUNG 8 kg Fully Automatic Front Load Washin...</td>\n",
       "    </tr>\n",
       "    <tr>\n",
       "      <th>1</th>\n",
       "      <td>Very bad experience with installation.\\nProduc...</td>\n",
       "      <td>Certified Buyer, Vashind</td>\n",
       "      <td>Oct, 2022</td>\n",
       "      <td>1</td>\n",
       "      <td>SAMSUNG 8 kg Fully Automatic Front Load Washin...</td>\n",
       "    </tr>\n",
       "    <tr>\n",
       "      <th>2</th>\n",
       "      <td>The touch pad of the machine has issues from d...</td>\n",
       "      <td>Certified Buyer, Mumbai</td>\n",
       "      <td>2 days ago</td>\n",
       "      <td>1</td>\n",
       "      <td>SAMSUNG 8 kg Fully Automatic Front Load Washin...</td>\n",
       "    </tr>\n",
       "    <tr>\n",
       "      <th>3</th>\n",
       "      <td>Not satisfied</td>\n",
       "      <td>Certified Buyer, Vijayawada</td>\n",
       "      <td>10 days ago</td>\n",
       "      <td>1</td>\n",
       "      <td>SAMSUNG 8 kg Fully Automatic Front Load Washin...</td>\n",
       "    </tr>\n",
       "    <tr>\n",
       "      <th>4</th>\n",
       "      <td>After 2 days using having issue of water suppl...</td>\n",
       "      <td>Certified Buyer, Hyderabad</td>\n",
       "      <td>13 days ago</td>\n",
       "      <td>1</td>\n",
       "      <td>SAMSUNG 8 kg Fully Automatic Front Load Washin...</td>\n",
       "    </tr>\n",
       "    <tr>\n",
       "      <th>...</th>\n",
       "      <td>...</td>\n",
       "      <td>...</td>\n",
       "      <td>...</td>\n",
       "      <td>...</td>\n",
       "      <td>...</td>\n",
       "    </tr>\n",
       "    <tr>\n",
       "      <th>1397</th>\n",
       "      <td>This machine does not work on normal tap water...</td>\n",
       "      <td>Certified Buyer, Vasai Virar</td>\n",
       "      <td>Apr, 2022</td>\n",
       "      <td>1</td>\n",
       "      <td>SAMSUNG 7 kg 5 star, Hygiene Steam with Inbuil...</td>\n",
       "    </tr>\n",
       "    <tr>\n",
       "      <th>1398</th>\n",
       "      <td>the product was delivered on 24 Mar 22. Very v...</td>\n",
       "      <td>Certified Buyer, Bharatpur District</td>\n",
       "      <td>Mar, 2022</td>\n",
       "      <td>1</td>\n",
       "      <td>SAMSUNG 7 kg 5 star, Hygiene Steam with Inbuil...</td>\n",
       "    </tr>\n",
       "    <tr>\n",
       "      <th>1399</th>\n",
       "      <td>Machine acts insane if a single extra cloth ad...</td>\n",
       "      <td>Certified Buyer, Navi Mumbai</td>\n",
       "      <td>Mar, 2022</td>\n",
       "      <td>1</td>\n",
       "      <td>SAMSUNG 7 kg 5 star, Hygiene Steam with Inbuil...</td>\n",
       "    </tr>\n",
       "    <tr>\n",
       "      <th>1400</th>\n",
       "      <td>Drum is shaking in 2 years.</td>\n",
       "      <td>Certified Buyer, Pune</td>\n",
       "      <td>Feb, 2022</td>\n",
       "      <td>1</td>\n",
       "      <td>SAMSUNG 7 kg 5 star, Hygiene Steam with Inbuil...</td>\n",
       "    </tr>\n",
       "    <tr>\n",
       "      <th>1401</th>\n",
       "      <td>Worst washing machine don't buy</td>\n",
       "      <td>Certified Buyer, Ponduru</td>\n",
       "      <td>Dec, 2021</td>\n",
       "      <td>1</td>\n",
       "      <td>SAMSUNG 7 kg 5 star, Hygiene Steam with Inbuil...</td>\n",
       "    </tr>\n",
       "  </tbody>\n",
       "</table>\n",
       "<p>1402 rows × 5 columns</p>\n",
       "</div>"
      ],
      "text/plain": [
       "                                                   text  \\\n",
       "0                 Product is making loud rattling noise   \n",
       "1     Very bad experience with installation.\\nProduc...   \n",
       "2     The touch pad of the machine has issues from d...   \n",
       "3                                         Not satisfied   \n",
       "4     After 2 days using having issue of water suppl...   \n",
       "...                                                 ...   \n",
       "1397  This machine does not work on normal tap water...   \n",
       "1398  the product was delivered on 24 Mar 22. Very v...   \n",
       "1399  Machine acts insane if a single extra cloth ad...   \n",
       "1400                        Drum is shaking in 2 years.   \n",
       "1401                    Worst washing machine don't buy   \n",
       "\n",
       "                                    state          date star  \\\n",
       "0                   Certified Buyer, Pune  9 months ago    1   \n",
       "1                Certified Buyer, Vashind     Oct, 2022    1   \n",
       "2                 Certified Buyer, Mumbai    2 days ago    1   \n",
       "3             Certified Buyer, Vijayawada   10 days ago    1   \n",
       "4              Certified Buyer, Hyderabad   13 days ago    1   \n",
       "...                                   ...           ...  ...   \n",
       "1397         Certified Buyer, Vasai Virar     Apr, 2022    1   \n",
       "1398  Certified Buyer, Bharatpur District     Mar, 2022    1   \n",
       "1399         Certified Buyer, Navi Mumbai     Mar, 2022    1   \n",
       "1400                Certified Buyer, Pune     Feb, 2022    1   \n",
       "1401             Certified Buyer, Ponduru     Dec, 2021    1   \n",
       "\n",
       "                                                hp_data  \n",
       "0     SAMSUNG 8 kg Fully Automatic Front Load Washin...  \n",
       "1     SAMSUNG 8 kg Fully Automatic Front Load Washin...  \n",
       "2     SAMSUNG 8 kg Fully Automatic Front Load Washin...  \n",
       "3     SAMSUNG 8 kg Fully Automatic Front Load Washin...  \n",
       "4     SAMSUNG 8 kg Fully Automatic Front Load Washin...  \n",
       "...                                                 ...  \n",
       "1397  SAMSUNG 7 kg 5 star, Hygiene Steam with Inbuil...  \n",
       "1398  SAMSUNG 7 kg 5 star, Hygiene Steam with Inbuil...  \n",
       "1399  SAMSUNG 7 kg 5 star, Hygiene Steam with Inbuil...  \n",
       "1400  SAMSUNG 7 kg 5 star, Hygiene Steam with Inbuil...  \n",
       "1401  SAMSUNG 7 kg 5 star, Hygiene Steam with Inbuil...  \n",
       "\n",
       "[1402 rows x 5 columns]"
      ]
     },
     "execution_count": 3,
     "metadata": {},
     "output_type": "execute_result"
    }
   ],
   "source": [
    "df_SS_wash = pd.DataFrame(all_reviews)\n",
    "df_SS_wash"
   ]
  },
  {
   "cell_type": "code",
   "execution_count": 4,
   "id": "808141fd-4514-4738-8013-b0361a9bd0a6",
   "metadata": {},
   "outputs": [],
   "source": [
    "df_SS_wash.to_csv(\"df_SS_wash.csv\")"
   ]
  },
  {
   "cell_type": "code",
   "execution_count": null,
   "id": "f9805cad-d12b-4e22-8479-6e6df6eb6555",
   "metadata": {},
   "outputs": [],
   "source": []
  }
 ],
 "metadata": {
  "kernelspec": {
   "display_name": "Python 3 (ipykernel)",
   "language": "python",
   "name": "python3"
  },
  "language_info": {
   "codemirror_mode": {
    "name": "ipython",
    "version": 3
   },
   "file_extension": ".py",
   "mimetype": "text/x-python",
   "name": "python",
   "nbconvert_exporter": "python",
   "pygments_lexer": "ipython3",
   "version": "3.11.7"
  }
 },
 "nbformat": 4,
 "nbformat_minor": 5
}
