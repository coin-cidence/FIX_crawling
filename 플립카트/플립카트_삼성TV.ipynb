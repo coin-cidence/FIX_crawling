{
 "cells": [
  {
   "cell_type": "code",
   "execution_count": 2,
   "id": "2e16d88e-1f46-4129-8332-1c6b55cb0a46",
   "metadata": {},
   "outputs": [],
   "source": [
    "import time\n",
    "import pandas as pd\n",
    "from selenium import webdriver\n",
    "from selenium.webdriver.common.by import By\n",
    "from selenium.webdriver.common.keys import Keys\n",
    "from tqdm import tqdm\n",
    "import pyperclip\n",
    "from bs4 import BeautifulSoup as bs\n",
    "from tqdm import tqdm\n",
    "import requests as req\n",
    "from selenium.webdriver.support.ui import WebDriverWait\n",
    "from selenium.webdriver.support import expected_conditions as EC"
   ]
  },
  {
   "cell_type": "code",
   "execution_count": 3,
   "id": "169279d9-7ffa-4e23-b0cc-48648f5ccae8",
   "metadata": {},
   "outputs": [
    {
     "name": "stderr",
     "output_type": "stream",
     "text": [
      "  7%|█████▉                                                                             | 1/14 [00:46<09:58, 46.03s/it]"
     ]
    },
    {
     "name": "stdout",
     "output_type": "stream",
     "text": [
      "Error processing URL https://www.flipkart.com/samsung-80-cm-32-inch-hd-ready-led-smart-tizen-tv-bezel-free-design/p/itm33b1495b9e937?pid=TVSGHY2UZA9YHWQN&lid=LSTTVSGHY2UZA9YHWQNCPAW6M&marketplace=FLIPKART&store=ckf%2Fczl&spotlightTagId=BestsellerId_ckf%2Fczl&srno=b_1_3&otracker=browse&iid=ecc6a000-ccaf-42f0-9341-519e5dc0e992.TVSGHY2UZA9YHWQN.SEARCH&ssid=bbkdqs9v7k0000001724716326184: name 'NoSuchElementException' is not defined\n"
     ]
    },
    {
     "name": "stderr",
     "output_type": "stream",
     "text": [
      " 14%|███████████▊                                                                       | 2/14 [01:14<07:11, 35.98s/it]"
     ]
    },
    {
     "name": "stdout",
     "output_type": "stream",
     "text": [
      "Error processing URL https://www.flipkart.com/samsung-108-cm-43-inch-full-hd-led-smart-tizen-tv/p/itm1f514be8d5bad?pid=TVSGRS7GYVN3UZNZ&lid=LSTTVSGRS7GYVN3UZNZULGKSS&marketplace=FLIPKART&store=ckf%2Fczl&srno=b_1_4&otracker=browse&iid=ecc6a000-ccaf-42f0-9341-519e5dc0e992.TVSGRS7GYVN3UZNZ.SEARCH&ssid=bbkdqs9v7k0000001724716326184: name 'NoSuchElementException' is not defined\n"
     ]
    },
    {
     "name": "stderr",
     "output_type": "stream",
     "text": [
      " 21%|█████████████████▊                                                                 | 3/14 [02:16<08:42, 47.50s/it]"
     ]
    },
    {
     "name": "stdout",
     "output_type": "stream",
     "text": [
      "Error processing URL https://www.flipkart.com/samsung-new-d-series-brighter-crystal-4k-vision-pro-2024-edition-108-cm-43-inch-ultra-hd-4k-led-smart-tizen-tv/p/itm6b7dcf71160e7?pid=TVSGYWKBKGZZ7FKY&lid=LSTTVSGYWKBKGZZ7FKYGN28O7&marketplace=FLIPKART&store=ckf%2Fczl&srno=b_1_5&otracker=browse&iid=ecc6a000-ccaf-42f0-9341-519e5dc0e992.TVSGYWKBKGZZ7FKY.SEARCH&ssid=bbkdqs9v7k0000001724716326184: name 'NoSuchElementException' is not defined\n"
     ]
    },
    {
     "name": "stderr",
     "output_type": "stream",
     "text": [
      " 29%|███████████████████████▋                                                           | 4/14 [03:00<07:44, 46.44s/it]"
     ]
    },
    {
     "name": "stdout",
     "output_type": "stream",
     "text": [
      "Error processing URL https://www.flipkart.com/samsung-new-d-series-brighter-crystal-4k-vivid-2024-edition-108-cm-43-inch-ultra-hd-4k-led-smart-tizen-tv/p/itm9d5576160e1ff?pid=TVSGYWKBHZW56DSB&lid=LSTTVSGYWKBHZW56DSB5EFHWV&marketplace=FLIPKART&store=ckf%2Fczl&srno=b_1_6&otracker=browse&iid=ecc6a000-ccaf-42f0-9341-519e5dc0e992.TVSGYWKBHZW56DSB.SEARCH&ssid=bbkdqs9v7k0000001724716326184: name 'NoSuchElementException' is not defined\n"
     ]
    },
    {
     "name": "stderr",
     "output_type": "stream",
     "text": [
      " 36%|█████████████████████████████▋                                                     | 5/14 [03:42<06:42, 44.69s/it]"
     ]
    },
    {
     "name": "stdout",
     "output_type": "stream",
     "text": [
      "Error processing URL https://www.flipkart.com/samsung-new-d-series-brighter-crystal-4k-vivid-2024-edition-138-cm-55-inch-ultra-hd-4k-led-smart-tizen-tv/p/itm97e049ea0beb1?pid=TVSGYWKBQFHPGMNH&lid=LSTTVSGYWKBQFHPGMNH23EXGG&marketplace=FLIPKART&store=ckf%2Fczl&srno=b_1_9&otracker=browse&iid=ecc6a000-ccaf-42f0-9341-519e5dc0e992.TVSGYWKBQFHPGMNH.SEARCH&ssid=bbkdqs9v7k0000001724716326184: name 'NoSuchElementException' is not defined\n"
     ]
    },
    {
     "name": "stderr",
     "output_type": "stream",
     "text": [
      " 43%|███████████████████████████████████▌                                               | 6/14 [04:23<05:46, 43.33s/it]"
     ]
    },
    {
     "name": "stdout",
     "output_type": "stream",
     "text": [
      "Error processing URL https://www.flipkart.com/samsung-crystal-4k-ismart-series-108-cm-43-inch-ultra-hd-4k-led-smart-tizen-tv/p/itm7a343870e0150?pid=TVSGZF57QGYKHGNS&lid=LSTTVSGZF57QGYKHGNSWCWTOY&marketplace=FLIPKART&store=ckf%2Fczl&srno=b_1_10&otracker=browse&iid=ecc6a000-ccaf-42f0-9341-519e5dc0e992.TVSGZF57QGYKHGNS.SEARCH&ssid=bbkdqs9v7k0000001724716326184: name 'NoSuchElementException' is not defined\n"
     ]
    },
    {
     "name": "stderr",
     "output_type": "stream",
     "text": [
      " 50%|█████████████████████████████████████████▌                                         | 7/14 [05:19<05:33, 47.68s/it]"
     ]
    },
    {
     "name": "stdout",
     "output_type": "stream",
     "text": [
      "Error processing URL https://www.flipkart.com/samsung-crystal-vision-4k-ismart-voice-assistant-108-cm-43-inch-ultra-hd-4k-led-smart-tizen-tv-iot-sensors-light-camera/p/itm0aa7ed39f32ea?pid=TVSGRNGZGWNFGCZM&lid=LSTTVSGRNGZGWNFGCZMTFVV78&marketplace=FLIPKART&store=ckf%2Fczl&spotlightTagId=FkPickId_ckf%2Fczl&srno=b_1_13&otracker=browse&iid=ecc6a000-ccaf-42f0-9341-519e5dc0e992.TVSGRNGZGWNFGCZM.SEARCH&ssid=bbkdqs9v7k0000001724716326184: name 'NoSuchElementException' is not defined\n"
     ]
    },
    {
     "name": "stderr",
     "output_type": "stream",
     "text": [
      " 57%|███████████████████████████████████████████████▍                                   | 8/14 [05:59<04:30, 45.14s/it]"
     ]
    },
    {
     "name": "stdout",
     "output_type": "stream",
     "text": [
      "Error processing URL https://www.flipkart.com/samsung-80-cm-32-inch-hd-ready-led-smart-tizen-tv/p/itm7d22580d924e1?pid=TVSFQXFKMHUDYCJ3&lid=LSTTVSFQXFKMHUDYCJ3RNXMI5&marketplace=FLIPKART&store=ckf%2Fczl&srno=b_1_14&otracker=browse&iid=ecc6a000-ccaf-42f0-9341-519e5dc0e992.TVSFQXFKMHUDYCJ3.SEARCH&ssid=bbkdqs9v7k0000001724716326184: name 'NoSuchElementException' is not defined\n"
     ]
    },
    {
     "name": "stderr",
     "output_type": "stream",
     "text": [
      " 64%|█████████████████████████████████████████████████████▎                             | 9/14 [06:43<03:43, 44.61s/it]"
     ]
    },
    {
     "name": "stdout",
     "output_type": "stream",
     "text": [
      "Error processing URL https://www.flipkart.com/samsung-crystal-4k-ismart-series-138-cm-55-inch-ultra-hd-4k-led-smart-tizen-tv/p/itm286a7b8b50523?pid=TVSGZF57Y3PJHUTA&lid=LSTTVSGZF57Y3PJHUTARVXEX5&marketplace=FLIPKART&store=ckf%2Fczl&srno=b_1_15&otracker=browse&iid=ecc6a000-ccaf-42f0-9341-519e5dc0e992.TVSGZF57Y3PJHUTA.SEARCH&ssid=bbkdqs9v7k0000001724716326184: name 'NoSuchElementException' is not defined\n"
     ]
    },
    {
     "name": "stderr",
     "output_type": "stream",
     "text": [
      " 71%|██████████████████████████████████████████████████████████▌                       | 10/14 [07:26<02:56, 44.13s/it]"
     ]
    },
    {
     "name": "stdout",
     "output_type": "stream",
     "text": [
      "Error processing URL https://www.flipkart.com/samsung-crystal-4k-ismart-series-163-cm-65-inch-ultra-hd-4k-led-smart-tizen-tv/p/itm324f535a17b0a?pid=TVSGZF57PTJA3ZQY&lid=LSTTVSGZF57PTJA3ZQYNGMFJD&marketplace=FLIPKART&store=ckf%2Fczl&srno=b_1_16&otracker=browse&iid=ecc6a000-ccaf-42f0-9341-519e5dc0e992.TVSGZF57PTJA3ZQY.SEARCH&ssid=bbkdqs9v7k0000001724716326184: name 'NoSuchElementException' is not defined\n"
     ]
    },
    {
     "name": "stderr",
     "output_type": "stream",
     "text": [
      " 79%|████████████████████████████████████████████████████████████████▍                 | 11/14 [07:33<01:38, 32.77s/it]"
     ]
    },
    {
     "name": "stdout",
     "output_type": "stream",
     "text": [
      "Error processing URL https://www.flipkart.com/samsung-108-cm-43-inch-ultra-hd-4k-led-smart-tizen-tv-2024/p/itm738ba48ae5cbd?pid=TVSGYWKBF2FFP6PT&lid=LSTTVSGYWKBF2FFP6PTYT7NJH&marketplace=FLIPKART&store=ckf%2Fczl&srno=b_1_19&otracker=browse&iid=ecc6a000-ccaf-42f0-9341-519e5dc0e992.TVSGYWKBF2FFP6PT.SEARCH&ssid=bbkdqs9v7k0000001724716326184: name 'NoSuchElementException' is not defined\n"
     ]
    },
    {
     "name": "stderr",
     "output_type": "stream",
     "text": [
      " 86%|██████████████████████████████████████████████████████████████████████▎           | 12/14 [07:59<01:01, 30.69s/it]"
     ]
    },
    {
     "name": "stdout",
     "output_type": "stream",
     "text": [
      "Error processing URL https://www.flipkart.com/samsung-80-cm-32-inch-hd-ready-led-tv/p/itm29e849f834662?pid=TVSFZRNNEEEXPGGG&lid=LSTTVSFZRNNEEEXPGGGIX210G&marketplace=FLIPKART&store=ckf%2Fczl&srno=b_1_20&otracker=browse&iid=ecc6a000-ccaf-42f0-9341-519e5dc0e992.TVSFZRNNEEEXPGGG.SEARCH&ssid=bbkdqs9v7k0000001724716326184: name 'NoSuchElementException' is not defined\n"
     ]
    },
    {
     "name": "stderr",
     "output_type": "stream",
     "text": [
      " 93%|████████████████████████████████████████████████████████████████████████████▏     | 13/14 [08:50<00:37, 37.07s/it]"
     ]
    },
    {
     "name": "stdout",
     "output_type": "stream",
     "text": [
      "Error processing URL https://www.flipkart.com/samsung-new-d-series-brighter-crystal-4k-vision-pro-2024-edition-125-cm-50-inch-ultra-hd-4k-led-smart-tizen-tv/p/itm84ebe7efb3a04?pid=TVSGYWKBERHVSKKB&lid=LSTTVSGYWKBERHVSKKBO0HVNH&marketplace=FLIPKART&store=ckf%2Fczl&srno=b_1_23&otracker=browse&iid=ecc6a000-ccaf-42f0-9341-519e5dc0e992.TVSGYWKBERHVSKKB.SEARCH&ssid=bbkdqs9v7k0000001724716326184: name 'NoSuchElementException' is not defined\n"
     ]
    },
    {
     "name": "stderr",
     "output_type": "stream",
     "text": [
      "100%|██████████████████████████████████████████████████████████████████████████████████| 14/14 [09:51<00:00, 42.22s/it]"
     ]
    },
    {
     "name": "stdout",
     "output_type": "stream",
     "text": [
      "Error processing URL https://www.flipkart.com/samsung-crystal-vision-4k-ismart-voice-assistant-163-cm-65-inch-ultra-hd-4k-led-smart-tizen-tv-iot-sensors-light-camera/p/itmc22cd15e47d2f?pid=TVSGRNGZ77Y3X2UH&lid=LSTTVSGRNGZ77Y3X2UHMOXPN3&marketplace=FLIPKART&store=ckf%2Fczl&srno=b_1_24&otracker=browse&iid=ecc6a000-ccaf-42f0-9341-519e5dc0e992.TVSGRNGZ77Y3X2UH.SEARCH&ssid=bbkdqs9v7k0000001724716326184: name 'NoSuchElementException' is not defined\n"
     ]
    },
    {
     "name": "stderr",
     "output_type": "stream",
     "text": [
      "\n"
     ]
    }
   ],
   "source": [
    "  # 웹드라이버 실행\n",
    "driver = webdriver.Chrome()\n",
    "\n",
    "# 제품 목록 페이지 로드\n",
    "driver.get(\"https://www.flipkart.com/televisions/pr?sid=ckf%2Cczl&p%5B%5D=facets.availability%255B%255D%3DExclude%2BOut%2Bof%2BStock&otracker=categorytree&p%5B%5D=facets.serviceability%5B%5D%3Dtrue&p%5B%5D=facets.brand%255B%255D%3DSamsung&otracker=nmenu_sub_TVs%20%26%20Appliances_0_Samsung\")\n",
    "\n",
    "# 페이지 로딩 대기\n",
    "WebDriverWait(driver, 10).until(EC.presence_of_element_located((By.CLASS_NAME, 'CGtC98')))\n",
    "\n",
    "# URL을 저장할 리스트 초기화\n",
    "url_list = []\n",
    "\n",
    "# 요소 찾기\n",
    "elements = driver.find_elements(By.CLASS_NAME, 'CGtC98')\n",
    "\n",
    "# 각 요소에서 'href' 속성을 가져와 리스트에 추가 (sponsored 요소는 제외)\n",
    "for element in elements:\n",
    "    try:\n",
    "        # 'f8qK5m' 클래스를 가진 자식 요소가 있는지 확인\n",
    "        if element.find_elements(By.CLASS_NAME, 'f8qK5m'):\n",
    "            # 'f8qK5m' 클래스를 가진 자식 요소가 있다면 skip\n",
    "            continue\n",
    "        # 자식 요소가 'f8qK5m' 클래스를 가지고 있지 않다면 href 추출\n",
    "        url_value = element.get_attribute('href')\n",
    "        if url_value:  # href 속성이 있는 경우만 추가\n",
    "            url_list.append(url_value)\n",
    "    except NoSuchElementException:\n",
    "        # 자식 요소가 없으면 그냥 넘어가기\n",
    "        continue \n",
    "        \n",
    "# 리뷰 데이터를 저장할 리스트 초기화\n",
    "all_reviews = []\n",
    "\n",
    "for url in tqdm(url_list):\n",
    "    try:\n",
    "        driver.get(url)\n",
    "        \n",
    "        # XPath를 사용하여 제목 찾기. 제품 코드 별 XPATH 달라서 접근 불가... 제목에서 코드 추출하세용...\n",
    "        try:\n",
    "            # XPath를 사용하여 제목 찾기. 제품 코드 별 XPATH 달라서 접근 불가... 제목에서 코드 추출하세용... \n",
    "            list_items = driver.find_elements(By.XPATH, '//*[@id=\"container\"]/div/div[3]/div[1]/div[2]/div[2]/div/div[1]/h1/span')\n",
    "            \n",
    "            # 텍스트 추출\n",
    "            hp_data = [item.text for item in list_items]\n",
    "            if not hp_data:\n",
    "                hp_data = [\"No data\"]  # 데이터가 없을 경우 기본값\n",
    "        except (NoSuchElementException, TimeoutException) as e:\n",
    "            hp_data = [\"Error fetching data\"]  # 오류 발생 시 기본값\n",
    "            \n",
    "        # 리뷰 버튼 클릭 대기\n",
    "        try:\n",
    "            review_button = WebDriverWait(driver, 5).until(EC.presence_of_element_located((By.CLASS_NAME, \"_23J90q.RcXBOT\")))\n",
    "            if review_button.is_displayed():\n",
    "                review_button.click()\n",
    "        except (NoSuchElementException, TimeoutException):\n",
    "            pass\n",
    "        \n",
    "        # 낮은 별점 접근\n",
    "        try:\n",
    "            low_rating_option = WebDriverWait(driver, 10).until(EC.presence_of_element_located((By.CSS_SELECTOR, \"#container > div > div.VLIitu > div > div > div.DOjaWF.gdgoEp.col-9-12 > div.DOjaWF.gdgoEp.col-12-12 > div > div:nth-child(2) > div > div > div > div > select > option:nth-child(4)\")))\n",
    "            low_rating_option.click()\n",
    "        except (NoSuchElementException, TimeoutException) as e:\n",
    "            print(f\"Error selecting sort option for URL {url}: {e}\")\n",
    "        \n",
    "        # 데이터 확보\n",
    "        page_number = 1\n",
    "        \n",
    "        while True:\n",
    "            try:\n",
    "                # 페이지 URL 업데이트\n",
    "                current_url = driver.current_url\n",
    "                full_url = f'{current_url}&page={page_number}'\n",
    "                driver.get(full_url)\n",
    "                \n",
    "                # ZmyHeo 클래스의 존재 여부를 확인\n",
    "                WebDriverWait(driver, 10).until(EC.presence_of_element_located((By.CLASS_NAME, 'ZmyHeo')))\n",
    "                \n",
    "                # 데이터 추출\n",
    "                text_elements = driver.find_elements(By.CLASS_NAME, 'ZmyHeo')\n",
    "                state_elements = driver.find_elements(By.CLASS_NAME, 'MztJPv')\n",
    "                date_elements = driver.find_elements(By.CLASS_NAME, '_2NsDsF')\n",
    "                star_elements = driver.find_elements(By.XPATH, \"//*[contains(@class, 'XQDdHH') and (contains(@class, 'Js30Fc') or contains(@class, 'Czs3gR') or contains(@class, 'Ga3i8K'))]\")\n",
    "                \n",
    "                text_list = [elem.text for elem in text_elements]\n",
    "                state_list = [elem.text for elem in state_elements]\n",
    "                date_list = [elem.text for elem in date_elements]\n",
    "                dates = date_list[1::2]\n",
    "                star_list = [elem.text for elem in star_elements]\n",
    "                \n",
    "                # 리뷰 데이터를 모든 리뷰 리스트에 추가\n",
    "                for t, s, d, r in zip(text_list, state_list, dates, star_list):\n",
    "                    for data in hp_data:\n",
    "                        all_reviews.append({\n",
    "                            'text': t,\n",
    "                            'state': s,\n",
    "                            'date': d,\n",
    "                            'star': r,\n",
    "                            'hp_data': data  # 각각의 hp_data 항목을 추가\n",
    "                        })\n",
    "\n",
    "                # 페이지 번호 증가\n",
    "                page_number += 1\n",
    "                \n",
    "            except (NoSuchElementException, TimeoutException) as e:\n",
    "                print(f\"Error on page {page_number} for URL {full_url}: {e}\")\n",
    "                break\n",
    "    \n",
    "    except Exception as e:\n",
    "        print(f\"Error processing URL {url}: {e}\")\n",
    "\n",
    "# 현재 창 닫기\n",
    "driver.quit()"
   ]
  },
  {
   "cell_type": "code",
   "execution_count": 4,
   "id": "1c9378bb-ac46-47c0-b289-96ad44380f5f",
   "metadata": {},
   "outputs": [
    {
     "data": {
      "text/html": [
       "<div>\n",
       "<style scoped>\n",
       "    .dataframe tbody tr th:only-of-type {\n",
       "        vertical-align: middle;\n",
       "    }\n",
       "\n",
       "    .dataframe tbody tr th {\n",
       "        vertical-align: top;\n",
       "    }\n",
       "\n",
       "    .dataframe thead th {\n",
       "        text-align: right;\n",
       "    }\n",
       "</style>\n",
       "<table border=\"1\" class=\"dataframe\">\n",
       "  <thead>\n",
       "    <tr style=\"text-align: right;\">\n",
       "      <th></th>\n",
       "      <th>text</th>\n",
       "      <th>state</th>\n",
       "      <th>date</th>\n",
       "      <th>star</th>\n",
       "      <th>hp_data</th>\n",
       "    </tr>\n",
       "  </thead>\n",
       "  <tbody>\n",
       "    <tr>\n",
       "      <th>0</th>\n",
       "      <td>PLEASE DO NOTE THAT: THE TV DOES NOT COME WITH...</td>\n",
       "      <td>Certified Buyer, New Town</td>\n",
       "      <td>Sep, 2021</td>\n",
       "      <td>1</td>\n",
       "      <td>SAMSUNG 80 cm (32 Inch) HD Ready LED Smart Tiz...</td>\n",
       "    </tr>\n",
       "    <tr>\n",
       "      <th>1</th>\n",
       "      <td>The picture quality is very very bad, I didn't...</td>\n",
       "      <td>Certified Buyer, Dindigul</td>\n",
       "      <td>10 days ago</td>\n",
       "      <td>1</td>\n",
       "      <td>SAMSUNG 80 cm (32 Inch) HD Ready LED Smart Tiz...</td>\n",
       "    </tr>\n",
       "    <tr>\n",
       "      <th>2</th>\n",
       "      <td>Very bad experience automatic switch off/on al...</td>\n",
       "      <td>Certified Buyer, Noida</td>\n",
       "      <td>18 days ago</td>\n",
       "      <td>1</td>\n",
       "      <td>SAMSUNG 80 cm (32 Inch) HD Ready LED Smart Tiz...</td>\n",
       "    </tr>\n",
       "    <tr>\n",
       "      <th>3</th>\n",
       "      <td>I ordered but in 20 days screen went blurring....</td>\n",
       "      <td>Certified Buyer, Hosapete</td>\n",
       "      <td>19 days ago</td>\n",
       "      <td>1</td>\n",
       "      <td>SAMSUNG 80 cm (32 Inch) HD Ready LED Smart Tiz...</td>\n",
       "    </tr>\n",
       "    <tr>\n",
       "      <th>4</th>\n",
       "      <td>Nice products</td>\n",
       "      <td>Certified Buyer, Sheohar District</td>\n",
       "      <td>28 days ago</td>\n",
       "      <td>1</td>\n",
       "      <td>SAMSUNG 80 cm (32 Inch) HD Ready LED Smart Tiz...</td>\n",
       "    </tr>\n",
       "    <tr>\n",
       "      <th>...</th>\n",
       "      <td>...</td>\n",
       "      <td>...</td>\n",
       "      <td>...</td>\n",
       "      <td>...</td>\n",
       "      <td>...</td>\n",
       "    </tr>\n",
       "    <tr>\n",
       "      <th>2289</th>\n",
       "      <td>Good</td>\n",
       "      <td>Certified Buyer, Mahabubnagar</td>\n",
       "      <td>10 months ago</td>\n",
       "      <td>4</td>\n",
       "      <td>SAMSUNG Crystal Vision 4K iSmart with Voice As...</td>\n",
       "    </tr>\n",
       "    <tr>\n",
       "      <th>2290</th>\n",
       "      <td>I am writing after one week using this tv and ...</td>\n",
       "      <td>Certified Buyer, Bengaluru</td>\n",
       "      <td>10 months ago</td>\n",
       "      <td>4</td>\n",
       "      <td>SAMSUNG Crystal Vision 4K iSmart with Voice As...</td>\n",
       "    </tr>\n",
       "    <tr>\n",
       "      <th>2291</th>\n",
       "      <td>This product is very good. But in this TV inbu...</td>\n",
       "      <td>Certified Buyer, Bhubaneswar</td>\n",
       "      <td>10 months ago</td>\n",
       "      <td>4</td>\n",
       "      <td>SAMSUNG Crystal Vision 4K iSmart with Voice As...</td>\n",
       "    </tr>\n",
       "    <tr>\n",
       "      <th>2292</th>\n",
       "      <td>nice product and picture and sound quality ver...</td>\n",
       "      <td>Certified Buyer, Katihar</td>\n",
       "      <td>10 months ago</td>\n",
       "      <td>4</td>\n",
       "      <td>SAMSUNG Crystal Vision 4K iSmart with Voice As...</td>\n",
       "    </tr>\n",
       "    <tr>\n",
       "      <th>2293</th>\n",
       "      <td>Picture quality is amazing.. we all know Samsu...</td>\n",
       "      <td>Certified Buyer, Ernakulam District</td>\n",
       "      <td>10 months ago</td>\n",
       "      <td>4</td>\n",
       "      <td>SAMSUNG Crystal Vision 4K iSmart with Voice As...</td>\n",
       "    </tr>\n",
       "  </tbody>\n",
       "</table>\n",
       "<p>2294 rows × 5 columns</p>\n",
       "</div>"
      ],
      "text/plain": [
       "                                                   text  \\\n",
       "0     PLEASE DO NOTE THAT: THE TV DOES NOT COME WITH...   \n",
       "1     The picture quality is very very bad, I didn't...   \n",
       "2     Very bad experience automatic switch off/on al...   \n",
       "3     I ordered but in 20 days screen went blurring....   \n",
       "4                                         Nice products   \n",
       "...                                                 ...   \n",
       "2289                                               Good   \n",
       "2290  I am writing after one week using this tv and ...   \n",
       "2291  This product is very good. But in this TV inbu...   \n",
       "2292  nice product and picture and sound quality ver...   \n",
       "2293  Picture quality is amazing.. we all know Samsu...   \n",
       "\n",
       "                                    state           date star  \\\n",
       "0               Certified Buyer, New Town      Sep, 2021    1   \n",
       "1               Certified Buyer, Dindigul    10 days ago    1   \n",
       "2                  Certified Buyer, Noida    18 days ago    1   \n",
       "3               Certified Buyer, Hosapete    19 days ago    1   \n",
       "4       Certified Buyer, Sheohar District    28 days ago    1   \n",
       "...                                   ...            ...  ...   \n",
       "2289        Certified Buyer, Mahabubnagar  10 months ago    4   \n",
       "2290           Certified Buyer, Bengaluru  10 months ago    4   \n",
       "2291         Certified Buyer, Bhubaneswar  10 months ago    4   \n",
       "2292             Certified Buyer, Katihar  10 months ago    4   \n",
       "2293  Certified Buyer, Ernakulam District  10 months ago    4   \n",
       "\n",
       "                                                hp_data  \n",
       "0     SAMSUNG 80 cm (32 Inch) HD Ready LED Smart Tiz...  \n",
       "1     SAMSUNG 80 cm (32 Inch) HD Ready LED Smart Tiz...  \n",
       "2     SAMSUNG 80 cm (32 Inch) HD Ready LED Smart Tiz...  \n",
       "3     SAMSUNG 80 cm (32 Inch) HD Ready LED Smart Tiz...  \n",
       "4     SAMSUNG 80 cm (32 Inch) HD Ready LED Smart Tiz...  \n",
       "...                                                 ...  \n",
       "2289  SAMSUNG Crystal Vision 4K iSmart with Voice As...  \n",
       "2290  SAMSUNG Crystal Vision 4K iSmart with Voice As...  \n",
       "2291  SAMSUNG Crystal Vision 4K iSmart with Voice As...  \n",
       "2292  SAMSUNG Crystal Vision 4K iSmart with Voice As...  \n",
       "2293  SAMSUNG Crystal Vision 4K iSmart with Voice As...  \n",
       "\n",
       "[2294 rows x 5 columns]"
      ]
     },
     "execution_count": 4,
     "metadata": {},
     "output_type": "execute_result"
    }
   ],
   "source": [
    "df_SS_TV = pd.DataFrame(all_reviews)\n",
    "df_SS_TV"
   ]
  },
  {
   "cell_type": "code",
   "execution_count": 5,
   "id": "efe94ab9-bfa0-492f-9a3e-6614eb2d86f6",
   "metadata": {},
   "outputs": [],
   "source": [
    "df_SS_TV.to_csv(\"df_SS_TV.csv\")"
   ]
  },
  {
   "cell_type": "code",
   "execution_count": null,
   "id": "3140bc17-dea8-49d1-b56f-7484dc56292a",
   "metadata": {},
   "outputs": [],
   "source": []
  }
 ],
 "metadata": {
  "kernelspec": {
   "display_name": "Python 3 (ipykernel)",
   "language": "python",
   "name": "python3"
  },
  "language_info": {
   "codemirror_mode": {
    "name": "ipython",
    "version": 3
   },
   "file_extension": ".py",
   "mimetype": "text/x-python",
   "name": "python",
   "nbconvert_exporter": "python",
   "pygments_lexer": "ipython3",
   "version": "3.11.7"
  }
 },
 "nbformat": 4,
 "nbformat_minor": 5
}
