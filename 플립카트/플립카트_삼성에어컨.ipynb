{
 "cells": [
  {
   "cell_type": "code",
   "execution_count": 1,
   "id": "2e16d88e-1f46-4129-8332-1c6b55cb0a46",
   "metadata": {},
   "outputs": [],
   "source": [
    "import time\n",
    "import pandas as pd\n",
    "from selenium import webdriver\n",
    "from selenium.webdriver.common.by import By\n",
    "from selenium.webdriver.common.keys import Keys\n",
    "from tqdm import tqdm\n",
    "import pyperclip\n",
    "from bs4 import BeautifulSoup as bs\n",
    "from tqdm import tqdm\n",
    "import requests as req\n",
    "from selenium.webdriver.support.ui import WebDriverWait\n",
    "from selenium.webdriver.support import expected_conditions as EC"
   ]
  },
  {
   "cell_type": "code",
   "execution_count": 2,
   "id": "169279d9-7ffa-4e23-b0cc-48648f5ccae8",
   "metadata": {},
   "outputs": [
    {
     "name": "stderr",
     "output_type": "stream",
     "text": [
      "  4%|███▍                                                                               | 1/24 [00:30<11:42, 30.53s/it]"
     ]
    },
    {
     "name": "stdout",
     "output_type": "stream",
     "text": [
      "Error processing URL https://www.flipkart.com/samsung-ai-pro-1-5-ton-5-star-split-inverter-ac-wi-fi-connect-white/p/itm126bd51087a93?pid=ACNGWH7Y5ASY8ZTC&lid=LSTACNGWH7Y5ASY8ZTCOI4AWU&marketplace=FLIPKART&store=j9e%2Fabm%2Fc54&srno=b_1_1&otracker=browse&iid=599cddd0-2fac-4ea0-b0ba-e5638e7b9b1b.ACNGWH7Y5ASY8ZTC.SEARCH&ssid=8y2a3xvl8w0000001724716334551: name 'NoSuchElementException' is not defined\n"
     ]
    },
    {
     "name": "stderr",
     "output_type": "stream",
     "text": [
      "  8%|██████▉                                                                            | 2/24 [01:00<11:02, 30.12s/it]"
     ]
    },
    {
     "name": "stdout",
     "output_type": "stream",
     "text": [
      "Error processing URL https://www.flipkart.com/samsung-convertible-5-in-1-cooling-2024-model-1-5-ton-3-star-split-inverter-ac-white/p/itmdac76fb7a5814?pid=ACNGHRDQZUD2CPTZ&lid=LSTACNGHRDQZUD2CPTZI1ZDMQ&marketplace=FLIPKART&store=j9e%2Fabm%2Fc54&spotlightTagId=FkPickId_j9e%2Fabm%2Fc54&srno=b_1_2&otracker=browse&iid=599cddd0-2fac-4ea0-b0ba-e5638e7b9b1b.ACNGHRDQZUD2CPTZ.SEARCH&ssid=8y2a3xvl8w0000001724716334551: name 'NoSuchElementException' is not defined\n"
     ]
    },
    {
     "name": "stderr",
     "output_type": "stream",
     "text": [
      " 12%|██████████▍                                                                        | 3/24 [01:29<10:24, 29.75s/it]"
     ]
    },
    {
     "name": "stdout",
     "output_type": "stream",
     "text": [
      "Error processing URL https://www.flipkart.com/samsung-convertible-5-in-1-cooling-2024-model-1-5-ton-5-star-split-inverter-ac-white/p/itma98354840a04e?pid=ACNGHRDQFGRZWRK2&lid=LSTACNGHRDQFGRZWRK23E0EE3&marketplace=FLIPKART&store=j9e%2Fabm%2Fc54&srno=b_1_3&otracker=browse&iid=599cddd0-2fac-4ea0-b0ba-e5638e7b9b1b.ACNGHRDQFGRZWRK2.SEARCH&ssid=8y2a3xvl8w0000001724716334551: name 'NoSuchElementException' is not defined\n"
     ]
    },
    {
     "name": "stderr",
     "output_type": "stream",
     "text": [
      " 17%|█████████████▊                                                                     | 4/24 [02:04<10:31, 31.56s/it]"
     ]
    },
    {
     "name": "stdout",
     "output_type": "stream",
     "text": [
      "Error processing URL https://www.flipkart.com/samsung-convertible-5-in-1-cooling-2024-model-1-5-ton-3-star-split-inverter-windfree-technology-ac-wi-fi-connect-white/p/itmd79d2752518b7?pid=ACNGHRDQKU2TUXFH&lid=LSTACNGHRDQKU2TUXFHQ0I08P&marketplace=FLIPKART&store=j9e%2Fabm%2Fc54&srno=b_1_4&otracker=browse&iid=599cddd0-2fac-4ea0-b0ba-e5638e7b9b1b.ACNGHRDQKU2TUXFH.SEARCH&ssid=8y2a3xvl8w0000001724716334551: name 'NoSuchElementException' is not defined\n"
     ]
    },
    {
     "name": "stderr",
     "output_type": "stream",
     "text": [
      " 21%|█████████████████▎                                                                 | 5/24 [02:32<09:41, 30.59s/it]"
     ]
    },
    {
     "name": "stdout",
     "output_type": "stream",
     "text": [
      "Error processing URL https://www.flipkart.com/samsung-convertible-5-in-1-cooling-2023-model-1-5-ton-3-star-split-inverter-ac-wi-fi-connect-white/p/itm440b52cb86e0a?pid=ACNGSW3KUKCAFYNH&lid=LSTACNGSW3KUKCAFYNHZ5ADEM&marketplace=FLIPKART&store=j9e%2Fabm%2Fc54&srno=b_1_5&otracker=browse&iid=599cddd0-2fac-4ea0-b0ba-e5638e7b9b1b.ACNGSW3KUKCAFYNH.SEARCH&ssid=8y2a3xvl8w0000001724716334551: name 'NoSuchElementException' is not defined\n"
     ]
    },
    {
     "name": "stderr",
     "output_type": "stream",
     "text": [
      " 25%|████████████████████▊                                                              | 6/24 [03:08<09:40, 32.23s/it]"
     ]
    },
    {
     "name": "stdout",
     "output_type": "stream",
     "text": [
      "Error processing URL https://www.flipkart.com/samsung-convertible-5-in-1-cooling-2023-model-2-ton-3-star-split-inverter-ac-wi-fi-connect-white/p/itm28d65bed39abc?pid=ACNGHRDQMBEJ7UY9&lid=LSTACNGHRDQMBEJ7UY90VHJIW&marketplace=FLIPKART&store=j9e%2Fabm%2Fc54&srno=b_1_6&otracker=browse&iid=599cddd0-2fac-4ea0-b0ba-e5638e7b9b1b.ACNGHRDQMBEJ7UY9.SEARCH&ssid=8y2a3xvl8w0000001724716334551: name 'NoSuchElementException' is not defined\n"
     ]
    },
    {
     "name": "stderr",
     "output_type": "stream",
     "text": [
      " 29%|████████████████████████▏                                                          | 7/24 [03:15<06:49, 24.07s/it]"
     ]
    },
    {
     "name": "stdout",
     "output_type": "stream",
     "text": [
      "Error processing URL https://www.flipkart.com/samsung-convertible-5-in-1-cooling-2023-model-1-5-ton-3-star-split-inverter-ac-wi-fi-connect-white/p/itma38c7312f28f1?pid=ACNGHRDQ9KV63AYV&lid=LSTACNGHRDQ9KV63AYVUDFO4M&marketplace=FLIPKART&store=j9e%2Fabm%2Fc54&srno=b_1_7&otracker=browse&iid=599cddd0-2fac-4ea0-b0ba-e5638e7b9b1b.ACNGHRDQ9KV63AYV.SEARCH&ssid=8y2a3xvl8w0000001724716334551: name 'NoSuchElementException' is not defined\n"
     ]
    },
    {
     "name": "stderr",
     "output_type": "stream",
     "text": [
      " 33%|███████████████████████████▋                                                       | 8/24 [03:36<06:09, 23.07s/it]"
     ]
    },
    {
     "name": "stdout",
     "output_type": "stream",
     "text": [
      "Error processing URL https://www.flipkart.com/samsung-2024-model-2-ton-3-star-split-inverter-ac-wi-fi-connect-white/p/itmac202aa8d07b6?pid=ACNGMFFPRXGHZND6&lid=LSTACNGMFFPRXGHZND6JAKBHJ&marketplace=FLIPKART&store=j9e%2Fabm%2Fc54&srno=b_1_8&otracker=browse&iid=599cddd0-2fac-4ea0-b0ba-e5638e7b9b1b.ACNGMFFPRXGHZND6.SEARCH&ssid=8y2a3xvl8w0000001724716334551: name 'NoSuchElementException' is not defined\n"
     ]
    },
    {
     "name": "stderr",
     "output_type": "stream",
     "text": [
      " 38%|███████████████████████████████▏                                                   | 9/24 [04:03<06:03, 24.24s/it]"
     ]
    },
    {
     "name": "stdout",
     "output_type": "stream",
     "text": [
      "Error processing URL https://www.flipkart.com/samsung-convertible-5-in-1-cooling-mode-2023-model-1-5-ton-4-star-split-inverter-ac-white/p/itma914070261642?pid=ACNGMFFPKJBH57PA&lid=LSTACNGMFFPKJBH57PAN3KBAP&marketplace=FLIPKART&store=j9e%2Fabm%2Fc54&srno=b_1_9&otracker=browse&iid=599cddd0-2fac-4ea0-b0ba-e5638e7b9b1b.ACNGMFFPKJBH57PA.SEARCH&ssid=8y2a3xvl8w0000001724716334551: name 'NoSuchElementException' is not defined\n"
     ]
    },
    {
     "name": "stderr",
     "output_type": "stream",
     "text": [
      " 42%|██████████████████████████████████▏                                               | 10/24 [04:21<05:12, 22.35s/it]"
     ]
    },
    {
     "name": "stdout",
     "output_type": "stream",
     "text": [
      "Error processing URL https://www.flipkart.com/samsung-1-5-ton-5-star-split-inverter-ac-wi-fi-connect-white/p/itmf1863358c099e?pid=ACNGWH7YB5X5EZWH&lid=LSTACNGWH7YB5X5EZWHHH3AF5&marketplace=FLIPKART&store=j9e%2Fabm%2Fc54&srno=b_1_10&otracker=browse&iid=599cddd0-2fac-4ea0-b0ba-e5638e7b9b1b.ACNGWH7YB5X5EZWH.SEARCH&ssid=8y2a3xvl8w0000001724716334551: name 'NoSuchElementException' is not defined\n"
     ]
    },
    {
     "name": "stderr",
     "output_type": "stream",
     "text": [
      " 46%|█████████████████████████████████████▌                                            | 11/24 [04:48<05:08, 23.74s/it]"
     ]
    },
    {
     "name": "stdout",
     "output_type": "stream",
     "text": [
      "Error processing URL https://www.flipkart.com/samsung-convertible-5-in-1-cooling-2023-model-1-5-ton-5-star-split-inverter-windfree-technology-ac-white/p/itm6667f29768fed?pid=ACNGHRDQDE8Z4AKB&lid=LSTACNGHRDQDE8Z4AKBCY0HML&marketplace=FLIPKART&store=j9e%2Fabm%2Fc54&srno=b_1_11&otracker=browse&iid=599cddd0-2fac-4ea0-b0ba-e5638e7b9b1b.ACNGHRDQDE8Z4AKB.SEARCH&ssid=8y2a3xvl8w0000001724716334551: name 'NoSuchElementException' is not defined\n"
     ]
    },
    {
     "name": "stderr",
     "output_type": "stream",
     "text": [
      " 50%|█████████████████████████████████████████                                         | 12/24 [05:16<05:01, 25.10s/it]"
     ]
    },
    {
     "name": "stdout",
     "output_type": "stream",
     "text": [
      "Error processing URL https://www.flipkart.com/samsung-convertible-5-in-1-cooling-2023-model-1-ton-3-star-split-inverter-ac-white/p/itm594f78a64d280?pid=ACNGHRDQQPD9GAC5&lid=LSTACNGHRDQQPD9GAC5NSBRYF&marketplace=FLIPKART&store=j9e%2Fabm%2Fc54&srno=b_1_12&otracker=browse&iid=599cddd0-2fac-4ea0-b0ba-e5638e7b9b1b.ACNGHRDQQPD9GAC5.SEARCH&ssid=8y2a3xvl8w0000001724716334551: name 'NoSuchElementException' is not defined\n"
     ]
    },
    {
     "name": "stderr",
     "output_type": "stream",
     "text": [
      " 54%|████████████████████████████████████████████▍                                     | 13/24 [05:44<04:46, 26.06s/it]"
     ]
    },
    {
     "name": "stdout",
     "output_type": "stream",
     "text": [
      "Error processing URL https://www.flipkart.com/samsung-1-5-ton-5-star-split-inverter-ac-wi-fi-connect-white/p/itmb4e35173cad63?pid=ACNGADBFPF3ZR6XA&lid=LSTACNGADBFPF3ZR6XADSYENI&marketplace=FLIPKART&store=j9e%2Fabm%2Fc54&srno=b_1_13&otracker=browse&iid=599cddd0-2fac-4ea0-b0ba-e5638e7b9b1b.ACNGADBFPF3ZR6XA.SEARCH&ssid=8y2a3xvl8w0000001724716334551: name 'NoSuchElementException' is not defined\n"
     ]
    },
    {
     "name": "stderr",
     "output_type": "stream",
     "text": [
      " 58%|███████████████████████████████████████████████▊                                  | 14/24 [06:27<05:10, 31.06s/it]"
     ]
    },
    {
     "name": "stdout",
     "output_type": "stream",
     "text": [
      "Error processing URL https://www.flipkart.com/samsung-1-5-ton-5-star-split-inverter-ac-white/p/itmb9cd50cc67a26?pid=ACNGADBFVHZE4ZFV&lid=LSTACNGADBFVHZE4ZFVANNCTQ&marketplace=FLIPKART&store=j9e%2Fabm%2Fc54&srno=b_1_14&otracker=browse&iid=599cddd0-2fac-4ea0-b0ba-e5638e7b9b1b.ACNGADBFVHZE4ZFV.SEARCH&ssid=8y2a3xvl8w0000001724716334551: name 'NoSuchElementException' is not defined\n"
     ]
    },
    {
     "name": "stderr",
     "output_type": "stream",
     "text": [
      " 62%|███████████████████████████████████████████████████▎                              | 15/24 [07:05<04:57, 33.03s/it]"
     ]
    },
    {
     "name": "stdout",
     "output_type": "stream",
     "text": [
      "Error processing URL https://www.flipkart.com/samsung-2023-model-1-ton-5-star-split-inverter-ac-white/p/itm75eebca5e0294?pid=ACNGMFFP5TWZ6D5J&lid=LSTACNGMFFP5TWZ6D5JOYTQKM&marketplace=FLIPKART&store=j9e%2Fabm%2Fc54&srno=b_1_15&otracker=browse&iid=599cddd0-2fac-4ea0-b0ba-e5638e7b9b1b.ACNGMFFP5TWZ6D5J.SEARCH&ssid=8y2a3xvl8w0000001724716334551: name 'NoSuchElementException' is not defined\n"
     ]
    },
    {
     "name": "stderr",
     "output_type": "stream",
     "text": [
      " 67%|██████████████████████████████████████████████████████▋                           | 16/24 [07:12<03:23, 25.44s/it]"
     ]
    },
    {
     "name": "stdout",
     "output_type": "stream",
     "text": [
      "Error processing URL https://www.flipkart.com/samsung-windfree-1-5-ton-4-star-split-inverter-ac-white/p/itm942eb76b3285c?pid=ACNG6MS3JFUYPGGH&lid=LSTACNG6MS3JFUYPGGHWAGNGB&marketplace=FLIPKART&store=j9e%2Fabm%2Fc54&srno=b_1_16&otracker=browse&iid=599cddd0-2fac-4ea0-b0ba-e5638e7b9b1b.ACNG6MS3JFUYPGGH.SEARCH&ssid=8y2a3xvl8w0000001724716334551: name 'NoSuchElementException' is not defined\n"
     ]
    },
    {
     "name": "stderr",
     "output_type": "stream",
     "text": [
      " 71%|██████████████████████████████████████████████████████████                        | 17/24 [07:46<03:16, 28.03s/it]"
     ]
    },
    {
     "name": "stdout",
     "output_type": "stream",
     "text": [
      "Error processing URL https://www.flipkart.com/samsung-1-5-ton-5-star-split-inverter-ac-white/p/itmbba6a4d16b650?pid=ACNFWYTPA5FEQRYT&lid=LSTACNFWYTPA5FEQRYTOPNYQI&marketplace=FLIPKART&store=j9e%2Fabm%2Fc54&srno=b_1_17&otracker=browse&iid=599cddd0-2fac-4ea0-b0ba-e5638e7b9b1b.ACNFWYTPA5FEQRYT.SEARCH&ssid=8y2a3xvl8w0000001724716334551: name 'NoSuchElementException' is not defined\n"
     ]
    },
    {
     "name": "stderr",
     "output_type": "stream",
     "text": [
      " 75%|█████████████████████████████████████████████████████████████▌                    | 18/24 [08:19<02:57, 29.53s/it]"
     ]
    },
    {
     "name": "stdout",
     "output_type": "stream",
     "text": [
      "Error processing URL https://www.flipkart.com/samsung-windfree-1-ton-3-star-split-inverter-ac-white/p/itmffec26bb877c4?pid=ACNGGXDFFGB6EWY9&lid=LSTACNGGXDFFGB6EWY9TCYULD&marketplace=FLIPKART&store=j9e%2Fabm%2Fc54&srno=b_1_18&otracker=browse&iid=599cddd0-2fac-4ea0-b0ba-e5638e7b9b1b.ACNGGXDFFGB6EWY9.SEARCH&ssid=8y2a3xvl8w0000001724716334551: name 'NoSuchElementException' is not defined\n"
     ]
    },
    {
     "name": "stderr",
     "output_type": "stream",
     "text": [
      " 79%|████████████████████████████████████████████████████████████████▉                 | 19/24 [08:52<02:32, 30.42s/it]"
     ]
    },
    {
     "name": "stdout",
     "output_type": "stream",
     "text": [
      "Error processing URL https://www.flipkart.com/samsung-convertible-5-in-1-cooling-mode-2023-model-1-5-ton-4-star-split-inverter-windfree-technology-ac-white/p/itm3d2d442bbc8c2?pid=ACNGZY8S4MZJEXNB&lid=LSTACNGZY8S4MZJEXNBVBJ7PM&marketplace=FLIPKART&store=j9e%2Fabm%2Fc54&srno=b_1_19&otracker=browse&iid=599cddd0-2fac-4ea0-b0ba-e5638e7b9b1b.ACNGZY8S4MZJEXNB.SEARCH&ssid=8y2a3xvl8w0000001724716334551: name 'NoSuchElementException' is not defined\n"
     ]
    },
    {
     "name": "stderr",
     "output_type": "stream",
     "text": [
      " 83%|████████████████████████████████████████████████████████████████████▎             | 20/24 [09:25<02:04, 31.09s/it]"
     ]
    },
    {
     "name": "stdout",
     "output_type": "stream",
     "text": [
      "Error processing URL https://www.flipkart.com/samsung-windfree-1-5-ton-3-star-split-inverter-ac-white/p/itmed55c4cd53460?pid=ACNGGXDF656QGNY5&lid=LSTACNGGXDF656QGNY5BQSIZM&marketplace=FLIPKART&store=j9e%2Fabm%2Fc54&srno=b_1_20&otracker=browse&iid=599cddd0-2fac-4ea0-b0ba-e5638e7b9b1b.ACNGGXDF656QGNY5.SEARCH&ssid=8y2a3xvl8w0000001724716334551: name 'NoSuchElementException' is not defined\n"
     ]
    },
    {
     "name": "stderr",
     "output_type": "stream",
     "text": [
      " 88%|███████████████████████████████████████████████████████████████████████▊          | 21/24 [09:59<01:36, 32.07s/it]"
     ]
    },
    {
     "name": "stdout",
     "output_type": "stream",
     "text": [
      "Error processing URL https://www.flipkart.com/samsung-1-5-ton-3-star-split-inverter-ac-white-pastel-blue/p/itm42021c44a2d71?pid=ACNFPFRBHCGHZSRZ&lid=LSTACNFPFRBHCGHZSRZDORMMN&marketplace=FLIPKART&store=j9e%2Fabm%2Fc54&srno=b_1_21&otracker=browse&iid=599cddd0-2fac-4ea0-b0ba-e5638e7b9b1b.ACNFPFRBHCGHZSRZ.SEARCH&ssid=8y2a3xvl8w0000001724716334551: name 'NoSuchElementException' is not defined\n"
     ]
    },
    {
     "name": "stderr",
     "output_type": "stream",
     "text": [
      " 92%|███████████████████████████████████████████████████████████████████████████▏      | 22/24 [10:28<01:02, 31.29s/it]"
     ]
    },
    {
     "name": "stdout",
     "output_type": "stream",
     "text": [
      "Error processing URL https://www.flipkart.com/samsung-convertible-2-ton-3-star-split-inverter-ac-white/p/itm42f367b6a3470?pid=ACNGGXDFJEYCMAGF&lid=LSTACNGGXDFJEYCMAGFKVPT32&marketplace=FLIPKART&store=j9e%2Fabm%2Fc54&srno=b_1_22&otracker=browse&iid=599cddd0-2fac-4ea0-b0ba-e5638e7b9b1b.ACNGGXDFJEYCMAGF.SEARCH&ssid=8y2a3xvl8w0000001724716334551: name 'NoSuchElementException' is not defined\n"
     ]
    },
    {
     "name": "stderr",
     "output_type": "stream",
     "text": [
      " 96%|██████████████████████████████████████████████████████████████████████████████▌   | 23/24 [10:36<00:24, 24.14s/it]"
     ]
    },
    {
     "name": "stdout",
     "output_type": "stream",
     "text": [
      "Error processing URL https://www.flipkart.com/samsung-2022-model-1-5-ton-3-star-split-inverter-ac-white/p/itm973780e7a726d?pid=ACNGMFFP8H3N2H8M&lid=LSTACNGMFFP8H3N2H8MFUHNOC&marketplace=FLIPKART&store=j9e%2Fabm%2Fc54&srno=b_1_23&otracker=browse&iid=599cddd0-2fac-4ea0-b0ba-e5638e7b9b1b.ACNGMFFP8H3N2H8M.SEARCH&ssid=8y2a3xvl8w0000001724716334551: name 'NoSuchElementException' is not defined\n"
     ]
    },
    {
     "name": "stderr",
     "output_type": "stream",
     "text": [
      "100%|██████████████████████████████████████████████████████████████████████████████████| 24/24 [11:14<00:00, 28.12s/it]"
     ]
    },
    {
     "name": "stdout",
     "output_type": "stream",
     "text": [
      "Error processing URL https://www.flipkart.com/samsung-convertible-5-in-1-cooling-2023-model-1-5-ton-5-star-split-inverter-windfree-technology-ac-wi-fi-connect-white/p/itm4a1a7eb567864?pid=ACNGHRDQTYCKFWZV&lid=LSTACNGHRDQTYCKFWZVQF2X7L&marketplace=FLIPKART&store=j9e%2Fabm%2Fc54&srno=b_1_24&otracker=browse&iid=599cddd0-2fac-4ea0-b0ba-e5638e7b9b1b.ACNGHRDQTYCKFWZV.SEARCH&ssid=8y2a3xvl8w0000001724716334551: name 'NoSuchElementException' is not defined\n"
     ]
    },
    {
     "name": "stderr",
     "output_type": "stream",
     "text": [
      "\n"
     ]
    }
   ],
   "source": [
    "  # 웹드라이버 실행\n",
    "driver = webdriver.Chrome()\n",
    "\n",
    "# 제품 목록 페이지 로드\n",
    "driver.get(\"https://www.flipkart.com/air-conditioners/pr?sid=j9e%2Cabm%2Cc54&p%5B%5D=facets.brand%255B%255D%3DSAMSUNG&otracker=categorytree&otracker=nmenu_sub_TVs+%26+Appliances_0_LG\")\n",
    "\n",
    "# 페이지 로딩 대기\n",
    "WebDriverWait(driver, 10).until(EC.presence_of_element_located((By.CLASS_NAME, 'CGtC98')))\n",
    "\n",
    "# URL을 저장할 리스트 초기화\n",
    "url_list = []\n",
    "\n",
    "# 요소 찾기\n",
    "elements = driver.find_elements(By.CLASS_NAME, 'CGtC98')\n",
    "\n",
    "# 각 요소에서 'href' 속성을 가져와 리스트에 추가 (sponsored 요소는 제외)\n",
    "for element in elements:\n",
    "    try:\n",
    "        # 'f8qK5m' 클래스를 가진 자식 요소가 있는지 확인\n",
    "        if element.find_elements(By.CLASS_NAME, 'f8qK5m'):\n",
    "            # 'f8qK5m' 클래스를 가진 자식 요소가 있다면 skip\n",
    "            continue\n",
    "        # 자식 요소가 'f8qK5m' 클래스를 가지고 있지 않다면 href 추출\n",
    "        url_value = element.get_attribute('href')\n",
    "        if url_value:  # href 속성이 있는 경우만 추가\n",
    "            url_list.append(url_value)\n",
    "    except NoSuchElementException:\n",
    "        # 자식 요소가 없으면 그냥 넘어가기\n",
    "        continue \n",
    "        \n",
    "# 리뷰 데이터를 저장할 리스트 초기화\n",
    "all_reviews = []\n",
    "\n",
    "for url in tqdm(url_list):\n",
    "    try:\n",
    "        driver.get(url)\n",
    "        \n",
    "        # XPath를 사용하여 제목 찾기. 제품 코드 별 XPATH 달라서 접근 불가... 제목에서 코드 추출하세용...\n",
    "        try:\n",
    "            # XPath를 사용하여 제목 찾기. 제품 코드 별 XPATH 달라서 접근 불가... 제목에서 코드 추출하세용... \n",
    "            list_items = driver.find_elements(By.XPATH, '//*[@id=\"container\"]/div/div[3]/div[1]/div[2]/div[2]/div/div[1]/h1/span')\n",
    "            \n",
    "            # 텍스트 추출\n",
    "            hp_data = [item.text for item in list_items]\n",
    "            if not hp_data:\n",
    "                hp_data = [\"No data\"]  # 데이터가 없을 경우 기본값\n",
    "        except (NoSuchElementException, TimeoutException) as e:\n",
    "            hp_data = [\"Error fetching data\"]  # 오류 발생 시 기본값\n",
    "        \n",
    "        # 리뷰 버튼 클릭 대기\n",
    "        try:\n",
    "            review_button = WebDriverWait(driver, 5).until(EC.presence_of_element_located((By.CLASS_NAME, \"_23J90q.RcXBOT\")))\n",
    "            if review_button.is_displayed():\n",
    "                review_button.click()\n",
    "        except (NoSuchElementException, TimeoutException):\n",
    "            pass\n",
    "        \n",
    "        # 낮은 별점 접근\n",
    "        try:\n",
    "            low_rating_option = WebDriverWait(driver, 10).until(EC.presence_of_element_located((By.CSS_SELECTOR, \"#container > div > div.VLIitu > div > div > div.DOjaWF.gdgoEp.col-9-12 > div.DOjaWF.gdgoEp.col-12-12 > div > div:nth-child(2) > div > div > div > div > select > option:nth-child(4)\")))\n",
    "            low_rating_option.click()\n",
    "        except (NoSuchElementException, TimeoutException) as e:\n",
    "            print(f\"Error selecting sort option for URL {url}: {e}\")\n",
    "        \n",
    "        # 데이터 확보\n",
    "        page_number = 1\n",
    "        \n",
    "        while True:\n",
    "            try:\n",
    "                # 페이지 URL 업데이트\n",
    "                current_url = driver.current_url\n",
    "                full_url = f'{current_url}&page={page_number}'\n",
    "                driver.get(full_url)\n",
    "                \n",
    "                # ZmyHeo 클래스의 존재 여부를 확인\n",
    "                WebDriverWait(driver, 10).until(EC.presence_of_element_located((By.CLASS_NAME, 'ZmyHeo')))\n",
    "                \n",
    "                # 데이터 추출\n",
    "                text_elements = driver.find_elements(By.CLASS_NAME, 'ZmyHeo')\n",
    "                state_elements = driver.find_elements(By.CLASS_NAME, 'MztJPv')\n",
    "                date_elements = driver.find_elements(By.CLASS_NAME, '_2NsDsF')\n",
    "                star_elements = driver.find_elements(By.XPATH, \"//*[contains(@class, 'XQDdHH') and (contains(@class, 'Js30Fc') or contains(@class, 'Czs3gR') or contains(@class, 'Ga3i8K'))]\")\n",
    "                \n",
    "                text_list = [elem.text for elem in text_elements]\n",
    "                state_list = [elem.text for elem in state_elements]\n",
    "                date_list = [elem.text for elem in date_elements]\n",
    "                dates = date_list[1::2]\n",
    "                star_list = [elem.text for elem in star_elements]\n",
    "                \n",
    "                # 리뷰 데이터를 모든 리뷰 리스트에 추가\n",
    "                for t, s, d, r in zip(text_list, state_list, dates, star_list):\n",
    "                    for data in hp_data:\n",
    "                        all_reviews.append({\n",
    "                            'text': t,\n",
    "                            'state': s,\n",
    "                            'date': d,\n",
    "                            'star': r,\n",
    "                            'hp_data': data  # 각각의 hp_data 항목을 추가\n",
    "                        })\n",
    "\n",
    "                # 페이지 번호 증가\n",
    "                page_number += 1\n",
    "                \n",
    "            except (NoSuchElementException, TimeoutException) as e:\n",
    "                print(f\"Error on page {page_number} for URL {full_url}: {e}\")\n",
    "                break\n",
    "    \n",
    "    except Exception as e:\n",
    "        print(f\"Error processing URL {url}: {e}\")\n",
    "\n",
    "# 현재 창 닫기\n",
    "driver.quit()"
   ]
  },
  {
   "cell_type": "code",
   "execution_count": 3,
   "id": "1c9378bb-ac46-47c0-b289-96ad44380f5f",
   "metadata": {},
   "outputs": [
    {
     "data": {
      "text/html": [
       "<div>\n",
       "<style scoped>\n",
       "    .dataframe tbody tr th:only-of-type {\n",
       "        vertical-align: middle;\n",
       "    }\n",
       "\n",
       "    .dataframe tbody tr th {\n",
       "        vertical-align: top;\n",
       "    }\n",
       "\n",
       "    .dataframe thead th {\n",
       "        text-align: right;\n",
       "    }\n",
       "</style>\n",
       "<table border=\"1\" class=\"dataframe\">\n",
       "  <thead>\n",
       "    <tr style=\"text-align: right;\">\n",
       "      <th></th>\n",
       "      <th>text</th>\n",
       "      <th>state</th>\n",
       "      <th>date</th>\n",
       "      <th>star</th>\n",
       "      <th>hp_data</th>\n",
       "    </tr>\n",
       "  </thead>\n",
       "  <tbody>\n",
       "    <tr>\n",
       "      <th>0</th>\n",
       "      <td>This ac have big issue, when you turn on the a...</td>\n",
       "      <td>Certified Buyer, Udgir</td>\n",
       "      <td>1 month ago</td>\n",
       "      <td>1</td>\n",
       "      <td>SAMSUNG AI Pro 1.5 Ton 5 Star Split Inverter A...</td>\n",
       "    </tr>\n",
       "    <tr>\n",
       "      <th>1</th>\n",
       "      <td>3rd class ac..\\nAir flow quality very poor</td>\n",
       "      <td>Certified Buyer, Durg</td>\n",
       "      <td>2 months ago</td>\n",
       "      <td>1</td>\n",
       "      <td>SAMSUNG AI Pro 1.5 Ton 5 Star Split Inverter A...</td>\n",
       "    </tr>\n",
       "    <tr>\n",
       "      <th>2</th>\n",
       "      <td>The product is very bad its not cooling the sp...</td>\n",
       "      <td>Certified Buyer, Pataudi</td>\n",
       "      <td>2 months ago</td>\n",
       "      <td>1</td>\n",
       "      <td>SAMSUNG AI Pro 1.5 Ton 5 Star Split Inverter A...</td>\n",
       "    </tr>\n",
       "    <tr>\n",
       "      <th>3</th>\n",
       "      <td>Not too good it consume 1 unit in half and hou...</td>\n",
       "      <td>Certified Buyer, Ganaur</td>\n",
       "      <td>2 months ago</td>\n",
       "      <td>1</td>\n",
       "      <td>SAMSUNG AI Pro 1.5 Ton 5 Star Split Inverter A...</td>\n",
       "    </tr>\n",
       "    <tr>\n",
       "      <th>4</th>\n",
       "      <td>One of the worst ACs is never buy Samsung AC. ...</td>\n",
       "      <td>Certified Buyer, Badlapur</td>\n",
       "      <td>2 months ago</td>\n",
       "      <td>1</td>\n",
       "      <td>SAMSUNG AI Pro 1.5 Ton 5 Star Split Inverter A...</td>\n",
       "    </tr>\n",
       "    <tr>\n",
       "      <th>...</th>\n",
       "      <td>...</td>\n",
       "      <td>...</td>\n",
       "      <td>...</td>\n",
       "      <td>...</td>\n",
       "      <td>...</td>\n",
       "    </tr>\n",
       "    <tr>\n",
       "      <th>1870</th>\n",
       "      <td>This is one of the best products on a budget. ...</td>\n",
       "      <td>Certified Buyer, Vasai Virar</td>\n",
       "      <td>Apr, 2023</td>\n",
       "      <td>5</td>\n",
       "      <td>SAMSUNG Convertible 5-in-1 Cooling 2023 Model ...</td>\n",
       "    </tr>\n",
       "    <tr>\n",
       "      <th>1871</th>\n",
       "      <td>The best Quality</td>\n",
       "      <td>Certified Buyer, Bhilai</td>\n",
       "      <td>Mar, 2023</td>\n",
       "      <td>5</td>\n",
       "      <td>SAMSUNG Convertible 5-in-1 Cooling 2023 Model ...</td>\n",
       "    </tr>\n",
       "    <tr>\n",
       "      <th>1872</th>\n",
       "      <td>cool 👍 best in budget</td>\n",
       "      <td>Certified Buyer, Nalgonda</td>\n",
       "      <td>Mar, 2023</td>\n",
       "      <td>5</td>\n",
       "      <td>SAMSUNG Convertible 5-in-1 Cooling 2023 Model ...</td>\n",
       "    </tr>\n",
       "    <tr>\n",
       "      <th>1873</th>\n",
       "      <td>Good</td>\n",
       "      <td>Certified Buyer, Bankura</td>\n",
       "      <td>Mar, 2023</td>\n",
       "      <td>5</td>\n",
       "      <td>SAMSUNG Convertible 5-in-1 Cooling 2023 Model ...</td>\n",
       "    </tr>\n",
       "    <tr>\n",
       "      <th>1874</th>\n",
       "      <td>Good</td>\n",
       "      <td>Certified Buyer, Pudussery</td>\n",
       "      <td>Oct, 2022</td>\n",
       "      <td>5</td>\n",
       "      <td>SAMSUNG Convertible 5-in-1 Cooling 2023 Model ...</td>\n",
       "    </tr>\n",
       "  </tbody>\n",
       "</table>\n",
       "<p>1875 rows × 5 columns</p>\n",
       "</div>"
      ],
      "text/plain": [
       "                                                   text  \\\n",
       "0     This ac have big issue, when you turn on the a...   \n",
       "1            3rd class ac..\\nAir flow quality very poor   \n",
       "2     The product is very bad its not cooling the sp...   \n",
       "3     Not too good it consume 1 unit in half and hou...   \n",
       "4     One of the worst ACs is never buy Samsung AC. ...   \n",
       "...                                                 ...   \n",
       "1870  This is one of the best products on a budget. ...   \n",
       "1871                                   The best Quality   \n",
       "1872                              cool 👍 best in budget   \n",
       "1873                                               Good   \n",
       "1874                                               Good   \n",
       "\n",
       "                             state          date star  \\\n",
       "0           Certified Buyer, Udgir   1 month ago    1   \n",
       "1            Certified Buyer, Durg  2 months ago    1   \n",
       "2         Certified Buyer, Pataudi  2 months ago    1   \n",
       "3          Certified Buyer, Ganaur  2 months ago    1   \n",
       "4        Certified Buyer, Badlapur  2 months ago    1   \n",
       "...                            ...           ...  ...   \n",
       "1870  Certified Buyer, Vasai Virar     Apr, 2023    5   \n",
       "1871       Certified Buyer, Bhilai     Mar, 2023    5   \n",
       "1872     Certified Buyer, Nalgonda     Mar, 2023    5   \n",
       "1873      Certified Buyer, Bankura     Mar, 2023    5   \n",
       "1874    Certified Buyer, Pudussery     Oct, 2022    5   \n",
       "\n",
       "                                                hp_data  \n",
       "0     SAMSUNG AI Pro 1.5 Ton 5 Star Split Inverter A...  \n",
       "1     SAMSUNG AI Pro 1.5 Ton 5 Star Split Inverter A...  \n",
       "2     SAMSUNG AI Pro 1.5 Ton 5 Star Split Inverter A...  \n",
       "3     SAMSUNG AI Pro 1.5 Ton 5 Star Split Inverter A...  \n",
       "4     SAMSUNG AI Pro 1.5 Ton 5 Star Split Inverter A...  \n",
       "...                                                 ...  \n",
       "1870  SAMSUNG Convertible 5-in-1 Cooling 2023 Model ...  \n",
       "1871  SAMSUNG Convertible 5-in-1 Cooling 2023 Model ...  \n",
       "1872  SAMSUNG Convertible 5-in-1 Cooling 2023 Model ...  \n",
       "1873  SAMSUNG Convertible 5-in-1 Cooling 2023 Model ...  \n",
       "1874  SAMSUNG Convertible 5-in-1 Cooling 2023 Model ...  \n",
       "\n",
       "[1875 rows x 5 columns]"
      ]
     },
     "execution_count": 3,
     "metadata": {},
     "output_type": "execute_result"
    }
   ],
   "source": [
    "df_SS_airconditioner = pd.DataFrame(all_reviews)\n",
    "df_SS_airconditioner"
   ]
  },
  {
   "cell_type": "code",
   "execution_count": 4,
   "id": "808141fd-4514-4738-8013-b0361a9bd0a6",
   "metadata": {},
   "outputs": [],
   "source": [
    "df_SS_airconditioner.to_csv(\"df_SS_airconditioner.csv\")"
   ]
  },
  {
   "cell_type": "code",
   "execution_count": null,
   "id": "f9805cad-d12b-4e22-8479-6e6df6eb6555",
   "metadata": {},
   "outputs": [],
   "source": []
  }
 ],
 "metadata": {
  "kernelspec": {
   "display_name": "Python 3 (ipykernel)",
   "language": "python",
   "name": "python3"
  },
  "language_info": {
   "codemirror_mode": {
    "name": "ipython",
    "version": 3
   },
   "file_extension": ".py",
   "mimetype": "text/x-python",
   "name": "python",
   "nbconvert_exporter": "python",
   "pygments_lexer": "ipython3",
   "version": "3.11.7"
  }
 },
 "nbformat": 4,
 "nbformat_minor": 5
}
