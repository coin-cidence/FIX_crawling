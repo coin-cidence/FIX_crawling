{
 "cells": [
  {
   "cell_type": "code",
   "execution_count": 1,
   "id": "2e16d88e-1f46-4129-8332-1c6b55cb0a46",
   "metadata": {},
   "outputs": [],
   "source": [
    "import time\n",
    "import pandas as pd\n",
    "from selenium import webdriver\n",
    "from selenium.webdriver.common.by import By\n",
    "from selenium.webdriver.common.keys import Keys\n",
    "from tqdm import tqdm\n",
    "import pyperclip\n",
    "from bs4 import BeautifulSoup as bs\n",
    "from tqdm import tqdm\n",
    "import requests as req\n",
    "from selenium.webdriver.support.ui import WebDriverWait\n",
    "from selenium.webdriver.support import expected_conditions as EC"
   ]
  },
  {
   "cell_type": "code",
   "execution_count": 2,
   "id": "169279d9-7ffa-4e23-b0cc-48648f5ccae8",
   "metadata": {},
   "outputs": [
    {
     "name": "stderr",
     "output_type": "stream",
     "text": [
      "  8%|██████▍                                                                            | 1/13 [00:40<08:02, 40.25s/it]"
     ]
    },
    {
     "name": "stdout",
     "output_type": "stream",
     "text": [
      "Error processing URL https://www.flipkart.com/samsung-183-l-direct-cool-single-door-4-star-refrigerator-base-drawer-digital-inverter/p/itm0e72f8c5beb0d?pid=RFRGHJPXATRDHYHF&lid=LSTRFRGHJPXATRDHYHFHFTCA4&marketplace=FLIPKART&store=j9e%2Fabm%2Fhzg&spotlightTagId=BestsellerId_j9e%2Fabm%2Fhzg&srno=b_1_4&otracker=CLP_Filters&iid=c81e135a-abb3-44e1-a771-de5421e92862.RFRGHJPXATRDHYHF.SEARCH&ssid=ooabzgb92o0000001724716351341: name 'NoSuchElementException' is not defined\n"
     ]
    },
    {
     "name": "stderr",
     "output_type": "stream",
     "text": [
      " 15%|████████████▊                                                                      | 2/13 [01:32<08:43, 47.56s/it]"
     ]
    },
    {
     "name": "stdout",
     "output_type": "stream",
     "text": [
      "Error processing URL https://www.flipkart.com/samsung-236-l-frost-free-double-door-3-star-convertible-refrigerator-digital-inverter-display/p/itm5d34d4279e9f1?pid=RFRGPHMKVNFYGACW&lid=LSTRFRGPHMKVNFYGACWPPYLLU&marketplace=FLIPKART&store=j9e%2Fabm%2Fhzg&srno=b_1_5&otracker=CLP_Filters&iid=c81e135a-abb3-44e1-a771-de5421e92862.RFRGPHMKVNFYGACW.SEARCH&ssid=ooabzgb92o0000001724716351341: name 'NoSuchElementException' is not defined\n"
     ]
    },
    {
     "name": "stderr",
     "output_type": "stream",
     "text": [
      " 23%|███████████████████▏                                                               | 3/13 [02:15<07:30, 45.08s/it]"
     ]
    },
    {
     "name": "stdout",
     "output_type": "stream",
     "text": [
      "Error processing URL https://www.flipkart.com/samsung-183-l-direct-cool-single-door-5-star-refrigerator-base-drawer-digital-inverter/p/itm2bae2ad2801e8?pid=RFRGW5UPKHNTW67W&lid=LSTRFRGW5UPKHNTW67WIKJBAY&marketplace=FLIPKART&store=j9e%2Fabm%2Fhzg&srno=b_1_6&otracker=CLP_Filters&iid=c81e135a-abb3-44e1-a771-de5421e92862.RFRGW5UPKHNTW67W.SEARCH&ssid=ooabzgb92o0000001724716351341: name 'NoSuchElementException' is not defined\n"
     ]
    },
    {
     "name": "stderr",
     "output_type": "stream",
     "text": [
      " 31%|█████████████████████████▌                                                         | 4/13 [02:56<06:32, 43.56s/it]"
     ]
    },
    {
     "name": "stdout",
     "output_type": "stream",
     "text": [
      "Error processing URL https://www.flipkart.com/samsung-215-l-direct-cool-single-door-5-star-refrigerator-digital-inverter/p/itm724f922c6cb47?pid=RFRGW5UP8CBG3A3E&lid=LSTRFRGW5UP8CBG3A3EKGLRU6&marketplace=FLIPKART&store=j9e%2Fabm%2Fhzg&srno=b_1_7&otracker=CLP_Filters&iid=c81e135a-abb3-44e1-a771-de5421e92862.RFRGW5UP8CBG3A3E.SEARCH&ssid=ooabzgb92o0000001724716351341: name 'NoSuchElementException' is not defined\n"
     ]
    },
    {
     "name": "stderr",
     "output_type": "stream",
     "text": [
      " 38%|███████████████████████████████▉                                                   | 5/13 [03:38<05:43, 42.93s/it]"
     ]
    },
    {
     "name": "stdout",
     "output_type": "stream",
     "text": [
      "Error processing URL https://www.flipkart.com/samsung-189-l-direct-cool-single-door-5-star-refrigerator-base-drawer-digital-inverter/p/itm8a2ba13a934c0?pid=RFRGW5UP8XX8H3VF&lid=LSTRFRGW5UP8XX8H3VFZKCIXG&marketplace=FLIPKART&store=j9e%2Fabm%2Fhzg&spotlightTagId=BestsellerId_j9e%2Fabm%2Fhzg&srno=b_1_9&otracker=CLP_Filters&iid=c81e135a-abb3-44e1-a771-de5421e92862.RFRGW5UP8XX8H3VF.SEARCH&ssid=ooabzgb92o0000001724716351341: name 'NoSuchElementException' is not defined\n"
     ]
    },
    {
     "name": "stderr",
     "output_type": "stream",
     "text": [
      " 46%|██████████████████████████████████████▎                                            | 6/13 [04:13<04:43, 40.47s/it]"
     ]
    },
    {
     "name": "stdout",
     "output_type": "stream",
     "text": [
      "Error processing URL https://www.flipkart.com/samsung-236-l-frost-free-double-door-2-star-refrigerator-digital-inverter/p/itm8737a13956d12?pid=RFRGHJPX2SRHP6VD&lid=LSTRFRGHJPX2SRHP6VDWFMU88&marketplace=FLIPKART&store=j9e%2Fabm%2Fhzg&spotlightTagId=TrendingId_j9e%2Fabm%2Fhzg&srno=b_1_10&otracker=CLP_Filters&iid=c81e135a-abb3-44e1-a771-de5421e92862.RFRGHJPX2SRHP6VD.SEARCH&ssid=ooabzgb92o0000001724716351341: name 'NoSuchElementException' is not defined\n"
     ]
    },
    {
     "name": "stderr",
     "output_type": "stream",
     "text": [
      " 54%|████████████████████████████████████████████▋                                      | 7/13 [04:56<04:07, 41.22s/it]"
     ]
    },
    {
     "name": "stdout",
     "output_type": "stream",
     "text": [
      "Error processing URL https://www.flipkart.com/samsung-183-l-direct-cool-single-door-4-star-refrigerator-digital-inverter/p/itmfff1e0ec93227?pid=RFRGHJPXXYYV3V2B&lid=LSTRFRGHJPXXYYV3V2B2GPEVW&marketplace=FLIPKART&store=j9e%2Fabm%2Fhzg&srno=b_1_13&otracker=CLP_Filters&iid=c81e135a-abb3-44e1-a771-de5421e92862.RFRGHJPXXYYV3V2B.SEARCH&ssid=ooabzgb92o0000001724716351341: name 'NoSuchElementException' is not defined\n"
     ]
    },
    {
     "name": "stderr",
     "output_type": "stream",
     "text": [
      " 62%|███████████████████████████████████████████████████                                | 8/13 [05:39<03:28, 41.65s/it]"
     ]
    },
    {
     "name": "stdout",
     "output_type": "stream",
     "text": [
      "Error processing URL https://www.flipkart.com/samsung-236-l-frost-free-double-door-2-star-convertible-refrigerator-digital-inverter-display/p/itm01a8e3c0e0f15?pid=RFRGHJPXAQCHMXHY&lid=LSTRFRGHJPXAQCHMXHYV3EHGP&marketplace=FLIPKART&store=j9e%2Fabm%2Fhzg&srno=b_1_15&otracker=CLP_Filters&iid=c81e135a-abb3-44e1-a771-de5421e92862.RFRGHJPXAQCHMXHY.SEARCH&ssid=ooabzgb92o0000001724716351341: name 'NoSuchElementException' is not defined\n"
     ]
    },
    {
     "name": "stderr",
     "output_type": "stream",
     "text": [
      " 69%|█████████████████████████████████████████████████████████▍                         | 9/13 [06:18<02:44, 41.08s/it]"
     ]
    },
    {
     "name": "stdout",
     "output_type": "stream",
     "text": [
      "Error processing URL https://www.flipkart.com/samsung-183-l-direct-cool-single-door-5-star-refrigerator-base-drawer-digital-inverter/p/itm90f50a97794a2?pid=RFRGW5UPQGY8B66J&lid=LSTRFRGW5UPQGY8B66JZUDMMA&marketplace=FLIPKART&store=j9e%2Fabm%2Fhzg&srno=b_1_16&otracker=CLP_Filters&iid=c81e135a-abb3-44e1-a771-de5421e92862.RFRGW5UPQGY8B66J.SEARCH&ssid=ooabzgb92o0000001724716351341: name 'NoSuchElementException' is not defined\n"
     ]
    },
    {
     "name": "stderr",
     "output_type": "stream",
     "text": [
      " 77%|███████████████████████████████████████████████████████████████                   | 10/13 [07:00<02:03, 41.27s/it]"
     ]
    },
    {
     "name": "stdout",
     "output_type": "stream",
     "text": [
      "Error processing URL https://www.flipkart.com/samsung-322-l-frost-free-double-door-3-star-refrigerator-digital-inverter-convertible-5-in-1-display/p/itma7f05f9f481e7?pid=RFRGPTYNGBJNZNZ4&lid=LSTRFRGPTYNGBJNZNZ4GXVECW&marketplace=FLIPKART&store=j9e%2Fabm%2Fhzg&srno=b_1_19&otracker=CLP_Filters&iid=c81e135a-abb3-44e1-a771-de5421e92862.RFRGPTYNGBJNZNZ4.SEARCH&ssid=ooabzgb92o0000001724716351341: name 'NoSuchElementException' is not defined\n"
     ]
    },
    {
     "name": "stderr",
     "output_type": "stream",
     "text": [
      " 85%|█████████████████████████████████████████████████████████████████████▍            | 11/13 [07:42<01:23, 41.56s/it]"
     ]
    },
    {
     "name": "stdout",
     "output_type": "stream",
     "text": [
      "Error processing URL https://www.flipkart.com/samsung-256-l-frost-free-double-door-3-star-convertible-refrigerator-digital-inverter-display/p/itmf4819f99564a9?pid=RFRGPHMKS9EFTA8Z&lid=LSTRFRGPHMKS9EFTA8ZAGBGVI&marketplace=FLIPKART&store=j9e%2Fabm%2Fhzg&srno=b_1_20&otracker=CLP_Filters&iid=c81e135a-abb3-44e1-a771-de5421e92862.RFRGPHMKS9EFTA8Z.SEARCH&ssid=ooabzgb92o0000001724716351341: name 'NoSuchElementException' is not defined\n"
     ]
    },
    {
     "name": "stderr",
     "output_type": "stream",
     "text": [
      " 92%|███████████████████████████████████████████████████████████████████████████▋      | 12/13 [08:13<00:38, 38.31s/it]"
     ]
    },
    {
     "name": "stdout",
     "output_type": "stream",
     "text": [
      "Error processing URL https://www.flipkart.com/samsung-183-l-direct-cool-single-door-3-star-refrigerator-digital-inverter/p/itmf01477eb08fff?pid=RFRGHJPXPYGXUFS7&lid=LSTRFRGHJPXPYGXUFS7W1JGBF&marketplace=FLIPKART&store=j9e%2Fabm%2Fhzg&srno=b_1_23&otracker=CLP_Filters&iid=c81e135a-abb3-44e1-a771-de5421e92862.RFRGHJPXPYGXUFS7.SEARCH&ssid=ooabzgb92o0000001724716351341: name 'NoSuchElementException' is not defined\n"
     ]
    },
    {
     "name": "stderr",
     "output_type": "stream",
     "text": [
      "100%|██████████████████████████████████████████████████████████████████████████████████| 13/13 [08:48<00:00, 40.66s/it]"
     ]
    },
    {
     "name": "stdout",
     "output_type": "stream",
     "text": [
      "Error processing URL https://www.flipkart.com/samsung-301-l-frost-free-double-door-3-star-convertible-refrigerator-digital-inverter-5-in-1-display/p/itmd9d975ab6191a?pid=RFRGPHMKUGKJHMB3&lid=LSTRFRGPHMKUGKJHMB3INDZGL&marketplace=FLIPKART&store=j9e%2Fabm%2Fhzg&srno=b_1_24&otracker=CLP_Filters&iid=c81e135a-abb3-44e1-a771-de5421e92862.RFRGPHMKUGKJHMB3.SEARCH&ssid=ooabzgb92o0000001724716351341: name 'NoSuchElementException' is not defined\n"
     ]
    },
    {
     "name": "stderr",
     "output_type": "stream",
     "text": [
      "\n"
     ]
    }
   ],
   "source": [
    "  # 웹드라이버 실행\n",
    "driver = webdriver.Chrome()\n",
    "\n",
    "# 제품 목록 페이지 로드\n",
    "driver.get(\"https://www.flipkart.com/search?sid=j9e%2Fabm%2Fhzg&otracker=CLP_Filters&p%5B%5D=facets.brand%255B%255D%3DSAMSUNG\")\n",
    "\n",
    "# 페이지 로딩 대기\n",
    "WebDriverWait(driver, 10).until(EC.presence_of_element_located((By.CLASS_NAME, 'CGtC98')))\n",
    "\n",
    "# URL을 저장할 리스트 초기화\n",
    "url_list = []\n",
    "\n",
    "# 요소 찾기\n",
    "elements = driver.find_elements(By.CLASS_NAME, 'CGtC98')\n",
    "\n",
    "# 각 요소에서 'href' 속성을 가져와 리스트에 추가 (sponsored 요소는 제외)\n",
    "for element in elements:\n",
    "    try:\n",
    "        # 'f8qK5m' 클래스를 가진 자식 요소가 있는지 확인\n",
    "        if element.find_elements(By.CLASS_NAME, 'f8qK5m'):\n",
    "            # 'f8qK5m' 클래스를 가진 자식 요소가 있다면 skip\n",
    "            continue\n",
    "        # 자식 요소가 'f8qK5m' 클래스를 가지고 있지 않다면 href 추출\n",
    "        url_value = element.get_attribute('href')\n",
    "        if url_value:  # href 속성이 있는 경우만 추가\n",
    "            url_list.append(url_value)\n",
    "    except NoSuchElementException:\n",
    "        # 자식 요소가 없으면 그냥 넘어가기\n",
    "        continue \n",
    "        \n",
    "# 리뷰 데이터를 저장할 리스트 초기화\n",
    "all_reviews = []\n",
    "\n",
    "for url in tqdm(url_list):\n",
    "    try:\n",
    "        driver.get(url)\n",
    "        \n",
    "        # XPath를 사용하여 제목 찾기. 제품 코드 별 XPATH 달라서 접근 불가... 제목에서 코드 추출하세용...\n",
    "        try:\n",
    "            # XPath를 사용하여 제목 찾기. 제품 코드 별 XPATH 달라서 접근 불가... 제목에서 코드 추출하세용... \n",
    "            list_items = driver.find_elements(By.XPATH, '//*[@id=\"container\"]/div/div[3]/div[1]/div[2]/div[2]/div/div[1]/h1/span')\n",
    "            \n",
    "            # 텍스트 추출\n",
    "            hp_data = [item.text for item in list_items]\n",
    "            if not hp_data:\n",
    "                hp_data = [\"No data\"]  # 데이터가 없을 경우 기본값\n",
    "        except (NoSuchElementException, TimeoutException) as e:\n",
    "            hp_data = [\"Error fetching data\"]  # 오류 발생 시 기본값\n",
    "        \n",
    "        # 리뷰 버튼 클릭 대기\n",
    "        try:\n",
    "            review_button = WebDriverWait(driver, 5).until(EC.presence_of_element_located((By.CLASS_NAME, \"_23J90q.RcXBOT\")))\n",
    "            if review_button.is_displayed():\n",
    "                review_button.click()\n",
    "        except (NoSuchElementException, TimeoutException):\n",
    "            pass\n",
    "        \n",
    "        # 낮은 별점 접근\n",
    "        try:\n",
    "            low_rating_option = WebDriverWait(driver, 10).until(EC.presence_of_element_located((By.CSS_SELECTOR, \"#container > div > div.VLIitu > div > div > div.DOjaWF.gdgoEp.col-9-12 > div.DOjaWF.gdgoEp.col-12-12 > div > div:nth-child(2) > div > div > div > div > select > option:nth-child(4)\")))\n",
    "            low_rating_option.click()\n",
    "        except (NoSuchElementException, TimeoutException) as e:\n",
    "            print(f\"Error selecting sort option for URL {url}: {e}\")\n",
    "        \n",
    "        # 데이터 확보\n",
    "        page_number = 1\n",
    "        \n",
    "        while True:\n",
    "            try:\n",
    "                # 페이지 URL 업데이트\n",
    "                current_url = driver.current_url\n",
    "                full_url = f'{current_url}&page={page_number}'\n",
    "                driver.get(full_url)\n",
    "                \n",
    "                # ZmyHeo 클래스의 존재 여부를 확인\n",
    "                WebDriverWait(driver, 10).until(EC.presence_of_element_located((By.CLASS_NAME, 'ZmyHeo')))\n",
    "                \n",
    "                # 데이터 추출\n",
    "                text_elements = driver.find_elements(By.CLASS_NAME, 'ZmyHeo')\n",
    "                state_elements = driver.find_elements(By.CLASS_NAME, 'MztJPv')\n",
    "                date_elements = driver.find_elements(By.CLASS_NAME, '_2NsDsF')\n",
    "                star_elements = driver.find_elements(By.XPATH, \"//*[contains(@class, 'XQDdHH') and (contains(@class, 'Js30Fc') or contains(@class, 'Czs3gR') or contains(@class, 'Ga3i8K'))]\")\n",
    "                \n",
    "                text_list = [elem.text for elem in text_elements]\n",
    "                state_list = [elem.text for elem in state_elements]\n",
    "                date_list = [elem.text for elem in date_elements]\n",
    "                dates = date_list[1::2]\n",
    "                star_list = [elem.text for elem in star_elements]\n",
    "                \n",
    "                # 리뷰 데이터를 모든 리뷰 리스트에 추가\n",
    "                for t, s, d, r in zip(text_list, state_list, dates, star_list):\n",
    "                    for data in hp_data:\n",
    "                        all_reviews.append({\n",
    "                            'text': t,\n",
    "                            'state': s,\n",
    "                            'date': d,\n",
    "                            'star': r,\n",
    "                            'hp_data': data  # 각각의 hp_data 항목을 추가\n",
    "                        })\n",
    "\n",
    "                # 페이지 번호 증가\n",
    "                page_number += 1\n",
    "                \n",
    "            except (NoSuchElementException, TimeoutException) as e:\n",
    "                print(f\"Error on page {page_number} for URL {full_url}: {e}\")\n",
    "                break\n",
    "    \n",
    "    except Exception as e:\n",
    "        print(f\"Error processing URL {url}: {e}\")\n",
    "\n",
    "# 현재 창 닫기\n",
    "driver.quit()"
   ]
  },
  {
   "cell_type": "code",
   "execution_count": 3,
   "id": "1c9378bb-ac46-47c0-b289-96ad44380f5f",
   "metadata": {},
   "outputs": [
    {
     "data": {
      "text/html": [
       "<div>\n",
       "<style scoped>\n",
       "    .dataframe tbody tr th:only-of-type {\n",
       "        vertical-align: middle;\n",
       "    }\n",
       "\n",
       "    .dataframe tbody tr th {\n",
       "        vertical-align: top;\n",
       "    }\n",
       "\n",
       "    .dataframe thead th {\n",
       "        text-align: right;\n",
       "    }\n",
       "</style>\n",
       "<table border=\"1\" class=\"dataframe\">\n",
       "  <thead>\n",
       "    <tr style=\"text-align: right;\">\n",
       "      <th></th>\n",
       "      <th>text</th>\n",
       "      <th>state</th>\n",
       "      <th>date</th>\n",
       "      <th>star</th>\n",
       "      <th>hp_data</th>\n",
       "    </tr>\n",
       "  </thead>\n",
       "  <tbody>\n",
       "    <tr>\n",
       "      <th>0</th>\n",
       "      <td>Water is coming</td>\n",
       "      <td>Certified Buyer, Chirala</td>\n",
       "      <td>6 days ago</td>\n",
       "      <td>1</td>\n",
       "      <td>SAMSUNG 183 L Direct Cool Single Door 4 Star R...</td>\n",
       "    </tr>\n",
       "    <tr>\n",
       "      <th>1</th>\n",
       "      <td>Side body over when use lo cooling ... please ...</td>\n",
       "      <td>Certified Buyer, Anakapalli District</td>\n",
       "      <td>21 days ago</td>\n",
       "      <td>1</td>\n",
       "      <td>SAMSUNG 183 L Direct Cool Single Door 4 Star R...</td>\n",
       "    </tr>\n",
       "    <tr>\n",
       "      <th>2</th>\n",
       "      <td>Not cooling fast bad quality... Im not happy</td>\n",
       "      <td>Certified Buyer, Samastipur District</td>\n",
       "      <td>27 days ago</td>\n",
       "      <td>1</td>\n",
       "      <td>SAMSUNG 183 L Direct Cool Single Door 4 Star R...</td>\n",
       "    </tr>\n",
       "    <tr>\n",
       "      <th>3</th>\n",
       "      <td>Not up to the mark, it is producing too much s...</td>\n",
       "      <td>Certified Buyer, Presidency Division</td>\n",
       "      <td>1 month ago</td>\n",
       "      <td>1</td>\n",
       "      <td>SAMSUNG 183 L Direct Cool Single Door 4 Star R...</td>\n",
       "    </tr>\n",
       "    <tr>\n",
       "      <th>4</th>\n",
       "      <td>Worst product</td>\n",
       "      <td>Certified Buyer, Bathinda</td>\n",
       "      <td>1 month ago</td>\n",
       "      <td>1</td>\n",
       "      <td>SAMSUNG 183 L Direct Cool Single Door 4 Star R...</td>\n",
       "    </tr>\n",
       "    <tr>\n",
       "      <th>...</th>\n",
       "      <td>...</td>\n",
       "      <td>...</td>\n",
       "      <td>...</td>\n",
       "      <td>...</td>\n",
       "      <td>...</td>\n",
       "    </tr>\n",
       "    <tr>\n",
       "      <th>1375</th>\n",
       "      <td>Best ......</td>\n",
       "      <td>Certified Buyer, Jamnagar</td>\n",
       "      <td>7 months ago</td>\n",
       "      <td>4</td>\n",
       "      <td>SAMSUNG 301 L Frost Free Double Door 3 Star Co...</td>\n",
       "    </tr>\n",
       "    <tr>\n",
       "      <th>1376</th>\n",
       "      <td>Well works good since its new and good capacit...</td>\n",
       "      <td>Certified Buyer, Chennai</td>\n",
       "      <td>9 months ago</td>\n",
       "      <td>4</td>\n",
       "      <td>SAMSUNG 301 L Frost Free Double Door 3 Star Co...</td>\n",
       "    </tr>\n",
       "    <tr>\n",
       "      <th>1377</th>\n",
       "      <td>Best products at this price range also getting...</td>\n",
       "      <td>Certified Buyer, Nagpur</td>\n",
       "      <td>9 months ago</td>\n",
       "      <td>4</td>\n",
       "      <td>SAMSUNG 301 L Frost Free Double Door 3 Star Co...</td>\n",
       "    </tr>\n",
       "    <tr>\n",
       "      <th>1378</th>\n",
       "      <td>i got it with exchange of old refrigerator.\\nl...</td>\n",
       "      <td>Certified Buyer, Muktsar</td>\n",
       "      <td>Apr, 2023</td>\n",
       "      <td>4</td>\n",
       "      <td>SAMSUNG 301 L Frost Free Double Door 3 Star Co...</td>\n",
       "    </tr>\n",
       "    <tr>\n",
       "      <th>1379</th>\n",
       "      <td>Considering the global brand Samsung the cooli...</td>\n",
       "      <td>Certified Buyer, Patna</td>\n",
       "      <td>4 months ago</td>\n",
       "      <td>4</td>\n",
       "      <td>SAMSUNG 301 L Frost Free Double Door 3 Star Co...</td>\n",
       "    </tr>\n",
       "  </tbody>\n",
       "</table>\n",
       "<p>1380 rows × 5 columns</p>\n",
       "</div>"
      ],
      "text/plain": [
       "                                                   text  \\\n",
       "0                                       Water is coming   \n",
       "1     Side body over when use lo cooling ... please ...   \n",
       "2          Not cooling fast bad quality... Im not happy   \n",
       "3     Not up to the mark, it is producing too much s...   \n",
       "4                                         Worst product   \n",
       "...                                                 ...   \n",
       "1375                                        Best ......   \n",
       "1376  Well works good since its new and good capacit...   \n",
       "1377  Best products at this price range also getting...   \n",
       "1378  i got it with exchange of old refrigerator.\\nl...   \n",
       "1379  Considering the global brand Samsung the cooli...   \n",
       "\n",
       "                                     state          date star  \\\n",
       "0                 Certified Buyer, Chirala    6 days ago    1   \n",
       "1     Certified Buyer, Anakapalli District   21 days ago    1   \n",
       "2     Certified Buyer, Samastipur District   27 days ago    1   \n",
       "3     Certified Buyer, Presidency Division   1 month ago    1   \n",
       "4                Certified Buyer, Bathinda   1 month ago    1   \n",
       "...                                    ...           ...  ...   \n",
       "1375             Certified Buyer, Jamnagar  7 months ago    4   \n",
       "1376              Certified Buyer, Chennai  9 months ago    4   \n",
       "1377               Certified Buyer, Nagpur  9 months ago    4   \n",
       "1378              Certified Buyer, Muktsar     Apr, 2023    4   \n",
       "1379                Certified Buyer, Patna  4 months ago    4   \n",
       "\n",
       "                                                hp_data  \n",
       "0     SAMSUNG 183 L Direct Cool Single Door 4 Star R...  \n",
       "1     SAMSUNG 183 L Direct Cool Single Door 4 Star R...  \n",
       "2     SAMSUNG 183 L Direct Cool Single Door 4 Star R...  \n",
       "3     SAMSUNG 183 L Direct Cool Single Door 4 Star R...  \n",
       "4     SAMSUNG 183 L Direct Cool Single Door 4 Star R...  \n",
       "...                                                 ...  \n",
       "1375  SAMSUNG 301 L Frost Free Double Door 3 Star Co...  \n",
       "1376  SAMSUNG 301 L Frost Free Double Door 3 Star Co...  \n",
       "1377  SAMSUNG 301 L Frost Free Double Door 3 Star Co...  \n",
       "1378  SAMSUNG 301 L Frost Free Double Door 3 Star Co...  \n",
       "1379  SAMSUNG 301 L Frost Free Double Door 3 Star Co...  \n",
       "\n",
       "[1380 rows x 5 columns]"
      ]
     },
     "execution_count": 3,
     "metadata": {},
     "output_type": "execute_result"
    }
   ],
   "source": [
    "df_SS_refri = pd.DataFrame(all_reviews)\n",
    "df_SS_refri"
   ]
  },
  {
   "cell_type": "code",
   "execution_count": 4,
   "id": "efe94ab9-bfa0-492f-9a3e-6614eb2d86f6",
   "metadata": {},
   "outputs": [],
   "source": [
    "df_SS_refri.to_csv(\"df_SS_refri.csv\")"
   ]
  },
  {
   "cell_type": "code",
   "execution_count": null,
   "id": "3140bc17-dea8-49d1-b56f-7484dc56292a",
   "metadata": {},
   "outputs": [],
   "source": []
  }
 ],
 "metadata": {
  "kernelspec": {
   "display_name": "Python 3 (ipykernel)",
   "language": "python",
   "name": "python3"
  },
  "language_info": {
   "codemirror_mode": {
    "name": "ipython",
    "version": 3
   },
   "file_extension": ".py",
   "mimetype": "text/x-python",
   "name": "python",
   "nbconvert_exporter": "python",
   "pygments_lexer": "ipython3",
   "version": "3.11.7"
  }
 },
 "nbformat": 4,
 "nbformat_minor": 5
}
