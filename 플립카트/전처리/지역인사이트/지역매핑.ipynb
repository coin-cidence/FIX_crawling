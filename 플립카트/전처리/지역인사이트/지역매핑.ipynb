{
 "cells": [
  {
   "cell_type": "code",
   "execution_count": 1,
   "metadata": {},
   "outputs": [],
   "source": [
    "import pandas as pd\n",
    "import matplotlib.pyplot as plt\n",
    "import folium"
   ]
  },
  {
   "cell_type": "markdown",
   "metadata": {},
   "source": [
    "### 1. 별점"
   ]
  },
  {
   "cell_type": "markdown",
   "metadata": {},
   "source": [
    "#### 에어컨"
   ]
  },
  {
   "cell_type": "code",
   "execution_count": 4,
   "metadata": {},
   "outputs": [
    {
     "data": {
      "text/html": [
       "<div>\n",
       "<style scoped>\n",
       "    .dataframe tbody tr th:only-of-type {\n",
       "        vertical-align: middle;\n",
       "    }\n",
       "\n",
       "    .dataframe tbody tr th {\n",
       "        vertical-align: top;\n",
       "    }\n",
       "\n",
       "    .dataframe thead th {\n",
       "        text-align: right;\n",
       "    }\n",
       "</style>\n",
       "<table border=\"1\" class=\"dataframe\">\n",
       "  <thead>\n",
       "    <tr style=\"text-align: right;\">\n",
       "      <th></th>\n",
       "      <th>Unnamed: 0</th>\n",
       "      <th>text</th>\n",
       "      <th>star</th>\n",
       "      <th>hp_data</th>\n",
       "      <th>city</th>\n",
       "      <th>transformed_date</th>\n",
       "      <th>product_num</th>\n",
       "      <th>state</th>\n",
       "    </tr>\n",
       "  </thead>\n",
       "  <tbody>\n",
       "    <tr>\n",
       "      <th>0</th>\n",
       "      <td>0</td>\n",
       "      <td>Waste of money . AC not working till one month...</td>\n",
       "      <td>1</td>\n",
       "      <td>LG AI Convertible 6-in-1 Cooling 2024 Model 1....</td>\n",
       "      <td>Alwar</td>\n",
       "      <td>May, 2023</td>\n",
       "      <td>TS-Q18JNXE3, Copper Condenser</td>\n",
       "      <td>Rajasthan</td>\n",
       "    </tr>\n",
       "    <tr>\n",
       "      <th>1</th>\n",
       "      <td>1</td>\n",
       "      <td>I purchased this LG A. C. on 17 April 23..The ...</td>\n",
       "      <td>1</td>\n",
       "      <td>LG AI Convertible 6-in-1 Cooling 2024 Model 1....</td>\n",
       "      <td>Kalyan</td>\n",
       "      <td>Apr, 2023</td>\n",
       "      <td>TS-Q18JNXE3, Copper Condenser</td>\n",
       "      <td>Maharashtra</td>\n",
       "    </tr>\n",
       "    <tr>\n",
       "      <th>2</th>\n",
       "      <td>2</td>\n",
       "      <td>If you want to buy a white showpiece for your ...</td>\n",
       "      <td>1</td>\n",
       "      <td>LG AI Convertible 6-in-1 Cooling 2024 Model 1....</td>\n",
       "      <td>Madhyamgram</td>\n",
       "      <td>Apr, 2023</td>\n",
       "      <td>TS-Q18JNXE3, Copper Condenser</td>\n",
       "      <td>West Bengal</td>\n",
       "    </tr>\n",
       "    <tr>\n",
       "      <th>3</th>\n",
       "      <td>3</td>\n",
       "      <td>Totally waste of money. company is not refund ...</td>\n",
       "      <td>1</td>\n",
       "      <td>LG AI Convertible 6-in-1 Cooling 2024 Model 1....</td>\n",
       "      <td>Charkhi Dadri</td>\n",
       "      <td>May, 2022</td>\n",
       "      <td>TS-Q18JNXE3, Copper Condenser</td>\n",
       "      <td>Haryana</td>\n",
       "    </tr>\n",
       "    <tr>\n",
       "      <th>4</th>\n",
       "      <td>4</td>\n",
       "      <td>This model don't have 4 way swing, it's actual...</td>\n",
       "      <td>1</td>\n",
       "      <td>LG AI Convertible 6-in-1 Cooling 2024 Model 1....</td>\n",
       "      <td>Erode</td>\n",
       "      <td>Feb, 2024</td>\n",
       "      <td>TS-Q18JNXE3, Copper Condenser</td>\n",
       "      <td>Tamil Nadu</td>\n",
       "    </tr>\n",
       "  </tbody>\n",
       "</table>\n",
       "</div>"
      ],
      "text/plain": [
       "   Unnamed: 0                                               text  star  \\\n",
       "0           0  Waste of money . AC not working till one month...     1   \n",
       "1           1  I purchased this LG A. C. on 17 April 23..The ...     1   \n",
       "2           2  If you want to buy a white showpiece for your ...     1   \n",
       "3           3  Totally waste of money. company is not refund ...     1   \n",
       "4           4  This model don't have 4 way swing, it's actual...     1   \n",
       "\n",
       "                                             hp_data           city  \\\n",
       "0  LG AI Convertible 6-in-1 Cooling 2024 Model 1....          Alwar   \n",
       "1  LG AI Convertible 6-in-1 Cooling 2024 Model 1....         Kalyan   \n",
       "2  LG AI Convertible 6-in-1 Cooling 2024 Model 1....    Madhyamgram   \n",
       "3  LG AI Convertible 6-in-1 Cooling 2024 Model 1....  Charkhi Dadri   \n",
       "4  LG AI Convertible 6-in-1 Cooling 2024 Model 1....          Erode   \n",
       "\n",
       "  transformed_date                    product_num        state  \n",
       "0        May, 2023  TS-Q18JNXE3, Copper Condenser    Rajasthan  \n",
       "1        Apr, 2023  TS-Q18JNXE3, Copper Condenser  Maharashtra  \n",
       "2        Apr, 2023  TS-Q18JNXE3, Copper Condenser  West Bengal  \n",
       "3        May, 2022  TS-Q18JNXE3, Copper Condenser      Haryana  \n",
       "4        Feb, 2024  TS-Q18JNXE3, Copper Condenser   Tamil Nadu  "
      ]
     },
     "execution_count": 4,
     "metadata": {},
     "output_type": "execute_result"
    }
   ],
   "source": [
    "df = pd.read_csv('LG_air_state.csv')\n",
    "df.head(5)"
   ]
  },
  {
   "cell_type": "code",
   "execution_count": 9,
   "metadata": {},
   "outputs": [
    {
     "data": {
      "text/plain": [
       "<folium.features.Choropleth at 0x1a91c73e1d0>"
      ]
     },
     "execution_count": 9,
     "metadata": {},
     "output_type": "execute_result"
    }
   ],
   "source": [
    "# 인도의 중심 위치 지정 (대략적으로 인도의 중앙에 위치한 좌표)\n",
    "india_center = [20.5937, 78.9629]\n",
    "\n",
    "# 인도 지도 생성\n",
    "map_india = folium.Map(location=india_center, zoom_start=4.5, width='100%', height='100vh')\n",
    "\n",
    "# 각 구별 평균 값을 지도에 표기\n",
    "folium.Choropleth(\n",
    "    geo_data='visualize/india_state.geojson',  \n",
    "    data=df,\n",
    "    columns=['state', 'star'],\n",
    "    key_on='feature.properties.NAME_1',\n",
    "    fill_color='Blues',  # 색상 선택에 따라 변경 가능\n",
    "    fill_opacity=0.7,\n",
    "    line_opacity=0.5,\n",
    "    legend_name='star',\n",
    ").add_to(map_india)"
   ]
  },
  {
   "cell_type": "code",
   "execution_count": 10,
   "metadata": {},
   "outputs": [
    {
     "data": {
      "text/plain": [
       "<folium.features.GeoJson at 0x1a915f26010>"
      ]
     },
     "execution_count": 10,
     "metadata": {},
     "output_type": "execute_result"
    }
   ],
   "source": [
    "folium.GeoJson(\n",
    "    'visualize/india_state.geojson',\n",
    "    name=\"States\",\n",
    "    style_function=lambda feature: {\n",
    "        'color': 'black',\n",
    "        'weight': 0.5,\n",
    "        'fillOpacity': 0\n",
    "    },\n",
    "    tooltip=folium.GeoJsonTooltip(fields=['NAME_1'], labels=False)\n",
    ").add_to(map_india)"
   ]
  },
  {
   "cell_type": "code",
   "execution_count": 14,
   "metadata": {},
   "outputs": [],
   "source": [
    "map_india.save('LG_air_map.html')"
   ]
  },
  {
   "cell_type": "markdown",
   "metadata": {},
   "source": [
    "#### 냉장고"
   ]
  },
  {
   "cell_type": "code",
   "execution_count": 15,
   "metadata": {},
   "outputs": [
    {
     "data": {
      "text/html": [
       "<div>\n",
       "<style scoped>\n",
       "    .dataframe tbody tr th:only-of-type {\n",
       "        vertical-align: middle;\n",
       "    }\n",
       "\n",
       "    .dataframe tbody tr th {\n",
       "        vertical-align: top;\n",
       "    }\n",
       "\n",
       "    .dataframe thead th {\n",
       "        text-align: right;\n",
       "    }\n",
       "</style>\n",
       "<table border=\"1\" class=\"dataframe\">\n",
       "  <thead>\n",
       "    <tr style=\"text-align: right;\">\n",
       "      <th></th>\n",
       "      <th>Unnamed: 0</th>\n",
       "      <th>text</th>\n",
       "      <th>star</th>\n",
       "      <th>hp_data</th>\n",
       "      <th>city</th>\n",
       "      <th>transformed_date</th>\n",
       "      <th>product_num</th>\n",
       "      <th>state</th>\n",
       "    </tr>\n",
       "  </thead>\n",
       "  <tbody>\n",
       "    <tr>\n",
       "      <th>0</th>\n",
       "      <td>0</td>\n",
       "      <td>Very poor cooling</td>\n",
       "      <td>1</td>\n",
       "      <td>LG 185 L Direct Cool Single Door 5 Star Refrig...</td>\n",
       "      <td>Darbhanga</td>\n",
       "      <td>Jul, 2024</td>\n",
       "      <td>Blue Charm, GL-D201ABCU</td>\n",
       "      <td>Bihar</td>\n",
       "    </tr>\n",
       "    <tr>\n",
       "      <th>1</th>\n",
       "      <td>1</td>\n",
       "      <td>Not good product</td>\n",
       "      <td>1</td>\n",
       "      <td>LG 185 L Direct Cool Single Door 5 Star Refrig...</td>\n",
       "      <td>Bangarapet</td>\n",
       "      <td>Jun, 2024</td>\n",
       "      <td>Blue Charm, GL-D201ABCU</td>\n",
       "      <td>Karnataka</td>\n",
       "    </tr>\n",
       "    <tr>\n",
       "      <th>2</th>\n",
       "      <td>2</td>\n",
       "      <td>Worst experience to buy filp kart... over heat...</td>\n",
       "      <td>1</td>\n",
       "      <td>LG 185 L Direct Cool Single Door 5 Star Refrig...</td>\n",
       "      <td>Coimbatore</td>\n",
       "      <td>Mar, 2024</td>\n",
       "      <td>Blue Charm, GL-D201ABCU</td>\n",
       "      <td>Tamil Nadu</td>\n",
       "    </tr>\n",
       "    <tr>\n",
       "      <th>3</th>\n",
       "      <td>3</td>\n",
       "      <td>Worst quality wast of money, no return option</td>\n",
       "      <td>1</td>\n",
       "      <td>LG 185 L Direct Cool Single Door 5 Star Refrig...</td>\n",
       "      <td>Tirupati</td>\n",
       "      <td>Feb, 2024</td>\n",
       "      <td>Blue Charm, GL-D201ABCU</td>\n",
       "      <td>Andhra Pradesh</td>\n",
       "    </tr>\n",
       "    <tr>\n",
       "      <th>4</th>\n",
       "      <td>4</td>\n",
       "      <td>Refrigerator base not fitting properly</td>\n",
       "      <td>1</td>\n",
       "      <td>LG 185 L Direct Cool Single Door 5 Star Refrig...</td>\n",
       "      <td>Noida</td>\n",
       "      <td>Feb, 2024</td>\n",
       "      <td>Blue Charm, GL-D201ABCU</td>\n",
       "      <td>Uttar Pradesh</td>\n",
       "    </tr>\n",
       "  </tbody>\n",
       "</table>\n",
       "</div>"
      ],
      "text/plain": [
       "   Unnamed: 0                                               text  star  \\\n",
       "0           0                                  Very poor cooling     1   \n",
       "1           1                                   Not good product     1   \n",
       "2           2  Worst experience to buy filp kart... over heat...     1   \n",
       "3           3      Worst quality wast of money, no return option     1   \n",
       "4           4             Refrigerator base not fitting properly     1   \n",
       "\n",
       "                                             hp_data        city  \\\n",
       "0  LG 185 L Direct Cool Single Door 5 Star Refrig...   Darbhanga   \n",
       "1  LG 185 L Direct Cool Single Door 5 Star Refrig...  Bangarapet   \n",
       "2  LG 185 L Direct Cool Single Door 5 Star Refrig...  Coimbatore   \n",
       "3  LG 185 L Direct Cool Single Door 5 Star Refrig...    Tirupati   \n",
       "4  LG 185 L Direct Cool Single Door 5 Star Refrig...       Noida   \n",
       "\n",
       "  transformed_date              product_num           state  \n",
       "0        Jul, 2024  Blue Charm, GL-D201ABCU           Bihar  \n",
       "1        Jun, 2024  Blue Charm, GL-D201ABCU       Karnataka  \n",
       "2        Mar, 2024  Blue Charm, GL-D201ABCU      Tamil Nadu  \n",
       "3        Feb, 2024  Blue Charm, GL-D201ABCU  Andhra Pradesh  \n",
       "4        Feb, 2024  Blue Charm, GL-D201ABCU   Uttar Pradesh  "
      ]
     },
     "execution_count": 15,
     "metadata": {},
     "output_type": "execute_result"
    }
   ],
   "source": [
    "df = pd.read_csv('LG_refri_state.csv')\n",
    "df.head(5)"
   ]
  },
  {
   "cell_type": "code",
   "execution_count": 16,
   "metadata": {},
   "outputs": [
    {
     "data": {
      "text/plain": [
       "<folium.features.Choropleth at 0x1a931bc9190>"
      ]
     },
     "execution_count": 16,
     "metadata": {},
     "output_type": "execute_result"
    }
   ],
   "source": [
    "# 인도의 중심 위치 지정 (대략적으로 인도의 중앙에 위치한 좌표)\n",
    "india_center = [20.5937, 78.9629]\n",
    "\n",
    "# 인도 지도 생성\n",
    "map_india = folium.Map(location=india_center, zoom_start=5)\n",
    "\n",
    "# 각 구별 평균 값을 지도에 표기\n",
    "folium.Choropleth(\n",
    "    geo_data='visualize/india_state.geojson',  \n",
    "    data=df,\n",
    "    columns=['state', 'star'],\n",
    "    key_on='feature.properties.NAME_1',\n",
    "    fill_color='Blues',  # 색상 선택에 따라 변경 가능\n",
    "    fill_opacity=0.7,\n",
    "    line_opacity=0.5,\n",
    "    legend_name='star',\n",
    ").add_to(map_india)"
   ]
  },
  {
   "cell_type": "code",
   "execution_count": 17,
   "metadata": {},
   "outputs": [
    {
     "data": {
      "text/plain": [
       "<folium.features.GeoJson at 0x1a931bbf410>"
      ]
     },
     "execution_count": 17,
     "metadata": {},
     "output_type": "execute_result"
    }
   ],
   "source": [
    "folium.GeoJson(\n",
    "    'visualize/india_state.geojson',\n",
    "    name=\"States\",\n",
    "    style_function=lambda feature: {\n",
    "        'color': 'black',\n",
    "        'weight': 0.5,\n",
    "        'fillOpacity': 0\n",
    "    },\n",
    "    tooltip=folium.GeoJsonTooltip(fields=['NAME_1'], labels=False)\n",
    ").add_to(map_india)"
   ]
  },
  {
   "cell_type": "code",
   "execution_count": 19,
   "metadata": {},
   "outputs": [],
   "source": [
    "map_india.save('LG_refri_map.html')"
   ]
  },
  {
   "cell_type": "markdown",
   "metadata": {},
   "source": [
    "#### TV"
   ]
  },
  {
   "cell_type": "code",
   "execution_count": 20,
   "metadata": {},
   "outputs": [
    {
     "data": {
      "text/html": [
       "<div>\n",
       "<style scoped>\n",
       "    .dataframe tbody tr th:only-of-type {\n",
       "        vertical-align: middle;\n",
       "    }\n",
       "\n",
       "    .dataframe tbody tr th {\n",
       "        vertical-align: top;\n",
       "    }\n",
       "\n",
       "    .dataframe thead th {\n",
       "        text-align: right;\n",
       "    }\n",
       "</style>\n",
       "<table border=\"1\" class=\"dataframe\">\n",
       "  <thead>\n",
       "    <tr style=\"text-align: right;\">\n",
       "      <th></th>\n",
       "      <th>Unnamed: 0</th>\n",
       "      <th>text</th>\n",
       "      <th>star</th>\n",
       "      <th>hp_data</th>\n",
       "      <th>city</th>\n",
       "      <th>transformed_date</th>\n",
       "      <th>product_num</th>\n",
       "      <th>state</th>\n",
       "    </tr>\n",
       "  </thead>\n",
       "  <tbody>\n",
       "    <tr>\n",
       "      <th>0</th>\n",
       "      <td>0</td>\n",
       "      <td>Picture quality is very bad.. bright ness is m...</td>\n",
       "      <td>1</td>\n",
       "      <td>LG 80 cm HD Ready LED Smart WebOS TV</td>\n",
       "      <td>Bangalore</td>\n",
       "      <td>Nov, 2023</td>\n",
       "      <td>32LM563BPTC</td>\n",
       "      <td>Karnataka</td>\n",
       "    </tr>\n",
       "    <tr>\n",
       "      <th>1</th>\n",
       "      <td>1</td>\n",
       "      <td>Within 15 days we got a problem, small black d...</td>\n",
       "      <td>1</td>\n",
       "      <td>LG 80 cm HD Ready LED Smart WebOS TV</td>\n",
       "      <td>Mangalagiri</td>\n",
       "      <td>Aug, 2024</td>\n",
       "      <td>32LM563BPTC</td>\n",
       "      <td>Andhra Pradesh</td>\n",
       "    </tr>\n",
       "    <tr>\n",
       "      <th>2</th>\n",
       "      <td>2</td>\n",
       "      <td>Very bad, stand is not flexible, stand is not ...</td>\n",
       "      <td>1</td>\n",
       "      <td>LG 80 cm HD Ready LED Smart WebOS TV</td>\n",
       "      <td>Jewar</td>\n",
       "      <td>Aug, 2024</td>\n",
       "      <td>32LM563BPTC</td>\n",
       "      <td>Uttar Pradesh</td>\n",
       "    </tr>\n",
       "    <tr>\n",
       "      <th>3</th>\n",
       "      <td>3</td>\n",
       "      <td>Still we are waiting for installation but the ...</td>\n",
       "      <td>1</td>\n",
       "      <td>LG 80 cm HD Ready LED Smart WebOS TV</td>\n",
       "      <td>Nizamabad District</td>\n",
       "      <td>Aug, 2024</td>\n",
       "      <td>32LM563BPTC</td>\n",
       "      <td>Telangana</td>\n",
       "    </tr>\n",
       "    <tr>\n",
       "      <th>4</th>\n",
       "      <td>4</td>\n",
       "      <td>Worst brand</td>\n",
       "      <td>1</td>\n",
       "      <td>LG 80 cm HD Ready LED Smart WebOS TV</td>\n",
       "      <td>Bhiwandi</td>\n",
       "      <td>Jul, 2024</td>\n",
       "      <td>32LM563BPTC</td>\n",
       "      <td>Maharashtra</td>\n",
       "    </tr>\n",
       "  </tbody>\n",
       "</table>\n",
       "</div>"
      ],
      "text/plain": [
       "   Unnamed: 0                                               text  star  \\\n",
       "0           0  Picture quality is very bad.. bright ness is m...     1   \n",
       "1           1  Within 15 days we got a problem, small black d...     1   \n",
       "2           2  Very bad, stand is not flexible, stand is not ...     1   \n",
       "3           3  Still we are waiting for installation but the ...     1   \n",
       "4           4                                        Worst brand     1   \n",
       "\n",
       "                                hp_data                city transformed_date  \\\n",
       "0  LG 80 cm HD Ready LED Smart WebOS TV           Bangalore        Nov, 2023   \n",
       "1  LG 80 cm HD Ready LED Smart WebOS TV         Mangalagiri        Aug, 2024   \n",
       "2  LG 80 cm HD Ready LED Smart WebOS TV               Jewar        Aug, 2024   \n",
       "3  LG 80 cm HD Ready LED Smart WebOS TV  Nizamabad District        Aug, 2024   \n",
       "4  LG 80 cm HD Ready LED Smart WebOS TV            Bhiwandi        Jul, 2024   \n",
       "\n",
       "   product_num           state  \n",
       "0  32LM563BPTC       Karnataka  \n",
       "1  32LM563BPTC  Andhra Pradesh  \n",
       "2  32LM563BPTC   Uttar Pradesh  \n",
       "3  32LM563BPTC       Telangana  \n",
       "4  32LM563BPTC     Maharashtra  "
      ]
     },
     "execution_count": 20,
     "metadata": {},
     "output_type": "execute_result"
    }
   ],
   "source": [
    "df = pd.read_csv('LG_tv_state.csv')\n",
    "df.head(5)"
   ]
  },
  {
   "cell_type": "code",
   "execution_count": 21,
   "metadata": {},
   "outputs": [
    {
     "data": {
      "text/plain": [
       "<folium.features.Choropleth at 0x1a93a696c50>"
      ]
     },
     "execution_count": 21,
     "metadata": {},
     "output_type": "execute_result"
    }
   ],
   "source": [
    "# 인도의 중심 위치 지정 (대략적으로 인도의 중앙에 위치한 좌표)\n",
    "india_center = [20.5937, 78.9629]\n",
    "\n",
    "# 인도 지도 생성\n",
    "map_india = folium.Map(location=india_center, zoom_start=5)\n",
    "\n",
    "# 각 구별 평균 값을 지도에 표기\n",
    "folium.Choropleth(\n",
    "    geo_data='visualize/india_state.geojson',  \n",
    "    data=df,\n",
    "    columns=['state', 'star'],\n",
    "    key_on='feature.properties.NAME_1',\n",
    "    fill_color='Blues',  # 색상 선택에 따라 변경 가능\n",
    "    fill_opacity=0.7,\n",
    "    line_opacity=0.5,\n",
    "    legend_name='star',\n",
    ").add_to(map_india)"
   ]
  },
  {
   "cell_type": "code",
   "execution_count": 22,
   "metadata": {},
   "outputs": [
    {
     "data": {
      "text/plain": [
       "<folium.features.GeoJson at 0x1a93a66dbd0>"
      ]
     },
     "execution_count": 22,
     "metadata": {},
     "output_type": "execute_result"
    }
   ],
   "source": [
    "folium.GeoJson(\n",
    "    'visualize/india_state.geojson',\n",
    "    name=\"States\",\n",
    "    style_function=lambda feature: {\n",
    "        'color': 'black',\n",
    "        'weight': 0.5,\n",
    "        'fillOpacity': 0\n",
    "    },\n",
    "    tooltip=folium.GeoJsonTooltip(fields=['NAME_1'], labels=False)\n",
    ").add_to(map_india)"
   ]
  },
  {
   "cell_type": "code",
   "execution_count": 23,
   "metadata": {},
   "outputs": [],
   "source": [
    "map_india.save('LG_tv_map_star.html')"
   ]
  },
  {
   "cell_type": "markdown",
   "metadata": {},
   "source": [
    "#### 세탁기"
   ]
  },
  {
   "cell_type": "code",
   "execution_count": 24,
   "metadata": {},
   "outputs": [
    {
     "data": {
      "text/html": [
       "<div>\n",
       "<style scoped>\n",
       "    .dataframe tbody tr th:only-of-type {\n",
       "        vertical-align: middle;\n",
       "    }\n",
       "\n",
       "    .dataframe tbody tr th {\n",
       "        vertical-align: top;\n",
       "    }\n",
       "\n",
       "    .dataframe thead th {\n",
       "        text-align: right;\n",
       "    }\n",
       "</style>\n",
       "<table border=\"1\" class=\"dataframe\">\n",
       "  <thead>\n",
       "    <tr style=\"text-align: right;\">\n",
       "      <th></th>\n",
       "      <th>Unnamed: 0</th>\n",
       "      <th>text</th>\n",
       "      <th>star</th>\n",
       "      <th>hp_data</th>\n",
       "      <th>city</th>\n",
       "      <th>transformed_date</th>\n",
       "      <th>product_num</th>\n",
       "      <th>state</th>\n",
       "    </tr>\n",
       "  </thead>\n",
       "  <tbody>\n",
       "    <tr>\n",
       "      <th>0</th>\n",
       "      <td>0</td>\n",
       "      <td>I am writing this review after using almost th...</td>\n",
       "      <td>1</td>\n",
       "      <td>LG 7 kg 5 Star with Smart Inverter Technology,...</td>\n",
       "      <td>New Delhi</td>\n",
       "      <td>Feb, 2022</td>\n",
       "      <td>T70SKSF1Z</td>\n",
       "      <td>Delhi</td>\n",
       "    </tr>\n",
       "    <tr>\n",
       "      <th>1</th>\n",
       "      <td>1</td>\n",
       "      <td>Received a scratch product</td>\n",
       "      <td>1</td>\n",
       "      <td>LG 7 kg 5 Star with Smart Inverter Technology,...</td>\n",
       "      <td>Bhadrak</td>\n",
       "      <td>Oct, 2020</td>\n",
       "      <td>T70SKSF1Z</td>\n",
       "      <td>Odisha</td>\n",
       "    </tr>\n",
       "    <tr>\n",
       "      <th>2</th>\n",
       "      <td>2</td>\n",
       "      <td>Very worst product Flipkart cheating customer ...</td>\n",
       "      <td>1</td>\n",
       "      <td>LG 7 kg 5 Star with Smart Inverter Technology,...</td>\n",
       "      <td>Alanganallur</td>\n",
       "      <td>Jun, 2023</td>\n",
       "      <td>T70SKSF1Z</td>\n",
       "      <td>Tamil Nadu</td>\n",
       "    </tr>\n",
       "    <tr>\n",
       "      <th>3</th>\n",
       "      <td>3</td>\n",
       "      <td>Bad performance 😕🤮</td>\n",
       "      <td>1</td>\n",
       "      <td>LG 7 kg 5 Star with Smart Inverter Technology,...</td>\n",
       "      <td>Channapatna</td>\n",
       "      <td>Aug, 2024</td>\n",
       "      <td>T70SKSF1Z</td>\n",
       "      <td>Karnataka</td>\n",
       "    </tr>\n",
       "    <tr>\n",
       "      <th>4</th>\n",
       "      <td>4</td>\n",
       "      <td>Very bad performance, need to select options m...</td>\n",
       "      <td>1</td>\n",
       "      <td>LG 7 kg 5 Star with Smart Inverter Technology,...</td>\n",
       "      <td>Hyderabad</td>\n",
       "      <td>Aug, 2024</td>\n",
       "      <td>T70SKSF1Z</td>\n",
       "      <td>Andhra Pradesh</td>\n",
       "    </tr>\n",
       "  </tbody>\n",
       "</table>\n",
       "</div>"
      ],
      "text/plain": [
       "   Unnamed: 0                                               text  star  \\\n",
       "0           0  I am writing this review after using almost th...     1   \n",
       "1           1                         Received a scratch product     1   \n",
       "2           2  Very worst product Flipkart cheating customer ...     1   \n",
       "3           3                                 Bad performance 😕🤮     1   \n",
       "4           4  Very bad performance, need to select options m...     1   \n",
       "\n",
       "                                             hp_data          city  \\\n",
       "0  LG 7 kg 5 Star with Smart Inverter Technology,...     New Delhi   \n",
       "1  LG 7 kg 5 Star with Smart Inverter Technology,...       Bhadrak   \n",
       "2  LG 7 kg 5 Star with Smart Inverter Technology,...  Alanganallur   \n",
       "3  LG 7 kg 5 Star with Smart Inverter Technology,...   Channapatna   \n",
       "4  LG 7 kg 5 Star with Smart Inverter Technology,...     Hyderabad   \n",
       "\n",
       "  transformed_date product_num           state  \n",
       "0        Feb, 2022   T70SKSF1Z           Delhi  \n",
       "1        Oct, 2020   T70SKSF1Z          Odisha  \n",
       "2        Jun, 2023   T70SKSF1Z      Tamil Nadu  \n",
       "3        Aug, 2024   T70SKSF1Z       Karnataka  \n",
       "4        Aug, 2024   T70SKSF1Z  Andhra Pradesh  "
      ]
     },
     "execution_count": 24,
     "metadata": {},
     "output_type": "execute_result"
    }
   ],
   "source": [
    "df = pd.read_csv('LG_wash_state.csv')\n",
    "df.head(5)"
   ]
  },
  {
   "cell_type": "code",
   "execution_count": 25,
   "metadata": {},
   "outputs": [
    {
     "data": {
      "text/plain": [
       "<folium.features.Choropleth at 0x1a9510dbdd0>"
      ]
     },
     "execution_count": 25,
     "metadata": {},
     "output_type": "execute_result"
    }
   ],
   "source": [
    "# 인도의 중심 위치 지정 (대략적으로 인도의 중앙에 위치한 좌표)\n",
    "india_center = [20.5937, 78.9629]\n",
    "\n",
    "# 인도 지도 생성\n",
    "map_india = folium.Map(location=india_center, zoom_start=5)\n",
    "\n",
    "# 각 구별 평균 값을 지도에 표기\n",
    "folium.Choropleth(\n",
    "    geo_data='visualize/india_state.geojson',  \n",
    "    data=df,\n",
    "    columns=['state', 'star'],\n",
    "    key_on='feature.properties.NAME_1',\n",
    "    fill_color='Blues',  # 색상 선택에 따라 변경 가능\n",
    "    fill_opacity=0.7,\n",
    "    line_opacity=0.5,\n",
    "    legend_name='star',\n",
    ").add_to(map_india)"
   ]
  },
  {
   "cell_type": "code",
   "execution_count": 26,
   "metadata": {},
   "outputs": [
    {
     "data": {
      "text/plain": [
       "<folium.features.GeoJson at 0x1a93a669550>"
      ]
     },
     "execution_count": 26,
     "metadata": {},
     "output_type": "execute_result"
    }
   ],
   "source": [
    "folium.GeoJson(\n",
    "    'visualize/india_state.geojson',\n",
    "    name=\"States\",\n",
    "    style_function=lambda feature: {\n",
    "        'color': 'black',\n",
    "        'weight': 0.5,\n",
    "        'fillOpacity': 0\n",
    "    },\n",
    "    tooltip=folium.GeoJsonTooltip(fields=['NAME_1'], labels=False)\n",
    ").add_to(map_india)"
   ]
  },
  {
   "cell_type": "code",
   "execution_count": 27,
   "metadata": {},
   "outputs": [],
   "source": [
    "map_india.save('LG_wash_map_star.html')"
   ]
  },
  {
   "cell_type": "markdown",
   "metadata": {},
   "source": [
    "### 2. 리뷰개수"
   ]
  },
  {
   "cell_type": "markdown",
   "metadata": {},
   "source": [
    "#### 에어컨"
   ]
  },
  {
   "cell_type": "code",
   "execution_count": 28,
   "metadata": {},
   "outputs": [
    {
     "data": {
      "text/plain": [
       "state\n",
       "Andhra Pradesh    156\n",
       "Assam              12\n",
       "Bihar              97\n",
       "Chhattisgarh       17\n",
       "Delhi              43\n",
       "Name: text, dtype: int64"
      ]
     },
     "execution_count": 28,
     "metadata": {},
     "output_type": "execute_result"
    }
   ],
   "source": [
    "df = pd.read_csv('LG_air_state.csv')\n",
    "df = df.groupby('state')['text'].count()\n",
    "df.head()"
   ]
  },
  {
   "cell_type": "code",
   "execution_count": 29,
   "metadata": {},
   "outputs": [
    {
     "data": {
      "text/plain": [
       "<folium.features.Choropleth at 0x1a9619d9590>"
      ]
     },
     "execution_count": 29,
     "metadata": {},
     "output_type": "execute_result"
    }
   ],
   "source": [
    "# 인도의 중심 위치 지정 (대략적으로 인도의 중앙에 위치한 좌표)\n",
    "india_center = [20.5937, 78.9629]\n",
    "\n",
    "# 인도 지도 생성\n",
    "map_india = folium.Map(location=india_center, zoom_start=5)\n",
    "\n",
    "# 각 구별 평균 값을 지도에 표기\n",
    "folium.Choropleth(\n",
    "    geo_data='visualize/india_state.geojson',  \n",
    "    data=df,\n",
    "    columns=['state', 'text'],\n",
    "    key_on='feature.properties.NAME_1',\n",
    "    fill_color='Greens',  # 색상 선택에 따라 변경 가능\n",
    "    fill_opacity=0.7,\n",
    "    line_opacity=0.5,\n",
    "    legend_name='review count',\n",
    ").add_to(map_india)"
   ]
  },
  {
   "cell_type": "code",
   "execution_count": 30,
   "metadata": {},
   "outputs": [
    {
     "data": {
      "text/plain": [
       "<folium.features.GeoJson at 0x1a96b850e50>"
      ]
     },
     "execution_count": 30,
     "metadata": {},
     "output_type": "execute_result"
    }
   ],
   "source": [
    "folium.GeoJson(\n",
    "    'visualize/india_state.geojson',\n",
    "    name=\"States\",\n",
    "    style_function=lambda feature: {\n",
    "        'color': 'black',\n",
    "        'weight': 0.5,\n",
    "        'fillOpacity': 0\n",
    "    },\n",
    "    tooltip=folium.GeoJsonTooltip(fields=['NAME_1'], labels=False)\n",
    ").add_to(map_india)"
   ]
  },
  {
   "cell_type": "code",
   "execution_count": 31,
   "metadata": {},
   "outputs": [],
   "source": [
    "map_india.save('LG_air_map_star.html')"
   ]
  },
  {
   "cell_type": "markdown",
   "metadata": {},
   "source": [
    "#### 냉장고"
   ]
  },
  {
   "cell_type": "code",
   "execution_count": 32,
   "metadata": {},
   "outputs": [
    {
     "data": {
      "text/plain": [
       "state\n",
       "Andhra Pradesh       212\n",
       "Arunachal Pradesh      4\n",
       "Assam                 16\n",
       "Bihar                 80\n",
       "Chhattisgarh           7\n",
       "Name: text, dtype: int64"
      ]
     },
     "execution_count": 32,
     "metadata": {},
     "output_type": "execute_result"
    }
   ],
   "source": [
    "df = pd.read_csv('LG_refri_state.csv')\n",
    "df = df.groupby('state')['text'].count()\n",
    "df.head()"
   ]
  },
  {
   "cell_type": "code",
   "execution_count": 33,
   "metadata": {},
   "outputs": [
    {
     "data": {
      "text/plain": [
       "<folium.features.Choropleth at 0x1a971e464d0>"
      ]
     },
     "execution_count": 33,
     "metadata": {},
     "output_type": "execute_result"
    }
   ],
   "source": [
    "# 인도의 중심 위치 지정 (대략적으로 인도의 중앙에 위치한 좌표)\n",
    "india_center = [20.5937, 78.9629]\n",
    "\n",
    "# 인도 지도 생성\n",
    "map_india = folium.Map(location=india_center, zoom_start=5)\n",
    "\n",
    "# 각 구별 평균 값을 지도에 표기\n",
    "folium.Choropleth(\n",
    "    geo_data='visualize/india_state.geojson',  \n",
    "    data=df,\n",
    "    columns=['state', 'text'],\n",
    "    key_on='feature.properties.NAME_1',\n",
    "    fill_color='Greens',  # 색상 선택에 따라 변경 가능\n",
    "    fill_opacity=0.7,\n",
    "    line_opacity=0.5,\n",
    "    legend_name='review count',\n",
    ").add_to(map_india)"
   ]
  },
  {
   "cell_type": "code",
   "execution_count": 34,
   "metadata": {},
   "outputs": [
    {
     "data": {
      "text/plain": [
       "<folium.features.GeoJson at 0x1a971e06d50>"
      ]
     },
     "execution_count": 34,
     "metadata": {},
     "output_type": "execute_result"
    }
   ],
   "source": [
    "folium.GeoJson(\n",
    "    'visualize/india_state.geojson',\n",
    "    name=\"States\",\n",
    "    style_function=lambda feature: {\n",
    "        'color': 'black',\n",
    "        'weight': 0.5,\n",
    "        'fillOpacity': 0\n",
    "    },\n",
    "    tooltip=folium.GeoJsonTooltip(fields=['NAME_1'], labels=False)\n",
    ").add_to(map_india)"
   ]
  },
  {
   "cell_type": "code",
   "execution_count": 35,
   "metadata": {},
   "outputs": [],
   "source": [
    "map_india.save('LG_refri_map_star.html')"
   ]
  },
  {
   "cell_type": "markdown",
   "metadata": {},
   "source": [
    "#### TV"
   ]
  },
  {
   "cell_type": "code",
   "execution_count": 36,
   "metadata": {},
   "outputs": [
    {
     "data": {
      "text/plain": [
       "state\n",
       "Andhra Pradesh    243\n",
       "Assam              17\n",
       "Bihar              73\n",
       "Chandigarh          2\n",
       "Chhattisgarh       27\n",
       "Name: text, dtype: int64"
      ]
     },
     "execution_count": 36,
     "metadata": {},
     "output_type": "execute_result"
    }
   ],
   "source": [
    "df = pd.read_csv('LG_tv_state.csv')\n",
    "df = df.groupby('state')['text'].count()\n",
    "df.head()"
   ]
  },
  {
   "cell_type": "code",
   "execution_count": 37,
   "metadata": {},
   "outputs": [
    {
     "data": {
      "text/plain": [
       "<folium.features.Choropleth at 0x1a90136e390>"
      ]
     },
     "execution_count": 37,
     "metadata": {},
     "output_type": "execute_result"
    }
   ],
   "source": [
    "# 인도의 중심 위치 지정 (대략적으로 인도의 중앙에 위치한 좌표)\n",
    "india_center = [20.5937, 78.9629]\n",
    "\n",
    "# 인도 지도 생성\n",
    "map_india = folium.Map(location=india_center, zoom_start=5)\n",
    "\n",
    "# 각 구별 평균 값을 지도에 표기\n",
    "folium.Choropleth(\n",
    "    geo_data='visualize/india_state.geojson',  \n",
    "    data=df,\n",
    "    columns=['state', 'text'],\n",
    "    key_on='feature.properties.NAME_1',\n",
    "    fill_color='Greens',  # 색상 선택에 따라 변경 가능\n",
    "    fill_opacity=0.7,\n",
    "    line_opacity=0.5,\n",
    "    legend_name='review count',\n",
    ").add_to(map_india)"
   ]
  },
  {
   "cell_type": "code",
   "execution_count": 38,
   "metadata": {},
   "outputs": [
    {
     "data": {
      "text/plain": [
       "<folium.features.GeoJson at 0x1a981d0e890>"
      ]
     },
     "execution_count": 38,
     "metadata": {},
     "output_type": "execute_result"
    }
   ],
   "source": [
    "folium.GeoJson(\n",
    "    'visualize/india_state.geojson',\n",
    "    name=\"States\",\n",
    "    style_function=lambda feature: {\n",
    "        'color': 'black',\n",
    "        'weight': 0.5,\n",
    "        'fillOpacity': 0\n",
    "    },\n",
    "    tooltip=folium.GeoJsonTooltip(fields=['NAME_1'], labels=False)\n",
    ").add_to(map_india)"
   ]
  },
  {
   "cell_type": "code",
   "execution_count": 39,
   "metadata": {},
   "outputs": [],
   "source": [
    "map_india.save('LG_tv_map_reviewcount.html')"
   ]
  },
  {
   "cell_type": "markdown",
   "metadata": {},
   "source": [
    "#### 세탁기"
   ]
  },
  {
   "cell_type": "code",
   "execution_count": 40,
   "metadata": {},
   "outputs": [
    {
     "data": {
      "text/plain": [
       "state\n",
       "Andhra Pradesh       221\n",
       "Arunachal Pradesh      5\n",
       "Assam                 18\n",
       "Bihar                 81\n",
       "Chandigarh             6\n",
       "Name: text, dtype: int64"
      ]
     },
     "execution_count": 40,
     "metadata": {},
     "output_type": "execute_result"
    }
   ],
   "source": [
    "df = pd.read_csv('LG_wash_state.csv')\n",
    "df = df.groupby('state')['text'].count()\n",
    "df.head()"
   ]
  },
  {
   "cell_type": "code",
   "execution_count": 41,
   "metadata": {},
   "outputs": [
    {
     "data": {
      "text/plain": [
       "<folium.features.Choropleth at 0x1a981df0110>"
      ]
     },
     "execution_count": 41,
     "metadata": {},
     "output_type": "execute_result"
    }
   ],
   "source": [
    "# 인도의 중심 위치 지정 (대략적으로 인도의 중앙에 위치한 좌표)\n",
    "india_center = [20.5937, 78.9629]\n",
    "\n",
    "# 인도 지도 생성\n",
    "map_india = folium.Map(location=india_center, zoom_start=5)\n",
    "\n",
    "# 각 구별 평균 값을 지도에 표기\n",
    "folium.Choropleth(\n",
    "    geo_data='visualize/india_state.geojson',  \n",
    "    data=df,\n",
    "    columns=['state', 'text'],\n",
    "    key_on='feature.properties.NAME_1',\n",
    "    fill_color='Greens',  # 색상 선택에 따라 변경 가능\n",
    "    fill_opacity=0.7,\n",
    "    line_opacity=0.5,\n",
    "    legend_name='review count',\n",
    ").add_to(map_india)"
   ]
  },
  {
   "cell_type": "code",
   "execution_count": 42,
   "metadata": {},
   "outputs": [
    {
     "data": {
      "text/plain": [
       "<folium.features.GeoJson at 0x1a9911b9b50>"
      ]
     },
     "execution_count": 42,
     "metadata": {},
     "output_type": "execute_result"
    }
   ],
   "source": [
    "folium.GeoJson(\n",
    "    'visualize/india_state.geojson',\n",
    "    name=\"States\",\n",
    "    style_function=lambda feature: {\n",
    "        'color': 'black',\n",
    "        'weight': 0.5,\n",
    "        'fillOpacity': 0\n",
    "    },\n",
    "    tooltip=folium.GeoJsonTooltip(fields=['NAME_1'], labels=False)\n",
    ").add_to(map_india)"
   ]
  },
  {
   "cell_type": "code",
   "execution_count": 43,
   "metadata": {},
   "outputs": [],
   "source": [
    "map_india.save('LG_wash_map_reviewcount.html')"
   ]
  }
 ],
 "metadata": {
  "kernelspec": {
   "display_name": "base",
   "language": "python",
   "name": "python3"
  },
  "language_info": {
   "codemirror_mode": {
    "name": "ipython",
    "version": 3
   },
   "file_extension": ".py",
   "mimetype": "text/x-python",
   "name": "python",
   "nbconvert_exporter": "python",
   "pygments_lexer": "ipython3",
   "version": "3.11.7"
  }
 },
 "nbformat": 4,
 "nbformat_minor": 2
}
