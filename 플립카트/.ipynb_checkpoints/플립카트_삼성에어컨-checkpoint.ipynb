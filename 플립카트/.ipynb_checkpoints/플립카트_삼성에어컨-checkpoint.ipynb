{
 "cells": [
  {
   "cell_type": "code",
   "execution_count": 2,
   "id": "2e16d88e-1f46-4129-8332-1c6b55cb0a46",
   "metadata": {},
   "outputs": [],
   "source": [
    "import time\n",
    "import pandas as pd\n",
    "from selenium import webdriver\n",
    "from selenium.webdriver.common.by import By\n",
    "from selenium.webdriver.common.keys import Keys\n",
    "from tqdm import tqdm\n",
    "import pyperclip\n",
    "from bs4 import BeautifulSoup as bs\n",
    "from tqdm import tqdm\n",
    "import requests as req\n",
    "from selenium.webdriver.support.ui import WebDriverWait\n",
    "from selenium.webdriver.support import expected_conditions as EC"
   ]
  },
  {
   "cell_type": "code",
   "execution_count": 3,
   "id": "169279d9-7ffa-4e23-b0cc-48648f5ccae8",
   "metadata": {},
   "outputs": [
    {
     "name": "stderr",
     "output_type": "stream",
     "text": [
      "  4%|███▍                                                                               | 1/24 [00:17<06:46, 17.68s/it]"
     ]
    },
    {
     "name": "stdout",
     "output_type": "stream",
     "text": [
      "Error processing URL https://www.flipkart.com/liebherr-191-l-direct-cool-single-door-4-star-refrigerator/p/itm785181b49286c?pid=RFRGYCHWZUFPXS6U&lid=LSTRFRGYCHWZUFPXS6ULWVHPR&marketplace=FLIPKART&store=j9e%2Fabm%2Fhzg&srno=b_1_1&otracker=CLP_Filters&iid=en_FM-tqLOZlpEuKnlX_p5wd_h0Q8aPWs31b2c4tURciAy5DJsVRKDayuM9mEnBaRPNPbpom2jBiMUnkRaVl7hTtPUFjCTyOHoHZs-Z5_PS_w0%3D&ssid=d4efpqlkkw0000001724397537025: name 'NoSuchElementException' is not defined\n"
     ]
    },
    {
     "name": "stderr",
     "output_type": "stream",
     "text": [
      "  8%|██████▉                                                                            | 2/24 [00:40<07:30, 20.49s/it]"
     ]
    },
    {
     "name": "stdout",
     "output_type": "stream",
     "text": [
      "Error processing URL https://www.flipkart.com/liebherr-191-l-direct-cool-single-door-3-star-refrigerator/p/itm7a5538ae6e55b?pid=RFRGYCHWDXEHZZVZ&lid=LSTRFRGYCHWDXEHZZVZXHQHVY&marketplace=FLIPKART&store=j9e%2Fabm%2Fhzg&srno=b_1_2&otracker=CLP_Filters&iid=en_FM-tqLOZlpEuKnlX_p5wd_h0Q8aPWs31b2c4tURciAynlzEG8bS98V7g6SCM0p-483RIj-JFuQp3_GKmI0I6ivUFjCTyOHoHZs-Z5_PS_w0%3D&ssid=d4efpqlkkw0000001724397537025: name 'NoSuchElementException' is not defined\n"
     ]
    },
    {
     "name": "stderr",
     "output_type": "stream",
     "text": [
      " 12%|██████████▍                                                                        | 3/24 [00:59<07:04, 20.19s/it]"
     ]
    },
    {
     "name": "stdout",
     "output_type": "stream",
     "text": [
      "Error processing URL https://www.flipkart.com/liebherr-191-l-direct-cool-single-door-4-star-refrigerator/p/itme7d346cac776c?pid=RFRGYCHWGMYKHKQW&lid=LSTRFRGYCHWGMYKHKQWL10BZA&marketplace=FLIPKART&store=j9e%2Fabm%2Fhzg&srno=b_1_3&otracker=CLP_Filters&iid=en_FM-tqLOZlpEuKnlX_p5wd_h0Q8aPWs31b2c4tURciAxiwzFmtptdl5GJQ-v4QeqhmuZJLNVGbVZ1R2I1JiPBgPUFjCTyOHoHZs-Z5_PS_w0%3D&ssid=d4efpqlkkw0000001724397537025: name 'NoSuchElementException' is not defined\n"
     ]
    },
    {
     "name": "stderr",
     "output_type": "stream",
     "text": [
      " 17%|█████████████▊                                                                     | 4/24 [01:36<08:52, 26.61s/it]"
     ]
    },
    {
     "name": "stdout",
     "output_type": "stream",
     "text": [
      "Error processing URL https://www.flipkart.com/lg-185-l-direct-cool-single-door-5-star-refrigerator-base-drawer-smart-inverter-compressor-fast-ice-making/p/itmb63c41ba73d29?pid=RFRGHMVYEGSA9XTT&lid=LSTRFRGHMVYEGSA9XTTHMQO8T&marketplace=FLIPKART&store=j9e%2Fabm%2Fhzg&srno=b_1_4&otracker=CLP_Filters&iid=e7cb40b4-b1d9-445e-9f95-bbec93877d42.RFRGHMVYEGSA9XTT.SEARCH&ssid=d4efpqlkkw0000001724397537025: name 'NoSuchElementException' is not defined\n"
     ]
    },
    {
     "name": "stderr",
     "output_type": "stream",
     "text": [
      " 21%|█████████████████▎                                                                 | 5/24 [02:21<10:32, 33.28s/it]"
     ]
    },
    {
     "name": "stdout",
     "output_type": "stream",
     "text": [
      "Error processing URL https://www.flipkart.com/lg-185-l-direct-cool-single-door-4-star-refrigerator-base-drawer-smart-inverter-compressor/p/itm298afe5163996?pid=RFRGQTNNXNRTNJHV&lid=LSTRFRGQTNNXNRTNJHVKCZMYE&marketplace=FLIPKART&store=j9e%2Fabm%2Fhzg&srno=b_1_5&otracker=CLP_Filters&iid=e7cb40b4-b1d9-445e-9f95-bbec93877d42.RFRGQTNNXNRTNJHV.SEARCH&ssid=d4efpqlkkw0000001724397537025: name 'NoSuchElementException' is not defined\n"
     ]
    },
    {
     "name": "stderr",
     "output_type": "stream",
     "text": [
      " 25%|████████████████████▊                                                              | 6/24 [03:00<10:33, 35.17s/it]"
     ]
    },
    {
     "name": "stdout",
     "output_type": "stream",
     "text": [
      "Error processing URL https://www.flipkart.com/lg-185-l-direct-cool-single-door-5-star-refrigerator-base-drawer-smart-inverter-compressor-connect-fast-ice-making/p/itme13dc1b731480?pid=RFRGHMVYM5976CHB&lid=LSTRFRGHMVYM5976CHBTYSI6X&marketplace=FLIPKART&store=j9e%2Fabm%2Fhzg&srno=b_1_6&otracker=CLP_Filters&iid=e7cb40b4-b1d9-445e-9f95-bbec93877d42.RFRGHMVYM5976CHB.SEARCH&ssid=d4efpqlkkw0000001724397537025: name 'NoSuchElementException' is not defined\n"
     ]
    },
    {
     "name": "stderr",
     "output_type": "stream",
     "text": [
      " 29%|████████████████████████▏                                                          | 7/24 [03:26<09:10, 32.37s/it]"
     ]
    },
    {
     "name": "stdout",
     "output_type": "stream",
     "text": [
      "Error processing URL https://www.flipkart.com/lg-242-l-frost-free-double-door-2-star-refrigerator/p/itm310d92dc12f7f?pid=RFRGRGXHZGNWHNWQ&lid=LSTRFRGRGXHZGNWHNWQFRVYXG&marketplace=FLIPKART&store=j9e%2Fabm%2Fhzg&srno=b_1_7&otracker=CLP_Filters&iid=e7cb40b4-b1d9-445e-9f95-bbec93877d42.RFRGRGXHZGNWHNWQ.SEARCH&ssid=d4efpqlkkw0000001724397537025: name 'NoSuchElementException' is not defined\n"
     ]
    },
    {
     "name": "stderr",
     "output_type": "stream",
     "text": [
      " 33%|███████████████████████████▋                                                       | 8/24 [04:11<09:38, 36.17s/it]"
     ]
    },
    {
     "name": "stdout",
     "output_type": "stream",
     "text": [
      "Error processing URL https://www.flipkart.com/haier-215-l-direct-cool-single-door-5-star-refrigerator-base-drawer/p/itmc02429fbaf400?pid=RFRGXMFUZNNZJKSZ&lid=LSTRFRGXMFUZNNZJKSZUYFG1O&marketplace=FLIPKART&store=j9e%2Fabm%2Fhzg&srno=b_1_8&otracker=CLP_Filters&iid=en_FM-tqLOZlpEuKnlX_p5wd_h0Q8aPWs31b2c4tURciAyDKm3k0Bb6ULjijStWwEv27t8KeT4BOwYmwIMVYDgnbuI7uWi7bi3WLqk6JF-UYDE%3D&ssid=d4efpqlkkw0000001724397537025: name 'NoSuchElementException' is not defined\n"
     ]
    },
    {
     "name": "stderr",
     "output_type": "stream",
     "text": [
      " 38%|███████████████████████████████▏                                                   | 9/24 [05:14<11:08, 44.59s/it]"
     ]
    },
    {
     "name": "stdout",
     "output_type": "stream",
     "text": [
      "Error processing URL https://www.flipkart.com/lg-242-l-frost-free-double-door-3-star-refrigerator-smart-inverter/p/itme01a20547384b?pid=RFRGYRZDBHUEFEFW&lid=LSTRFRGYRZDBHUEFEFWXEFAHP&marketplace=FLIPKART&store=j9e%2Fabm%2Fhzg&srno=b_1_9&otracker=CLP_Filters&iid=e7cb40b4-b1d9-445e-9f95-bbec93877d42.RFRGYRZDBHUEFEFW.SEARCH&ssid=d4efpqlkkw0000001724397537025: name 'NoSuchElementException' is not defined\n"
     ]
    },
    {
     "name": "stderr",
     "output_type": "stream",
     "text": [
      " 42%|██████████████████████████████████▏                                               | 10/24 [05:53<10:01, 42.93s/it]"
     ]
    },
    {
     "name": "stdout",
     "output_type": "stream",
     "text": [
      "Error processing URL https://www.flipkart.com/lg-185-l-direct-cool-single-door-5-star-refrigerator-base-drawer-smart-inverter-compressor-connect-fast-ice-making/p/itm90b58e19bfe9f?pid=RFRGHMVY7PF7PWCM&lid=LSTRFRGHMVY7PF7PWCMXCJIUY&marketplace=FLIPKART&store=j9e%2Fabm%2Fhzg&srno=b_1_10&otracker=CLP_Filters&iid=e7cb40b4-b1d9-445e-9f95-bbec93877d42.RFRGHMVY7PF7PWCM.SEARCH&ssid=d4efpqlkkw0000001724397537025: name 'NoSuchElementException' is not defined\n"
     ]
    },
    {
     "name": "stderr",
     "output_type": "stream",
     "text": [
      " 46%|█████████████████████████████████████▌                                            | 11/24 [06:17<08:03, 37.19s/it]"
     ]
    },
    {
     "name": "stdout",
     "output_type": "stream",
     "text": [
      "Error processing URL https://www.flipkart.com/liebherr-222-l-direct-cool-single-door-4-star-refrigerator/p/itme4653770a917e?pid=RFRGYCHWRVUKDAWX&lid=LSTRFRGYCHWRVUKDAWX8GLKLA&marketplace=FLIPKART&store=j9e%2Fabm%2Fhzg&srno=b_1_11&otracker=CLP_Filters&iid=en_FM-tqLOZlpEuKnlX_p5wd_h0Q8aPWs31b2c4tURciAzwXEpwaPdVd57MBUV4_6Thgfwb4caw8dqbiQETeyHwFWJMZAJirnjvZRqZ0WhE16A%3D&ssid=d4efpqlkkw0000001724397537025: name 'NoSuchElementException' is not defined\n"
     ]
    },
    {
     "name": "stderr",
     "output_type": "stream",
     "text": [
      " 50%|█████████████████████████████████████████                                         | 12/24 [06:37<06:21, 31.78s/it]"
     ]
    },
    {
     "name": "stdout",
     "output_type": "stream",
     "text": [
      "Error processing URL https://www.flipkart.com/liebherr-191-l-direct-cool-single-door-3-star-refrigerator/p/itm3159a1401f565?pid=RFRGYCHWGYFTRDFK&lid=LSTRFRGYCHWGYFTRDFKYSCPKO&marketplace=FLIPKART&store=j9e%2Fabm%2Fhzg&srno=b_1_12&otracker=CLP_Filters&iid=en_FM-tqLOZlpEuKnlX_p5wd_h0Q8aPWs31b2c4tURciAyuZeH-oP8tvG8biJnlNcDyyfRXVlJe4gyF6FFDbNkT1NmEaX_1OVaDgohoY5ZV-y8%3D&ssid=d4efpqlkkw0000001724397537025: name 'NoSuchElementException' is not defined\n"
     ]
    },
    {
     "name": "stderr",
     "output_type": "stream",
     "text": [
      " 54%|████████████████████████████████████████████▍                                     | 13/24 [07:26<06:49, 37.23s/it]"
     ]
    },
    {
     "name": "stdout",
     "output_type": "stream",
     "text": [
      "Error processing URL https://www.flipkart.com/lg-240-l-frost-free-double-door-3-star-convertible-refrigerator-smart-inverter/p/itme8e4741228ce3?pid=RFRGYRZDHMFBJCGZ&lid=LSTRFRGYRZDHMFBJCGZHY0UXX&marketplace=FLIPKART&store=j9e%2Fabm%2Fhzg&srno=b_1_13&otracker=CLP_Filters&iid=e7cb40b4-b1d9-445e-9f95-bbec93877d42.RFRGYRZDHMFBJCGZ.SEARCH&ssid=d4efpqlkkw0000001724397537025: name 'NoSuchElementException' is not defined\n"
     ]
    },
    {
     "name": "stderr",
     "output_type": "stream",
     "text": [
      " 58%|███████████████████████████████████████████████▊                                  | 14/24 [07:35<04:44, 28.44s/it]"
     ]
    },
    {
     "name": "stdout",
     "output_type": "stream",
     "text": [
      "Error processing URL https://www.flipkart.com/panasonic-237-l-frost-free-double-door-3-star-refrigerator/p/itmd4165bd67eb2a?pid=RFRGHYF77FJDFQ76&lid=LSTRFRGHYF77FJDFQ76AR9CEZ&marketplace=FLIPKART&store=j9e%2Fabm%2Fhzg&srno=b_1_14&otracker=CLP_Filters&iid=en_FM-tqLOZlpEuKnlX_p5wd_h0Q8aPWs31b2c4tURciAxvf_L-1z8U_Y-G1WRktdUyz7hmPnkrr47YekP2fCEtvlhWlg14bXFG9tZ2S67Bqg0%3D&ssid=d4efpqlkkw0000001724397537025: name 'NoSuchElementException' is not defined\n"
     ]
    },
    {
     "name": "stderr",
     "output_type": "stream",
     "text": [
      " 62%|███████████████████████████████████████████████████▎                              | 15/24 [08:17<04:53, 32.56s/it]"
     ]
    },
    {
     "name": "stdout",
     "output_type": "stream",
     "text": [
      "Error processing URL https://www.flipkart.com/lg-185-l-direct-cool-single-door-5-star-refrigerator-base-drawer-smart-inverter-compressor-connect-fast-ice-making/p/itm78a311e422562?pid=RFRGHMVYGPGABJMF&lid=LSTRFRGHMVYGPGABJMF4TTJNJ&marketplace=FLIPKART&store=j9e%2Fabm%2Fhzg&srno=b_1_15&otracker=CLP_Filters&iid=e7cb40b4-b1d9-445e-9f95-bbec93877d42.RFRGHMVYGPGABJMF.SEARCH&ssid=d4efpqlkkw0000001724397537025: name 'NoSuchElementException' is not defined\n"
     ]
    },
    {
     "name": "stderr",
     "output_type": "stream",
     "text": [
      " 67%|██████████████████████████████████████████████████████▋                           | 16/24 [09:00<04:47, 35.94s/it]"
     ]
    },
    {
     "name": "stdout",
     "output_type": "stream",
     "text": [
      "Error processing URL https://www.flipkart.com/lg-185-l-direct-cool-single-door-2-star-refrigerator/p/itm48e75c89d4b57?pid=RFRGSBRVQEED8AUP&lid=LSTRFRGSBRVQEED8AUPJCXX0I&marketplace=FLIPKART&store=j9e%2Fabm%2Fhzg&srno=b_1_16&otracker=CLP_Filters&iid=e7cb40b4-b1d9-445e-9f95-bbec93877d42.RFRGSBRVQEED8AUP.SEARCH&ssid=d4efpqlkkw0000001724397537025: name 'NoSuchElementException' is not defined\n"
     ]
    },
    {
     "name": "stderr",
     "output_type": "stream",
     "text": [
      " 71%|██████████████████████████████████████████████████████████                        | 17/24 [09:19<03:35, 30.74s/it]"
     ]
    },
    {
     "name": "stdout",
     "output_type": "stream",
     "text": [
      "Error processing URL https://www.flipkart.com/liebherr-191-l-direct-cool-single-door-4-star-refrigerator/p/itmc85b5a03feea2?pid=RFRGYCHWUFNVHZFE&lid=LSTRFRGYCHWUFNVHZFELRZ4BJ&marketplace=FLIPKART&store=j9e%2Fabm%2Fhzg&srno=b_1_17&otracker=CLP_Filters&iid=en_FM-tqLOZlpEuKnlX_p5wd_h0Q8aPWs31b2c4tURciAz__COvHwfN8ycn2_RCjL6RTnmiF0P-J69x_is-0f3_rZ2-SIbIDZ6lLvgRS75Tj4w%3D&ssid=d4efpqlkkw0000001724397537025: name 'NoSuchElementException' is not defined\n"
     ]
    },
    {
     "name": "stderr",
     "output_type": "stream",
     "text": [
      " 75%|█████████████████████████████████████████████████████████████▌                    | 18/24 [10:00<03:23, 33.92s/it]"
     ]
    },
    {
     "name": "stdout",
     "output_type": "stream",
     "text": [
      "Error processing URL https://www.flipkart.com/haier-240-l-frost-free-double-door-top-mount-2-star-convertible-refrigerator/p/itmd9549da4992fa?pid=RFRGXMFUBESRH5NH&lid=LSTRFRGXMFUBESRH5NHN3KH7K&marketplace=FLIPKART&store=j9e%2Fabm%2Fhzg&srno=b_1_18&otracker=CLP_Filters&iid=en_FM-tqLOZlpEuKnlX_p5wd_h0Q8aPWs31b2c4tURciAwM7El4d2-dxU1BLGEU2izSeM_5Ao3TEw2MFOICAW5mR0hz9c-MSIoFe8xMxkfU6dM%3D&ssid=d4efpqlkkw0000001724397537025: name 'NoSuchElementException' is not defined\n"
     ]
    },
    {
     "name": "stderr",
     "output_type": "stream",
     "text": [
      " 79%|████████████████████████████████████████████████████████████████▉                 | 19/24 [10:07<02:08, 25.76s/it]"
     ]
    },
    {
     "name": "stdout",
     "output_type": "stream",
     "text": [
      "Error processing URL https://www.flipkart.com/lg-398-l-frost-free-double-door-3-star-refrigerator/p/itm28069d1b23b41?pid=RFRH27M9E8SEEDXF&lid=LSTRFRH27M9E8SEEDXFHAQMRT&marketplace=FLIPKART&store=j9e%2Fabm%2Fhzg&srno=b_1_19&otracker=CLP_Filters&iid=e7cb40b4-b1d9-445e-9f95-bbec93877d42.RFRH27M9E8SEEDXF.SEARCH&ssid=d4efpqlkkw0000001724397537025: name 'NoSuchElementException' is not defined\n"
     ]
    },
    {
     "name": "stderr",
     "output_type": "stream",
     "text": [
      " 83%|████████████████████████████████████████████████████████████████████▎             | 20/24 [10:27<01:36, 24.00s/it]"
     ]
    },
    {
     "name": "stdout",
     "output_type": "stream",
     "text": [
      "Error processing URL https://www.flipkart.com/lg-201-l-direct-cool-single-door-5-star-refrigerator-base-drawer-smart-inverter-compressor-fast-ice-making/p/itm66feb9afa39ef?pid=RFRGHMVY2BBYEJFF&lid=LSTRFRGHMVY2BBYEJFFDZKRNJ&marketplace=FLIPKART&store=j9e%2Fabm%2Fhzg&srno=b_1_20&otracker=CLP_Filters&iid=e7cb40b4-b1d9-445e-9f95-bbec93877d42.RFRGHMVY2BBYEJFF.SEARCH&ssid=d4efpqlkkw0000001724397537025: name 'NoSuchElementException' is not defined\n"
     ]
    },
    {
     "name": "stderr",
     "output_type": "stream",
     "text": [
      " 88%|███████████████████████████████████████████████████████████████████████▊          | 21/24 [10:44<01:05, 21.72s/it]"
     ]
    },
    {
     "name": "stdout",
     "output_type": "stream",
     "text": [
      "Error processing URL https://www.flipkart.com/haier-205-l-direct-cool-single-door-3-star-refrigerator/p/itm53b48624f5234?pid=RFRGWU8AD4Q6WHVF&lid=LSTRFRGWU8AD4Q6WHVFXMPRBV&marketplace=FLIPKART&store=j9e%2Fabm%2Fhzg&srno=b_1_21&otracker=CLP_Filters&iid=en_FM-tqLOZlpEuKnlX_p5wd_h0Q8aPWs31b2c4tURciAzSvOUqc8IiPrflD4r93TrS_3otL4NGK4cmaVQjoEjuU4nfEY2D5bWfIUmTlXs_oiU%3D&ssid=d4efpqlkkw0000001724397537025: name 'NoSuchElementException' is not defined\n"
     ]
    },
    {
     "name": "stderr",
     "output_type": "stream",
     "text": [
      " 92%|███████████████████████████████████████████████████████████████████████████▏      | 22/24 [10:50<00:34, 17.16s/it]"
     ]
    },
    {
     "name": "stdout",
     "output_type": "stream",
     "text": [
      "Error processing URL https://www.flipkart.com/panasonic-237-l-frost-free-double-door-2-star-refrigerator/p/itmdcb28225779ab?pid=RFRGSC67GPGMQFY7&lid=LSTRFRGSC67GPGMQFY7XE4KBV&marketplace=FLIPKART&store=j9e%2Fabm%2Fhzg&srno=b_1_22&otracker=CLP_Filters&iid=en_FM-tqLOZlpEuKnlX_p5wd_h0Q8aPWs31b2c4tURciAz079Pe_W5WOuvpCUDp4etdTRuro_oXn9hNqQI2oWJqVVnKu_QkFD98oDn_xgTUm2M%3D&ssid=d4efpqlkkw0000001724397537025: name 'NoSuchElementException' is not defined\n"
     ]
    },
    {
     "name": "stderr",
     "output_type": "stream",
     "text": [
      " 96%|██████████████████████████████████████████████████████████████████████████████▌   | 23/24 [11:18<00:20, 20.48s/it]"
     ]
    },
    {
     "name": "stdout",
     "output_type": "stream",
     "text": [
      "Error processing URL https://www.flipkart.com/lg-185-l-direct-cool-single-door-4-star-refrigerator-base-drawer-smart-inverter-compressor-connect/p/itme111bace73d90?pid=RFRGMFGQDSZT8QJN&lid=LSTRFRGMFGQDSZT8QJNBLCQWO&marketplace=FLIPKART&store=j9e%2Fabm%2Fhzg&srno=b_1_23&otracker=CLP_Filters&iid=e7cb40b4-b1d9-445e-9f95-bbec93877d42.RFRGMFGQDSZT8QJN.SEARCH&ssid=d4efpqlkkw0000001724397537025: name 'NoSuchElementException' is not defined\n"
     ]
    },
    {
     "name": "stderr",
     "output_type": "stream",
     "text": [
      "100%|██████████████████████████████████████████████████████████████████████████████████| 24/24 [11:51<00:00, 29.65s/it]"
     ]
    },
    {
     "name": "stdout",
     "output_type": "stream",
     "text": [
      "Error processing URL https://www.flipkart.com/lg-185-l-direct-cool-single-door-4-star-refrigerator-base-drawer-smart-inverter-compressor-fast-ice-making-moist-n-fresh/p/itm7e0807d22bdb1?pid=RFRFPYDEJG7KWR4P&lid=LSTRFRFPYDEJG7KWR4PGZJNMX&marketplace=FLIPKART&store=j9e%2Fabm%2Fhzg&spotlightTagId=FkPickId_j9e%2Fabm%2Fhzg&srno=b_1_24&otracker=CLP_Filters&iid=e7cb40b4-b1d9-445e-9f95-bbec93877d42.RFRFPYDEJG7KWR4P.SEARCH&ssid=d4efpqlkkw0000001724397537025: name 'NoSuchElementException' is not defined\n"
     ]
    },
    {
     "name": "stderr",
     "output_type": "stream",
     "text": [
      "\n"
     ]
    }
   ],
   "source": [
    "# 웹드라이버 실행\n",
    "driver = webdriver.Chrome()\n",
    "\n",
    "# 제품 목록 페이지 로드\n",
    "driver.get(\"https://www.flipkart.com/search?sid=j9e%2Fabm%2Fhzg&otracker=CLP_Filters&p%5B%5D=facets.brand%255B%255D%3DLG\")\n",
    "\n",
    "# 페이지 로딩 대기\n",
    "WebDriverWait(driver, 10).until(EC.presence_of_element_located((By.CLASS_NAME, 'CGtC98')))\n",
    "\n",
    "# URL을 저장할 리스트 초기화\n",
    "url_list = []\n",
    "\n",
    "# 요소 찾기\n",
    "elements = driver.find_elements(By.CLASS_NAME, 'CGtC98')\n",
    "\n",
    "# 각 요소에서 'href' 속성을 가져와 리스트에 추가\n",
    "for element in elements:\n",
    "    url_value = element.get_attribute('href')\n",
    "    if url_value:  # href 속성이 있는 경우만 추가\n",
    "        url_list.append(url_value)\n",
    "\n",
    "# 리뷰 데이터를 저장할 리스트 초기화\n",
    "all_reviews = []\n",
    "\n",
    "for url in tqdm(url_list):\n",
    "    try:\n",
    "        driver.get(url)\n",
    "        \n",
    "        # 리뷰 버튼 클릭 대기\n",
    "        try:\n",
    "            review_button = WebDriverWait(driver, 5).until(EC.presence_of_element_located((By.CLASS_NAME, \"_23J90q.RcXBOT\")))\n",
    "            if review_button.is_displayed():\n",
    "                review_button.click()\n",
    "        except (NoSuchElementException, TimeoutException):\n",
    "            pass\n",
    "        \n",
    "        # 낮은 별점 접근\n",
    "        try:\n",
    "            low_rating_option = WebDriverWait(driver, 10).until(EC.presence_of_element_located((By.CSS_SELECTOR, \"#container > div > div.VLIitu > div > div > div.DOjaWF.gdgoEp.col-9-12 > div.DOjaWF.gdgoEp.col-12-12 > div > div:nth-child(2) > div > div > div > div > select > option:nth-child(4)\")))\n",
    "            low_rating_option.click()\n",
    "        except (NoSuchElementException, TimeoutException) as e:\n",
    "            print(f\"Error selecting sort option for URL {url}: {e}\")\n",
    "        \n",
    "        # 데이터 확보\n",
    "        page_number = 1\n",
    "        \n",
    "        while True:\n",
    "            try:\n",
    "                # 페이지 URL 업데이트\n",
    "                current_url = driver.current_url\n",
    "                full_url = f'{current_url}&page={page_number}'\n",
    "                driver.get(full_url)\n",
    "                \n",
    "                # ZmyHeo 클래스의 존재 여부를 확인하고 없으면 브라우저 종료\n",
    "                WebDriverWait(driver, 10).until(EC.presence_of_element_located((By.CLASS_NAME, 'ZmyHeo')))\n",
    "                \n",
    "                # 데이터 추출\n",
    "                text_elements = driver.find_elements(By.CLASS_NAME, 'ZmyHeo')\n",
    "                state_elements = driver.find_elements(By.CLASS_NAME, 'MztJPv')\n",
    "                date_elements = driver.find_elements(By.CLASS_NAME, '_2NsDsF')\n",
    "                star_elements = driver.find_elements(By.XPATH, \"//*[contains(@class, 'XQDdHH') and (contains(@class, 'Js30Fc') or contains(@class, 'Czs3gR') or contains(@class, 'Ga3i8K'))]\")\n",
    "\n",
    "                \n",
    "                text_list = [elem.text for elem in text_elements]\n",
    "                state_list = [elem.text for elem in state_elements]\n",
    "                date_list = [elem.text for elem in date_elements]\n",
    "                dates = date_list[1::2]\n",
    "                star_list = [elem.text for elem in star_elements]\n",
    "                \n",
    "                # 리뷰 데이터를 모든 리뷰 리스트에 추가\n",
    "                for t, s, d, r in zip(text_list, state_list, dates, star_list):\n",
    "                    all_reviews.append({\n",
    "                        'text': t,\n",
    "                        'state': s,\n",
    "                        'date': d,\n",
    "                        'star': r\n",
    "                    })\n",
    "\n",
    "                # 페이지 번호 증가\n",
    "                page_number += 1\n",
    "                \n",
    "            except (NoSuchElementException, TimeoutException):\n",
    "                break\n",
    "    \n",
    "    except Exception as e:\n",
    "        print(f\"Error processing URL {url}: {e}\")\n",
    "\n",
    "# 현재 창 닫기\n",
    "driver.quit()\n"
   ]
  },
  {
   "cell_type": "code",
   "execution_count": 5,
   "id": "1c9378bb-ac46-47c0-b289-96ad44380f5f",
   "metadata": {},
   "outputs": [
    {
     "data": {
      "text/html": [
       "<div>\n",
       "<style scoped>\n",
       "    .dataframe tbody tr th:only-of-type {\n",
       "        vertical-align: middle;\n",
       "    }\n",
       "\n",
       "    .dataframe tbody tr th {\n",
       "        vertical-align: top;\n",
       "    }\n",
       "\n",
       "    .dataframe thead th {\n",
       "        text-align: right;\n",
       "    }\n",
       "</style>\n",
       "<table border=\"1\" class=\"dataframe\">\n",
       "  <thead>\n",
       "    <tr style=\"text-align: right;\">\n",
       "      <th></th>\n",
       "      <th>text</th>\n",
       "      <th>state</th>\n",
       "      <th>date</th>\n",
       "      <th>star</th>\n",
       "    </tr>\n",
       "  </thead>\n",
       "  <tbody>\n",
       "    <tr>\n",
       "      <th>0</th>\n",
       "      <td>Not a good quality product. Door is very tight...</td>\n",
       "      <td>Certified Buyer, Hyderabad</td>\n",
       "      <td>9 months ago</td>\n",
       "      <td>2</td>\n",
       "    </tr>\n",
       "    <tr>\n",
       "      <th>1</th>\n",
       "      <td>Good product 👍...</td>\n",
       "      <td>Certified Buyer, Rajkot</td>\n",
       "      <td>12 days ago</td>\n",
       "      <td>4</td>\n",
       "    </tr>\n",
       "    <tr>\n",
       "      <th>2</th>\n",
       "      <td>Very nice n specious Refrigerator</td>\n",
       "      <td>Certified Buyer, Adalaj</td>\n",
       "      <td>10 months ago</td>\n",
       "      <td>5</td>\n",
       "    </tr>\n",
       "    <tr>\n",
       "      <th>3</th>\n",
       "      <td>Amazing product...</td>\n",
       "      <td>Certified Buyer, Purba Medinipur District</td>\n",
       "      <td>10 months ago</td>\n",
       "      <td>5</td>\n",
       "    </tr>\n",
       "    <tr>\n",
       "      <th>4</th>\n",
       "      <td>Good product</td>\n",
       "      <td>Certified Buyer, Kalyan</td>\n",
       "      <td>7 months ago</td>\n",
       "      <td>5</td>\n",
       "    </tr>\n",
       "    <tr>\n",
       "      <th>...</th>\n",
       "      <td>...</td>\n",
       "      <td>...</td>\n",
       "      <td>...</td>\n",
       "      <td>...</td>\n",
       "    </tr>\n",
       "    <tr>\n",
       "      <th>1495</th>\n",
       "      <td>Not satisfied.. Biggest mistake</td>\n",
       "      <td>Certified Buyer, Dehradun</td>\n",
       "      <td>Oct, 2020</td>\n",
       "      <td>1</td>\n",
       "    </tr>\n",
       "    <tr>\n",
       "      <th>1496</th>\n",
       "      <td>Good</td>\n",
       "      <td>Certified Buyer, Hyderabad</td>\n",
       "      <td>Oct, 2020</td>\n",
       "      <td>1</td>\n",
       "    </tr>\n",
       "    <tr>\n",
       "      <th>1497</th>\n",
       "      <td>Thermostat knob missing. Freezer door broken. ...</td>\n",
       "      <td>Certified Buyer, New Delhi</td>\n",
       "      <td>Aug, 2020</td>\n",
       "      <td>1</td>\n",
       "    </tr>\n",
       "    <tr>\n",
       "      <th>1498</th>\n",
       "      <td>Dont use flipkart to bus the product</td>\n",
       "      <td>Certified Buyer, Salem</td>\n",
       "      <td>Aug, 2020</td>\n",
       "      <td>1</td>\n",
       "    </tr>\n",
       "    <tr>\n",
       "      <th>1499</th>\n",
       "      <td>Second time recd right product😢</td>\n",
       "      <td>Certified Buyer, Jaipur</td>\n",
       "      <td>Aug, 2020</td>\n",
       "      <td>1</td>\n",
       "    </tr>\n",
       "  </tbody>\n",
       "</table>\n",
       "<p>1500 rows × 4 columns</p>\n",
       "</div>"
      ],
      "text/plain": [
       "                                                   text  \\\n",
       "0     Not a good quality product. Door is very tight...   \n",
       "1                                     Good product 👍...   \n",
       "2                     Very nice n specious Refrigerator   \n",
       "3                                    Amazing product...   \n",
       "4                                          Good product   \n",
       "...                                                 ...   \n",
       "1495                    Not satisfied.. Biggest mistake   \n",
       "1496                                               Good   \n",
       "1497  Thermostat knob missing. Freezer door broken. ...   \n",
       "1498               Dont use flipkart to bus the product   \n",
       "1499                    Second time recd right product😢   \n",
       "\n",
       "                                          state           date star  \n",
       "0                    Certified Buyer, Hyderabad   9 months ago    2  \n",
       "1                       Certified Buyer, Rajkot    12 days ago    4  \n",
       "2                       Certified Buyer, Adalaj  10 months ago    5  \n",
       "3     Certified Buyer, Purba Medinipur District  10 months ago    5  \n",
       "4                       Certified Buyer, Kalyan   7 months ago    5  \n",
       "...                                         ...            ...  ...  \n",
       "1495                  Certified Buyer, Dehradun      Oct, 2020    1  \n",
       "1496                 Certified Buyer, Hyderabad      Oct, 2020    1  \n",
       "1497                 Certified Buyer, New Delhi      Aug, 2020    1  \n",
       "1498                     Certified Buyer, Salem      Aug, 2020    1  \n",
       "1499                    Certified Buyer, Jaipur      Aug, 2020    1  \n",
       "\n",
       "[1500 rows x 4 columns]"
      ]
     },
     "execution_count": 5,
     "metadata": {},
     "output_type": "execute_result"
    }
   ],
   "source": [
    "df_refri = pd.DataFrame(all_reviews)\n",
    "df_refri"
   ]
  },
  {
   "cell_type": "code",
   "execution_count": 6,
   "id": "808141fd-4514-4738-8013-b0361a9bd0a6",
   "metadata": {},
   "outputs": [],
   "source": [
    "import pickle\n",
    "with open('df_refri.pkl', 'wb') as f:\n",
    "    pickle.dump(df_refri, f)"
   ]
  },
  {
   "cell_type": "code",
   "execution_count": null,
   "id": "f9805cad-d12b-4e22-8479-6e6df6eb6555",
   "metadata": {},
   "outputs": [],
   "source": []
  }
 ],
 "metadata": {
  "kernelspec": {
   "display_name": "Python 3 (ipykernel)",
   "language": "python",
   "name": "python3"
  },
  "language_info": {
   "codemirror_mode": {
    "name": "ipython",
    "version": 3
   },
   "file_extension": ".py",
   "mimetype": "text/x-python",
   "name": "python",
   "nbconvert_exporter": "python",
   "pygments_lexer": "ipython3",
   "version": "3.11.7"
  }
 },
 "nbformat": 4,
 "nbformat_minor": 5
}
