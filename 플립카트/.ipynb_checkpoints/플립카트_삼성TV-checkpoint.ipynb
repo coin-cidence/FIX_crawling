{
 "cells": [
  {
   "cell_type": "code",
   "execution_count": 7,
   "id": "2e16d88e-1f46-4129-8332-1c6b55cb0a46",
   "metadata": {},
   "outputs": [],
   "source": [
    "import time\n",
    "import pandas as pd\n",
    "from selenium import webdriver\n",
    "from selenium.webdriver.common.by import By\n",
    "from selenium.webdriver.common.keys import Keys\n",
    "from tqdm import tqdm\n",
    "import pyperclip\n",
    "from bs4 import BeautifulSoup as bs\n",
    "from tqdm import tqdm\n",
    "import requests as req\n",
    "from selenium.webdriver.support.ui import WebDriverWait\n",
    "from selenium.webdriver.support import expected_conditions as EC"
   ]
  },
  {
   "cell_type": "code",
   "execution_count": 17,
   "id": "169279d9-7ffa-4e23-b0cc-48648f5ccae8",
   "metadata": {},
   "outputs": [
    {
     "name": "stderr",
     "output_type": "stream",
     "text": [
      "  4%|███▍                                                                               | 1/24 [00:33<12:42, 33.17s/it]"
     ]
    },
    {
     "name": "stdout",
     "output_type": "stream",
     "text": [
      "Error processing URL https://www.flipkart.com/hisense-e6n-139-cm-55-inch-ultra-hd-4k-led-smart-google-tv-2024-dolby-vision-atmos-dts-virtual-x-4k-ai-upscaler/p/itm9eb55a2d78d4b?pid=TVSHFCA54GEFRHQS&lid=LSTTVSHFCA54GEFRHQSCMBMKJ&marketplace=FLIPKART&store=ckf%2Fczl&srno=b_1_1&otracker=browse&iid=en_HkLMkcW9mY25lo2ylYylApI_90FxVLF1X78H1r7VwAolNc0p9kf95OZRlGXuL3HvGEz6pxdu83-mL9l42mQB1Q%3D%3D&ssid=3pma7lgbgg0000001724385221679: name 'NoSuchElementException' is not defined\n"
     ]
    },
    {
     "name": "stderr",
     "output_type": "stream",
     "text": [
      "  8%|██████▉                                                                            | 2/24 [01:01<11:06, 30.31s/it]"
     ]
    },
    {
     "name": "stdout",
     "output_type": "stream",
     "text": [
      "Error processing URL https://www.flipkart.com/hisense-e68n-139-cm-55-inch-qled-ultra-hd-4k-smart-google-tv-dolby-vision-atmos-far-field-voice-control-smooth-motion-rate/p/itm8b88693283b3f?pid=TVSHFA9EVDXFPF9M&lid=LSTTVSHFA9EVDXFPF9M9V9PKN&marketplace=FLIPKART&store=ckf%2Fczl&srno=b_1_2&otracker=browse&iid=en_HkLMkcW9mY25lo2ylYylApI_90FxVLF1X78H1r7VwArVruMlDdV5RI65FUPKxMv1LjUlo33Z_rJp5yyx5cbKCw%3D%3D&ssid=3pma7lgbgg0000001724385221679: name 'NoSuchElementException' is not defined\n"
     ]
    },
    {
     "name": "stderr",
     "output_type": "stream",
     "text": [
      " 12%|██████████▍                                                                        | 3/24 [01:52<13:56, 39.81s/it]"
     ]
    },
    {
     "name": "stdout",
     "output_type": "stream",
     "text": [
      "Error processing URL https://www.flipkart.com/lg-80-cm-32-inch-hd-ready-led-smart-webos-tv-alpha75-ai-processor-gen5-refresh-rate-60-hertz-magic-remote-capability/p/itme87a122f5e1e5?pid=TVSGS8GYDQXWP8QX&lid=LSTTVSGS8GYDQXWP8QX2GXHQP&marketplace=FLIPKART&store=ckf%2Fczl&spotlightTagId=FkPickId_ckf%2Fczl&srno=b_1_3&otracker=browse&iid=4c4c2813-3622-4570-aab0-f66ef665deca.TVSGS8GYDQXWP8QX.SEARCH&ssid=3pma7lgbgg0000001724385221679: name 'NoSuchElementException' is not defined\n"
     ]
    },
    {
     "name": "stderr",
     "output_type": "stream",
     "text": [
      " 17%|█████████████▊                                                                     | 4/24 [02:39<14:14, 42.71s/it]"
     ]
    },
    {
     "name": "stdout",
     "output_type": "stream",
     "text": [
      "Error processing URL https://www.flipkart.com/lg-80-cm-32-inch-hd-ready-led-smart-webos-tv/p/itmb2ff267644902?pid=TVSGC8FKBCFFBFT7&lid=LSTTVSGC8FKBCFFBFT78ATBNW&marketplace=FLIPKART&store=ckf%2Fczl&srno=b_1_4&otracker=browse&iid=4c4c2813-3622-4570-aab0-f66ef665deca.TVSGC8FKBCFFBFT7.SEARCH&ssid=3pma7lgbgg0000001724385221679: name 'NoSuchElementException' is not defined\n"
     ]
    },
    {
     "name": "stderr",
     "output_type": "stream",
     "text": [
      " 21%|█████████████████▎                                                                 | 5/24 [03:13<12:27, 39.33s/it]"
     ]
    },
    {
     "name": "stdout",
     "output_type": "stream",
     "text": [
      "Error processing URL https://www.flipkart.com/lg-ur7500-126-cm-50-inch-ultra-hd-4k-led-smart-webos-tv-alpha75-gen6-ai-processor-picture-pro-4k-upscaling-60-hz-refresh-rate-game-optimizer-magic-remote-capability-50ur7500psc-5-years-os-upgrade/p/itm924f7c9c8b0fa?pid=TVSGQQDYYV2VZWGC&lid=LSTTVSGQQDYYV2VZWGCW8GQHB&marketplace=FLIPKART&store=ckf%2Fczl&srno=b_1_5&otracker=browse&iid=4c4c2813-3622-4570-aab0-f66ef665deca.TVSGQQDYYV2VZWGC.SEARCH&ssid=3pma7lgbgg0000001724385221679: name 'NoSuchElementException' is not defined\n"
     ]
    },
    {
     "name": "stderr",
     "output_type": "stream",
     "text": [
      " 25%|████████████████████▊                                                              | 6/24 [03:44<11:02, 36.79s/it]"
     ]
    },
    {
     "name": "stdout",
     "output_type": "stream",
     "text": [
      "Error processing URL https://www.flipkart.com/lg-ur7500-139-cm-55-inch-ultra-hd-4k-led-smart-webos-tv-alpha75-gen6-ai-processor-picture-pro-4k-upscaling-60-hz-refresh-rate-game-optimizer-magic-remote-capability-55ur7500psc-5-years-os-upgrade/p/itm91b3602e6498f?pid=TVSGQQDYJGQGGEFD&lid=LSTTVSGQQDYJGQGGEFDJ2KJXJ&marketplace=FLIPKART&store=ckf%2Fczl&srno=b_1_6&otracker=browse&iid=4c4c2813-3622-4570-aab0-f66ef665deca.TVSGQQDYJGQGGEFD.SEARCH&ssid=3pma7lgbgg0000001724385221679: name 'NoSuchElementException' is not defined\n"
     ]
    },
    {
     "name": "stderr",
     "output_type": "stream",
     "text": [
      " 29%|████████████████████████▏                                                          | 7/24 [04:14<09:47, 34.55s/it]"
     ]
    },
    {
     "name": "stdout",
     "output_type": "stream",
     "text": [
      "Error processing URL https://www.flipkart.com/hisense-q6n-126-cm-50-inch-qled-ultra-hd-4k-smart-google-tv-dolby-vision-atmos-far-field-voice-control-smooth-motion-rate/p/itm75ee4e28614f0?pid=TVSHFA9EHKFHJHG3&lid=LSTTVSHFA9EHKFHJHG3IMRTZ9&marketplace=FLIPKART&store=ckf%2Fczl&srno=b_1_7&otracker=browse&iid=en_HkLMkcW9mY25lo2ylYylApI_90FxVLF1X78H1r7VwArhXTlhrBxGPqArcaxxh9yyHhQ6Ur-y3yxVtyETZ9hccPUFjCTyOHoHZs-Z5_PS_w0%3D&ssid=3pma7lgbgg0000001724385221679: name 'NoSuchElementException' is not defined\n"
     ]
    },
    {
     "name": "stderr",
     "output_type": "stream",
     "text": [
      " 33%|███████████████████████████▋                                                       | 8/24 [04:42<08:38, 32.41s/it]"
     ]
    },
    {
     "name": "stdout",
     "output_type": "stream",
     "text": [
      "Error processing URL https://www.flipkart.com/hisense-q6n-164-cm-65-inch-qled-ultra-hd-4k-smart-google-tv-dolby-vision-atmos-far-field-voice-control-smooth-motion-rate/p/itmb146d54dc589e?pid=TVSHFA9EER6HHYWK&lid=LSTTVSHFA9EER6HHYWKBI4YUV&marketplace=FLIPKART&store=ckf%2Fczl&srno=b_1_8&otracker=browse&iid=en_HkLMkcW9mY25lo2ylYylApI_90FxVLF1X78H1r7VwAqnoses_82fhZHYAFcIROiYz_BjzxjbQTUaC5MENbl9XfUFjCTyOHoHZs-Z5_PS_w0%3D&ssid=3pma7lgbgg0000001724385221679: name 'NoSuchElementException' is not defined\n"
     ]
    },
    {
     "name": "stderr",
     "output_type": "stream",
     "text": [
      " 38%|███████████████████████████████▏                                                   | 9/24 [05:11<07:46, 31.13s/it]"
     ]
    },
    {
     "name": "stdout",
     "output_type": "stream",
     "text": [
      "Error processing URL https://www.flipkart.com/lg-80-cm-32-inch-hd-ready-led-smart-webos-tv-alpha5-gen5-ai-processor-magic-remote/p/itm0a6335b3213bb?pid=TVSGDQHFUJ3T7SQK&lid=LSTTVSGDQHFUJ3T7SQKUG08GH&marketplace=FLIPKART&store=ckf%2Fczl&srno=b_1_9&otracker=browse&iid=4c4c2813-3622-4570-aab0-f66ef665deca.TVSGDQHFUJ3T7SQK.SEARCH&ssid=3pma7lgbgg0000001724385221679: name 'NoSuchElementException' is not defined\n"
     ]
    },
    {
     "name": "stderr",
     "output_type": "stream",
     "text": [
      " 42%|██████████████████████████████████▏                                               | 10/24 [05:39<07:03, 30.22s/it]"
     ]
    },
    {
     "name": "stdout",
     "output_type": "stream",
     "text": [
      "Error processing URL https://www.flipkart.com/lg-uq7550-139-cm-55-inch-ultra-hd-4k-led-smart-webos-tv-alpha75-gen5-ai-processor-4k-magic-remote-60hz-refresh-rate/p/itmb602f9972dbc4?pid=TVSGQQDYKMKFSBDB&lid=LSTTVSGQQDYKMKFSBDB8OIJL7&marketplace=FLIPKART&store=ckf%2Fczl&srno=b_1_10&otracker=browse&iid=4c4c2813-3622-4570-aab0-f66ef665deca.TVSGQQDYKMKFSBDB.SEARCH&ssid=3pma7lgbgg0000001724385221679: name 'NoSuchElementException' is not defined\n"
     ]
    },
    {
     "name": "stderr",
     "output_type": "stream",
     "text": [
      " 46%|█████████████████████████████████████▌                                            | 11/24 [06:06<06:22, 29.40s/it]"
     ]
    },
    {
     "name": "stdout",
     "output_type": "stream",
     "text": [
      "Error processing URL https://www.flipkart.com/hisense-tornado-139-cm-55-inch-ultra-hd-4k-led-smart-google-tv-built-in-jbl-soundbar-25w-subwoofer-120-high-refresh-rate-mode/p/itmdc68a784fb341?pid=TVSGQSEMPZHYYA2E&lid=LSTTVSGQSEMPZHYYA2EK1CMZR&marketplace=FLIPKART&store=ckf%2Fczl&srno=b_1_11&otracker=browse&iid=en_HkLMkcW9mY25lo2ylYylApI_90FxVLF1X78H1r7VwArTfUWb83n5c3lyd5vb7d3VuoAROQ0C4-ClPNG5QVAeFKV8WX5krIChubBlraAu4CQ%3D&ssid=3pma7lgbgg0000001724385221679: name 'NoSuchElementException' is not defined\n"
     ]
    },
    {
     "name": "stderr",
     "output_type": "stream",
     "text": [
      " 50%|█████████████████████████████████████████                                         | 12/24 [06:32<05:39, 28.31s/it]"
     ]
    },
    {
     "name": "stdout",
     "output_type": "stream",
     "text": [
      "Error processing URL https://www.flipkart.com/lg-uq7550-108-cm-43-inch-ultra-hd-4k-led-smart-webos-tv-alpha75-gen5-ai-processor-4k-magic-remote-60hz-refresh-rate/p/itm0a24b95aafcb4?pid=TVSGQQDYDZ6HZVUH&lid=LSTTVSGQQDYDZ6HZVUHFD2NHF&marketplace=FLIPKART&store=ckf%2Fczl&srno=b_1_12&otracker=browse&iid=4c4c2813-3622-4570-aab0-f66ef665deca.TVSGQQDYDZ6HZVUH.SEARCH&ssid=3pma7lgbgg0000001724385221679: name 'NoSuchElementException' is not defined\n"
     ]
    },
    {
     "name": "stderr",
     "output_type": "stream",
     "text": [
      " 54%|████████████████████████████████████████████▍                                     | 13/24 [07:01<05:11, 28.36s/it]"
     ]
    },
    {
     "name": "stdout",
     "output_type": "stream",
     "text": [
      "Error processing URL https://www.flipkart.com/lg-ur7500-164-cm-65-inch-ultra-hd-4k-led-smart-webos-tv-alpha75-gen6-ai-processor-picture-pro-4k-upscaling-60-hz-refresh-rate-game-optimizer-magic-remote-capability-65ur7500psc-5-years-os-upgrade/p/itm590a797f63198?pid=TVSGQQDYBTGS4VPC&lid=LSTTVSGQQDYBTGS4VPCMI7GAK&marketplace=FLIPKART&store=ckf%2Fczl&srno=b_1_13&otracker=browse&iid=4c4c2813-3622-4570-aab0-f66ef665deca.TVSGQQDYBTGS4VPC.SEARCH&ssid=3pma7lgbgg0000001724385221679: name 'NoSuchElementException' is not defined\n"
     ]
    },
    {
     "name": "stderr",
     "output_type": "stream",
     "text": [
      " 58%|███████████████████████████████████████████████▊                                  | 14/24 [07:17<04:06, 24.65s/it]"
     ]
    },
    {
     "name": "stdout",
     "output_type": "stream",
     "text": [
      "Error processing URL https://www.flipkart.com/lg-oled-a3-139-cm-55-inch-ultra-hd-4k-smart-webos-tv-alpha77-gen6-ai-processor-picture-pro-pixel-dimming-dolby-vision-iq-atmos-eye-comfort-display-nvidia-g-sync-vrr-amd-freesync-60-hz-refresh-rate-game-optimizer-magic-remote-control-oled55a3psa-5-years-os-upgrade/p/itmdfbb71103875a?pid=TVSGQQDYGSYRJ5K2&lid=LSTTVSGQQDYGSYRJ5K2LDGZWK&marketplace=FLIPKART&store=ckf%2Fczl&srno=b_1_14&otracker=browse&iid=4c4c2813-3622-4570-aab0-f66ef665deca.TVSGQQDYGSYRJ5K2.SEARCH&ssid=3pma7lgbgg0000001724385221679: name 'NoSuchElementException' is not defined\n"
     ]
    },
    {
     "name": "stderr",
     "output_type": "stream",
     "text": [
      " 62%|███████████████████████████████████████████████████▎                              | 15/24 [07:43<03:47, 25.30s/it]"
     ]
    },
    {
     "name": "stdout",
     "output_type": "stream",
     "text": [
      "Error processing URL https://www.flipkart.com/lg-108-cm-43-inch-full-hd-led-smart-webos-tv/p/itm1ee01c7cf66e4?pid=TVSFUJ5RVDUQZRMA&lid=LSTTVSFUJ5RVDUQZRMA81KBQL&marketplace=FLIPKART&store=ckf%2Fczl&srno=b_1_15&otracker=browse&iid=4c4c2813-3622-4570-aab0-f66ef665deca.TVSFUJ5RVDUQZRMA.SEARCH&ssid=3pma7lgbgg0000001724385221679: name 'NoSuchElementException' is not defined\n"
     ]
    },
    {
     "name": "stderr",
     "output_type": "stream",
     "text": [
      " 67%|██████████████████████████████████████████████████████▋                           | 16/24 [07:50<02:37, 19.66s/it]"
     ]
    },
    {
     "name": "stdout",
     "output_type": "stream",
     "text": [
      "Error processing URL https://www.flipkart.com/lg-nanocell-189-cm-75-inch-ultra-hd-4k-led-smart-webos-tv/p/itm9199805022b45?pid=TVSFHBVZ6FSMSZFZ&lid=LSTTVSFHBVZ6FSMSZFZI7ZRJU&marketplace=FLIPKART&store=ckf%2Fczl&srno=b_1_16&otracker=browse&iid=4c4c2813-3622-4570-aab0-f66ef665deca.TVSFHBVZ6FSMSZFZ.SEARCH&ssid=3pma7lgbgg0000001724385221679: name 'NoSuchElementException' is not defined\n"
     ]
    },
    {
     "name": "stderr",
     "output_type": "stream",
     "text": [
      " 71%|██████████████████████████████████████████████████████████                        | 17/24 [08:22<02:44, 23.49s/it]"
     ]
    },
    {
     "name": "stdout",
     "output_type": "stream",
     "text": [
      "Error processing URL https://www.flipkart.com/lg-uq8020-108-cm-43-inch-ultra-hd-4k-led-smart-webos-tv-thinq-ai-filmmaker-mode-magic-remote-control/p/itm0bd784c52288a?pid=TVSGFGYSTDGT5ZWK&lid=LSTTVSGFGYSTDGT5ZWKI0BONW&marketplace=FLIPKART&store=ckf%2Fczl&srno=b_1_17&otracker=browse&iid=4c4c2813-3622-4570-aab0-f66ef665deca.TVSGFGYSTDGT5ZWK.SEARCH&ssid=3pma7lgbgg0000001724385221679: name 'NoSuchElementException' is not defined\n"
     ]
    },
    {
     "name": "stderr",
     "output_type": "stream",
     "text": [
      " 75%|█████████████████████████████████████████████████████████████▌                    | 18/24 [08:29<01:50, 18.45s/it]"
     ]
    },
    {
     "name": "stdout",
     "output_type": "stream",
     "text": [
      "Error processing URL https://www.flipkart.com/lg-oled-b2-164-cm-65-inch-ultra-hd-4k-smart-webos-tv-alpha77-gen5-ai-processor-picture-pro-pixel-dimming-dolby-vision-iq-atmos-eye-comfort-display-nvidia-g-sync-vrr-amd-freesync-120-hz-refresh-rate-game-optimizer-magic-remote-control-oled65b2psa-5-years-os-upgrade/p/itm381189369f9a4?pid=TVSGR9AFUKVTNZKR&lid=LSTTVSGR9AFUKVTNZKRB1FKQP&marketplace=FLIPKART&store=ckf%2Fczl&srno=b_1_18&otracker=browse&iid=4c4c2813-3622-4570-aab0-f66ef665deca.TVSGR9AFUKVTNZKR.SEARCH&ssid=3pma7lgbgg0000001724385221679: name 'NoSuchElementException' is not defined\n"
     ]
    },
    {
     "name": "stderr",
     "output_type": "stream",
     "text": [
      " 79%|████████████████████████████████████████████████████████████████▉                 | 19/24 [08:37<01:17, 15.43s/it]"
     ]
    },
    {
     "name": "stdout",
     "output_type": "stream",
     "text": [
      "Error processing URL https://www.flipkart.com/lg-oled-b2-139-cm-55-inch-ultra-hd-4k-smart-webos-tv-alpha77-gen5-ai-processor-picture-pro-pixel-dimming-dolby-vision-iq-atmos-eye-comfort-display-nvidia-g-sync-vrr-amd-freesync-120-hz-refresh-rate-game-optimizer-magic-remote-control-oled55b2psa-5-years-os-upgrade/p/itm2d5f268d8981a?pid=TVSGR9AFEVEPE8B5&lid=LSTTVSGR9AFEVEPE8B5COTDWW&marketplace=FLIPKART&store=ckf%2Fczl&srno=b_1_19&otracker=browse&iid=4c4c2813-3622-4570-aab0-f66ef665deca.TVSGR9AFEVEPE8B5.SEARCH&ssid=3pma7lgbgg0000001724385221679: name 'NoSuchElementException' is not defined\n"
     ]
    },
    {
     "name": "stderr",
     "output_type": "stream",
     "text": [
      " 83%|████████████████████████████████████████████████████████████████████▎             | 20/24 [08:44<00:51, 12.85s/it]"
     ]
    },
    {
     "name": "stdout",
     "output_type": "stream",
     "text": [
      "Error processing URL https://www.flipkart.com/lg-80-cm-32-inch-hd-ready-led-smart-webos-tv/p/itm5565f0a5dc55e?pid=TVSGS42Y29KNCJZH&lid=LSTTVSGS42Y29KNCJZHXFKWTK&marketplace=FLIPKART&store=ckf%2Fczl&srno=b_1_20&otracker=browse&iid=4c4c2813-3622-4570-aab0-f66ef665deca.TVSGS42Y29KNCJZH.SEARCH&ssid=3pma7lgbgg0000001724385221679: name 'NoSuchElementException' is not defined\n"
     ]
    },
    {
     "name": "stderr",
     "output_type": "stream",
     "text": [
      " 88%|███████████████████████████████████████████████████████████████████████▊          | 21/24 [08:52<00:33, 11.30s/it]"
     ]
    },
    {
     "name": "stdout",
     "output_type": "stream",
     "text": [
      "Error processing URL https://www.flipkart.com/lg-80-cm-32-inch-hd-ready-led-smart-webos-tv/p/itm352dd0cbf426b?pid=TVSGT8KNABBAB2AR&lid=LSTTVSGT8KNABBAB2ARK512RR&marketplace=FLIPKART&store=ckf%2Fczl&srno=b_1_21&otracker=browse&iid=4c4c2813-3622-4570-aab0-f66ef665deca.TVSGT8KNABBAB2AR.SEARCH&ssid=3pma7lgbgg0000001724385221679: name 'NoSuchElementException' is not defined\n"
     ]
    },
    {
     "name": "stderr",
     "output_type": "stream",
     "text": [
      " 92%|███████████████████████████████████████████████████████████████████████████▏      | 22/24 [09:09<00:26, 13.09s/it]"
     ]
    },
    {
     "name": "stdout",
     "output_type": "stream",
     "text": [
      "Error processing URL https://www.flipkart.com/lg-lm63-80-cm-32-inch-hd-ready-led-smart-webos-tv/p/itmd995236fdff1a?pid=TVSFJY52TWAMHJSV&lid=LSTTVSFJY52TWAMHJSVRPRIFM&marketplace=FLIPKART&store=ckf%2Fczl&srno=b_1_22&otracker=browse&iid=4c4c2813-3622-4570-aab0-f66ef665deca.TVSFJY52TWAMHJSV.SEARCH&ssid=3pma7lgbgg0000001724385221679: name 'NoSuchElementException' is not defined\n"
     ]
    },
    {
     "name": "stderr",
     "output_type": "stream",
     "text": [
      " 96%|██████████████████████████████████████████████████████████████████████████████▌   | 23/24 [09:39<00:18, 18.04s/it]"
     ]
    },
    {
     "name": "stdout",
     "output_type": "stream",
     "text": [
      "Error processing URL https://www.flipkart.com/lg-uq8020-139-cm-55-inch-ultra-hd-4k-led-smart-webos-tv-thinq-ai-magic-remote-control/p/itm8286fd0061c86?pid=TVSGFGYSU9GNXDDK&lid=LSTTVSGFGYSU9GNXDDKW2TTLZ&marketplace=FLIPKART&store=ckf%2Fczl&srno=b_1_23&otracker=browse&iid=4c4c2813-3622-4570-aab0-f66ef665deca.TVSGFGYSU9GNXDDK.SEARCH&ssid=3pma7lgbgg0000001724385221679: name 'NoSuchElementException' is not defined\n"
     ]
    },
    {
     "name": "stderr",
     "output_type": "stream",
     "text": [
      "100%|██████████████████████████████████████████████████████████████████████████████████| 24/24 [09:45<00:00, 24.41s/it]"
     ]
    },
    {
     "name": "stdout",
     "output_type": "stream",
     "text": [
      "Error processing URL https://www.flipkart.com/lg-oled-c2-106-cm-42-inch-ultra-hd-4k-smart-webos-tv-alpha79-gen5-ai-processor-picture-pro-pixel-dimming-dolby-vision-iq-atmos-eye-comfort-display-nvidia-g-sync-vrr-amd-freesync-120-hz-refresh-rate-game-optimizer-magic-remote-control-oled42c2psa-5-years-os-upgrade/p/itm2dd67ebeb0ab0?pid=TVSGV2V66XFRGCRU&lid=LSTTVSGV2V66XFRGCRUFIHXV3&marketplace=FLIPKART&store=ckf%2Fczl&srno=b_1_24&otracker=browse&iid=4c4c2813-3622-4570-aab0-f66ef665deca.TVSGV2V66XFRGCRU.SEARCH&ssid=3pma7lgbgg0000001724385221679: name 'NoSuchElementException' is not defined\n"
     ]
    },
    {
     "name": "stderr",
     "output_type": "stream",
     "text": [
      "\n"
     ]
    }
   ],
   "source": [
    "# 웹드라이버 실행\n",
    "driver = webdriver.Chrome()\n",
    "\n",
    "# 제품 목록 페이지 로드\n",
    "driver.get(\"https://www.flipkart.com/televisions/pr?sid=ckf%2Cczl&p%5B%5D=facets.availability%255B%255D%3DExclude%2BOut%2Bof%2BStock&otracker=categorytree&p%5B%5D=facets.serviceability%5B%5D%3Dtrue&p%5B%5D=facets.brand%255B%255D%3DLG&otracker=nmenu_sub_TVs%20%26%20Appliances_0_LG\")\n",
    "\n",
    "# 페이지 로딩 대기\n",
    "WebDriverWait(driver, 10).until(EC.presence_of_element_located((By.CLASS_NAME, 'CGtC98')))\n",
    "\n",
    "# URL을 저장할 리스트 초기화\n",
    "url_list = []\n",
    "\n",
    "# 요소 찾기\n",
    "elements = driver.find_elements(By.CLASS_NAME, 'CGtC98')\n",
    "\n",
    "# 각 요소에서 'href' 속성을 가져와 리스트에 추가\n",
    "for element in elements:\n",
    "    url_value = element.get_attribute('href')\n",
    "    if url_value:  # href 속성이 있는 경우만 추가\n",
    "        url_list.append(url_value)\n",
    "\n",
    "# 리뷰 데이터를 저장할 리스트 초기화\n",
    "all_reviews = []\n",
    "\n",
    "for url in tqdm(url_list):\n",
    "    try:\n",
    "        driver.get(url)\n",
    "        \n",
    "        # 리뷰 버튼 클릭 대기\n",
    "        try:\n",
    "            review_button = WebDriverWait(driver, 5).until(EC.presence_of_element_located((By.CLASS_NAME, \"_23J90q.RcXBOT\")))\n",
    "            if review_button.is_displayed():\n",
    "                review_button.click()\n",
    "        except (NoSuchElementException, TimeoutException):\n",
    "            pass\n",
    "        \n",
    "        # 낮은 별점 접근\n",
    "        try:\n",
    "            low_rating_option = WebDriverWait(driver, 10).until(EC.presence_of_element_located((By.CSS_SELECTOR, \"#container > div > div.VLIitu > div > div > div.DOjaWF.gdgoEp.col-9-12 > div.DOjaWF.gdgoEp.col-12-12 > div > div:nth-child(2) > div > div > div > div > select > option:nth-child(4)\")))\n",
    "            low_rating_option.click()\n",
    "        except (NoSuchElementException, TimeoutException) as e:\n",
    "            print(f\"Error selecting sort option for URL {url}: {e}\")\n",
    "        \n",
    "        # 데이터 확보\n",
    "        page_number = 1\n",
    "        \n",
    "        while True:\n",
    "            try:\n",
    "                # 페이지 URL 업데이트\n",
    "                current_url = driver.current_url\n",
    "                full_url = f'{current_url}&page={page_number}'\n",
    "                driver.get(full_url)\n",
    "                \n",
    "                # ZmyHeo 클래스의 존재 여부를 확인하고 없으면 브라우저 종료\n",
    "                WebDriverWait(driver, 10).until(EC.presence_of_element_located((By.CLASS_NAME, 'ZmyHeo')))\n",
    "                \n",
    "                # 데이터 추출\n",
    "                text_elements = driver.find_elements(By.CLASS_NAME, 'ZmyHeo')\n",
    "                state_elements = driver.find_elements(By.CLASS_NAME, 'MztJPv')\n",
    "                date_elements = driver.find_elements(By.CLASS_NAME, '_2NsDsF')\n",
    "                star_elements = driver.find_elements(By.XPATH, \"//*[contains(@class, 'XQDdHH') and (contains(@class, 'Js30Fc') or contains(@class, 'Czs3gR') or contains(@class, 'Ga3i8K'))]\")\n",
    "\n",
    "                \n",
    "                text_list = [elem.text for elem in text_elements]\n",
    "                state_list = [elem.text for elem in state_elements]\n",
    "                date_list = [elem.text for elem in date_elements]\n",
    "                dates = date_list[1::2]\n",
    "                star_list = [elem.text for elem in star_elements]\n",
    "                \n",
    "                # 리뷰 데이터를 모든 리뷰 리스트에 추가\n",
    "                for t, s, d, r in zip(text_list, state_list, dates, star_list):\n",
    "                    all_reviews.append({\n",
    "                        'text': t,\n",
    "                        'state': s,\n",
    "                        'date': d,\n",
    "                        'star': r\n",
    "                    })\n",
    "\n",
    "                # 페이지 번호 증가\n",
    "                page_number += 1\n",
    "                \n",
    "            except (NoSuchElementException, TimeoutException):\n",
    "                break\n",
    "    \n",
    "    except Exception as e:\n",
    "        print(f\"Error processing URL {url}: {e}\")\n",
    "\n",
    "# 현재 창 닫기\n",
    "driver.quit()\n"
   ]
  },
  {
   "cell_type": "code",
   "execution_count": 21,
   "id": "1c9378bb-ac46-47c0-b289-96ad44380f5f",
   "metadata": {},
   "outputs": [
    {
     "data": {
      "text/html": [
       "<div>\n",
       "<style scoped>\n",
       "    .dataframe tbody tr th:only-of-type {\n",
       "        vertical-align: middle;\n",
       "    }\n",
       "\n",
       "    .dataframe tbody tr th {\n",
       "        vertical-align: top;\n",
       "    }\n",
       "\n",
       "    .dataframe thead th {\n",
       "        text-align: right;\n",
       "    }\n",
       "</style>\n",
       "<table border=\"1\" class=\"dataframe\">\n",
       "  <thead>\n",
       "    <tr style=\"text-align: right;\">\n",
       "      <th></th>\n",
       "      <th>text</th>\n",
       "      <th>state</th>\n",
       "      <th>date</th>\n",
       "      <th>star</th>\n",
       "    </tr>\n",
       "  </thead>\n",
       "  <tbody>\n",
       "    <tr>\n",
       "      <th>0</th>\n",
       "      <td>Sound not practice</td>\n",
       "      <td>Certified Buyer, Sircilla</td>\n",
       "      <td>1 day ago</td>\n",
       "      <td>1</td>\n",
       "    </tr>\n",
       "    <tr>\n",
       "      <th>1</th>\n",
       "      <td>E6N is a terrible product. Connectivity does n...</td>\n",
       "      <td>Certified Buyer, Kolkata</td>\n",
       "      <td>8 days ago</td>\n",
       "      <td>1</td>\n",
       "    </tr>\n",
       "    <tr>\n",
       "      <th>2</th>\n",
       "      <td>Having connectivity issue after installation</td>\n",
       "      <td>Certified Buyer, Kolkata</td>\n",
       "      <td>28 days ago</td>\n",
       "      <td>1</td>\n",
       "    </tr>\n",
       "    <tr>\n",
       "      <th>3</th>\n",
       "      <td>product was very good but installation very ve...</td>\n",
       "      <td>Certified Buyer, Karamadai</td>\n",
       "      <td>2 months ago</td>\n",
       "      <td>1</td>\n",
       "    </tr>\n",
       "    <tr>\n",
       "      <th>4</th>\n",
       "      <td>I can't add any review because installation no...</td>\n",
       "      <td>Certified Buyer, Rohtak District</td>\n",
       "      <td>2 months ago</td>\n",
       "      <td>1</td>\n",
       "    </tr>\n",
       "    <tr>\n",
       "      <th>...</th>\n",
       "      <td>...</td>\n",
       "      <td>...</td>\n",
       "      <td>...</td>\n",
       "      <td>...</td>\n",
       "    </tr>\n",
       "    <tr>\n",
       "      <th>1745</th>\n",
       "      <td>Buyers be awere that, all the reviews here are...</td>\n",
       "      <td>Certified Buyer, Koch Bihar</td>\n",
       "      <td>Aug, 2022</td>\n",
       "      <td>5</td>\n",
       "    </tr>\n",
       "    <tr>\n",
       "      <th>1746</th>\n",
       "      <td>Been using it for 2 months,\\n\\nWhen you get it...</td>\n",
       "      <td>Certified Buyer, Malappuram District</td>\n",
       "      <td>Jan, 2022</td>\n",
       "      <td>5</td>\n",
       "    </tr>\n",
       "    <tr>\n",
       "      <th>1747</th>\n",
       "      <td>Great picture quality\\nGood Sound\\nTill now al...</td>\n",
       "      <td>Certified Buyer, Siliguri</td>\n",
       "      <td>Apr, 2022</td>\n",
       "      <td>5</td>\n",
       "    </tr>\n",
       "    <tr>\n",
       "      <th>1748</th>\n",
       "      <td>Simply amazing</td>\n",
       "      <td>Certified Buyer, Srikakulam District</td>\n",
       "      <td>Feb, 2022</td>\n",
       "      <td>5</td>\n",
       "    </tr>\n",
       "    <tr>\n",
       "      <th>1749</th>\n",
       "      <td>Excellent tv at this price... Just go for it.....</td>\n",
       "      <td>Certified Buyer, Durgapur</td>\n",
       "      <td>Nov, 2021</td>\n",
       "      <td>5</td>\n",
       "    </tr>\n",
       "  </tbody>\n",
       "</table>\n",
       "<p>1750 rows × 4 columns</p>\n",
       "</div>"
      ],
      "text/plain": [
       "                                                   text  \\\n",
       "0                                    Sound not practice   \n",
       "1     E6N is a terrible product. Connectivity does n...   \n",
       "2          Having connectivity issue after installation   \n",
       "3     product was very good but installation very ve...   \n",
       "4     I can't add any review because installation no...   \n",
       "...                                                 ...   \n",
       "1745  Buyers be awere that, all the reviews here are...   \n",
       "1746  Been using it for 2 months,\\n\\nWhen you get it...   \n",
       "1747  Great picture quality\\nGood Sound\\nTill now al...   \n",
       "1748                                     Simply amazing   \n",
       "1749  Excellent tv at this price... Just go for it.....   \n",
       "\n",
       "                                     state          date star  \n",
       "0                Certified Buyer, Sircilla     1 day ago    1  \n",
       "1                 Certified Buyer, Kolkata    8 days ago    1  \n",
       "2                 Certified Buyer, Kolkata   28 days ago    1  \n",
       "3               Certified Buyer, Karamadai  2 months ago    1  \n",
       "4         Certified Buyer, Rohtak District  2 months ago    1  \n",
       "...                                    ...           ...  ...  \n",
       "1745           Certified Buyer, Koch Bihar     Aug, 2022    5  \n",
       "1746  Certified Buyer, Malappuram District     Jan, 2022    5  \n",
       "1747             Certified Buyer, Siliguri     Apr, 2022    5  \n",
       "1748  Certified Buyer, Srikakulam District     Feb, 2022    5  \n",
       "1749             Certified Buyer, Durgapur     Nov, 2021    5  \n",
       "\n",
       "[1750 rows x 4 columns]"
      ]
     },
     "execution_count": 21,
     "metadata": {},
     "output_type": "execute_result"
    }
   ],
   "source": [
    "df_TV = pd.DataFrame(all_reviews)\n",
    "df_TV"
   ]
  },
  {
   "cell_type": "code",
   "execution_count": 22,
   "id": "efe94ab9-bfa0-492f-9a3e-6614eb2d86f6",
   "metadata": {},
   "outputs": [],
   "source": [
    "import pickle\n",
    "with open('df_TV.pkl', 'wb') as f:\n",
    "    pickle.dump(df, f)"
   ]
  },
  {
   "cell_type": "code",
   "execution_count": null,
   "id": "3140bc17-dea8-49d1-b56f-7484dc56292a",
   "metadata": {},
   "outputs": [],
   "source": []
  }
 ],
 "metadata": {
  "kernelspec": {
   "display_name": "Python 3 (ipykernel)",
   "language": "python",
   "name": "python3"
  },
  "language_info": {
   "codemirror_mode": {
    "name": "ipython",
    "version": 3
   },
   "file_extension": ".py",
   "mimetype": "text/x-python",
   "name": "python",
   "nbconvert_exporter": "python",
   "pygments_lexer": "ipython3",
   "version": "3.11.7"
  }
 },
 "nbformat": 4,
 "nbformat_minor": 5
}
