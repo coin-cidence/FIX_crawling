{
 "cells": [
  {
   "cell_type": "code",
   "execution_count": 3,
   "id": "4cf24b95-f745-4e5e-9815-6f3416ff393c",
   "metadata": {},
   "outputs": [],
   "source": [
    "import pandas as pd\n",
    "\n",
    "# CSV 파일 경로 지정\n",
    "file_path = './lg_service_center_reviews_major_cities_of_india.csv'"
   ]
  },
  {
   "cell_type": "code",
   "execution_count": 4,
   "id": "7165579f-b560-4981-a7e1-a844d3420306",
   "metadata": {
    "scrolled": true
   },
   "outputs": [
    {
     "name": "stdout",
     "output_type": "stream",
     "text": [
      "              Place Name                                            Address  \\\n",
      "0      LG Service Center  buiding no. m-01, Main Market, M Block, Greate...   \n",
      "1      LG Service Center  buiding no. m-01, Main Market, M Block, Greate...   \n",
      "2      LG Service Center  buiding no. m-01, Main Market, M Block, Greate...   \n",
      "3      LG Service Center  buiding no. m-01, Main Market, M Block, Greate...   \n",
      "4      LG Service Center  buiding no. m-01, Main Market, M Block, Greate...   \n",
      "...                  ...                                                ...   \n",
      "1468  myG Future Calicut  AI Twar Centre, Pottammal Jct, Pottammal, Kozh...   \n",
      "1469  myG Future Calicut  AI Twar Centre, Pottammal Jct, Pottammal, Kozh...   \n",
      "1470  myG Future Calicut  AI Twar Centre, Pottammal Jct, Pottammal, Kozh...   \n",
      "1471  myG Future Calicut  AI Twar Centre, Pottammal Jct, Pottammal, Kozh...   \n",
      "1472  myG Future Calicut  AI Twar Centre, Pottammal Jct, Pottammal, Kozh...   \n",
      "\n",
      "                                                 Review  Rating  \\\n",
      "0     This is the worst service center. They just pl...       1   \n",
      "1     LG good service center good staff. The provide...       5   \n",
      "2     They repaired my lg washing machine. Service r...       5   \n",
      "3               Good lg service center and amazing Wark       5   \n",
      "4     We very impressed\\nThey provide excellent and ...       5   \n",
      "...                                                 ...     ...   \n",
      "1468  Wonderful experience.\\nAs a customer i am very...       5   \n",
      "1469  I recently purchased a new phone from MyG, and...       5   \n",
      "1470  Purchased laptop from MYG today. It was a nice...       5   \n",
      "1471  Thank you My G for the amazing laptop that i a...       5   \n",
      "1472  I recently purchased a laptop from MY G Store,...       5   \n",
      "\n",
      "                   Reviewer          Review Time Review Date  Review Month  \\\n",
      "0               Badal Huria  2023-05-09 21:49:33  2023-05-09             5   \n",
      "1       ༒Nitesh༒꧁ ༒यदुवंशी༒  2024-01-15 19:16:56  2024-01-15             1   \n",
      "2              Tufan Halder  2023-02-03 17:39:24  2023-02-03             2   \n",
      "3            Srishti Kumari  2024-01-15 18:23:25  2024-01-15             1   \n",
      "4           Tarun Kumar Jha  2022-04-23 12:24:44  2022-04-23             4   \n",
      "...                     ...                  ...         ...           ...   \n",
      "1468      Akhil Gangadharan  2024-08-15 22:13:07  2024-08-15             8   \n",
      "1469             Ninin Anto  2024-05-21 17:55:57  2024-05-21             5   \n",
      "1470  EduExpert EduSolution  2024-03-23 23:20:24  2024-03-23             3   \n",
      "1471               JITHIN K  2024-06-29 19:13:47  2024-06-29             6   \n",
      "1472               Arun Raj  2024-07-01 17:17:47  2024-07-01             7   \n",
      "\n",
      "      Review Year  \n",
      "0            2023  \n",
      "1            2024  \n",
      "2            2023  \n",
      "3            2024  \n",
      "4            2022  \n",
      "...           ...  \n",
      "1468         2024  \n",
      "1469         2024  \n",
      "1470         2024  \n",
      "1471         2024  \n",
      "1472         2024  \n",
      "\n",
      "[1473 rows x 9 columns]\n"
     ]
    }
   ],
   "source": [
    "# CSV 파일을 불러와 데이터프레임으로 변환합니다.\n",
    "df = pd.read_csv(file_path)\n",
    "\n",
    "# 데이터프레임을 출력하여 불러온 데이터를 확인합니다.\n",
    "print(df)"
   ]
  },
  {
   "cell_type": "code",
   "execution_count": null,
   "id": "a2fb0761-2e3b-4c33-8ace-605ce2482793",
   "metadata": {},
   "outputs": [],
   "source": []
  },
  {
   "cell_type": "code",
   "execution_count": null,
   "id": "69cc017c-8bd8-43f7-b775-c3779337ccaa",
   "metadata": {},
   "outputs": [],
   "source": []
  },
  {
   "cell_type": "code",
   "execution_count": null,
   "id": "b058704b-39be-48e6-908f-b3456ee83cc3",
   "metadata": {},
   "outputs": [],
   "source": []
  },
  {
   "cell_type": "code",
   "execution_count": null,
   "id": "26915231-fd1d-4ed0-8991-caed4699f09c",
   "metadata": {},
   "outputs": [],
   "source": []
  },
  {
   "cell_type": "code",
   "execution_count": null,
   "id": "3b88fe9d-faa4-41e4-a880-9e4f89846e1f",
   "metadata": {},
   "outputs": [],
   "source": []
  },
  {
   "cell_type": "code",
   "execution_count": null,
   "id": "540fc134-6d52-406e-ae9c-fc26d41c0073",
   "metadata": {},
   "outputs": [],
   "source": []
  },
  {
   "cell_type": "code",
   "execution_count": null,
   "id": "4f11c6af-77fb-4c60-bfc0-e41f3ac6e8d6",
   "metadata": {},
   "outputs": [],
   "source": []
  },
  {
   "cell_type": "code",
   "execution_count": null,
   "id": "4b983d31-f368-4daa-b086-5b4e012e8584",
   "metadata": {},
   "outputs": [],
   "source": []
  },
  {
   "cell_type": "code",
   "execution_count": null,
   "id": "5d92f262-2648-423f-8854-1be71e00a925",
   "metadata": {},
   "outputs": [],
   "source": []
  },
  {
   "cell_type": "code",
   "execution_count": null,
   "id": "25f27539-7fe5-4a9c-a440-007eefad82dd",
   "metadata": {},
   "outputs": [],
   "source": []
  },
  {
   "cell_type": "code",
   "execution_count": null,
   "id": "d73f69d0-ee63-4116-808a-dcf53aec9855",
   "metadata": {},
   "outputs": [],
   "source": []
  },
  {
   "cell_type": "code",
   "execution_count": null,
   "id": "81fc92ea-8211-45f0-bb80-6894db672eac",
   "metadata": {},
   "outputs": [],
   "source": []
  },
  {
   "cell_type": "code",
   "execution_count": null,
   "id": "8fc4f1a7-7cb0-4d48-88a2-1e0c6725aeb1",
   "metadata": {},
   "outputs": [],
   "source": []
  },
  {
   "cell_type": "code",
   "execution_count": null,
   "id": "e06ad74d-5d5e-4b08-9b34-25ca01808134",
   "metadata": {},
   "outputs": [],
   "source": []
  },
  {
   "cell_type": "code",
   "execution_count": null,
   "id": "668b3506-7a4c-4360-8fe6-dc93f67621c5",
   "metadata": {},
   "outputs": [],
   "source": []
  },
  {
   "cell_type": "code",
   "execution_count": null,
   "id": "838d5097-b1f0-4eaf-8171-75a9f0edc52c",
   "metadata": {},
   "outputs": [],
   "source": []
  }
 ],
 "metadata": {
  "kernelspec": {
   "display_name": "Python 3 (ipykernel)",
   "language": "python",
   "name": "python3"
  },
  "language_info": {
   "codemirror_mode": {
    "name": "ipython",
    "version": 3
   },
   "file_extension": ".py",
   "mimetype": "text/x-python",
   "name": "python",
   "nbconvert_exporter": "python",
   "pygments_lexer": "ipython3",
   "version": "3.11.7"
  },
  "widgets": {
   "application/vnd.jupyter.widget-state+json": {
    "state": {},
    "version_major": 2,
    "version_minor": 0
   }
  }
 },
 "nbformat": 4,
 "nbformat_minor": 5
}
